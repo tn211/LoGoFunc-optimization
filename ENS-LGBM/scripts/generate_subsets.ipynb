{
 "cells": [
  {
   "cell_type": "code",
   "execution_count": 2,
   "metadata": {},
   "outputs": [],
   "source": [
    "import pandas as pd\n",
    "import numpy as np\n",
    "import json, os, sys\n",
    "from tqdm import tqdm"
   ]
  },
  {
   "cell_type": "markdown",
   "metadata": {},
   "source": [
    "### Create new datasets with ranked features"
   ]
  },
  {
   "cell_type": "code",
   "execution_count": 3,
   "metadata": {},
   "outputs": [
    {
     "name": "stdout",
     "output_type": "stream",
     "text": [
      "(25546, 500)\n"
     ]
    }
   ],
   "source": [
    "data = pd.read_csv('../data/X_train_499.csv')\n",
    "print(data.shape)"
   ]
  },
  {
   "cell_type": "code",
   "execution_count": 20,
   "metadata": {},
   "outputs": [
    {
     "name": "stdout",
     "output_type": "stream",
     "text": [
      "saved as 'data/X_train_id_ranked.csv'\n"
     ]
    }
   ],
   "source": [
    "# Load the rankings.\n",
    "with open('decoded_ranks.json', 'r') as f:\n",
    "    rankings = json.load(f)\n",
    "\n",
    "# feature names = keys and ranks = values.\n",
    "rank_dict = {v: int(k) for k, v in rankings.items()}\n",
    "\n",
    "df = data\n",
    "\n",
    "# (excluding 'ID').\n",
    "columns = df.columns.tolist()[1:]\n",
    "\n",
    "# The columns are sorted by ranking.\n",
    "sorted_columns = sorted(columns, key=lambda x: rank_dict.get(x, float('inf')))\n",
    "reordered_df = df[['ID'] + sorted_columns]\n",
    "reordered_df.to_csv('../data/X_train_id_ranked.csv', index=False)\n",
    "print(\"saved as 'data/X_train_id_ranked.csv'\")"
   ]
  },
  {
   "cell_type": "code",
   "execution_count": null,
   "metadata": {},
   "outputs": [],
   "source": [
    "df = pd.read_csv('../data/X_train_id_ranked.csv')\n",
    "\n",
    "# (excluding 'ID').\n",
    "columns = df.columns.tolist()[1:]  \n",
    "\n",
    "# Make directory.\n",
    "os.makedirs('../data/train-subsets', exist_ok=True)\n",
    "\n",
    "# Create subsets.\n",
    "for i in tqdm(range(len(columns), 0, -1), desc=\"Creating subsets\"):\n",
    "    subset_columns = ['ID'] + columns[:i]\n",
    "    subset_df = df[subset_columns]\n",
    "    filename = f'../data/train-subsets/X_train_id_top_{i}_features.csv'\n",
    "    subset_df.to_csv(filename, index=False)\n",
    "\n",
    "print(\"Saved in 'data/train-subsets'.\")"
   ]
  },
  {
   "cell_type": "code",
   "execution_count": 4,
   "metadata": {},
   "outputs": [
    {
     "name": "stdout",
     "output_type": "stream",
     "text": [
      "(2831, 500)\n"
     ]
    }
   ],
   "source": [
    "test = pd.read_csv('../data/X_test_id.csv', low_memory=False)\n",
    "print(test.shape)"
   ]
  },
  {
   "cell_type": "code",
   "execution_count": 5,
   "metadata": {},
   "outputs": [
    {
     "name": "stdout",
     "output_type": "stream",
     "text": [
      "saved as 'data/X_test_id_ranked.csv'\n"
     ]
    }
   ],
   "source": [
    "# Load the rankings.\n",
    "with open('decoded_ranks.json', 'r') as f:\n",
    "    rankings = json.load(f)\n",
    "\n",
    "# feature names = keys and ranks = values.\n",
    "rank_dict = {v: int(k) for k, v in rankings.items()}\n",
    "\n",
    "df = test\n",
    "columns = df.columns.tolist()[1:] \n",
    "sorted_columns = sorted(columns, key=lambda x: rank_dict.get(x, float('inf')))\n",
    "reordered_df = df[['ID'] + sorted_columns]\n",
    "reordered_df.to_csv('../data/X_test_id_ranked.csv', index=False)\n",
    "\n",
    "print(\"saved as 'data/X_test_id_ranked.csv'\")"
   ]
  },
  {
   "cell_type": "code",
   "execution_count": 27,
   "metadata": {},
   "outputs": [
    {
     "name": "stderr",
     "output_type": "stream",
     "text": [
      "Creating test subsets: 100%|██████████| 499/499 [01:54<00:00,  4.37it/s]"
     ]
    },
    {
     "name": "stdout",
     "output_type": "stream",
     "text": [
      "All test subsets saved in the 'data/subsets' directory.\n"
     ]
    },
    {
     "name": "stderr",
     "output_type": "stream",
     "text": [
      "\n"
     ]
    }
   ],
   "source": [
    "df = pd.read_csv('../data/X_test_id_ranked.csv', low_memory=False)\n",
    "\n",
    "# (excluding 'ID').\n",
    "columns = df.columns.tolist()[1:]  \n",
    "\n",
    "# Make directory.\n",
    "os.makedirs('../data/test-subsets', exist_ok=True)\n",
    "\n",
    "# Create subsets.\n",
    "for i in tqdm(range(len(columns), 0, -1), desc=\"Creating test subsets\"):\n",
    "    subset_columns = ['ID'] + columns[:i]\n",
    "    subset_df = df[subset_columns]\n",
    "    filename = f'../data/test-subsets/X_test_id_top_{i}_features.csv'\n",
    "    subset_df.to_csv(filename, index=False)\n",
    "\n",
    "print(\"Saved in the 'data/subsets' directory.\")"
   ]
  }
 ],
 "metadata": {
  "kernelspec": {
   "display_name": "tabulate",
   "language": "python",
   "name": "python3"
  },
  "language_info": {
   "codemirror_mode": {
    "name": "ipython",
    "version": 3
   },
   "file_extension": ".py",
   "mimetype": "text/x-python",
   "name": "python",
   "nbconvert_exporter": "python",
   "pygments_lexer": "ipython3",
   "version": "3.8.19"
  }
 },
 "nbformat": 4,
 "nbformat_minor": 2
}
