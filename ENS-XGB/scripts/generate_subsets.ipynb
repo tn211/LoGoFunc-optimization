{
 "cells": [
  {
   "cell_type": "code",
   "execution_count": 1,
   "metadata": {},
   "outputs": [],
   "source": [
    "import pandas as pd\n",
    "import numpy as np\n",
    "import json, os, sys, glob, re\n",
    "from tqdm import tqdm"
   ]
  },
  {
   "cell_type": "markdown",
   "metadata": {},
   "source": [
    "### Create new datasets with ranked features"
   ]
  },
  {
   "cell_type": "code",
   "execution_count": 2,
   "metadata": {},
   "outputs": [
    {
     "name": "stdout",
     "output_type": "stream",
     "text": [
      "(25546, 500)\n"
     ]
    }
   ],
   "source": [
    "data = pd.read_csv('../data/X_train_499.csv')\n",
    "print(data.shape)"
   ]
  },
  {
   "cell_type": "code",
   "execution_count": 3,
   "metadata": {},
   "outputs": [
    {
     "name": "stdout",
     "output_type": "stream",
     "text": [
      "saved as 'data/X_train_id_ranked.csv'\n"
     ]
    }
   ],
   "source": [
    "# Load the rankings.\n",
    "with open('decoded_ranks.json', 'r') as f:\n",
    "    rankings = json.load(f)\n",
    "\n",
    "# feature names = keys and ranks = values.\n",
    "rank_dict = {v: int(k) for k, v in rankings.items()}\n",
    "\n",
    "df = data\n",
    "\n",
    "# (excluding 'ID').\n",
    "columns = df.columns.tolist()[1:]\n",
    "\n",
    "# The columns are sorted by ranking.\n",
    "sorted_columns = sorted(columns, key=lambda x: rank_dict.get(x, float('inf')))\n",
    "reordered_df = df[['ID'] + sorted_columns]\n",
    "reordered_df.to_csv('../data/X_train_id_ranked.csv', index=False)\n",
    "print(\"saved as 'data/X_train_id_ranked.csv'\")"
   ]
  },
  {
   "cell_type": "code",
   "execution_count": null,
   "metadata": {},
   "outputs": [],
   "source": [
    "df = pd.read_csv('../data/X_train_id_ranked.csv')\n",
    "\n",
    "# (excluding 'ID')\n",
    "columns = df.columns.tolist()[1:]  \n",
    "\n",
    "# Make directory.\n",
    "os.makedirs('../data/train-subsets', exist_ok=True)\n",
    "\n",
    "# Create subsets. \n",
    "for i in tqdm(range(len(columns), 0, -1), desc=\"Creating subsets\"):\n",
    "    subset_columns = ['ID'] + columns[:i]\n",
    "    subset_df = df[subset_columns]\n",
    "    filename = f'../data/train-subsets/X_train_id_top_{i}_features.csv'\n",
    "    subset_df.to_csv(filename, index=False)\n",
    "\n",
    "print(\"Saved in 'data/train-subsets'.\")"
   ]
  },
  {
   "cell_type": "code",
   "execution_count": 4,
   "metadata": {},
   "outputs": [
    {
     "name": "stdout",
     "output_type": "stream",
     "text": [
      "(2831, 500)\n"
     ]
    }
   ],
   "source": [
    "test = pd.read_csv('../data/X_test_id.csv', low_memory=False)\n",
    "print(test.shape)"
   ]
  },
  {
   "cell_type": "code",
   "execution_count": 5,
   "metadata": {},
   "outputs": [
    {
     "name": "stdout",
     "output_type": "stream",
     "text": [
      "saved as 'data/X_test_id_ranked.csv'\n"
     ]
    }
   ],
   "source": [
    "# Load the rankings.\n",
    "with open('decoded_ranks.json', 'r') as f:\n",
    "    rankings = json.load(f)\n",
    "\n",
    "# feature names as keys and ranks as values.\n",
    "rank_dict = {v: int(k) for k, v in rankings.items()}\n",
    "\n",
    "df = test\n",
    "columns = df.columns.tolist()[1:] \n",
    "sorted_columns = sorted(columns, key=lambda x: rank_dict.get(x, float('inf')))\n",
    "reordered_df = df[['ID'] + sorted_columns]\n",
    "reordered_df.to_csv('../data/X_test_id_ranked.csv', index=False)\n",
    "\n",
    "print(\"saved as 'data/X_test_id_ranked.csv'\")"
   ]
  },
  {
   "cell_type": "code",
   "execution_count": 8,
   "metadata": {},
   "outputs": [
    {
     "name": "stderr",
     "output_type": "stream",
     "text": [
      "Creating test subsets: 100%|██████████| 499/499 [01:45<00:00,  4.74it/s]"
     ]
    },
    {
     "name": "stdout",
     "output_type": "stream",
     "text": [
      "All test subsets saved in the 'data/subsets' directory.\n"
     ]
    },
    {
     "name": "stderr",
     "output_type": "stream",
     "text": [
      "\n"
     ]
    }
   ],
   "source": [
    "df = pd.read_csv('../data/X_test_id_ranked.csv', low_memory=False)\n",
    "\n",
    "# (excluding 'ID')\n",
    "columns = df.columns.tolist()[1:]  \n",
    "\n",
    "# Make directory.\n",
    "os.makedirs('../data/test-subsets', exist_ok=True)\n",
    "\n",
    "# Create subsets.\n",
    "for i in tqdm(range(len(columns), 0, -1), desc=\"Creating test subsets\"):\n",
    "    subset_columns = ['ID'] + columns[:i]\n",
    "    subset_df = df[subset_columns]\n",
    "    filename = f'../data/test-subsets/X_test_id_top_{i}_features.csv'\n",
    "    subset_df.to_csv(filename, index=False)\n",
    "\n",
    "print(\"Saved in the 'data/subsets' directory.\")"
   ]
  },
  {
   "cell_type": "markdown",
   "metadata": {},
   "source": [
    "### For XGB, must encode feature names prior to use."
   ]
  },
  {
   "cell_type": "code",
   "execution_count": 4,
   "metadata": {},
   "outputs": [],
   "source": [
    "path = '../data/encoded/train'"
   ]
  },
  {
   "cell_type": "code",
   "execution_count": 17,
   "metadata": {},
   "outputs": [
    {
     "name": "stderr",
     "output_type": "stream",
     "text": [
      "Processing filenames: 100%|██████████| 499/499 [00:00<00:00, 358997.89it/s]\n",
      "Loading DataFrames: 100%|██████████| 499/499 [02:45<00:00,  3.01it/s]\n"
     ]
    },
    {
     "name": "stdout",
     "output_type": "stream",
     "text": [
      "\n",
      "Total number of DataFrames: 499\n"
     ]
    },
    {
     "name": "stderr",
     "output_type": "stream",
     "text": [
      "Confirming DataFrames: 100%|██████████| 499/499 [00:00<00:00, 188368.08it/s]"
     ]
    },
    {
     "name": "stdout",
     "output_type": "stream",
     "text": [
      "Shape of X_train_1: (25546, 2)\n",
      "Shape of X_train_2: (25546, 3)\n",
      "Shape of X_train_3: (25546, 4)\n",
      "Shape of X_train_4: (25546, 5)\n",
      "Shape of X_train_5: (25546, 6)\n",
      "Shape of X_train_6: (25546, 7)\n",
      "Shape of X_train_7: (25546, 8)\n",
      "Shape of X_train_8: (25546, 9)\n",
      "Shape of X_train_9: (25546, 10)\n",
      "Shape of X_train_10: (25546, 11)\n",
      "Shape of X_train_11: (25546, 12)\n",
      "Shape of X_train_12: (25546, 13)\n",
      "Shape of X_train_13: (25546, 14)\n",
      "Shape of X_train_14: (25546, 15)\n",
      "Shape of X_train_15: (25546, 16)\n",
      "Shape of X_train_16: (25546, 17)\n",
      "Shape of X_train_17: (25546, 18)\n",
      "Shape of X_train_18: (25546, 19)\n",
      "Shape of X_train_19: (25546, 20)\n",
      "Shape of X_train_20: (25546, 21)\n",
      "Shape of X_train_21: (25546, 22)\n",
      "Shape of X_train_22: (25546, 23)\n",
      "Shape of X_train_23: (25546, 24)\n",
      "Shape of X_train_24: (25546, 25)\n",
      "Shape of X_train_25: (25546, 26)\n",
      "Shape of X_train_26: (25546, 27)\n",
      "Shape of X_train_27: (25546, 28)\n",
      "Shape of X_train_28: (25546, 29)\n",
      "Shape of X_train_29: (25546, 30)\n",
      "Shape of X_train_30: (25546, 31)\n",
      "Shape of X_train_31: (25546, 32)\n",
      "Shape of X_train_32: (25546, 33)\n",
      "Shape of X_train_33: (25546, 34)\n",
      "Shape of X_train_34: (25546, 35)\n",
      "Shape of X_train_35: (25546, 36)\n",
      "Shape of X_train_36: (25546, 37)\n",
      "Shape of X_train_37: (25546, 38)\n",
      "Shape of X_train_38: (25546, 39)\n",
      "Shape of X_train_39: (25546, 40)\n",
      "Shape of X_train_40: (25546, 41)\n",
      "Shape of X_train_41: (25546, 42)\n",
      "Shape of X_train_42: (25546, 43)\n",
      "Shape of X_train_43: (25546, 44)\n",
      "Shape of X_train_44: (25546, 45)\n",
      "Shape of X_train_45: (25546, 46)\n",
      "Shape of X_train_46: (25546, 47)\n",
      "Shape of X_train_47: (25546, 48)\n",
      "Shape of X_train_48: (25546, 49)\n",
      "Shape of X_train_49: (25546, 50)\n",
      "Shape of X_train_50: (25546, 51)\n",
      "Shape of X_train_51: (25546, 52)\n",
      "Shape of X_train_52: (25546, 53)\n",
      "Shape of X_train_53: (25546, 54)\n",
      "Shape of X_train_54: (25546, 55)\n",
      "Shape of X_train_55: (25546, 56)\n",
      "Shape of X_train_56: (25546, 57)\n",
      "Shape of X_train_57: (25546, 58)\n",
      "Shape of X_train_58: (25546, 59)\n",
      "Shape of X_train_59: (25546, 60)\n",
      "Shape of X_train_60: (25546, 61)\n",
      "Shape of X_train_61: (25546, 62)\n",
      "Shape of X_train_62: (25546, 63)\n",
      "Shape of X_train_63: (25546, 64)\n",
      "Shape of X_train_64: (25546, 65)\n",
      "Shape of X_train_65: (25546, 66)\n",
      "Shape of X_train_66: (25546, 67)\n",
      "Shape of X_train_67: (25546, 68)\n",
      "Shape of X_train_68: (25546, 69)\n",
      "Shape of X_train_69: (25546, 70)\n",
      "Shape of X_train_70: (25546, 71)\n",
      "Shape of X_train_71: (25546, 72)\n",
      "Shape of X_train_72: (25546, 73)\n",
      "Shape of X_train_73: (25546, 74)\n",
      "Shape of X_train_74: (25546, 75)\n",
      "Shape of X_train_75: (25546, 76)\n",
      "Shape of X_train_76: (25546, 77)\n",
      "Shape of X_train_77: (25546, 78)\n",
      "Shape of X_train_78: (25546, 79)\n",
      "Shape of X_train_79: (25546, 80)\n",
      "Shape of X_train_80: (25546, 81)\n",
      "Shape of X_train_81: (25546, 82)\n",
      "Shape of X_train_82: (25546, 83)\n",
      "Shape of X_train_83: (25546, 84)\n",
      "Shape of X_train_84: (25546, 85)\n",
      "Shape of X_train_85: (25546, 86)\n",
      "Shape of X_train_86: (25546, 87)\n",
      "Shape of X_train_87: (25546, 88)\n",
      "Shape of X_train_88: (25546, 89)\n",
      "Shape of X_train_89: (25546, 90)\n",
      "Shape of X_train_90: (25546, 91)\n",
      "Shape of X_train_91: (25546, 92)\n",
      "Shape of X_train_92: (25546, 93)\n",
      "Shape of X_train_93: (25546, 94)\n",
      "Shape of X_train_94: (25546, 95)\n",
      "Shape of X_train_95: (25546, 96)\n",
      "Shape of X_train_96: (25546, 97)\n",
      "Shape of X_train_97: (25546, 98)\n",
      "Shape of X_train_98: (25546, 99)\n",
      "Shape of X_train_99: (25546, 100)\n",
      "Shape of X_train_100: (25546, 101)\n",
      "Shape of X_train_101: (25546, 102)\n",
      "Shape of X_train_102: (25546, 103)\n",
      "Shape of X_train_103: (25546, 104)\n",
      "Shape of X_train_104: (25546, 105)\n",
      "Shape of X_train_105: (25546, 106)\n",
      "Shape of X_train_106: (25546, 107)\n",
      "Shape of X_train_107: (25546, 108)\n",
      "Shape of X_train_108: (25546, 109)\n",
      "Shape of X_train_109: (25546, 110)\n",
      "Shape of X_train_110: (25546, 111)\n",
      "Shape of X_train_111: (25546, 112)\n",
      "Shape of X_train_112: (25546, 113)\n",
      "Shape of X_train_113: (25546, 114)\n",
      "Shape of X_train_114: (25546, 115)\n",
      "Shape of X_train_115: (25546, 116)\n",
      "Shape of X_train_116: (25546, 117)\n",
      "Shape of X_train_117: (25546, 118)\n",
      "Shape of X_train_118: (25546, 119)\n",
      "Shape of X_train_119: (25546, 120)\n",
      "Shape of X_train_120: (25546, 121)\n",
      "Shape of X_train_121: (25546, 122)\n",
      "Shape of X_train_122: (25546, 123)\n",
      "Shape of X_train_123: (25546, 124)\n",
      "Shape of X_train_124: (25546, 125)\n",
      "Shape of X_train_125: (25546, 126)\n",
      "Shape of X_train_126: (25546, 127)\n",
      "Shape of X_train_127: (25546, 128)\n",
      "Shape of X_train_128: (25546, 129)\n",
      "Shape of X_train_129: (25546, 130)\n",
      "Shape of X_train_130: (25546, 131)\n",
      "Shape of X_train_131: (25546, 132)\n",
      "Shape of X_train_132: (25546, 133)\n",
      "Shape of X_train_133: (25546, 134)\n",
      "Shape of X_train_134: (25546, 135)\n",
      "Shape of X_train_135: (25546, 136)\n",
      "Shape of X_train_136: (25546, 137)\n",
      "Shape of X_train_137: (25546, 138)\n",
      "Shape of X_train_138: (25546, 139)\n",
      "Shape of X_train_139: (25546, 140)\n",
      "Shape of X_train_140: (25546, 141)\n",
      "Shape of X_train_141: (25546, 142)\n",
      "Shape of X_train_142: (25546, 143)\n",
      "Shape of X_train_143: (25546, 144)\n",
      "Shape of X_train_144: (25546, 145)\n",
      "Shape of X_train_145: (25546, 146)\n",
      "Shape of X_train_146: (25546, 147)\n",
      "Shape of X_train_147: (25546, 148)\n",
      "Shape of X_train_148: (25546, 149)\n",
      "Shape of X_train_149: (25546, 150)\n",
      "Shape of X_train_150: (25546, 151)\n",
      "Shape of X_train_151: (25546, 152)\n",
      "Shape of X_train_152: (25546, 153)\n",
      "Shape of X_train_153: (25546, 154)\n",
      "Shape of X_train_154: (25546, 155)\n",
      "Shape of X_train_155: (25546, 156)\n",
      "Shape of X_train_156: (25546, 157)\n",
      "Shape of X_train_157: (25546, 158)\n",
      "Shape of X_train_158: (25546, 159)\n",
      "Shape of X_train_159: (25546, 160)\n",
      "Shape of X_train_160: (25546, 161)\n",
      "Shape of X_train_161: (25546, 162)\n",
      "Shape of X_train_162: (25546, 163)\n",
      "Shape of X_train_163: (25546, 164)\n",
      "Shape of X_train_164: (25546, 165)\n",
      "Shape of X_train_165: (25546, 166)\n",
      "Shape of X_train_166: (25546, 167)\n",
      "Shape of X_train_167: (25546, 168)\n",
      "Shape of X_train_168: (25546, 169)\n",
      "Shape of X_train_169: (25546, 170)\n",
      "Shape of X_train_170: (25546, 171)\n",
      "Shape of X_train_171: (25546, 172)\n",
      "Shape of X_train_172: (25546, 173)\n",
      "Shape of X_train_173: (25546, 174)\n",
      "Shape of X_train_174: (25546, 175)\n",
      "Shape of X_train_175: (25546, 176)\n",
      "Shape of X_train_176: (25546, 177)\n",
      "Shape of X_train_177: (25546, 178)\n",
      "Shape of X_train_178: (25546, 179)\n",
      "Shape of X_train_179: (25546, 180)\n",
      "Shape of X_train_180: (25546, 181)\n",
      "Shape of X_train_181: (25546, 182)\n",
      "Shape of X_train_182: (25546, 183)\n",
      "Shape of X_train_183: (25546, 184)\n",
      "Shape of X_train_184: (25546, 185)\n",
      "Shape of X_train_185: (25546, 186)\n",
      "Shape of X_train_186: (25546, 187)\n",
      "Shape of X_train_187: (25546, 188)\n",
      "Shape of X_train_188: (25546, 189)\n",
      "Shape of X_train_189: (25546, 190)\n",
      "Shape of X_train_190: (25546, 191)\n",
      "Shape of X_train_191: (25546, 192)\n",
      "Shape of X_train_192: (25546, 193)\n",
      "Shape of X_train_193: (25546, 194)\n",
      "Shape of X_train_194: (25546, 195)\n",
      "Shape of X_train_195: (25546, 196)\n",
      "Shape of X_train_196: (25546, 197)\n",
      "Shape of X_train_197: (25546, 198)\n",
      "Shape of X_train_198: (25546, 199)\n",
      "Shape of X_train_199: (25546, 200)\n",
      "Shape of X_train_200: (25546, 201)\n",
      "Shape of X_train_201: (25546, 202)\n",
      "Shape of X_train_202: (25546, 203)\n",
      "Shape of X_train_203: (25546, 204)\n",
      "Shape of X_train_204: (25546, 205)\n",
      "Shape of X_train_205: (25546, 206)\n",
      "Shape of X_train_206: (25546, 207)\n",
      "Shape of X_train_207: (25546, 208)\n",
      "Shape of X_train_208: (25546, 209)\n",
      "Shape of X_train_209: (25546, 210)\n",
      "Shape of X_train_210: (25546, 211)\n",
      "Shape of X_train_211: (25546, 212)\n",
      "Shape of X_train_212: (25546, 213)\n",
      "Shape of X_train_213: (25546, 214)\n",
      "Shape of X_train_214: (25546, 215)\n",
      "Shape of X_train_215: (25546, 216)\n",
      "Shape of X_train_216: (25546, 217)\n",
      "Shape of X_train_217: (25546, 218)\n",
      "Shape of X_train_218: (25546, 219)\n",
      "Shape of X_train_219: (25546, 220)\n",
      "Shape of X_train_220: (25546, 221)\n",
      "Shape of X_train_221: (25546, 222)\n",
      "Shape of X_train_222: (25546, 223)\n",
      "Shape of X_train_223: (25546, 224)\n",
      "Shape of X_train_224: (25546, 225)\n",
      "Shape of X_train_225: (25546, 226)\n",
      "Shape of X_train_226: (25546, 227)\n",
      "Shape of X_train_227: (25546, 228)\n",
      "Shape of X_train_228: (25546, 229)\n",
      "Shape of X_train_229: (25546, 230)\n",
      "Shape of X_train_230: (25546, 231)\n",
      "Shape of X_train_231: (25546, 232)\n",
      "Shape of X_train_232: (25546, 233)\n",
      "Shape of X_train_233: (25546, 234)\n",
      "Shape of X_train_234: (25546, 235)\n",
      "Shape of X_train_235: (25546, 236)\n",
      "Shape of X_train_236: (25546, 237)\n",
      "Shape of X_train_237: (25546, 238)\n",
      "Shape of X_train_238: (25546, 239)\n",
      "Shape of X_train_239: (25546, 240)\n",
      "Shape of X_train_240: (25546, 241)\n",
      "Shape of X_train_241: (25546, 242)\n",
      "Shape of X_train_242: (25546, 243)\n",
      "Shape of X_train_243: (25546, 244)\n",
      "Shape of X_train_244: (25546, 245)\n",
      "Shape of X_train_245: (25546, 246)\n",
      "Shape of X_train_246: (25546, 247)\n",
      "Shape of X_train_247: (25546, 248)\n",
      "Shape of X_train_248: (25546, 249)\n",
      "Shape of X_train_249: (25546, 250)\n",
      "Shape of X_train_250: (25546, 251)\n",
      "Shape of X_train_251: (25546, 252)\n",
      "Shape of X_train_252: (25546, 253)\n",
      "Shape of X_train_253: (25546, 254)\n",
      "Shape of X_train_254: (25546, 255)\n",
      "Shape of X_train_255: (25546, 256)\n",
      "Shape of X_train_256: (25546, 257)\n",
      "Shape of X_train_257: (25546, 258)\n",
      "Shape of X_train_258: (25546, 259)\n",
      "Shape of X_train_259: (25546, 260)\n",
      "Shape of X_train_260: (25546, 261)\n",
      "Shape of X_train_261: (25546, 262)\n",
      "Shape of X_train_262: (25546, 263)\n",
      "Shape of X_train_263: (25546, 264)\n",
      "Shape of X_train_264: (25546, 265)\n",
      "Shape of X_train_265: (25546, 266)\n",
      "Shape of X_train_266: (25546, 267)\n",
      "Shape of X_train_267: (25546, 268)\n",
      "Shape of X_train_268: (25546, 269)\n",
      "Shape of X_train_269: (25546, 270)\n",
      "Shape of X_train_270: (25546, 271)\n",
      "Shape of X_train_271: (25546, 272)\n",
      "Shape of X_train_272: (25546, 273)\n",
      "Shape of X_train_273: (25546, 274)\n",
      "Shape of X_train_274: (25546, 275)\n",
      "Shape of X_train_275: (25546, 276)\n",
      "Shape of X_train_276: (25546, 277)\n",
      "Shape of X_train_277: (25546, 278)\n",
      "Shape of X_train_278: (25546, 279)\n",
      "Shape of X_train_279: (25546, 280)\n",
      "Shape of X_train_280: (25546, 281)\n",
      "Shape of X_train_281: (25546, 282)\n",
      "Shape of X_train_282: (25546, 283)\n",
      "Shape of X_train_283: (25546, 284)\n",
      "Shape of X_train_284: (25546, 285)\n",
      "Shape of X_train_285: (25546, 286)\n",
      "Shape of X_train_286: (25546, 287)\n",
      "Shape of X_train_287: (25546, 288)\n",
      "Shape of X_train_288: (25546, 289)\n",
      "Shape of X_train_289: (25546, 290)\n",
      "Shape of X_train_290: (25546, 291)\n",
      "Shape of X_train_291: (25546, 292)\n",
      "Shape of X_train_292: (25546, 293)\n",
      "Shape of X_train_293: (25546, 294)\n",
      "Shape of X_train_294: (25546, 295)\n",
      "Shape of X_train_295: (25546, 296)\n",
      "Shape of X_train_296: (25546, 297)\n",
      "Shape of X_train_297: (25546, 298)\n",
      "Shape of X_train_298: (25546, 299)\n",
      "Shape of X_train_299: (25546, 300)\n",
      "Shape of X_train_300: (25546, 301)\n",
      "Shape of X_train_301: (25546, 302)\n",
      "Shape of X_train_302: (25546, 303)\n",
      "Shape of X_train_303: (25546, 304)\n",
      "Shape of X_train_304: (25546, 305)\n",
      "Shape of X_train_305: (25546, 306)\n",
      "Shape of X_train_306: (25546, 307)\n",
      "Shape of X_train_307: (25546, 308)\n",
      "Shape of X_train_308: (25546, 309)\n",
      "Shape of X_train_309: (25546, 310)\n",
      "Shape of X_train_310: (25546, 311)\n",
      "Shape of X_train_311: (25546, 312)\n",
      "Shape of X_train_312: (25546, 313)\n",
      "Shape of X_train_313: (25546, 314)\n",
      "Shape of X_train_314: (25546, 315)\n",
      "Shape of X_train_315: (25546, 316)\n",
      "Shape of X_train_316: (25546, 317)\n",
      "Shape of X_train_317: (25546, 318)\n",
      "Shape of X_train_318: (25546, 319)\n",
      "Shape of X_train_319: (25546, 320)\n",
      "Shape of X_train_320: (25546, 321)\n",
      "Shape of X_train_321: (25546, 322)\n",
      "Shape of X_train_322: (25546, 323)\n",
      "Shape of X_train_323: (25546, 324)\n",
      "Shape of X_train_324: (25546, 325)\n",
      "Shape of X_train_325: (25546, 326)\n",
      "Shape of X_train_326: (25546, 327)\n",
      "Shape of X_train_327: (25546, 328)\n",
      "Shape of X_train_328: (25546, 329)\n",
      "Shape of X_train_329: (25546, 330)\n",
      "Shape of X_train_330: (25546, 331)\n",
      "Shape of X_train_331: (25546, 332)\n",
      "Shape of X_train_332: (25546, 333)\n",
      "Shape of X_train_333: (25546, 334)\n",
      "Shape of X_train_334: (25546, 335)\n",
      "Shape of X_train_335: (25546, 336)\n",
      "Shape of X_train_336: (25546, 337)\n",
      "Shape of X_train_337: (25546, 338)\n",
      "Shape of X_train_338: (25546, 339)\n",
      "Shape of X_train_339: (25546, 340)\n",
      "Shape of X_train_340: (25546, 341)\n",
      "Shape of X_train_341: (25546, 342)\n",
      "Shape of X_train_342: (25546, 343)\n",
      "Shape of X_train_343: (25546, 344)\n",
      "Shape of X_train_344: (25546, 345)\n",
      "Shape of X_train_345: (25546, 346)\n",
      "Shape of X_train_346: (25546, 347)\n",
      "Shape of X_train_347: (25546, 348)\n",
      "Shape of X_train_348: (25546, 349)\n",
      "Shape of X_train_349: (25546, 350)\n",
      "Shape of X_train_350: (25546, 351)\n",
      "Shape of X_train_351: (25546, 352)\n",
      "Shape of X_train_352: (25546, 353)\n",
      "Shape of X_train_353: (25546, 354)\n",
      "Shape of X_train_354: (25546, 355)\n",
      "Shape of X_train_355: (25546, 356)\n",
      "Shape of X_train_356: (25546, 357)\n",
      "Shape of X_train_357: (25546, 358)\n",
      "Shape of X_train_358: (25546, 359)\n",
      "Shape of X_train_359: (25546, 360)\n",
      "Shape of X_train_360: (25546, 361)\n",
      "Shape of X_train_361: (25546, 362)\n",
      "Shape of X_train_362: (25546, 363)\n",
      "Shape of X_train_363: (25546, 364)\n",
      "Shape of X_train_364: (25546, 365)\n",
      "Shape of X_train_365: (25546, 366)\n",
      "Shape of X_train_366: (25546, 367)\n",
      "Shape of X_train_367: (25546, 368)\n",
      "Shape of X_train_368: (25546, 369)\n",
      "Shape of X_train_369: (25546, 370)\n",
      "Shape of X_train_370: (25546, 371)\n",
      "Shape of X_train_371: (25546, 372)\n",
      "Shape of X_train_372: (25546, 373)\n",
      "Shape of X_train_373: (25546, 374)\n",
      "Shape of X_train_374: (25546, 375)\n",
      "Shape of X_train_375: (25546, 376)\n",
      "Shape of X_train_376: (25546, 377)\n",
      "Shape of X_train_377: (25546, 378)\n",
      "Shape of X_train_378: (25546, 379)\n",
      "Shape of X_train_379: (25546, 380)\n",
      "Shape of X_train_380: (25546, 381)\n",
      "Shape of X_train_381: (25546, 382)\n",
      "Shape of X_train_382: (25546, 383)\n",
      "Shape of X_train_383: (25546, 384)\n",
      "Shape of X_train_384: (25546, 385)\n",
      "Shape of X_train_385: (25546, 386)\n",
      "Shape of X_train_386: (25546, 387)\n",
      "Shape of X_train_387: (25546, 388)\n",
      "Shape of X_train_388: (25546, 389)\n",
      "Shape of X_train_389: (25546, 390)\n",
      "Shape of X_train_390: (25546, 391)\n",
      "Shape of X_train_391: (25546, 392)\n",
      "Shape of X_train_392: (25546, 393)\n",
      "Shape of X_train_393: (25546, 394)\n",
      "Shape of X_train_394: (25546, 395)\n",
      "Shape of X_train_395: (25546, 396)\n",
      "Shape of X_train_396: (25546, 397)\n",
      "Shape of X_train_397: (25546, 398)\n",
      "Shape of X_train_398: (25546, 399)\n",
      "Shape of X_train_399: (25546, 400)\n",
      "Shape of X_train_400: (25546, 401)\n",
      "Shape of X_train_401: (25546, 402)\n",
      "Shape of X_train_402: (25546, 403)\n",
      "Shape of X_train_403: (25546, 404)\n",
      "Shape of X_train_404: (25546, 405)\n",
      "Shape of X_train_405: (25546, 406)\n",
      "Shape of X_train_406: (25546, 407)\n",
      "Shape of X_train_407: (25546, 408)\n",
      "Shape of X_train_408: (25546, 409)\n",
      "Shape of X_train_409: (25546, 410)\n",
      "Shape of X_train_410: (25546, 411)\n",
      "Shape of X_train_411: (25546, 412)\n",
      "Shape of X_train_412: (25546, 413)\n",
      "Shape of X_train_413: (25546, 414)\n",
      "Shape of X_train_414: (25546, 415)\n",
      "Shape of X_train_415: (25546, 416)\n",
      "Shape of X_train_416: (25546, 417)\n",
      "Shape of X_train_417: (25546, 418)\n",
      "Shape of X_train_418: (25546, 419)\n",
      "Shape of X_train_419: (25546, 420)\n",
      "Shape of X_train_420: (25546, 421)\n",
      "Shape of X_train_421: (25546, 422)\n",
      "Shape of X_train_422: (25546, 423)\n",
      "Shape of X_train_423: (25546, 424)\n",
      "Shape of X_train_424: (25546, 425)\n",
      "Shape of X_train_425: (25546, 426)\n",
      "Shape of X_train_426: (25546, 427)\n",
      "Shape of X_train_427: (25546, 428)\n",
      "Shape of X_train_428: (25546, 429)\n",
      "Shape of X_train_429: (25546, 430)\n",
      "Shape of X_train_430: (25546, 431)\n",
      "Shape of X_train_431: (25546, 432)\n",
      "Shape of X_train_432: (25546, 433)\n",
      "Shape of X_train_433: (25546, 434)\n",
      "Shape of X_train_434: (25546, 435)\n",
      "Shape of X_train_435: (25546, 436)\n",
      "Shape of X_train_436: (25546, 437)\n",
      "Shape of X_train_437: (25546, 438)\n",
      "Shape of X_train_438: (25546, 439)\n",
      "Shape of X_train_439: (25546, 440)\n",
      "Shape of X_train_440: (25546, 441)\n",
      "Shape of X_train_441: (25546, 442)\n",
      "Shape of X_train_442: (25546, 443)\n",
      "Shape of X_train_443: (25546, 444)\n",
      "Shape of X_train_444: (25546, 445)\n",
      "Shape of X_train_445: (25546, 446)\n",
      "Shape of X_train_446: (25546, 447)\n",
      "Shape of X_train_447: (25546, 448)\n",
      "Shape of X_train_448: (25546, 449)\n",
      "Shape of X_train_449: (25546, 450)\n",
      "Shape of X_train_450: (25546, 451)\n",
      "Shape of X_train_451: (25546, 452)\n",
      "Shape of X_train_452: (25546, 453)\n",
      "Shape of X_train_453: (25546, 454)\n",
      "Shape of X_train_454: (25546, 455)\n",
      "Shape of X_train_455: (25546, 456)\n",
      "Shape of X_train_456: (25546, 457)\n",
      "Shape of X_train_457: (25546, 458)\n",
      "Shape of X_train_458: (25546, 459)\n",
      "Shape of X_train_459: (25546, 460)\n",
      "Shape of X_train_460: (25546, 461)\n",
      "Shape of X_train_461: (25546, 462)\n",
      "Shape of X_train_462: (25546, 463)\n",
      "Shape of X_train_463: (25546, 464)\n",
      "Shape of X_train_464: (25546, 465)\n",
      "Shape of X_train_465: (25546, 466)\n",
      "Shape of X_train_466: (25546, 467)\n",
      "Shape of X_train_467: (25546, 468)\n",
      "Shape of X_train_468: (25546, 469)\n",
      "Shape of X_train_469: (25546, 470)\n",
      "Shape of X_train_470: (25546, 471)\n",
      "Shape of X_train_471: (25546, 472)\n",
      "Shape of X_train_472: (25546, 473)\n",
      "Shape of X_train_473: (25546, 474)\n",
      "Shape of X_train_474: (25546, 475)\n",
      "Shape of X_train_475: (25546, 476)\n",
      "Shape of X_train_476: (25546, 477)\n",
      "Shape of X_train_477: (25546, 478)\n",
      "Shape of X_train_478: (25546, 479)\n",
      "Shape of X_train_479: (25546, 480)\n",
      "Shape of X_train_480: (25546, 481)\n",
      "Shape of X_train_481: (25546, 482)\n",
      "Shape of X_train_482: (25546, 483)\n",
      "Shape of X_train_483: (25546, 484)\n",
      "Shape of X_train_484: (25546, 485)\n",
      "Shape of X_train_485: (25546, 486)\n",
      "Shape of X_train_486: (25546, 487)\n",
      "Shape of X_train_487: (25546, 488)\n",
      "Shape of X_train_488: (25546, 489)\n",
      "Shape of X_train_489: (25546, 490)\n",
      "Shape of X_train_490: (25546, 491)\n",
      "Shape of X_train_491: (25546, 492)\n",
      "Shape of X_train_492: (25546, 493)\n",
      "Shape of X_train_493: (25546, 494)\n",
      "Shape of X_train_494: (25546, 495)\n",
      "Shape of X_train_495: (25546, 496)\n",
      "Shape of X_train_496: (25546, 497)\n",
      "Shape of X_train_497: (25546, 498)\n",
      "Shape of X_train_498: (25546, 499)\n",
      "Shape of X_train_499: (25546, 500)\n"
     ]
    },
    {
     "name": "stderr",
     "output_type": "stream",
     "text": [
      "\n"
     ]
    }
   ],
   "source": [
    "# Find all train sets.\n",
    "file_pattern = '../data/train-subsets/X_train_id_top_*_features.csv'\n",
    "filenames = glob.glob(file_pattern)\n",
    "\n",
    "def feature_count(filename):\n",
    "    \"\"\"\n",
    "    Extracts feature count from the names.\n",
    "    \"\"\"\n",
    "    match = re.search(r'top_(\\d+)_features', filename)\n",
    "    return int(match.group(1)) if match else 0\n",
    "\n",
    "# Sort files from names.\n",
    "filenames = sorted(filenames, key=feature_count)\n",
    "\n",
    "# Init dict to store the names.\n",
    "short_names = {}\n",
    "\n",
    "# Use tqdm to populate the dict with progress bar.\n",
    "for filename in tqdm(filenames, desc=\"Processing filenames\"):\n",
    "    base_name = os.path.basename(filename)\n",
    "    if base_name.startswith('X_train_id_top_'):\n",
    "        feature_count = feature_count(filename)\n",
    "        short_name = f'X_train_{feature_count}'\n",
    "        short_names[short_name] = filename\n",
    "\n",
    "# Show shapes of the df's.\n",
    "for short_name, filename in tqdm(short_names.items(), desc=\"Loading DataFrames\"):\n",
    "    globals()[short_name] = pd.read_csv(filename, low_memory=False)\n",
    "   \n",
    "# Show names.\n",
    "df_names = list(short_names.keys())\n",
    "\n",
    "# Add to list.\n",
    "df_list = [globals()[name] for name in df_names]\n",
    "print(f'\\nTotal number of DataFrames: {len(df_list)}')\n",
    "for i, df in enumerate(tqdm(df_list, desc=\"Confirming DataFrames\")):\n",
    "    print(f'Shape of {df_names[i]}: {df.shape}')"
   ]
  },
  {
   "cell_type": "code",
   "execution_count": 5,
   "metadata": {},
   "outputs": [],
   "source": [
    "X_train = pd.read_csv('../data/train-subsets/X_train_id_top_499_features.csv', low_memory=False)"
   ]
  },
  {
   "cell_type": "code",
   "execution_count": 19,
   "metadata": {},
   "outputs": [
    {
     "name": "stderr",
     "output_type": "stream",
     "text": [
      "Encoding and exporting DataFrames:   1%|          | 4/499 [00:00<00:15, 31.44it/s]"
     ]
    },
    {
     "name": "stdout",
     "output_type": "stream",
     "text": [
      "Encoded DataFrame X_train_1 has been exported to '../data/encoded/train/X_train_1_encoded.csv'\n",
      "Encoded DataFrame X_train_2 has been exported to '../data/encoded/train/X_train_2_encoded.csv'\n",
      "Encoded DataFrame X_train_3 has been exported to '../data/encoded/train/X_train_3_encoded.csv'\n",
      "Encoded DataFrame X_train_4 has been exported to '../data/encoded/train/X_train_4_encoded.csv'\n",
      "Encoded DataFrame X_train_5 has been exported to '../data/encoded/train/X_train_5_encoded.csv'\n"
     ]
    },
    {
     "name": "stderr",
     "output_type": "stream",
     "text": [
      "Encoding and exporting DataFrames:   2%|▏         | 8/499 [00:00<00:22, 21.40it/s]"
     ]
    },
    {
     "name": "stdout",
     "output_type": "stream",
     "text": [
      "Encoded DataFrame X_train_6 has been exported to '../data/encoded/train/X_train_6_encoded.csv'\n",
      "Encoded DataFrame X_train_7 has been exported to '../data/encoded/train/X_train_7_encoded.csv'\n",
      "Encoded DataFrame X_train_8 has been exported to '../data/encoded/train/X_train_8_encoded.csv'\n",
      "Encoded DataFrame X_train_9 has been exported to '../data/encoded/train/X_train_9_encoded.csv'\n"
     ]
    },
    {
     "name": "stderr",
     "output_type": "stream",
     "text": [
      "Encoding and exporting DataFrames:   2%|▏         | 11/499 [00:00<00:28, 17.17it/s]"
     ]
    },
    {
     "name": "stdout",
     "output_type": "stream",
     "text": [
      "Encoded DataFrame X_train_10 has been exported to '../data/encoded/train/X_train_10_encoded.csv'\n",
      "Encoded DataFrame X_train_11 has been exported to '../data/encoded/train/X_train_11_encoded.csv'\n",
      "Encoded DataFrame X_train_12 has been exported to '../data/encoded/train/X_train_12_encoded.csv'\n"
     ]
    },
    {
     "name": "stderr",
     "output_type": "stream",
     "text": [
      "Encoding and exporting DataFrames:   3%|▎         | 13/499 [00:00<00:32, 14.87it/s]"
     ]
    },
    {
     "name": "stdout",
     "output_type": "stream",
     "text": [
      "Encoded DataFrame X_train_13 has been exported to '../data/encoded/train/X_train_13_encoded.csv'\n",
      "Encoded DataFrame X_train_14 has been exported to '../data/encoded/train/X_train_14_encoded.csv'\n"
     ]
    },
    {
     "name": "stderr",
     "output_type": "stream",
     "text": [
      "Encoding and exporting DataFrames:   3%|▎         | 15/499 [00:00<00:37, 12.88it/s]"
     ]
    },
    {
     "name": "stdout",
     "output_type": "stream",
     "text": [
      "Encoded DataFrame X_train_15 has been exported to '../data/encoded/train/X_train_15_encoded.csv'\n",
      "Encoded DataFrame X_train_16 has been exported to '../data/encoded/train/X_train_16_encoded.csv'\n"
     ]
    },
    {
     "name": "stderr",
     "output_type": "stream",
     "text": [
      "Encoding and exporting DataFrames:   3%|▎         | 17/499 [00:01<00:42, 11.22it/s]"
     ]
    },
    {
     "name": "stdout",
     "output_type": "stream",
     "text": [
      "Encoded DataFrame X_train_17 has been exported to '../data/encoded/train/X_train_17_encoded.csv'\n",
      "Encoded DataFrame X_train_18 has been exported to '../data/encoded/train/X_train_18_encoded.csv'\n"
     ]
    },
    {
     "name": "stderr",
     "output_type": "stream",
     "text": [
      "Encoding and exporting DataFrames:   4%|▍         | 19/499 [00:01<00:49,  9.65it/s]"
     ]
    },
    {
     "name": "stdout",
     "output_type": "stream",
     "text": [
      "Encoded DataFrame X_train_19 has been exported to '../data/encoded/train/X_train_19_encoded.csv'\n",
      "Encoded DataFrame X_train_20 has been exported to '../data/encoded/train/X_train_20_encoded.csv'\n"
     ]
    },
    {
     "name": "stderr",
     "output_type": "stream",
     "text": [
      "Encoding and exporting DataFrames:   4%|▍         | 22/499 [00:01<00:59,  8.05it/s]"
     ]
    },
    {
     "name": "stdout",
     "output_type": "stream",
     "text": [
      "Encoded DataFrame X_train_21 has been exported to '../data/encoded/train/X_train_21_encoded.csv'\n",
      "Encoded DataFrame X_train_22 has been exported to '../data/encoded/train/X_train_22_encoded.csv'\n"
     ]
    },
    {
     "name": "stderr",
     "output_type": "stream",
     "text": [
      "Encoding and exporting DataFrames:   5%|▍         | 24/499 [00:02<01:08,  6.98it/s]"
     ]
    },
    {
     "name": "stdout",
     "output_type": "stream",
     "text": [
      "Encoded DataFrame X_train_23 has been exported to '../data/encoded/train/X_train_23_encoded.csv'\n",
      "Encoded DataFrame X_train_24 has been exported to '../data/encoded/train/X_train_24_encoded.csv'\n"
     ]
    },
    {
     "name": "stderr",
     "output_type": "stream",
     "text": [
      "Encoding and exporting DataFrames:   5%|▌         | 26/499 [00:02<01:16,  6.20it/s]"
     ]
    },
    {
     "name": "stdout",
     "output_type": "stream",
     "text": [
      "Encoded DataFrame X_train_25 has been exported to '../data/encoded/train/X_train_25_encoded.csv'\n",
      "Encoded DataFrame X_train_26 has been exported to '../data/encoded/train/X_train_26_encoded.csv'\n"
     ]
    },
    {
     "name": "stderr",
     "output_type": "stream",
     "text": [
      "Encoding and exporting DataFrames:   6%|▌         | 28/499 [00:03<01:23,  5.63it/s]"
     ]
    },
    {
     "name": "stdout",
     "output_type": "stream",
     "text": [
      "Encoded DataFrame X_train_27 has been exported to '../data/encoded/train/X_train_27_encoded.csv'\n",
      "Encoded DataFrame X_train_28 has been exported to '../data/encoded/train/X_train_28_encoded.csv'\n"
     ]
    },
    {
     "name": "stderr",
     "output_type": "stream",
     "text": [
      "Encoding and exporting DataFrames:   6%|▌         | 29/499 [00:03<01:26,  5.41it/s]"
     ]
    },
    {
     "name": "stdout",
     "output_type": "stream",
     "text": [
      "Encoded DataFrame X_train_29 has been exported to '../data/encoded/train/X_train_29_encoded.csv'\n"
     ]
    },
    {
     "name": "stderr",
     "output_type": "stream",
     "text": [
      "Encoding and exporting DataFrames:   6%|▌         | 30/499 [00:03<01:32,  5.09it/s]"
     ]
    },
    {
     "name": "stdout",
     "output_type": "stream",
     "text": [
      "Encoded DataFrame X_train_30 has been exported to '../data/encoded/train/X_train_30_encoded.csv'\n"
     ]
    },
    {
     "name": "stderr",
     "output_type": "stream",
     "text": [
      "Encoding and exporting DataFrames:   6%|▌         | 31/499 [00:03<01:33,  4.99it/s]"
     ]
    },
    {
     "name": "stdout",
     "output_type": "stream",
     "text": [
      "Encoded DataFrame X_train_31 has been exported to '../data/encoded/train/X_train_31_encoded.csv'\n"
     ]
    },
    {
     "name": "stderr",
     "output_type": "stream",
     "text": [
      "Encoding and exporting DataFrames:   6%|▋         | 32/499 [00:03<01:36,  4.82it/s]"
     ]
    },
    {
     "name": "stdout",
     "output_type": "stream",
     "text": [
      "Encoded DataFrame X_train_32 has been exported to '../data/encoded/train/X_train_32_encoded.csv'\n"
     ]
    },
    {
     "name": "stderr",
     "output_type": "stream",
     "text": [
      "Encoding and exporting DataFrames:   7%|▋         | 33/499 [00:04<01:39,  4.67it/s]"
     ]
    },
    {
     "name": "stdout",
     "output_type": "stream",
     "text": [
      "Encoded DataFrame X_train_33 has been exported to '../data/encoded/train/X_train_33_encoded.csv'\n"
     ]
    },
    {
     "name": "stderr",
     "output_type": "stream",
     "text": [
      "Encoding and exporting DataFrames:   7%|▋         | 34/499 [00:04<01:42,  4.53it/s]"
     ]
    },
    {
     "name": "stdout",
     "output_type": "stream",
     "text": [
      "Encoded DataFrame X_train_34 has been exported to '../data/encoded/train/X_train_34_encoded.csv'\n"
     ]
    },
    {
     "name": "stderr",
     "output_type": "stream",
     "text": [
      "Encoding and exporting DataFrames:   7%|▋         | 35/499 [00:04<01:45,  4.40it/s]"
     ]
    },
    {
     "name": "stdout",
     "output_type": "stream",
     "text": [
      "Encoded DataFrame X_train_35 has been exported to '../data/encoded/train/X_train_35_encoded.csv'\n"
     ]
    },
    {
     "name": "stderr",
     "output_type": "stream",
     "text": [
      "Encoding and exporting DataFrames:   7%|▋         | 36/499 [00:04<01:48,  4.26it/s]"
     ]
    },
    {
     "name": "stdout",
     "output_type": "stream",
     "text": [
      "Encoded DataFrame X_train_36 has been exported to '../data/encoded/train/X_train_36_encoded.csv'\n"
     ]
    },
    {
     "name": "stderr",
     "output_type": "stream",
     "text": [
      "Encoding and exporting DataFrames:   7%|▋         | 37/499 [00:05<01:52,  4.09it/s]"
     ]
    },
    {
     "name": "stdout",
     "output_type": "stream",
     "text": [
      "Encoded DataFrame X_train_37 has been exported to '../data/encoded/train/X_train_37_encoded.csv'\n"
     ]
    },
    {
     "name": "stderr",
     "output_type": "stream",
     "text": [
      "Encoding and exporting DataFrames:   8%|▊         | 38/499 [00:05<01:55,  4.01it/s]"
     ]
    },
    {
     "name": "stdout",
     "output_type": "stream",
     "text": [
      "Encoded DataFrame X_train_38 has been exported to '../data/encoded/train/X_train_38_encoded.csv'\n"
     ]
    },
    {
     "name": "stderr",
     "output_type": "stream",
     "text": [
      "Encoding and exporting DataFrames:   8%|▊         | 39/499 [00:05<01:57,  3.91it/s]"
     ]
    },
    {
     "name": "stdout",
     "output_type": "stream",
     "text": [
      "Encoded DataFrame X_train_39 has been exported to '../data/encoded/train/X_train_39_encoded.csv'\n"
     ]
    },
    {
     "name": "stderr",
     "output_type": "stream",
     "text": [
      "Encoding and exporting DataFrames:   8%|▊         | 40/499 [00:05<02:00,  3.81it/s]"
     ]
    },
    {
     "name": "stdout",
     "output_type": "stream",
     "text": [
      "Encoded DataFrame X_train_40 has been exported to '../data/encoded/train/X_train_40_encoded.csv'\n"
     ]
    },
    {
     "name": "stderr",
     "output_type": "stream",
     "text": [
      "Encoding and exporting DataFrames:   8%|▊         | 41/499 [00:06<02:03,  3.72it/s]"
     ]
    },
    {
     "name": "stdout",
     "output_type": "stream",
     "text": [
      "Encoded DataFrame X_train_41 has been exported to '../data/encoded/train/X_train_41_encoded.csv'\n"
     ]
    },
    {
     "name": "stderr",
     "output_type": "stream",
     "text": [
      "Encoding and exporting DataFrames:   8%|▊         | 42/499 [00:06<02:06,  3.61it/s]"
     ]
    },
    {
     "name": "stdout",
     "output_type": "stream",
     "text": [
      "Encoded DataFrame X_train_42 has been exported to '../data/encoded/train/X_train_42_encoded.csv'\n"
     ]
    },
    {
     "name": "stderr",
     "output_type": "stream",
     "text": [
      "Encoding and exporting DataFrames:   9%|▊         | 43/499 [00:06<02:12,  3.44it/s]"
     ]
    },
    {
     "name": "stdout",
     "output_type": "stream",
     "text": [
      "Encoded DataFrame X_train_43 has been exported to '../data/encoded/train/X_train_43_encoded.csv'\n"
     ]
    },
    {
     "name": "stderr",
     "output_type": "stream",
     "text": [
      "Encoding and exporting DataFrames:   9%|▉         | 44/499 [00:07<02:14,  3.39it/s]"
     ]
    },
    {
     "name": "stdout",
     "output_type": "stream",
     "text": [
      "Encoded DataFrame X_train_44 has been exported to '../data/encoded/train/X_train_44_encoded.csv'\n"
     ]
    },
    {
     "name": "stderr",
     "output_type": "stream",
     "text": [
      "Encoding and exporting DataFrames:   9%|▉         | 45/499 [00:07<02:14,  3.37it/s]"
     ]
    },
    {
     "name": "stdout",
     "output_type": "stream",
     "text": [
      "Encoded DataFrame X_train_45 has been exported to '../data/encoded/train/X_train_45_encoded.csv'\n"
     ]
    },
    {
     "name": "stderr",
     "output_type": "stream",
     "text": [
      "Encoding and exporting DataFrames:   9%|▉         | 46/499 [00:07<02:16,  3.32it/s]"
     ]
    },
    {
     "name": "stdout",
     "output_type": "stream",
     "text": [
      "Encoded DataFrame X_train_46 has been exported to '../data/encoded/train/X_train_46_encoded.csv'\n"
     ]
    },
    {
     "name": "stderr",
     "output_type": "stream",
     "text": [
      "Encoding and exporting DataFrames:   9%|▉         | 47/499 [00:08<02:19,  3.25it/s]"
     ]
    },
    {
     "name": "stdout",
     "output_type": "stream",
     "text": [
      "Encoded DataFrame X_train_47 has been exported to '../data/encoded/train/X_train_47_encoded.csv'\n"
     ]
    },
    {
     "name": "stderr",
     "output_type": "stream",
     "text": [
      "Encoding and exporting DataFrames:  10%|▉         | 48/499 [00:08<02:22,  3.16it/s]"
     ]
    },
    {
     "name": "stdout",
     "output_type": "stream",
     "text": [
      "Encoded DataFrame X_train_48 has been exported to '../data/encoded/train/X_train_48_encoded.csv'\n"
     ]
    },
    {
     "name": "stderr",
     "output_type": "stream",
     "text": [
      "Encoding and exporting DataFrames:  10%|▉         | 49/499 [00:08<02:26,  3.06it/s]"
     ]
    },
    {
     "name": "stdout",
     "output_type": "stream",
     "text": [
      "Encoded DataFrame X_train_49 has been exported to '../data/encoded/train/X_train_49_encoded.csv'\n"
     ]
    },
    {
     "name": "stderr",
     "output_type": "stream",
     "text": [
      "Encoding and exporting DataFrames:  10%|█         | 50/499 [00:09<02:28,  3.01it/s]"
     ]
    },
    {
     "name": "stdout",
     "output_type": "stream",
     "text": [
      "Encoded DataFrame X_train_50 has been exported to '../data/encoded/train/X_train_50_encoded.csv'\n"
     ]
    },
    {
     "name": "stderr",
     "output_type": "stream",
     "text": [
      "Encoding and exporting DataFrames:  10%|█         | 51/499 [00:09<02:31,  2.95it/s]"
     ]
    },
    {
     "name": "stdout",
     "output_type": "stream",
     "text": [
      "Encoded DataFrame X_train_51 has been exported to '../data/encoded/train/X_train_51_encoded.csv'\n"
     ]
    },
    {
     "name": "stderr",
     "output_type": "stream",
     "text": [
      "Encoding and exporting DataFrames:  10%|█         | 52/499 [00:09<02:35,  2.88it/s]"
     ]
    },
    {
     "name": "stdout",
     "output_type": "stream",
     "text": [
      "Encoded DataFrame X_train_52 has been exported to '../data/encoded/train/X_train_52_encoded.csv'\n"
     ]
    },
    {
     "name": "stderr",
     "output_type": "stream",
     "text": [
      "Encoding and exporting DataFrames:  11%|█         | 53/499 [00:10<02:38,  2.81it/s]"
     ]
    },
    {
     "name": "stdout",
     "output_type": "stream",
     "text": [
      "Encoded DataFrame X_train_53 has been exported to '../data/encoded/train/X_train_53_encoded.csv'\n"
     ]
    },
    {
     "name": "stderr",
     "output_type": "stream",
     "text": [
      "Encoding and exporting DataFrames:  11%|█         | 54/499 [00:10<02:42,  2.74it/s]"
     ]
    },
    {
     "name": "stdout",
     "output_type": "stream",
     "text": [
      "Encoded DataFrame X_train_54 has been exported to '../data/encoded/train/X_train_54_encoded.csv'\n"
     ]
    },
    {
     "name": "stderr",
     "output_type": "stream",
     "text": [
      "Encoding and exporting DataFrames:  11%|█         | 55/499 [00:11<02:48,  2.64it/s]"
     ]
    },
    {
     "name": "stdout",
     "output_type": "stream",
     "text": [
      "Encoded DataFrame X_train_55 has been exported to '../data/encoded/train/X_train_55_encoded.csv'\n"
     ]
    },
    {
     "name": "stderr",
     "output_type": "stream",
     "text": [
      "Encoding and exporting DataFrames:  11%|█         | 56/499 [00:11<02:50,  2.59it/s]"
     ]
    },
    {
     "name": "stdout",
     "output_type": "stream",
     "text": [
      "Encoded DataFrame X_train_56 has been exported to '../data/encoded/train/X_train_56_encoded.csv'\n"
     ]
    },
    {
     "name": "stderr",
     "output_type": "stream",
     "text": [
      "Encoding and exporting DataFrames:  11%|█▏        | 57/499 [00:11<02:52,  2.56it/s]"
     ]
    },
    {
     "name": "stdout",
     "output_type": "stream",
     "text": [
      "Encoded DataFrame X_train_57 has been exported to '../data/encoded/train/X_train_57_encoded.csv'\n"
     ]
    },
    {
     "name": "stderr",
     "output_type": "stream",
     "text": [
      "Encoding and exporting DataFrames:  12%|█▏        | 58/499 [00:12<02:54,  2.52it/s]"
     ]
    },
    {
     "name": "stdout",
     "output_type": "stream",
     "text": [
      "Encoded DataFrame X_train_58 has been exported to '../data/encoded/train/X_train_58_encoded.csv'\n"
     ]
    },
    {
     "name": "stderr",
     "output_type": "stream",
     "text": [
      "Encoding and exporting DataFrames:  12%|█▏        | 59/499 [00:12<02:57,  2.47it/s]"
     ]
    },
    {
     "name": "stdout",
     "output_type": "stream",
     "text": [
      "Encoded DataFrame X_train_59 has been exported to '../data/encoded/train/X_train_59_encoded.csv'\n"
     ]
    },
    {
     "name": "stderr",
     "output_type": "stream",
     "text": [
      "Encoding and exporting DataFrames:  12%|█▏        | 60/499 [00:13<03:01,  2.42it/s]"
     ]
    },
    {
     "name": "stdout",
     "output_type": "stream",
     "text": [
      "Encoded DataFrame X_train_60 has been exported to '../data/encoded/train/X_train_60_encoded.csv'\n"
     ]
    },
    {
     "name": "stderr",
     "output_type": "stream",
     "text": [
      "Encoding and exporting DataFrames:  12%|█▏        | 61/499 [00:13<03:06,  2.35it/s]"
     ]
    },
    {
     "name": "stdout",
     "output_type": "stream",
     "text": [
      "Encoded DataFrame X_train_61 has been exported to '../data/encoded/train/X_train_61_encoded.csv'\n"
     ]
    },
    {
     "name": "stderr",
     "output_type": "stream",
     "text": [
      "Encoding and exporting DataFrames:  12%|█▏        | 62/499 [00:13<03:07,  2.33it/s]"
     ]
    },
    {
     "name": "stdout",
     "output_type": "stream",
     "text": [
      "Encoded DataFrame X_train_62 has been exported to '../data/encoded/train/X_train_62_encoded.csv'\n"
     ]
    },
    {
     "name": "stderr",
     "output_type": "stream",
     "text": [
      "Encoding and exporting DataFrames:  13%|█▎        | 63/499 [00:14<03:09,  2.30it/s]"
     ]
    },
    {
     "name": "stdout",
     "output_type": "stream",
     "text": [
      "Encoded DataFrame X_train_63 has been exported to '../data/encoded/train/X_train_63_encoded.csv'\n"
     ]
    },
    {
     "name": "stderr",
     "output_type": "stream",
     "text": [
      "Encoding and exporting DataFrames:  13%|█▎        | 64/499 [00:14<03:12,  2.26it/s]"
     ]
    },
    {
     "name": "stdout",
     "output_type": "stream",
     "text": [
      "Encoded DataFrame X_train_64 has been exported to '../data/encoded/train/X_train_64_encoded.csv'\n"
     ]
    },
    {
     "name": "stderr",
     "output_type": "stream",
     "text": [
      "Encoding and exporting DataFrames:  13%|█▎        | 65/499 [00:15<03:14,  2.23it/s]"
     ]
    },
    {
     "name": "stdout",
     "output_type": "stream",
     "text": [
      "Encoded DataFrame X_train_65 has been exported to '../data/encoded/train/X_train_65_encoded.csv'\n"
     ]
    },
    {
     "name": "stderr",
     "output_type": "stream",
     "text": [
      "Encoding and exporting DataFrames:  13%|█▎        | 66/499 [00:15<03:18,  2.18it/s]"
     ]
    },
    {
     "name": "stdout",
     "output_type": "stream",
     "text": [
      "Encoded DataFrame X_train_66 has been exported to '../data/encoded/train/X_train_66_encoded.csv'\n"
     ]
    },
    {
     "name": "stderr",
     "output_type": "stream",
     "text": [
      "Encoding and exporting DataFrames:  13%|█▎        | 67/499 [00:16<03:23,  2.12it/s]"
     ]
    },
    {
     "name": "stdout",
     "output_type": "stream",
     "text": [
      "Encoded DataFrame X_train_67 has been exported to '../data/encoded/train/X_train_67_encoded.csv'\n"
     ]
    },
    {
     "name": "stderr",
     "output_type": "stream",
     "text": [
      "Encoding and exporting DataFrames:  14%|█▎        | 68/499 [00:16<03:26,  2.09it/s]"
     ]
    },
    {
     "name": "stdout",
     "output_type": "stream",
     "text": [
      "Encoded DataFrame X_train_68 has been exported to '../data/encoded/train/X_train_68_encoded.csv'\n"
     ]
    },
    {
     "name": "stderr",
     "output_type": "stream",
     "text": [
      "Encoding and exporting DataFrames:  14%|█▍        | 69/499 [00:17<03:29,  2.05it/s]"
     ]
    },
    {
     "name": "stdout",
     "output_type": "stream",
     "text": [
      "Encoded DataFrame X_train_69 has been exported to '../data/encoded/train/X_train_69_encoded.csv'\n"
     ]
    },
    {
     "name": "stderr",
     "output_type": "stream",
     "text": [
      "Encoding and exporting DataFrames:  14%|█▍        | 70/499 [00:17<03:32,  2.02it/s]"
     ]
    },
    {
     "name": "stdout",
     "output_type": "stream",
     "text": [
      "Encoded DataFrame X_train_70 has been exported to '../data/encoded/train/X_train_70_encoded.csv'\n"
     ]
    },
    {
     "name": "stderr",
     "output_type": "stream",
     "text": [
      "Encoding and exporting DataFrames:  14%|█▍        | 71/499 [00:18<03:36,  1.98it/s]"
     ]
    },
    {
     "name": "stdout",
     "output_type": "stream",
     "text": [
      "Encoded DataFrame X_train_71 has been exported to '../data/encoded/train/X_train_71_encoded.csv'\n"
     ]
    },
    {
     "name": "stderr",
     "output_type": "stream",
     "text": [
      "Encoding and exporting DataFrames:  14%|█▍        | 72/499 [00:18<03:40,  1.93it/s]"
     ]
    },
    {
     "name": "stdout",
     "output_type": "stream",
     "text": [
      "Encoded DataFrame X_train_72 has been exported to '../data/encoded/train/X_train_72_encoded.csv'\n"
     ]
    },
    {
     "name": "stderr",
     "output_type": "stream",
     "text": [
      "Encoding and exporting DataFrames:  15%|█▍        | 73/499 [00:19<03:41,  1.93it/s]"
     ]
    },
    {
     "name": "stdout",
     "output_type": "stream",
     "text": [
      "Encoded DataFrame X_train_73 has been exported to '../data/encoded/train/X_train_73_encoded.csv'\n"
     ]
    },
    {
     "name": "stderr",
     "output_type": "stream",
     "text": [
      "Encoding and exporting DataFrames:  15%|█▍        | 74/499 [00:20<03:43,  1.90it/s]"
     ]
    },
    {
     "name": "stdout",
     "output_type": "stream",
     "text": [
      "Encoded DataFrame X_train_74 has been exported to '../data/encoded/train/X_train_74_encoded.csv'\n"
     ]
    },
    {
     "name": "stderr",
     "output_type": "stream",
     "text": [
      "Encoding and exporting DataFrames:  15%|█▌        | 75/499 [00:20<03:44,  1.89it/s]"
     ]
    },
    {
     "name": "stdout",
     "output_type": "stream",
     "text": [
      "Encoded DataFrame X_train_75 has been exported to '../data/encoded/train/X_train_75_encoded.csv'\n"
     ]
    },
    {
     "name": "stderr",
     "output_type": "stream",
     "text": [
      "Encoding and exporting DataFrames:  15%|█▌        | 76/499 [00:21<03:47,  1.86it/s]"
     ]
    },
    {
     "name": "stdout",
     "output_type": "stream",
     "text": [
      "Encoded DataFrame X_train_76 has been exported to '../data/encoded/train/X_train_76_encoded.csv'\n"
     ]
    },
    {
     "name": "stderr",
     "output_type": "stream",
     "text": [
      "Encoding and exporting DataFrames:  15%|█▌        | 77/499 [00:21<03:52,  1.81it/s]"
     ]
    },
    {
     "name": "stdout",
     "output_type": "stream",
     "text": [
      "Encoded DataFrame X_train_77 has been exported to '../data/encoded/train/X_train_77_encoded.csv'\n"
     ]
    },
    {
     "name": "stderr",
     "output_type": "stream",
     "text": [
      "Encoding and exporting DataFrames:  16%|█▌        | 78/499 [00:22<03:55,  1.79it/s]"
     ]
    },
    {
     "name": "stdout",
     "output_type": "stream",
     "text": [
      "Encoded DataFrame X_train_78 has been exported to '../data/encoded/train/X_train_78_encoded.csv'\n"
     ]
    },
    {
     "name": "stderr",
     "output_type": "stream",
     "text": [
      "Encoding and exporting DataFrames:  16%|█▌        | 79/499 [00:22<03:57,  1.76it/s]"
     ]
    },
    {
     "name": "stdout",
     "output_type": "stream",
     "text": [
      "Encoded DataFrame X_train_79 has been exported to '../data/encoded/train/X_train_79_encoded.csv'\n"
     ]
    },
    {
     "name": "stderr",
     "output_type": "stream",
     "text": [
      "Encoding and exporting DataFrames:  16%|█▌        | 80/499 [00:23<03:59,  1.75it/s]"
     ]
    },
    {
     "name": "stdout",
     "output_type": "stream",
     "text": [
      "Encoded DataFrame X_train_80 has been exported to '../data/encoded/train/X_train_80_encoded.csv'\n"
     ]
    },
    {
     "name": "stderr",
     "output_type": "stream",
     "text": [
      "Encoding and exporting DataFrames:  16%|█▌        | 81/499 [00:24<04:02,  1.73it/s]"
     ]
    },
    {
     "name": "stdout",
     "output_type": "stream",
     "text": [
      "Encoded DataFrame X_train_81 has been exported to '../data/encoded/train/X_train_81_encoded.csv'\n"
     ]
    },
    {
     "name": "stderr",
     "output_type": "stream",
     "text": [
      "Encoding and exporting DataFrames:  16%|█▋        | 82/499 [00:24<04:05,  1.70it/s]"
     ]
    },
    {
     "name": "stdout",
     "output_type": "stream",
     "text": [
      "Encoded DataFrame X_train_82 has been exported to '../data/encoded/train/X_train_82_encoded.csv'\n"
     ]
    },
    {
     "name": "stderr",
     "output_type": "stream",
     "text": [
      "Encoding and exporting DataFrames:  17%|█▋        | 83/499 [00:25<04:09,  1.67it/s]"
     ]
    },
    {
     "name": "stdout",
     "output_type": "stream",
     "text": [
      "Encoded DataFrame X_train_83 has been exported to '../data/encoded/train/X_train_83_encoded.csv'\n"
     ]
    },
    {
     "name": "stderr",
     "output_type": "stream",
     "text": [
      "Encoding and exporting DataFrames:  17%|█▋        | 84/499 [00:25<04:13,  1.64it/s]"
     ]
    },
    {
     "name": "stdout",
     "output_type": "stream",
     "text": [
      "Encoded DataFrame X_train_84 has been exported to '../data/encoded/train/X_train_84_encoded.csv'\n"
     ]
    },
    {
     "name": "stderr",
     "output_type": "stream",
     "text": [
      "Encoding and exporting DataFrames:  17%|█▋        | 85/499 [00:26<04:16,  1.61it/s]"
     ]
    },
    {
     "name": "stdout",
     "output_type": "stream",
     "text": [
      "Encoded DataFrame X_train_85 has been exported to '../data/encoded/train/X_train_85_encoded.csv'\n"
     ]
    },
    {
     "name": "stderr",
     "output_type": "stream",
     "text": [
      "Encoding and exporting DataFrames:  17%|█▋        | 86/499 [00:27<04:19,  1.59it/s]"
     ]
    },
    {
     "name": "stdout",
     "output_type": "stream",
     "text": [
      "Encoded DataFrame X_train_86 has been exported to '../data/encoded/train/X_train_86_encoded.csv'\n"
     ]
    },
    {
     "name": "stderr",
     "output_type": "stream",
     "text": [
      "Encoding and exporting DataFrames:  17%|█▋        | 87/499 [00:27<04:24,  1.56it/s]"
     ]
    },
    {
     "name": "stdout",
     "output_type": "stream",
     "text": [
      "Encoded DataFrame X_train_87 has been exported to '../data/encoded/train/X_train_87_encoded.csv'\n"
     ]
    },
    {
     "name": "stderr",
     "output_type": "stream",
     "text": [
      "Encoding and exporting DataFrames:  18%|█▊        | 88/499 [00:28<04:25,  1.55it/s]"
     ]
    },
    {
     "name": "stdout",
     "output_type": "stream",
     "text": [
      "Encoded DataFrame X_train_88 has been exported to '../data/encoded/train/X_train_88_encoded.csv'\n"
     ]
    },
    {
     "name": "stderr",
     "output_type": "stream",
     "text": [
      "Encoding and exporting DataFrames:  18%|█▊        | 89/499 [00:29<04:26,  1.54it/s]"
     ]
    },
    {
     "name": "stdout",
     "output_type": "stream",
     "text": [
      "Encoded DataFrame X_train_89 has been exported to '../data/encoded/train/X_train_89_encoded.csv'\n"
     ]
    },
    {
     "name": "stderr",
     "output_type": "stream",
     "text": [
      "Encoding and exporting DataFrames:  18%|█▊        | 90/499 [00:29<04:30,  1.51it/s]"
     ]
    },
    {
     "name": "stdout",
     "output_type": "stream",
     "text": [
      "Encoded DataFrame X_train_90 has been exported to '../data/encoded/train/X_train_90_encoded.csv'\n"
     ]
    },
    {
     "name": "stderr",
     "output_type": "stream",
     "text": [
      "Encoding and exporting DataFrames:  18%|█▊        | 91/499 [00:30<04:35,  1.48it/s]"
     ]
    },
    {
     "name": "stdout",
     "output_type": "stream",
     "text": [
      "Encoded DataFrame X_train_91 has been exported to '../data/encoded/train/X_train_91_encoded.csv'\n"
     ]
    },
    {
     "name": "stderr",
     "output_type": "stream",
     "text": [
      "Encoding and exporting DataFrames:  18%|█▊        | 92/499 [00:31<04:38,  1.46it/s]"
     ]
    },
    {
     "name": "stdout",
     "output_type": "stream",
     "text": [
      "Encoded DataFrame X_train_92 has been exported to '../data/encoded/train/X_train_92_encoded.csv'\n"
     ]
    },
    {
     "name": "stderr",
     "output_type": "stream",
     "text": [
      "Encoding and exporting DataFrames:  19%|█▊        | 93/499 [00:31<04:40,  1.44it/s]"
     ]
    },
    {
     "name": "stdout",
     "output_type": "stream",
     "text": [
      "Encoded DataFrame X_train_93 has been exported to '../data/encoded/train/X_train_93_encoded.csv'\n"
     ]
    },
    {
     "name": "stderr",
     "output_type": "stream",
     "text": [
      "Encoding and exporting DataFrames:  19%|█▉        | 94/499 [00:32<04:44,  1.43it/s]"
     ]
    },
    {
     "name": "stdout",
     "output_type": "stream",
     "text": [
      "Encoded DataFrame X_train_94 has been exported to '../data/encoded/train/X_train_94_encoded.csv'\n"
     ]
    },
    {
     "name": "stderr",
     "output_type": "stream",
     "text": [
      "Encoding and exporting DataFrames:  19%|█▉        | 95/499 [00:33<04:41,  1.44it/s]"
     ]
    },
    {
     "name": "stdout",
     "output_type": "stream",
     "text": [
      "Encoded DataFrame X_train_95 has been exported to '../data/encoded/train/X_train_95_encoded.csv'\n"
     ]
    },
    {
     "name": "stderr",
     "output_type": "stream",
     "text": [
      "Encoding and exporting DataFrames:  19%|█▉        | 96/499 [00:34<04:45,  1.41it/s]"
     ]
    },
    {
     "name": "stdout",
     "output_type": "stream",
     "text": [
      "Encoded DataFrame X_train_96 has been exported to '../data/encoded/train/X_train_96_encoded.csv'\n"
     ]
    },
    {
     "name": "stderr",
     "output_type": "stream",
     "text": [
      "Encoding and exporting DataFrames:  19%|█▉        | 97/499 [00:34<04:45,  1.41it/s]"
     ]
    },
    {
     "name": "stdout",
     "output_type": "stream",
     "text": [
      "Encoded DataFrame X_train_97 has been exported to '../data/encoded/train/X_train_97_encoded.csv'\n"
     ]
    },
    {
     "name": "stderr",
     "output_type": "stream",
     "text": [
      "Encoding and exporting DataFrames:  20%|█▉        | 98/499 [00:35<04:52,  1.37it/s]"
     ]
    },
    {
     "name": "stdout",
     "output_type": "stream",
     "text": [
      "Encoded DataFrame X_train_98 has been exported to '../data/encoded/train/X_train_98_encoded.csv'\n"
     ]
    },
    {
     "name": "stderr",
     "output_type": "stream",
     "text": [
      "Encoding and exporting DataFrames:  20%|█▉        | 99/499 [00:36<04:54,  1.36it/s]"
     ]
    },
    {
     "name": "stdout",
     "output_type": "stream",
     "text": [
      "Encoded DataFrame X_train_99 has been exported to '../data/encoded/train/X_train_99_encoded.csv'\n"
     ]
    },
    {
     "name": "stderr",
     "output_type": "stream",
     "text": [
      "Encoding and exporting DataFrames:  20%|██        | 100/499 [00:37<04:59,  1.33it/s]"
     ]
    },
    {
     "name": "stdout",
     "output_type": "stream",
     "text": [
      "Encoded DataFrame X_train_100 has been exported to '../data/encoded/train/X_train_100_encoded.csv'\n"
     ]
    },
    {
     "name": "stderr",
     "output_type": "stream",
     "text": [
      "Encoding and exporting DataFrames:  20%|██        | 101/499 [00:37<05:01,  1.32it/s]"
     ]
    },
    {
     "name": "stdout",
     "output_type": "stream",
     "text": [
      "Encoded DataFrame X_train_101 has been exported to '../data/encoded/train/X_train_101_encoded.csv'\n"
     ]
    },
    {
     "name": "stderr",
     "output_type": "stream",
     "text": [
      "Encoding and exporting DataFrames:  20%|██        | 102/499 [00:38<05:02,  1.31it/s]"
     ]
    },
    {
     "name": "stdout",
     "output_type": "stream",
     "text": [
      "Encoded DataFrame X_train_102 has been exported to '../data/encoded/train/X_train_102_encoded.csv'\n"
     ]
    },
    {
     "name": "stderr",
     "output_type": "stream",
     "text": [
      "Encoding and exporting DataFrames:  21%|██        | 103/499 [00:39<05:07,  1.29it/s]"
     ]
    },
    {
     "name": "stdout",
     "output_type": "stream",
     "text": [
      "Encoded DataFrame X_train_103 has been exported to '../data/encoded/train/X_train_103_encoded.csv'\n"
     ]
    },
    {
     "name": "stderr",
     "output_type": "stream",
     "text": [
      "Encoding and exporting DataFrames:  21%|██        | 104/499 [00:40<05:11,  1.27it/s]"
     ]
    },
    {
     "name": "stdout",
     "output_type": "stream",
     "text": [
      "Encoded DataFrame X_train_104 has been exported to '../data/encoded/train/X_train_104_encoded.csv'\n"
     ]
    },
    {
     "name": "stderr",
     "output_type": "stream",
     "text": [
      "Encoding and exporting DataFrames:  21%|██        | 105/499 [00:41<05:16,  1.25it/s]"
     ]
    },
    {
     "name": "stdout",
     "output_type": "stream",
     "text": [
      "Encoded DataFrame X_train_105 has been exported to '../data/encoded/train/X_train_105_encoded.csv'\n"
     ]
    },
    {
     "name": "stderr",
     "output_type": "stream",
     "text": [
      "Encoding and exporting DataFrames:  21%|██        | 106/499 [00:42<05:22,  1.22it/s]"
     ]
    },
    {
     "name": "stdout",
     "output_type": "stream",
     "text": [
      "Encoded DataFrame X_train_106 has been exported to '../data/encoded/train/X_train_106_encoded.csv'\n"
     ]
    },
    {
     "name": "stderr",
     "output_type": "stream",
     "text": [
      "Encoding and exporting DataFrames:  21%|██▏       | 107/499 [00:42<05:27,  1.20it/s]"
     ]
    },
    {
     "name": "stdout",
     "output_type": "stream",
     "text": [
      "Encoded DataFrame X_train_107 has been exported to '../data/encoded/train/X_train_107_encoded.csv'\n"
     ]
    },
    {
     "name": "stderr",
     "output_type": "stream",
     "text": [
      "Encoding and exporting DataFrames:  22%|██▏       | 108/499 [00:43<05:29,  1.19it/s]"
     ]
    },
    {
     "name": "stdout",
     "output_type": "stream",
     "text": [
      "Encoded DataFrame X_train_108 has been exported to '../data/encoded/train/X_train_108_encoded.csv'\n"
     ]
    },
    {
     "name": "stderr",
     "output_type": "stream",
     "text": [
      "Encoding and exporting DataFrames:  22%|██▏       | 109/499 [00:44<05:28,  1.19it/s]"
     ]
    },
    {
     "name": "stdout",
     "output_type": "stream",
     "text": [
      "Encoded DataFrame X_train_109 has been exported to '../data/encoded/train/X_train_109_encoded.csv'\n"
     ]
    },
    {
     "name": "stderr",
     "output_type": "stream",
     "text": [
      "Encoding and exporting DataFrames:  22%|██▏       | 110/499 [00:45<05:30,  1.18it/s]"
     ]
    },
    {
     "name": "stdout",
     "output_type": "stream",
     "text": [
      "Encoded DataFrame X_train_110 has been exported to '../data/encoded/train/X_train_110_encoded.csv'\n"
     ]
    },
    {
     "name": "stderr",
     "output_type": "stream",
     "text": [
      "Encoding and exporting DataFrames:  22%|██▏       | 111/499 [00:46<05:31,  1.17it/s]"
     ]
    },
    {
     "name": "stdout",
     "output_type": "stream",
     "text": [
      "Encoded DataFrame X_train_111 has been exported to '../data/encoded/train/X_train_111_encoded.csv'\n"
     ]
    },
    {
     "name": "stderr",
     "output_type": "stream",
     "text": [
      "Encoding and exporting DataFrames:  22%|██▏       | 112/499 [00:47<05:32,  1.16it/s]"
     ]
    },
    {
     "name": "stdout",
     "output_type": "stream",
     "text": [
      "Encoded DataFrame X_train_112 has been exported to '../data/encoded/train/X_train_112_encoded.csv'\n"
     ]
    },
    {
     "name": "stderr",
     "output_type": "stream",
     "text": [
      "Encoding and exporting DataFrames:  23%|██▎       | 113/499 [00:48<05:34,  1.15it/s]"
     ]
    },
    {
     "name": "stdout",
     "output_type": "stream",
     "text": [
      "Encoded DataFrame X_train_113 has been exported to '../data/encoded/train/X_train_113_encoded.csv'\n"
     ]
    },
    {
     "name": "stderr",
     "output_type": "stream",
     "text": [
      "Encoding and exporting DataFrames:  23%|██▎       | 114/499 [00:48<05:35,  1.15it/s]"
     ]
    },
    {
     "name": "stdout",
     "output_type": "stream",
     "text": [
      "Encoded DataFrame X_train_114 has been exported to '../data/encoded/train/X_train_114_encoded.csv'\n"
     ]
    },
    {
     "name": "stderr",
     "output_type": "stream",
     "text": [
      "Encoding and exporting DataFrames:  23%|██▎       | 115/499 [00:49<05:37,  1.14it/s]"
     ]
    },
    {
     "name": "stdout",
     "output_type": "stream",
     "text": [
      "Encoded DataFrame X_train_115 has been exported to '../data/encoded/train/X_train_115_encoded.csv'\n"
     ]
    },
    {
     "name": "stderr",
     "output_type": "stream",
     "text": [
      "Encoding and exporting DataFrames:  23%|██▎       | 116/499 [00:50<05:37,  1.13it/s]"
     ]
    },
    {
     "name": "stdout",
     "output_type": "stream",
     "text": [
      "Encoded DataFrame X_train_116 has been exported to '../data/encoded/train/X_train_116_encoded.csv'\n"
     ]
    },
    {
     "name": "stderr",
     "output_type": "stream",
     "text": [
      "Encoding and exporting DataFrames:  23%|██▎       | 117/499 [00:51<05:38,  1.13it/s]"
     ]
    },
    {
     "name": "stdout",
     "output_type": "stream",
     "text": [
      "Encoded DataFrame X_train_117 has been exported to '../data/encoded/train/X_train_117_encoded.csv'\n"
     ]
    },
    {
     "name": "stderr",
     "output_type": "stream",
     "text": [
      "Encoding and exporting DataFrames:  24%|██▎       | 118/499 [00:52<05:40,  1.12it/s]"
     ]
    },
    {
     "name": "stdout",
     "output_type": "stream",
     "text": [
      "Encoded DataFrame X_train_118 has been exported to '../data/encoded/train/X_train_118_encoded.csv'\n"
     ]
    },
    {
     "name": "stderr",
     "output_type": "stream",
     "text": [
      "Encoding and exporting DataFrames:  24%|██▍       | 119/499 [00:53<05:41,  1.11it/s]"
     ]
    },
    {
     "name": "stdout",
     "output_type": "stream",
     "text": [
      "Encoded DataFrame X_train_119 has been exported to '../data/encoded/train/X_train_119_encoded.csv'\n"
     ]
    },
    {
     "name": "stderr",
     "output_type": "stream",
     "text": [
      "Encoding and exporting DataFrames:  24%|██▍       | 120/499 [00:54<05:53,  1.07it/s]"
     ]
    },
    {
     "name": "stdout",
     "output_type": "stream",
     "text": [
      "Encoded DataFrame X_train_120 has been exported to '../data/encoded/train/X_train_120_encoded.csv'\n"
     ]
    },
    {
     "name": "stderr",
     "output_type": "stream",
     "text": [
      "Encoding and exporting DataFrames:  24%|██▍       | 121/499 [00:55<05:55,  1.06it/s]"
     ]
    },
    {
     "name": "stdout",
     "output_type": "stream",
     "text": [
      "Encoded DataFrame X_train_121 has been exported to '../data/encoded/train/X_train_121_encoded.csv'\n"
     ]
    },
    {
     "name": "stderr",
     "output_type": "stream",
     "text": [
      "Encoding and exporting DataFrames:  24%|██▍       | 122/499 [00:56<05:53,  1.07it/s]"
     ]
    },
    {
     "name": "stdout",
     "output_type": "stream",
     "text": [
      "Encoded DataFrame X_train_122 has been exported to '../data/encoded/train/X_train_122_encoded.csv'\n"
     ]
    },
    {
     "name": "stderr",
     "output_type": "stream",
     "text": [
      "Encoding and exporting DataFrames:  25%|██▍       | 123/499 [00:57<05:50,  1.07it/s]"
     ]
    },
    {
     "name": "stdout",
     "output_type": "stream",
     "text": [
      "Encoded DataFrame X_train_123 has been exported to '../data/encoded/train/X_train_123_encoded.csv'\n"
     ]
    },
    {
     "name": "stderr",
     "output_type": "stream",
     "text": [
      "Encoding and exporting DataFrames:  25%|██▍       | 124/499 [00:58<05:48,  1.08it/s]"
     ]
    },
    {
     "name": "stdout",
     "output_type": "stream",
     "text": [
      "Encoded DataFrame X_train_124 has been exported to '../data/encoded/train/X_train_124_encoded.csv'\n"
     ]
    },
    {
     "name": "stderr",
     "output_type": "stream",
     "text": [
      "Encoding and exporting DataFrames:  25%|██▌       | 125/499 [00:59<05:50,  1.07it/s]"
     ]
    },
    {
     "name": "stdout",
     "output_type": "stream",
     "text": [
      "Encoded DataFrame X_train_125 has been exported to '../data/encoded/train/X_train_125_encoded.csv'\n"
     ]
    },
    {
     "name": "stderr",
     "output_type": "stream",
     "text": [
      "Encoding and exporting DataFrames:  25%|██▌       | 126/499 [01:00<05:50,  1.07it/s]"
     ]
    },
    {
     "name": "stdout",
     "output_type": "stream",
     "text": [
      "Encoded DataFrame X_train_126 has been exported to '../data/encoded/train/X_train_126_encoded.csv'\n"
     ]
    },
    {
     "name": "stderr",
     "output_type": "stream",
     "text": [
      "Encoding and exporting DataFrames:  25%|██▌       | 127/499 [01:01<05:48,  1.07it/s]"
     ]
    },
    {
     "name": "stdout",
     "output_type": "stream",
     "text": [
      "Encoded DataFrame X_train_127 has been exported to '../data/encoded/train/X_train_127_encoded.csv'\n"
     ]
    },
    {
     "name": "stderr",
     "output_type": "stream",
     "text": [
      "Encoding and exporting DataFrames:  26%|██▌       | 128/499 [01:01<05:48,  1.06it/s]"
     ]
    },
    {
     "name": "stdout",
     "output_type": "stream",
     "text": [
      "Encoded DataFrame X_train_128 has been exported to '../data/encoded/train/X_train_128_encoded.csv'\n"
     ]
    },
    {
     "name": "stderr",
     "output_type": "stream",
     "text": [
      "Encoding and exporting DataFrames:  26%|██▌       | 129/499 [01:02<05:50,  1.05it/s]"
     ]
    },
    {
     "name": "stdout",
     "output_type": "stream",
     "text": [
      "Encoded DataFrame X_train_129 has been exported to '../data/encoded/train/X_train_129_encoded.csv'\n"
     ]
    },
    {
     "name": "stderr",
     "output_type": "stream",
     "text": [
      "Encoding and exporting DataFrames:  26%|██▌       | 130/499 [01:04<06:07,  1.00it/s]"
     ]
    },
    {
     "name": "stdout",
     "output_type": "stream",
     "text": [
      "Encoded DataFrame X_train_130 has been exported to '../data/encoded/train/X_train_130_encoded.csv'\n"
     ]
    },
    {
     "name": "stderr",
     "output_type": "stream",
     "text": [
      "Encoding and exporting DataFrames:  26%|██▋       | 131/499 [01:05<06:08,  1.00s/it]"
     ]
    },
    {
     "name": "stdout",
     "output_type": "stream",
     "text": [
      "Encoded DataFrame X_train_131 has been exported to '../data/encoded/train/X_train_131_encoded.csv'\n"
     ]
    },
    {
     "name": "stderr",
     "output_type": "stream",
     "text": [
      "Encoding and exporting DataFrames:  26%|██▋       | 132/499 [01:06<06:03,  1.01it/s]"
     ]
    },
    {
     "name": "stdout",
     "output_type": "stream",
     "text": [
      "Encoded DataFrame X_train_132 has been exported to '../data/encoded/train/X_train_132_encoded.csv'\n"
     ]
    },
    {
     "name": "stderr",
     "output_type": "stream",
     "text": [
      "Encoding and exporting DataFrames:  27%|██▋       | 133/499 [01:07<06:03,  1.01it/s]"
     ]
    },
    {
     "name": "stdout",
     "output_type": "stream",
     "text": [
      "Encoded DataFrame X_train_133 has been exported to '../data/encoded/train/X_train_133_encoded.csv'\n"
     ]
    },
    {
     "name": "stderr",
     "output_type": "stream",
     "text": [
      "Encoding and exporting DataFrames:  27%|██▋       | 134/499 [01:08<06:02,  1.01it/s]"
     ]
    },
    {
     "name": "stdout",
     "output_type": "stream",
     "text": [
      "Encoded DataFrame X_train_134 has been exported to '../data/encoded/train/X_train_134_encoded.csv'\n"
     ]
    },
    {
     "name": "stderr",
     "output_type": "stream",
     "text": [
      "Encoding and exporting DataFrames:  27%|██▋       | 135/499 [01:09<06:01,  1.01it/s]"
     ]
    },
    {
     "name": "stdout",
     "output_type": "stream",
     "text": [
      "Encoded DataFrame X_train_135 has been exported to '../data/encoded/train/X_train_135_encoded.csv'\n"
     ]
    },
    {
     "name": "stderr",
     "output_type": "stream",
     "text": [
      "Encoding and exporting DataFrames:  27%|██▋       | 136/499 [01:10<06:06,  1.01s/it]"
     ]
    },
    {
     "name": "stdout",
     "output_type": "stream",
     "text": [
      "Encoded DataFrame X_train_136 has been exported to '../data/encoded/train/X_train_136_encoded.csv'\n"
     ]
    },
    {
     "name": "stderr",
     "output_type": "stream",
     "text": [
      "Encoding and exporting DataFrames:  27%|██▋       | 137/499 [01:11<06:05,  1.01s/it]"
     ]
    },
    {
     "name": "stdout",
     "output_type": "stream",
     "text": [
      "Encoded DataFrame X_train_137 has been exported to '../data/encoded/train/X_train_137_encoded.csv'\n"
     ]
    },
    {
     "name": "stderr",
     "output_type": "stream",
     "text": [
      "Encoding and exporting DataFrames:  28%|██▊       | 138/499 [01:12<06:08,  1.02s/it]"
     ]
    },
    {
     "name": "stdout",
     "output_type": "stream",
     "text": [
      "Encoded DataFrame X_train_138 has been exported to '../data/encoded/train/X_train_138_encoded.csv'\n"
     ]
    },
    {
     "name": "stderr",
     "output_type": "stream",
     "text": [
      "Encoding and exporting DataFrames:  28%|██▊       | 139/499 [01:13<06:20,  1.06s/it]"
     ]
    },
    {
     "name": "stdout",
     "output_type": "stream",
     "text": [
      "Encoded DataFrame X_train_139 has been exported to '../data/encoded/train/X_train_139_encoded.csv'\n"
     ]
    },
    {
     "name": "stderr",
     "output_type": "stream",
     "text": [
      "Encoding and exporting DataFrames:  28%|██▊       | 140/499 [01:14<06:19,  1.06s/it]"
     ]
    },
    {
     "name": "stdout",
     "output_type": "stream",
     "text": [
      "Encoded DataFrame X_train_140 has been exported to '../data/encoded/train/X_train_140_encoded.csv'\n"
     ]
    },
    {
     "name": "stderr",
     "output_type": "stream",
     "text": [
      "Encoding and exporting DataFrames:  28%|██▊       | 141/499 [01:15<06:18,  1.06s/it]"
     ]
    },
    {
     "name": "stdout",
     "output_type": "stream",
     "text": [
      "Encoded DataFrame X_train_141 has been exported to '../data/encoded/train/X_train_141_encoded.csv'\n"
     ]
    },
    {
     "name": "stderr",
     "output_type": "stream",
     "text": [
      "Encoding and exporting DataFrames:  28%|██▊       | 142/499 [01:16<06:17,  1.06s/it]"
     ]
    },
    {
     "name": "stdout",
     "output_type": "stream",
     "text": [
      "Encoded DataFrame X_train_142 has been exported to '../data/encoded/train/X_train_142_encoded.csv'\n"
     ]
    },
    {
     "name": "stderr",
     "output_type": "stream",
     "text": [
      "Encoding and exporting DataFrames:  29%|██▊       | 143/499 [01:17<06:19,  1.07s/it]"
     ]
    },
    {
     "name": "stdout",
     "output_type": "stream",
     "text": [
      "Encoded DataFrame X_train_143 has been exported to '../data/encoded/train/X_train_143_encoded.csv'\n"
     ]
    },
    {
     "name": "stderr",
     "output_type": "stream",
     "text": [
      "Encoding and exporting DataFrames:  29%|██▉       | 144/499 [01:18<06:23,  1.08s/it]"
     ]
    },
    {
     "name": "stdout",
     "output_type": "stream",
     "text": [
      "Encoded DataFrame X_train_144 has been exported to '../data/encoded/train/X_train_144_encoded.csv'\n"
     ]
    },
    {
     "name": "stderr",
     "output_type": "stream",
     "text": [
      "Encoding and exporting DataFrames:  29%|██▉       | 145/499 [01:19<06:25,  1.09s/it]"
     ]
    },
    {
     "name": "stdout",
     "output_type": "stream",
     "text": [
      "Encoded DataFrame X_train_145 has been exported to '../data/encoded/train/X_train_145_encoded.csv'\n"
     ]
    },
    {
     "name": "stderr",
     "output_type": "stream",
     "text": [
      "Encoding and exporting DataFrames:  29%|██▉       | 146/499 [01:20<06:25,  1.09s/it]"
     ]
    },
    {
     "name": "stdout",
     "output_type": "stream",
     "text": [
      "Encoded DataFrame X_train_146 has been exported to '../data/encoded/train/X_train_146_encoded.csv'\n"
     ]
    },
    {
     "name": "stderr",
     "output_type": "stream",
     "text": [
      "Encoding and exporting DataFrames:  29%|██▉       | 147/499 [01:21<06:27,  1.10s/it]"
     ]
    },
    {
     "name": "stdout",
     "output_type": "stream",
     "text": [
      "Encoded DataFrame X_train_147 has been exported to '../data/encoded/train/X_train_147_encoded.csv'\n"
     ]
    },
    {
     "name": "stderr",
     "output_type": "stream",
     "text": [
      "Encoding and exporting DataFrames:  30%|██▉       | 148/499 [01:23<06:32,  1.12s/it]"
     ]
    },
    {
     "name": "stdout",
     "output_type": "stream",
     "text": [
      "Encoded DataFrame X_train_148 has been exported to '../data/encoded/train/X_train_148_encoded.csv'\n"
     ]
    },
    {
     "name": "stderr",
     "output_type": "stream",
     "text": [
      "Encoding and exporting DataFrames:  30%|██▉       | 149/499 [01:24<06:33,  1.12s/it]"
     ]
    },
    {
     "name": "stdout",
     "output_type": "stream",
     "text": [
      "Encoded DataFrame X_train_149 has been exported to '../data/encoded/train/X_train_149_encoded.csv'\n"
     ]
    },
    {
     "name": "stderr",
     "output_type": "stream",
     "text": [
      "Encoding and exporting DataFrames:  30%|███       | 150/499 [01:25<06:30,  1.12s/it]"
     ]
    },
    {
     "name": "stdout",
     "output_type": "stream",
     "text": [
      "Encoded DataFrame X_train_150 has been exported to '../data/encoded/train/X_train_150_encoded.csv'\n"
     ]
    },
    {
     "name": "stderr",
     "output_type": "stream",
     "text": [
      "Encoding and exporting DataFrames:  30%|███       | 151/499 [01:26<06:29,  1.12s/it]"
     ]
    },
    {
     "name": "stdout",
     "output_type": "stream",
     "text": [
      "Encoded DataFrame X_train_151 has been exported to '../data/encoded/train/X_train_151_encoded.csv'\n"
     ]
    },
    {
     "name": "stderr",
     "output_type": "stream",
     "text": [
      "Encoding and exporting DataFrames:  30%|███       | 152/499 [01:27<06:43,  1.16s/it]"
     ]
    },
    {
     "name": "stdout",
     "output_type": "stream",
     "text": [
      "Encoded DataFrame X_train_152 has been exported to '../data/encoded/train/X_train_152_encoded.csv'\n"
     ]
    },
    {
     "name": "stderr",
     "output_type": "stream",
     "text": [
      "Encoding and exporting DataFrames:  31%|███       | 153/499 [01:28<06:41,  1.16s/it]"
     ]
    },
    {
     "name": "stdout",
     "output_type": "stream",
     "text": [
      "Encoded DataFrame X_train_153 has been exported to '../data/encoded/train/X_train_153_encoded.csv'\n"
     ]
    },
    {
     "name": "stderr",
     "output_type": "stream",
     "text": [
      "Encoding and exporting DataFrames:  31%|███       | 154/499 [01:30<06:36,  1.15s/it]"
     ]
    },
    {
     "name": "stdout",
     "output_type": "stream",
     "text": [
      "Encoded DataFrame X_train_154 has been exported to '../data/encoded/train/X_train_154_encoded.csv'\n"
     ]
    },
    {
     "name": "stderr",
     "output_type": "stream",
     "text": [
      "Encoding and exporting DataFrames:  31%|███       | 155/499 [01:31<06:39,  1.16s/it]"
     ]
    },
    {
     "name": "stdout",
     "output_type": "stream",
     "text": [
      "Encoded DataFrame X_train_155 has been exported to '../data/encoded/train/X_train_155_encoded.csv'\n"
     ]
    },
    {
     "name": "stderr",
     "output_type": "stream",
     "text": [
      "Encoding and exporting DataFrames:  31%|███▏      | 156/499 [01:32<06:37,  1.16s/it]"
     ]
    },
    {
     "name": "stdout",
     "output_type": "stream",
     "text": [
      "Encoded DataFrame X_train_156 has been exported to '../data/encoded/train/X_train_156_encoded.csv'\n"
     ]
    },
    {
     "name": "stderr",
     "output_type": "stream",
     "text": [
      "Encoding and exporting DataFrames:  31%|███▏      | 157/499 [01:33<06:36,  1.16s/it]"
     ]
    },
    {
     "name": "stdout",
     "output_type": "stream",
     "text": [
      "Encoded DataFrame X_train_157 has been exported to '../data/encoded/train/X_train_157_encoded.csv'\n"
     ]
    },
    {
     "name": "stderr",
     "output_type": "stream",
     "text": [
      "Encoding and exporting DataFrames:  32%|███▏      | 158/499 [01:34<06:39,  1.17s/it]"
     ]
    },
    {
     "name": "stdout",
     "output_type": "stream",
     "text": [
      "Encoded DataFrame X_train_158 has been exported to '../data/encoded/train/X_train_158_encoded.csv'\n"
     ]
    },
    {
     "name": "stderr",
     "output_type": "stream",
     "text": [
      "Encoding and exporting DataFrames:  32%|███▏      | 159/499 [01:35<06:38,  1.17s/it]"
     ]
    },
    {
     "name": "stdout",
     "output_type": "stream",
     "text": [
      "Encoded DataFrame X_train_159 has been exported to '../data/encoded/train/X_train_159_encoded.csv'\n"
     ]
    },
    {
     "name": "stderr",
     "output_type": "stream",
     "text": [
      "Encoding and exporting DataFrames:  32%|███▏      | 160/499 [01:37<06:38,  1.18s/it]"
     ]
    },
    {
     "name": "stdout",
     "output_type": "stream",
     "text": [
      "Encoded DataFrame X_train_160 has been exported to '../data/encoded/train/X_train_160_encoded.csv'\n"
     ]
    },
    {
     "name": "stderr",
     "output_type": "stream",
     "text": [
      "Encoding and exporting DataFrames:  32%|███▏      | 161/499 [01:38<06:38,  1.18s/it]"
     ]
    },
    {
     "name": "stdout",
     "output_type": "stream",
     "text": [
      "Encoded DataFrame X_train_161 has been exported to '../data/encoded/train/X_train_161_encoded.csv'\n"
     ]
    },
    {
     "name": "stderr",
     "output_type": "stream",
     "text": [
      "Encoding and exporting DataFrames:  32%|███▏      | 162/499 [01:39<06:42,  1.19s/it]"
     ]
    },
    {
     "name": "stdout",
     "output_type": "stream",
     "text": [
      "Encoded DataFrame X_train_162 has been exported to '../data/encoded/train/X_train_162_encoded.csv'\n"
     ]
    },
    {
     "name": "stderr",
     "output_type": "stream",
     "text": [
      "Encoding and exporting DataFrames:  33%|███▎      | 163/499 [01:40<06:44,  1.20s/it]"
     ]
    },
    {
     "name": "stdout",
     "output_type": "stream",
     "text": [
      "Encoded DataFrame X_train_163 has been exported to '../data/encoded/train/X_train_163_encoded.csv'\n"
     ]
    },
    {
     "name": "stderr",
     "output_type": "stream",
     "text": [
      "Encoding and exporting DataFrames:  33%|███▎      | 164/499 [01:41<06:44,  1.21s/it]"
     ]
    },
    {
     "name": "stdout",
     "output_type": "stream",
     "text": [
      "Encoded DataFrame X_train_164 has been exported to '../data/encoded/train/X_train_164_encoded.csv'\n"
     ]
    },
    {
     "name": "stderr",
     "output_type": "stream",
     "text": [
      "Encoding and exporting DataFrames:  33%|███▎      | 165/499 [01:43<06:44,  1.21s/it]"
     ]
    },
    {
     "name": "stdout",
     "output_type": "stream",
     "text": [
      "Encoded DataFrame X_train_165 has been exported to '../data/encoded/train/X_train_165_encoded.csv'\n"
     ]
    },
    {
     "name": "stderr",
     "output_type": "stream",
     "text": [
      "Encoding and exporting DataFrames:  33%|███▎      | 166/499 [01:44<06:49,  1.23s/it]"
     ]
    },
    {
     "name": "stdout",
     "output_type": "stream",
     "text": [
      "Encoded DataFrame X_train_166 has been exported to '../data/encoded/train/X_train_166_encoded.csv'\n"
     ]
    },
    {
     "name": "stderr",
     "output_type": "stream",
     "text": [
      "Encoding and exporting DataFrames:  33%|███▎      | 167/499 [01:45<06:50,  1.24s/it]"
     ]
    },
    {
     "name": "stdout",
     "output_type": "stream",
     "text": [
      "Encoded DataFrame X_train_167 has been exported to '../data/encoded/train/X_train_167_encoded.csv'\n"
     ]
    },
    {
     "name": "stderr",
     "output_type": "stream",
     "text": [
      "Encoding and exporting DataFrames:  34%|███▎      | 168/499 [01:46<06:52,  1.25s/it]"
     ]
    },
    {
     "name": "stdout",
     "output_type": "stream",
     "text": [
      "Encoded DataFrame X_train_168 has been exported to '../data/encoded/train/X_train_168_encoded.csv'\n"
     ]
    },
    {
     "name": "stderr",
     "output_type": "stream",
     "text": [
      "Encoding and exporting DataFrames:  34%|███▍      | 169/499 [01:48<06:51,  1.25s/it]"
     ]
    },
    {
     "name": "stdout",
     "output_type": "stream",
     "text": [
      "Encoded DataFrame X_train_169 has been exported to '../data/encoded/train/X_train_169_encoded.csv'\n"
     ]
    },
    {
     "name": "stderr",
     "output_type": "stream",
     "text": [
      "Encoding and exporting DataFrames:  34%|███▍      | 170/499 [01:49<06:51,  1.25s/it]"
     ]
    },
    {
     "name": "stdout",
     "output_type": "stream",
     "text": [
      "Encoded DataFrame X_train_170 has been exported to '../data/encoded/train/X_train_170_encoded.csv'\n"
     ]
    },
    {
     "name": "stderr",
     "output_type": "stream",
     "text": [
      "Encoding and exporting DataFrames:  34%|███▍      | 171/499 [01:50<06:52,  1.26s/it]"
     ]
    },
    {
     "name": "stdout",
     "output_type": "stream",
     "text": [
      "Encoded DataFrame X_train_171 has been exported to '../data/encoded/train/X_train_171_encoded.csv'\n"
     ]
    },
    {
     "name": "stderr",
     "output_type": "stream",
     "text": [
      "Encoding and exporting DataFrames:  34%|███▍      | 172/499 [01:52<06:52,  1.26s/it]"
     ]
    },
    {
     "name": "stdout",
     "output_type": "stream",
     "text": [
      "Encoded DataFrame X_train_172 has been exported to '../data/encoded/train/X_train_172_encoded.csv'\n"
     ]
    },
    {
     "name": "stderr",
     "output_type": "stream",
     "text": [
      "Encoding and exporting DataFrames:  35%|███▍      | 173/499 [01:53<06:52,  1.26s/it]"
     ]
    },
    {
     "name": "stdout",
     "output_type": "stream",
     "text": [
      "Encoded DataFrame X_train_173 has been exported to '../data/encoded/train/X_train_173_encoded.csv'\n"
     ]
    },
    {
     "name": "stderr",
     "output_type": "stream",
     "text": [
      "Encoding and exporting DataFrames:  35%|███▍      | 174/499 [01:54<06:54,  1.28s/it]"
     ]
    },
    {
     "name": "stdout",
     "output_type": "stream",
     "text": [
      "Encoded DataFrame X_train_174 has been exported to '../data/encoded/train/X_train_174_encoded.csv'\n"
     ]
    },
    {
     "name": "stderr",
     "output_type": "stream",
     "text": [
      "Encoding and exporting DataFrames:  35%|███▌      | 175/499 [01:55<06:55,  1.28s/it]"
     ]
    },
    {
     "name": "stdout",
     "output_type": "stream",
     "text": [
      "Encoded DataFrame X_train_175 has been exported to '../data/encoded/train/X_train_175_encoded.csv'\n"
     ]
    },
    {
     "name": "stderr",
     "output_type": "stream",
     "text": [
      "Encoding and exporting DataFrames:  35%|███▌      | 176/499 [01:57<06:56,  1.29s/it]"
     ]
    },
    {
     "name": "stdout",
     "output_type": "stream",
     "text": [
      "Encoded DataFrame X_train_176 has been exported to '../data/encoded/train/X_train_176_encoded.csv'\n"
     ]
    },
    {
     "name": "stderr",
     "output_type": "stream",
     "text": [
      "Encoding and exporting DataFrames:  35%|███▌      | 177/499 [01:58<06:59,  1.30s/it]"
     ]
    },
    {
     "name": "stdout",
     "output_type": "stream",
     "text": [
      "Encoded DataFrame X_train_177 has been exported to '../data/encoded/train/X_train_177_encoded.csv'\n"
     ]
    },
    {
     "name": "stderr",
     "output_type": "stream",
     "text": [
      "Encoding and exporting DataFrames:  36%|███▌      | 178/499 [01:59<07:00,  1.31s/it]"
     ]
    },
    {
     "name": "stdout",
     "output_type": "stream",
     "text": [
      "Encoded DataFrame X_train_178 has been exported to '../data/encoded/train/X_train_178_encoded.csv'\n"
     ]
    },
    {
     "name": "stderr",
     "output_type": "stream",
     "text": [
      "Encoding and exporting DataFrames:  36%|███▌      | 179/499 [02:01<07:01,  1.32s/it]"
     ]
    },
    {
     "name": "stdout",
     "output_type": "stream",
     "text": [
      "Encoded DataFrame X_train_179 has been exported to '../data/encoded/train/X_train_179_encoded.csv'\n"
     ]
    },
    {
     "name": "stderr",
     "output_type": "stream",
     "text": [
      "Encoding and exporting DataFrames:  36%|███▌      | 180/499 [02:02<07:01,  1.32s/it]"
     ]
    },
    {
     "name": "stdout",
     "output_type": "stream",
     "text": [
      "Encoded DataFrame X_train_180 has been exported to '../data/encoded/train/X_train_180_encoded.csv'\n"
     ]
    },
    {
     "name": "stderr",
     "output_type": "stream",
     "text": [
      "Encoding and exporting DataFrames:  36%|███▋      | 181/499 [02:03<07:04,  1.33s/it]"
     ]
    },
    {
     "name": "stdout",
     "output_type": "stream",
     "text": [
      "Encoded DataFrame X_train_181 has been exported to '../data/encoded/train/X_train_181_encoded.csv'\n"
     ]
    },
    {
     "name": "stderr",
     "output_type": "stream",
     "text": [
      "Encoding and exporting DataFrames:  36%|███▋      | 182/499 [02:05<07:05,  1.34s/it]"
     ]
    },
    {
     "name": "stdout",
     "output_type": "stream",
     "text": [
      "Encoded DataFrame X_train_182 has been exported to '../data/encoded/train/X_train_182_encoded.csv'\n"
     ]
    },
    {
     "name": "stderr",
     "output_type": "stream",
     "text": [
      "Encoding and exporting DataFrames:  37%|███▋      | 183/499 [02:06<07:06,  1.35s/it]"
     ]
    },
    {
     "name": "stdout",
     "output_type": "stream",
     "text": [
      "Encoded DataFrame X_train_183 has been exported to '../data/encoded/train/X_train_183_encoded.csv'\n"
     ]
    },
    {
     "name": "stderr",
     "output_type": "stream",
     "text": [
      "Encoding and exporting DataFrames:  37%|███▋      | 184/499 [02:08<07:10,  1.37s/it]"
     ]
    },
    {
     "name": "stdout",
     "output_type": "stream",
     "text": [
      "Encoded DataFrame X_train_184 has been exported to '../data/encoded/train/X_train_184_encoded.csv'\n"
     ]
    },
    {
     "name": "stderr",
     "output_type": "stream",
     "text": [
      "Encoding and exporting DataFrames:  37%|███▋      | 185/499 [02:09<07:11,  1.38s/it]"
     ]
    },
    {
     "name": "stdout",
     "output_type": "stream",
     "text": [
      "Encoded DataFrame X_train_185 has been exported to '../data/encoded/train/X_train_185_encoded.csv'\n"
     ]
    },
    {
     "name": "stderr",
     "output_type": "stream",
     "text": [
      "Encoding and exporting DataFrames:  37%|███▋      | 186/499 [02:10<07:12,  1.38s/it]"
     ]
    },
    {
     "name": "stdout",
     "output_type": "stream",
     "text": [
      "Encoded DataFrame X_train_186 has been exported to '../data/encoded/train/X_train_186_encoded.csv'\n"
     ]
    },
    {
     "name": "stderr",
     "output_type": "stream",
     "text": [
      "Encoding and exporting DataFrames:  37%|███▋      | 187/499 [02:12<07:15,  1.40s/it]"
     ]
    },
    {
     "name": "stdout",
     "output_type": "stream",
     "text": [
      "Encoded DataFrame X_train_187 has been exported to '../data/encoded/train/X_train_187_encoded.csv'\n"
     ]
    },
    {
     "name": "stderr",
     "output_type": "stream",
     "text": [
      "Encoding and exporting DataFrames:  38%|███▊      | 188/499 [02:13<07:13,  1.39s/it]"
     ]
    },
    {
     "name": "stdout",
     "output_type": "stream",
     "text": [
      "Encoded DataFrame X_train_188 has been exported to '../data/encoded/train/X_train_188_encoded.csv'\n"
     ]
    },
    {
     "name": "stderr",
     "output_type": "stream",
     "text": [
      "Encoding and exporting DataFrames:  38%|███▊      | 189/499 [02:15<07:16,  1.41s/it]"
     ]
    },
    {
     "name": "stdout",
     "output_type": "stream",
     "text": [
      "Encoded DataFrame X_train_189 has been exported to '../data/encoded/train/X_train_189_encoded.csv'\n"
     ]
    },
    {
     "name": "stderr",
     "output_type": "stream",
     "text": [
      "Encoding and exporting DataFrames:  38%|███▊      | 190/499 [02:16<07:16,  1.41s/it]"
     ]
    },
    {
     "name": "stdout",
     "output_type": "stream",
     "text": [
      "Encoded DataFrame X_train_190 has been exported to '../data/encoded/train/X_train_190_encoded.csv'\n"
     ]
    },
    {
     "name": "stderr",
     "output_type": "stream",
     "text": [
      "Encoding and exporting DataFrames:  38%|███▊      | 191/499 [02:17<07:18,  1.42s/it]"
     ]
    },
    {
     "name": "stdout",
     "output_type": "stream",
     "text": [
      "Encoded DataFrame X_train_191 has been exported to '../data/encoded/train/X_train_191_encoded.csv'\n"
     ]
    },
    {
     "name": "stderr",
     "output_type": "stream",
     "text": [
      "Encoding and exporting DataFrames:  38%|███▊      | 192/499 [02:19<07:19,  1.43s/it]"
     ]
    },
    {
     "name": "stdout",
     "output_type": "stream",
     "text": [
      "Encoded DataFrame X_train_192 has been exported to '../data/encoded/train/X_train_192_encoded.csv'\n"
     ]
    },
    {
     "name": "stderr",
     "output_type": "stream",
     "text": [
      "Encoding and exporting DataFrames:  39%|███▊      | 193/499 [02:20<07:23,  1.45s/it]"
     ]
    },
    {
     "name": "stdout",
     "output_type": "stream",
     "text": [
      "Encoded DataFrame X_train_193 has been exported to '../data/encoded/train/X_train_193_encoded.csv'\n"
     ]
    },
    {
     "name": "stderr",
     "output_type": "stream",
     "text": [
      "Encoding and exporting DataFrames:  39%|███▉      | 194/499 [02:22<07:21,  1.45s/it]"
     ]
    },
    {
     "name": "stdout",
     "output_type": "stream",
     "text": [
      "Encoded DataFrame X_train_194 has been exported to '../data/encoded/train/X_train_194_encoded.csv'\n"
     ]
    },
    {
     "name": "stderr",
     "output_type": "stream",
     "text": [
      "Encoding and exporting DataFrames:  39%|███▉      | 195/499 [02:23<07:18,  1.44s/it]"
     ]
    },
    {
     "name": "stdout",
     "output_type": "stream",
     "text": [
      "Encoded DataFrame X_train_195 has been exported to '../data/encoded/train/X_train_195_encoded.csv'\n"
     ]
    },
    {
     "name": "stderr",
     "output_type": "stream",
     "text": [
      "Encoding and exporting DataFrames:  39%|███▉      | 196/499 [02:25<07:18,  1.45s/it]"
     ]
    },
    {
     "name": "stdout",
     "output_type": "stream",
     "text": [
      "Encoded DataFrame X_train_196 has been exported to '../data/encoded/train/X_train_196_encoded.csv'\n"
     ]
    },
    {
     "name": "stderr",
     "output_type": "stream",
     "text": [
      "Encoding and exporting DataFrames:  39%|███▉      | 197/499 [02:26<07:22,  1.47s/it]"
     ]
    },
    {
     "name": "stdout",
     "output_type": "stream",
     "text": [
      "Encoded DataFrame X_train_197 has been exported to '../data/encoded/train/X_train_197_encoded.csv'\n"
     ]
    },
    {
     "name": "stderr",
     "output_type": "stream",
     "text": [
      "Encoding and exporting DataFrames:  40%|███▉      | 198/499 [02:28<07:25,  1.48s/it]"
     ]
    },
    {
     "name": "stdout",
     "output_type": "stream",
     "text": [
      "Encoded DataFrame X_train_198 has been exported to '../data/encoded/train/X_train_198_encoded.csv'\n"
     ]
    },
    {
     "name": "stderr",
     "output_type": "stream",
     "text": [
      "Encoding and exporting DataFrames:  40%|███▉      | 199/499 [02:29<07:28,  1.49s/it]"
     ]
    },
    {
     "name": "stdout",
     "output_type": "stream",
     "text": [
      "Encoded DataFrame X_train_199 has been exported to '../data/encoded/train/X_train_199_encoded.csv'\n"
     ]
    },
    {
     "name": "stderr",
     "output_type": "stream",
     "text": [
      "Encoding and exporting DataFrames:  40%|████      | 200/499 [02:31<07:26,  1.49s/it]"
     ]
    },
    {
     "name": "stdout",
     "output_type": "stream",
     "text": [
      "Encoded DataFrame X_train_200 has been exported to '../data/encoded/train/X_train_200_encoded.csv'\n"
     ]
    },
    {
     "name": "stderr",
     "output_type": "stream",
     "text": [
      "Encoding and exporting DataFrames:  40%|████      | 201/499 [02:32<07:28,  1.50s/it]"
     ]
    },
    {
     "name": "stdout",
     "output_type": "stream",
     "text": [
      "Encoded DataFrame X_train_201 has been exported to '../data/encoded/train/X_train_201_encoded.csv'\n"
     ]
    },
    {
     "name": "stderr",
     "output_type": "stream",
     "text": [
      "Encoding and exporting DataFrames:  40%|████      | 202/499 [02:34<07:27,  1.51s/it]"
     ]
    },
    {
     "name": "stdout",
     "output_type": "stream",
     "text": [
      "Encoded DataFrame X_train_202 has been exported to '../data/encoded/train/X_train_202_encoded.csv'\n"
     ]
    },
    {
     "name": "stderr",
     "output_type": "stream",
     "text": [
      "Encoding and exporting DataFrames:  41%|████      | 203/499 [02:35<07:24,  1.50s/it]"
     ]
    },
    {
     "name": "stdout",
     "output_type": "stream",
     "text": [
      "Encoded DataFrame X_train_203 has been exported to '../data/encoded/train/X_train_203_encoded.csv'\n"
     ]
    },
    {
     "name": "stderr",
     "output_type": "stream",
     "text": [
      "Encoding and exporting DataFrames:  41%|████      | 204/499 [02:37<07:24,  1.51s/it]"
     ]
    },
    {
     "name": "stdout",
     "output_type": "stream",
     "text": [
      "Encoded DataFrame X_train_204 has been exported to '../data/encoded/train/X_train_204_encoded.csv'\n"
     ]
    },
    {
     "name": "stderr",
     "output_type": "stream",
     "text": [
      "Encoding and exporting DataFrames:  41%|████      | 205/499 [02:38<07:24,  1.51s/it]"
     ]
    },
    {
     "name": "stdout",
     "output_type": "stream",
     "text": [
      "Encoded DataFrame X_train_205 has been exported to '../data/encoded/train/X_train_205_encoded.csv'\n"
     ]
    },
    {
     "name": "stderr",
     "output_type": "stream",
     "text": [
      "Encoding and exporting DataFrames:  41%|████▏     | 206/499 [02:40<07:24,  1.52s/it]"
     ]
    },
    {
     "name": "stdout",
     "output_type": "stream",
     "text": [
      "Encoded DataFrame X_train_206 has been exported to '../data/encoded/train/X_train_206_encoded.csv'\n"
     ]
    },
    {
     "name": "stderr",
     "output_type": "stream",
     "text": [
      "Encoding and exporting DataFrames:  41%|████▏     | 207/499 [02:41<07:27,  1.53s/it]"
     ]
    },
    {
     "name": "stdout",
     "output_type": "stream",
     "text": [
      "Encoded DataFrame X_train_207 has been exported to '../data/encoded/train/X_train_207_encoded.csv'\n"
     ]
    },
    {
     "name": "stderr",
     "output_type": "stream",
     "text": [
      "Encoding and exporting DataFrames:  42%|████▏     | 208/499 [02:43<07:30,  1.55s/it]"
     ]
    },
    {
     "name": "stdout",
     "output_type": "stream",
     "text": [
      "Encoded DataFrame X_train_208 has been exported to '../data/encoded/train/X_train_208_encoded.csv'\n"
     ]
    },
    {
     "name": "stderr",
     "output_type": "stream",
     "text": [
      "Encoding and exporting DataFrames:  42%|████▏     | 209/499 [02:45<07:29,  1.55s/it]"
     ]
    },
    {
     "name": "stdout",
     "output_type": "stream",
     "text": [
      "Encoded DataFrame X_train_209 has been exported to '../data/encoded/train/X_train_209_encoded.csv'\n"
     ]
    },
    {
     "name": "stderr",
     "output_type": "stream",
     "text": [
      "Encoding and exporting DataFrames:  42%|████▏     | 210/499 [02:46<07:27,  1.55s/it]"
     ]
    },
    {
     "name": "stdout",
     "output_type": "stream",
     "text": [
      "Encoded DataFrame X_train_210 has been exported to '../data/encoded/train/X_train_210_encoded.csv'\n"
     ]
    },
    {
     "name": "stderr",
     "output_type": "stream",
     "text": [
      "Encoding and exporting DataFrames:  42%|████▏     | 211/499 [02:48<07:27,  1.56s/it]"
     ]
    },
    {
     "name": "stdout",
     "output_type": "stream",
     "text": [
      "Encoded DataFrame X_train_211 has been exported to '../data/encoded/train/X_train_211_encoded.csv'\n"
     ]
    },
    {
     "name": "stderr",
     "output_type": "stream",
     "text": [
      "Encoding and exporting DataFrames:  42%|████▏     | 212/499 [02:49<07:28,  1.56s/it]"
     ]
    },
    {
     "name": "stdout",
     "output_type": "stream",
     "text": [
      "Encoded DataFrame X_train_212 has been exported to '../data/encoded/train/X_train_212_encoded.csv'\n"
     ]
    },
    {
     "name": "stderr",
     "output_type": "stream",
     "text": [
      "Encoding and exporting DataFrames:  43%|████▎     | 213/499 [02:51<07:30,  1.58s/it]"
     ]
    },
    {
     "name": "stdout",
     "output_type": "stream",
     "text": [
      "Encoded DataFrame X_train_213 has been exported to '../data/encoded/train/X_train_213_encoded.csv'\n"
     ]
    },
    {
     "name": "stderr",
     "output_type": "stream",
     "text": [
      "Encoding and exporting DataFrames:  43%|████▎     | 214/499 [02:53<07:32,  1.59s/it]"
     ]
    },
    {
     "name": "stdout",
     "output_type": "stream",
     "text": [
      "Encoded DataFrame X_train_214 has been exported to '../data/encoded/train/X_train_214_encoded.csv'\n"
     ]
    },
    {
     "name": "stderr",
     "output_type": "stream",
     "text": [
      "Encoding and exporting DataFrames:  43%|████▎     | 215/499 [02:54<07:33,  1.60s/it]"
     ]
    },
    {
     "name": "stdout",
     "output_type": "stream",
     "text": [
      "Encoded DataFrame X_train_215 has been exported to '../data/encoded/train/X_train_215_encoded.csv'\n"
     ]
    },
    {
     "name": "stderr",
     "output_type": "stream",
     "text": [
      "Encoding and exporting DataFrames:  43%|████▎     | 216/499 [02:56<07:33,  1.60s/it]"
     ]
    },
    {
     "name": "stdout",
     "output_type": "stream",
     "text": [
      "Encoded DataFrame X_train_216 has been exported to '../data/encoded/train/X_train_216_encoded.csv'\n"
     ]
    },
    {
     "name": "stderr",
     "output_type": "stream",
     "text": [
      "Encoding and exporting DataFrames:  43%|████▎     | 217/499 [02:57<07:36,  1.62s/it]"
     ]
    },
    {
     "name": "stdout",
     "output_type": "stream",
     "text": [
      "Encoded DataFrame X_train_217 has been exported to '../data/encoded/train/X_train_217_encoded.csv'\n"
     ]
    },
    {
     "name": "stderr",
     "output_type": "stream",
     "text": [
      "Encoding and exporting DataFrames:  44%|████▎     | 218/499 [02:59<07:36,  1.62s/it]"
     ]
    },
    {
     "name": "stdout",
     "output_type": "stream",
     "text": [
      "Encoded DataFrame X_train_218 has been exported to '../data/encoded/train/X_train_218_encoded.csv'\n"
     ]
    },
    {
     "name": "stderr",
     "output_type": "stream",
     "text": [
      "Encoding and exporting DataFrames:  44%|████▍     | 219/499 [03:01<07:33,  1.62s/it]"
     ]
    },
    {
     "name": "stdout",
     "output_type": "stream",
     "text": [
      "Encoded DataFrame X_train_219 has been exported to '../data/encoded/train/X_train_219_encoded.csv'\n"
     ]
    },
    {
     "name": "stderr",
     "output_type": "stream",
     "text": [
      "Encoding and exporting DataFrames:  44%|████▍     | 220/499 [03:02<07:37,  1.64s/it]"
     ]
    },
    {
     "name": "stdout",
     "output_type": "stream",
     "text": [
      "Encoded DataFrame X_train_220 has been exported to '../data/encoded/train/X_train_220_encoded.csv'\n"
     ]
    },
    {
     "name": "stderr",
     "output_type": "stream",
     "text": [
      "Encoding and exporting DataFrames:  44%|████▍     | 221/499 [03:04<07:34,  1.63s/it]"
     ]
    },
    {
     "name": "stdout",
     "output_type": "stream",
     "text": [
      "Encoded DataFrame X_train_221 has been exported to '../data/encoded/train/X_train_221_encoded.csv'\n"
     ]
    },
    {
     "name": "stderr",
     "output_type": "stream",
     "text": [
      "Encoding and exporting DataFrames:  44%|████▍     | 222/499 [03:06<07:36,  1.65s/it]"
     ]
    },
    {
     "name": "stdout",
     "output_type": "stream",
     "text": [
      "Encoded DataFrame X_train_222 has been exported to '../data/encoded/train/X_train_222_encoded.csv'\n"
     ]
    },
    {
     "name": "stderr",
     "output_type": "stream",
     "text": [
      "Encoding and exporting DataFrames:  45%|████▍     | 223/499 [03:07<07:37,  1.66s/it]"
     ]
    },
    {
     "name": "stdout",
     "output_type": "stream",
     "text": [
      "Encoded DataFrame X_train_223 has been exported to '../data/encoded/train/X_train_223_encoded.csv'\n"
     ]
    },
    {
     "name": "stderr",
     "output_type": "stream",
     "text": [
      "Encoding and exporting DataFrames:  45%|████▍     | 224/499 [03:09<07:38,  1.67s/it]"
     ]
    },
    {
     "name": "stdout",
     "output_type": "stream",
     "text": [
      "Encoded DataFrame X_train_224 has been exported to '../data/encoded/train/X_train_224_encoded.csv'\n"
     ]
    },
    {
     "name": "stderr",
     "output_type": "stream",
     "text": [
      "Encoding and exporting DataFrames:  45%|████▌     | 225/499 [03:11<07:39,  1.68s/it]"
     ]
    },
    {
     "name": "stdout",
     "output_type": "stream",
     "text": [
      "Encoded DataFrame X_train_225 has been exported to '../data/encoded/train/X_train_225_encoded.csv'\n"
     ]
    },
    {
     "name": "stderr",
     "output_type": "stream",
     "text": [
      "Encoding and exporting DataFrames:  45%|████▌     | 226/499 [03:12<07:39,  1.68s/it]"
     ]
    },
    {
     "name": "stdout",
     "output_type": "stream",
     "text": [
      "Encoded DataFrame X_train_226 has been exported to '../data/encoded/train/X_train_226_encoded.csv'\n"
     ]
    },
    {
     "name": "stderr",
     "output_type": "stream",
     "text": [
      "Encoding and exporting DataFrames:  45%|████▌     | 227/499 [03:14<07:39,  1.69s/it]"
     ]
    },
    {
     "name": "stdout",
     "output_type": "stream",
     "text": [
      "Encoded DataFrame X_train_227 has been exported to '../data/encoded/train/X_train_227_encoded.csv'\n"
     ]
    },
    {
     "name": "stderr",
     "output_type": "stream",
     "text": [
      "Encoding and exporting DataFrames:  46%|████▌     | 228/499 [03:16<07:40,  1.70s/it]"
     ]
    },
    {
     "name": "stdout",
     "output_type": "stream",
     "text": [
      "Encoded DataFrame X_train_228 has been exported to '../data/encoded/train/X_train_228_encoded.csv'\n"
     ]
    },
    {
     "name": "stderr",
     "output_type": "stream",
     "text": [
      "Encoding and exporting DataFrames:  46%|████▌     | 229/499 [03:18<07:39,  1.70s/it]"
     ]
    },
    {
     "name": "stdout",
     "output_type": "stream",
     "text": [
      "Encoded DataFrame X_train_229 has been exported to '../data/encoded/train/X_train_229_encoded.csv'\n"
     ]
    },
    {
     "name": "stderr",
     "output_type": "stream",
     "text": [
      "Encoding and exporting DataFrames:  46%|████▌     | 230/499 [03:19<07:40,  1.71s/it]"
     ]
    },
    {
     "name": "stdout",
     "output_type": "stream",
     "text": [
      "Encoded DataFrame X_train_230 has been exported to '../data/encoded/train/X_train_230_encoded.csv'\n"
     ]
    },
    {
     "name": "stderr",
     "output_type": "stream",
     "text": [
      "Encoding and exporting DataFrames:  46%|████▋     | 231/499 [03:21<07:41,  1.72s/it]"
     ]
    },
    {
     "name": "stdout",
     "output_type": "stream",
     "text": [
      "Encoded DataFrame X_train_231 has been exported to '../data/encoded/train/X_train_231_encoded.csv'\n"
     ]
    },
    {
     "name": "stderr",
     "output_type": "stream",
     "text": [
      "Encoding and exporting DataFrames:  46%|████▋     | 232/499 [03:23<07:41,  1.73s/it]"
     ]
    },
    {
     "name": "stdout",
     "output_type": "stream",
     "text": [
      "Encoded DataFrame X_train_232 has been exported to '../data/encoded/train/X_train_232_encoded.csv'\n"
     ]
    },
    {
     "name": "stderr",
     "output_type": "stream",
     "text": [
      "Encoding and exporting DataFrames:  47%|████▋     | 233/499 [03:25<07:41,  1.73s/it]"
     ]
    },
    {
     "name": "stdout",
     "output_type": "stream",
     "text": [
      "Encoded DataFrame X_train_233 has been exported to '../data/encoded/train/X_train_233_encoded.csv'\n"
     ]
    },
    {
     "name": "stderr",
     "output_type": "stream",
     "text": [
      "Encoding and exporting DataFrames:  47%|████▋     | 234/499 [03:26<07:42,  1.74s/it]"
     ]
    },
    {
     "name": "stdout",
     "output_type": "stream",
     "text": [
      "Encoded DataFrame X_train_234 has been exported to '../data/encoded/train/X_train_234_encoded.csv'\n"
     ]
    },
    {
     "name": "stderr",
     "output_type": "stream",
     "text": [
      "Encoding and exporting DataFrames:  47%|████▋     | 235/499 [03:28<07:42,  1.75s/it]"
     ]
    },
    {
     "name": "stdout",
     "output_type": "stream",
     "text": [
      "Encoded DataFrame X_train_235 has been exported to '../data/encoded/train/X_train_235_encoded.csv'\n"
     ]
    },
    {
     "name": "stderr",
     "output_type": "stream",
     "text": [
      "Encoding and exporting DataFrames:  47%|████▋     | 236/499 [03:30<07:41,  1.75s/it]"
     ]
    },
    {
     "name": "stdout",
     "output_type": "stream",
     "text": [
      "Encoded DataFrame X_train_236 has been exported to '../data/encoded/train/X_train_236_encoded.csv'\n"
     ]
    },
    {
     "name": "stderr",
     "output_type": "stream",
     "text": [
      "Encoding and exporting DataFrames:  47%|████▋     | 237/499 [03:32<07:41,  1.76s/it]"
     ]
    },
    {
     "name": "stdout",
     "output_type": "stream",
     "text": [
      "Encoded DataFrame X_train_237 has been exported to '../data/encoded/train/X_train_237_encoded.csv'\n"
     ]
    },
    {
     "name": "stderr",
     "output_type": "stream",
     "text": [
      "Encoding and exporting DataFrames:  48%|████▊     | 238/499 [03:33<07:41,  1.77s/it]"
     ]
    },
    {
     "name": "stdout",
     "output_type": "stream",
     "text": [
      "Encoded DataFrame X_train_238 has been exported to '../data/encoded/train/X_train_238_encoded.csv'\n"
     ]
    },
    {
     "name": "stderr",
     "output_type": "stream",
     "text": [
      "Encoding and exporting DataFrames:  48%|████▊     | 239/499 [03:35<07:41,  1.77s/it]"
     ]
    },
    {
     "name": "stdout",
     "output_type": "stream",
     "text": [
      "Encoded DataFrame X_train_239 has been exported to '../data/encoded/train/X_train_239_encoded.csv'\n"
     ]
    },
    {
     "name": "stderr",
     "output_type": "stream",
     "text": [
      "Encoding and exporting DataFrames:  48%|████▊     | 240/499 [03:37<07:40,  1.78s/it]"
     ]
    },
    {
     "name": "stdout",
     "output_type": "stream",
     "text": [
      "Encoded DataFrame X_train_240 has been exported to '../data/encoded/train/X_train_240_encoded.csv'\n"
     ]
    },
    {
     "name": "stderr",
     "output_type": "stream",
     "text": [
      "Encoding and exporting DataFrames:  48%|████▊     | 241/499 [03:39<07:40,  1.78s/it]"
     ]
    },
    {
     "name": "stdout",
     "output_type": "stream",
     "text": [
      "Encoded DataFrame X_train_241 has been exported to '../data/encoded/train/X_train_241_encoded.csv'\n"
     ]
    },
    {
     "name": "stderr",
     "output_type": "stream",
     "text": [
      "Encoding and exporting DataFrames:  48%|████▊     | 242/499 [03:41<07:39,  1.79s/it]"
     ]
    },
    {
     "name": "stdout",
     "output_type": "stream",
     "text": [
      "Encoded DataFrame X_train_242 has been exported to '../data/encoded/train/X_train_242_encoded.csv'\n"
     ]
    },
    {
     "name": "stderr",
     "output_type": "stream",
     "text": [
      "Encoding and exporting DataFrames:  49%|████▊     | 243/499 [03:42<07:40,  1.80s/it]"
     ]
    },
    {
     "name": "stdout",
     "output_type": "stream",
     "text": [
      "Encoded DataFrame X_train_243 has been exported to '../data/encoded/train/X_train_243_encoded.csv'\n"
     ]
    },
    {
     "name": "stderr",
     "output_type": "stream",
     "text": [
      "Encoding and exporting DataFrames:  49%|████▉     | 244/499 [03:44<07:40,  1.81s/it]"
     ]
    },
    {
     "name": "stdout",
     "output_type": "stream",
     "text": [
      "Encoded DataFrame X_train_244 has been exported to '../data/encoded/train/X_train_244_encoded.csv'\n"
     ]
    },
    {
     "name": "stderr",
     "output_type": "stream",
     "text": [
      "Encoding and exporting DataFrames:  49%|████▉     | 245/499 [03:46<07:44,  1.83s/it]"
     ]
    },
    {
     "name": "stdout",
     "output_type": "stream",
     "text": [
      "Encoded DataFrame X_train_245 has been exported to '../data/encoded/train/X_train_245_encoded.csv'\n"
     ]
    },
    {
     "name": "stderr",
     "output_type": "stream",
     "text": [
      "Encoding and exporting DataFrames:  49%|████▉     | 246/499 [03:48<07:42,  1.83s/it]"
     ]
    },
    {
     "name": "stdout",
     "output_type": "stream",
     "text": [
      "Encoded DataFrame X_train_246 has been exported to '../data/encoded/train/X_train_246_encoded.csv'\n"
     ]
    },
    {
     "name": "stderr",
     "output_type": "stream",
     "text": [
      "Encoding and exporting DataFrames:  49%|████▉     | 247/499 [03:50<07:40,  1.83s/it]"
     ]
    },
    {
     "name": "stdout",
     "output_type": "stream",
     "text": [
      "Encoded DataFrame X_train_247 has been exported to '../data/encoded/train/X_train_247_encoded.csv'\n"
     ]
    },
    {
     "name": "stderr",
     "output_type": "stream",
     "text": [
      "Encoding and exporting DataFrames:  50%|████▉     | 248/499 [03:52<07:42,  1.84s/it]"
     ]
    },
    {
     "name": "stdout",
     "output_type": "stream",
     "text": [
      "Encoded DataFrame X_train_248 has been exported to '../data/encoded/train/X_train_248_encoded.csv'\n"
     ]
    },
    {
     "name": "stderr",
     "output_type": "stream",
     "text": [
      "Encoding and exporting DataFrames:  50%|████▉     | 249/499 [03:54<07:44,  1.86s/it]"
     ]
    },
    {
     "name": "stdout",
     "output_type": "stream",
     "text": [
      "Encoded DataFrame X_train_249 has been exported to '../data/encoded/train/X_train_249_encoded.csv'\n"
     ]
    },
    {
     "name": "stderr",
     "output_type": "stream",
     "text": [
      "Encoding and exporting DataFrames:  50%|█████     | 250/499 [03:55<07:45,  1.87s/it]"
     ]
    },
    {
     "name": "stdout",
     "output_type": "stream",
     "text": [
      "Encoded DataFrame X_train_250 has been exported to '../data/encoded/train/X_train_250_encoded.csv'\n"
     ]
    },
    {
     "name": "stderr",
     "output_type": "stream",
     "text": [
      "Encoding and exporting DataFrames:  50%|█████     | 251/499 [03:57<07:42,  1.87s/it]"
     ]
    },
    {
     "name": "stdout",
     "output_type": "stream",
     "text": [
      "Encoded DataFrame X_train_251 has been exported to '../data/encoded/train/X_train_251_encoded.csv'\n"
     ]
    },
    {
     "name": "stderr",
     "output_type": "stream",
     "text": [
      "Encoding and exporting DataFrames:  51%|█████     | 252/499 [03:59<07:41,  1.87s/it]"
     ]
    },
    {
     "name": "stdout",
     "output_type": "stream",
     "text": [
      "Encoded DataFrame X_train_252 has been exported to '../data/encoded/train/X_train_252_encoded.csv'\n"
     ]
    },
    {
     "name": "stderr",
     "output_type": "stream",
     "text": [
      "Encoding and exporting DataFrames:  51%|█████     | 253/499 [04:01<07:42,  1.88s/it]"
     ]
    },
    {
     "name": "stdout",
     "output_type": "stream",
     "text": [
      "Encoded DataFrame X_train_253 has been exported to '../data/encoded/train/X_train_253_encoded.csv'\n"
     ]
    },
    {
     "name": "stderr",
     "output_type": "stream",
     "text": [
      "Encoding and exporting DataFrames:  51%|█████     | 254/499 [04:03<07:41,  1.89s/it]"
     ]
    },
    {
     "name": "stdout",
     "output_type": "stream",
     "text": [
      "Encoded DataFrame X_train_254 has been exported to '../data/encoded/train/X_train_254_encoded.csv'\n"
     ]
    },
    {
     "name": "stderr",
     "output_type": "stream",
     "text": [
      "Encoding and exporting DataFrames:  51%|█████     | 255/499 [04:05<07:43,  1.90s/it]"
     ]
    },
    {
     "name": "stdout",
     "output_type": "stream",
     "text": [
      "Encoded DataFrame X_train_255 has been exported to '../data/encoded/train/X_train_255_encoded.csv'\n"
     ]
    },
    {
     "name": "stderr",
     "output_type": "stream",
     "text": [
      "Encoding and exporting DataFrames:  51%|█████▏    | 256/499 [04:07<07:44,  1.91s/it]"
     ]
    },
    {
     "name": "stdout",
     "output_type": "stream",
     "text": [
      "Encoded DataFrame X_train_256 has been exported to '../data/encoded/train/X_train_256_encoded.csv'\n"
     ]
    },
    {
     "name": "stderr",
     "output_type": "stream",
     "text": [
      "Encoding and exporting DataFrames:  52%|█████▏    | 257/499 [04:09<07:42,  1.91s/it]"
     ]
    },
    {
     "name": "stdout",
     "output_type": "stream",
     "text": [
      "Encoded DataFrame X_train_257 has been exported to '../data/encoded/train/X_train_257_encoded.csv'\n"
     ]
    },
    {
     "name": "stderr",
     "output_type": "stream",
     "text": [
      "Encoding and exporting DataFrames:  52%|█████▏    | 258/499 [04:11<07:40,  1.91s/it]"
     ]
    },
    {
     "name": "stdout",
     "output_type": "stream",
     "text": [
      "Encoded DataFrame X_train_258 has been exported to '../data/encoded/train/X_train_258_encoded.csv'\n"
     ]
    },
    {
     "name": "stderr",
     "output_type": "stream",
     "text": [
      "Encoding and exporting DataFrames:  52%|█████▏    | 259/499 [04:13<07:41,  1.92s/it]"
     ]
    },
    {
     "name": "stdout",
     "output_type": "stream",
     "text": [
      "Encoded DataFrame X_train_259 has been exported to '../data/encoded/train/X_train_259_encoded.csv'\n"
     ]
    },
    {
     "name": "stderr",
     "output_type": "stream",
     "text": [
      "Encoding and exporting DataFrames:  52%|█████▏    | 260/499 [04:15<07:43,  1.94s/it]"
     ]
    },
    {
     "name": "stdout",
     "output_type": "stream",
     "text": [
      "Encoded DataFrame X_train_260 has been exported to '../data/encoded/train/X_train_260_encoded.csv'\n"
     ]
    },
    {
     "name": "stderr",
     "output_type": "stream",
     "text": [
      "Encoding and exporting DataFrames:  52%|█████▏    | 261/499 [04:17<07:41,  1.94s/it]"
     ]
    },
    {
     "name": "stdout",
     "output_type": "stream",
     "text": [
      "Encoded DataFrame X_train_261 has been exported to '../data/encoded/train/X_train_261_encoded.csv'\n"
     ]
    },
    {
     "name": "stderr",
     "output_type": "stream",
     "text": [
      "Encoding and exporting DataFrames:  53%|█████▎    | 262/499 [04:18<07:40,  1.94s/it]"
     ]
    },
    {
     "name": "stdout",
     "output_type": "stream",
     "text": [
      "Encoded DataFrame X_train_262 has been exported to '../data/encoded/train/X_train_262_encoded.csv'\n"
     ]
    },
    {
     "name": "stderr",
     "output_type": "stream",
     "text": [
      "Encoding and exporting DataFrames:  53%|█████▎    | 263/499 [04:20<07:38,  1.94s/it]"
     ]
    },
    {
     "name": "stdout",
     "output_type": "stream",
     "text": [
      "Encoded DataFrame X_train_263 has been exported to '../data/encoded/train/X_train_263_encoded.csv'\n"
     ]
    },
    {
     "name": "stderr",
     "output_type": "stream",
     "text": [
      "Encoding and exporting DataFrames:  53%|█████▎    | 264/499 [04:22<07:40,  1.96s/it]"
     ]
    },
    {
     "name": "stdout",
     "output_type": "stream",
     "text": [
      "Encoded DataFrame X_train_264 has been exported to '../data/encoded/train/X_train_264_encoded.csv'\n"
     ]
    },
    {
     "name": "stderr",
     "output_type": "stream",
     "text": [
      "Encoding and exporting DataFrames:  53%|█████▎    | 265/499 [04:24<07:41,  1.97s/it]"
     ]
    },
    {
     "name": "stdout",
     "output_type": "stream",
     "text": [
      "Encoded DataFrame X_train_265 has been exported to '../data/encoded/train/X_train_265_encoded.csv'\n"
     ]
    },
    {
     "name": "stderr",
     "output_type": "stream",
     "text": [
      "Encoding and exporting DataFrames:  53%|█████▎    | 266/499 [04:26<07:38,  1.97s/it]"
     ]
    },
    {
     "name": "stdout",
     "output_type": "stream",
     "text": [
      "Encoded DataFrame X_train_266 has been exported to '../data/encoded/train/X_train_266_encoded.csv'\n"
     ]
    },
    {
     "name": "stderr",
     "output_type": "stream",
     "text": [
      "Encoding and exporting DataFrames:  54%|█████▎    | 267/499 [04:28<07:41,  1.99s/it]"
     ]
    },
    {
     "name": "stdout",
     "output_type": "stream",
     "text": [
      "Encoded DataFrame X_train_267 has been exported to '../data/encoded/train/X_train_267_encoded.csv'\n"
     ]
    },
    {
     "name": "stderr",
     "output_type": "stream",
     "text": [
      "Encoding and exporting DataFrames:  54%|█████▎    | 268/499 [04:30<07:39,  1.99s/it]"
     ]
    },
    {
     "name": "stdout",
     "output_type": "stream",
     "text": [
      "Encoded DataFrame X_train_268 has been exported to '../data/encoded/train/X_train_268_encoded.csv'\n"
     ]
    },
    {
     "name": "stderr",
     "output_type": "stream",
     "text": [
      "Encoding and exporting DataFrames:  54%|█████▍    | 269/499 [04:32<07:40,  2.00s/it]"
     ]
    },
    {
     "name": "stdout",
     "output_type": "stream",
     "text": [
      "Encoded DataFrame X_train_269 has been exported to '../data/encoded/train/X_train_269_encoded.csv'\n"
     ]
    },
    {
     "name": "stderr",
     "output_type": "stream",
     "text": [
      "Encoding and exporting DataFrames:  54%|█████▍    | 270/499 [04:34<07:36,  2.00s/it]"
     ]
    },
    {
     "name": "stdout",
     "output_type": "stream",
     "text": [
      "Encoded DataFrame X_train_270 has been exported to '../data/encoded/train/X_train_270_encoded.csv'\n"
     ]
    },
    {
     "name": "stderr",
     "output_type": "stream",
     "text": [
      "Encoding and exporting DataFrames:  54%|█████▍    | 271/499 [04:36<07:35,  2.00s/it]"
     ]
    },
    {
     "name": "stdout",
     "output_type": "stream",
     "text": [
      "Encoded DataFrame X_train_271 has been exported to '../data/encoded/train/X_train_271_encoded.csv'\n"
     ]
    },
    {
     "name": "stderr",
     "output_type": "stream",
     "text": [
      "Encoding and exporting DataFrames:  55%|█████▍    | 272/499 [04:38<07:36,  2.01s/it]"
     ]
    },
    {
     "name": "stdout",
     "output_type": "stream",
     "text": [
      "Encoded DataFrame X_train_272 has been exported to '../data/encoded/train/X_train_272_encoded.csv'\n"
     ]
    },
    {
     "name": "stderr",
     "output_type": "stream",
     "text": [
      "Encoding and exporting DataFrames:  55%|█████▍    | 273/499 [04:40<07:34,  2.01s/it]"
     ]
    },
    {
     "name": "stdout",
     "output_type": "stream",
     "text": [
      "Encoded DataFrame X_train_273 has been exported to '../data/encoded/train/X_train_273_encoded.csv'\n"
     ]
    },
    {
     "name": "stderr",
     "output_type": "stream",
     "text": [
      "Encoding and exporting DataFrames:  55%|█████▍    | 274/499 [04:43<07:35,  2.02s/it]"
     ]
    },
    {
     "name": "stdout",
     "output_type": "stream",
     "text": [
      "Encoded DataFrame X_train_274 has been exported to '../data/encoded/train/X_train_274_encoded.csv'\n"
     ]
    },
    {
     "name": "stderr",
     "output_type": "stream",
     "text": [
      "Encoding and exporting DataFrames:  55%|█████▌    | 275/499 [04:45<07:37,  2.04s/it]"
     ]
    },
    {
     "name": "stdout",
     "output_type": "stream",
     "text": [
      "Encoded DataFrame X_train_275 has been exported to '../data/encoded/train/X_train_275_encoded.csv'\n"
     ]
    },
    {
     "name": "stderr",
     "output_type": "stream",
     "text": [
      "Encoding and exporting DataFrames:  55%|█████▌    | 276/499 [04:47<07:39,  2.06s/it]"
     ]
    },
    {
     "name": "stdout",
     "output_type": "stream",
     "text": [
      "Encoded DataFrame X_train_276 has been exported to '../data/encoded/train/X_train_276_encoded.csv'\n"
     ]
    },
    {
     "name": "stderr",
     "output_type": "stream",
     "text": [
      "Encoding and exporting DataFrames:  56%|█████▌    | 277/499 [04:49<07:40,  2.08s/it]"
     ]
    },
    {
     "name": "stdout",
     "output_type": "stream",
     "text": [
      "Encoded DataFrame X_train_277 has been exported to '../data/encoded/train/X_train_277_encoded.csv'\n"
     ]
    },
    {
     "name": "stderr",
     "output_type": "stream",
     "text": [
      "Encoding and exporting DataFrames:  56%|█████▌    | 278/499 [04:51<07:37,  2.07s/it]"
     ]
    },
    {
     "name": "stdout",
     "output_type": "stream",
     "text": [
      "Encoded DataFrame X_train_278 has been exported to '../data/encoded/train/X_train_278_encoded.csv'\n"
     ]
    },
    {
     "name": "stderr",
     "output_type": "stream",
     "text": [
      "Encoding and exporting DataFrames:  56%|█████▌    | 279/499 [04:53<07:38,  2.08s/it]"
     ]
    },
    {
     "name": "stdout",
     "output_type": "stream",
     "text": [
      "Encoded DataFrame X_train_279 has been exported to '../data/encoded/train/X_train_279_encoded.csv'\n"
     ]
    },
    {
     "name": "stderr",
     "output_type": "stream",
     "text": [
      "Encoding and exporting DataFrames:  56%|█████▌    | 280/499 [04:55<07:35,  2.08s/it]"
     ]
    },
    {
     "name": "stdout",
     "output_type": "stream",
     "text": [
      "Encoded DataFrame X_train_280 has been exported to '../data/encoded/train/X_train_280_encoded.csv'\n"
     ]
    },
    {
     "name": "stderr",
     "output_type": "stream",
     "text": [
      "Encoding and exporting DataFrames:  56%|█████▋    | 281/499 [04:57<07:35,  2.09s/it]"
     ]
    },
    {
     "name": "stdout",
     "output_type": "stream",
     "text": [
      "Encoded DataFrame X_train_281 has been exported to '../data/encoded/train/X_train_281_encoded.csv'\n"
     ]
    },
    {
     "name": "stderr",
     "output_type": "stream",
     "text": [
      "Encoding and exporting DataFrames:  57%|█████▋    | 282/499 [04:59<07:35,  2.10s/it]"
     ]
    },
    {
     "name": "stdout",
     "output_type": "stream",
     "text": [
      "Encoded DataFrame X_train_282 has been exported to '../data/encoded/train/X_train_282_encoded.csv'\n"
     ]
    },
    {
     "name": "stderr",
     "output_type": "stream",
     "text": [
      "Encoding and exporting DataFrames:  57%|█████▋    | 283/499 [05:01<07:34,  2.10s/it]"
     ]
    },
    {
     "name": "stdout",
     "output_type": "stream",
     "text": [
      "Encoded DataFrame X_train_283 has been exported to '../data/encoded/train/X_train_283_encoded.csv'\n"
     ]
    },
    {
     "name": "stderr",
     "output_type": "stream",
     "text": [
      "Encoding and exporting DataFrames:  57%|█████▋    | 284/499 [05:03<07:31,  2.10s/it]"
     ]
    },
    {
     "name": "stdout",
     "output_type": "stream",
     "text": [
      "Encoded DataFrame X_train_284 has been exported to '../data/encoded/train/X_train_284_encoded.csv'\n"
     ]
    },
    {
     "name": "stderr",
     "output_type": "stream",
     "text": [
      "Encoding and exporting DataFrames:  57%|█████▋    | 285/499 [05:06<07:30,  2.10s/it]"
     ]
    },
    {
     "name": "stdout",
     "output_type": "stream",
     "text": [
      "Encoded DataFrame X_train_285 has been exported to '../data/encoded/train/X_train_285_encoded.csv'\n"
     ]
    },
    {
     "name": "stderr",
     "output_type": "stream",
     "text": [
      "Encoding and exporting DataFrames:  57%|█████▋    | 286/499 [05:08<07:30,  2.12s/it]"
     ]
    },
    {
     "name": "stdout",
     "output_type": "stream",
     "text": [
      "Encoded DataFrame X_train_286 has been exported to '../data/encoded/train/X_train_286_encoded.csv'\n"
     ]
    },
    {
     "name": "stderr",
     "output_type": "stream",
     "text": [
      "Encoding and exporting DataFrames:  58%|█████▊    | 287/499 [05:10<07:28,  2.12s/it]"
     ]
    },
    {
     "name": "stdout",
     "output_type": "stream",
     "text": [
      "Encoded DataFrame X_train_287 has been exported to '../data/encoded/train/X_train_287_encoded.csv'\n"
     ]
    },
    {
     "name": "stderr",
     "output_type": "stream",
     "text": [
      "Encoding and exporting DataFrames:  58%|█████▊    | 288/499 [05:12<07:29,  2.13s/it]"
     ]
    },
    {
     "name": "stdout",
     "output_type": "stream",
     "text": [
      "Encoded DataFrame X_train_288 has been exported to '../data/encoded/train/X_train_288_encoded.csv'\n"
     ]
    },
    {
     "name": "stderr",
     "output_type": "stream",
     "text": [
      "Encoding and exporting DataFrames:  58%|█████▊    | 289/499 [05:14<07:30,  2.14s/it]"
     ]
    },
    {
     "name": "stdout",
     "output_type": "stream",
     "text": [
      "Encoded DataFrame X_train_289 has been exported to '../data/encoded/train/X_train_289_encoded.csv'\n"
     ]
    },
    {
     "name": "stderr",
     "output_type": "stream",
     "text": [
      "Encoding and exporting DataFrames:  58%|█████▊    | 290/499 [05:16<07:29,  2.15s/it]"
     ]
    },
    {
     "name": "stdout",
     "output_type": "stream",
     "text": [
      "Encoded DataFrame X_train_290 has been exported to '../data/encoded/train/X_train_290_encoded.csv'\n"
     ]
    },
    {
     "name": "stderr",
     "output_type": "stream",
     "text": [
      "Encoding and exporting DataFrames:  58%|█████▊    | 291/499 [05:19<07:30,  2.17s/it]"
     ]
    },
    {
     "name": "stdout",
     "output_type": "stream",
     "text": [
      "Encoded DataFrame X_train_291 has been exported to '../data/encoded/train/X_train_291_encoded.csv'\n"
     ]
    },
    {
     "name": "stderr",
     "output_type": "stream",
     "text": [
      "Encoding and exporting DataFrames:  59%|█████▊    | 292/499 [05:21<07:30,  2.18s/it]"
     ]
    },
    {
     "name": "stdout",
     "output_type": "stream",
     "text": [
      "Encoded DataFrame X_train_292 has been exported to '../data/encoded/train/X_train_292_encoded.csv'\n"
     ]
    },
    {
     "name": "stderr",
     "output_type": "stream",
     "text": [
      "Encoding and exporting DataFrames:  59%|█████▊    | 293/499 [05:23<07:29,  2.18s/it]"
     ]
    },
    {
     "name": "stdout",
     "output_type": "stream",
     "text": [
      "Encoded DataFrame X_train_293 has been exported to '../data/encoded/train/X_train_293_encoded.csv'\n"
     ]
    },
    {
     "name": "stderr",
     "output_type": "stream",
     "text": [
      "Encoding and exporting DataFrames:  59%|█████▉    | 294/499 [05:25<07:28,  2.19s/it]"
     ]
    },
    {
     "name": "stdout",
     "output_type": "stream",
     "text": [
      "Encoded DataFrame X_train_294 has been exported to '../data/encoded/train/X_train_294_encoded.csv'\n"
     ]
    },
    {
     "name": "stderr",
     "output_type": "stream",
     "text": [
      "Encoding and exporting DataFrames:  59%|█████▉    | 295/499 [05:27<07:28,  2.20s/it]"
     ]
    },
    {
     "name": "stdout",
     "output_type": "stream",
     "text": [
      "Encoded DataFrame X_train_295 has been exported to '../data/encoded/train/X_train_295_encoded.csv'\n"
     ]
    },
    {
     "name": "stderr",
     "output_type": "stream",
     "text": [
      "Encoding and exporting DataFrames:  59%|█████▉    | 296/499 [05:30<07:29,  2.21s/it]"
     ]
    },
    {
     "name": "stdout",
     "output_type": "stream",
     "text": [
      "Encoded DataFrame X_train_296 has been exported to '../data/encoded/train/X_train_296_encoded.csv'\n"
     ]
    },
    {
     "name": "stderr",
     "output_type": "stream",
     "text": [
      "Encoding and exporting DataFrames:  60%|█████▉    | 297/499 [05:32<07:25,  2.21s/it]"
     ]
    },
    {
     "name": "stdout",
     "output_type": "stream",
     "text": [
      "Encoded DataFrame X_train_297 has been exported to '../data/encoded/train/X_train_297_encoded.csv'\n"
     ]
    },
    {
     "name": "stderr",
     "output_type": "stream",
     "text": [
      "Encoding and exporting DataFrames:  60%|█████▉    | 298/499 [05:34<07:24,  2.21s/it]"
     ]
    },
    {
     "name": "stdout",
     "output_type": "stream",
     "text": [
      "Encoded DataFrame X_train_298 has been exported to '../data/encoded/train/X_train_298_encoded.csv'\n"
     ]
    },
    {
     "name": "stderr",
     "output_type": "stream",
     "text": [
      "Encoding and exporting DataFrames:  60%|█████▉    | 299/499 [05:36<07:23,  2.22s/it]"
     ]
    },
    {
     "name": "stdout",
     "output_type": "stream",
     "text": [
      "Encoded DataFrame X_train_299 has been exported to '../data/encoded/train/X_train_299_encoded.csv'\n"
     ]
    },
    {
     "name": "stderr",
     "output_type": "stream",
     "text": [
      "Encoding and exporting DataFrames:  60%|██████    | 300/499 [05:39<07:23,  2.23s/it]"
     ]
    },
    {
     "name": "stdout",
     "output_type": "stream",
     "text": [
      "Encoded DataFrame X_train_300 has been exported to '../data/encoded/train/X_train_300_encoded.csv'\n"
     ]
    },
    {
     "name": "stderr",
     "output_type": "stream",
     "text": [
      "Encoding and exporting DataFrames:  60%|██████    | 301/499 [05:41<07:22,  2.23s/it]"
     ]
    },
    {
     "name": "stdout",
     "output_type": "stream",
     "text": [
      "Encoded DataFrame X_train_301 has been exported to '../data/encoded/train/X_train_301_encoded.csv'\n"
     ]
    },
    {
     "name": "stderr",
     "output_type": "stream",
     "text": [
      "Encoding and exporting DataFrames:  61%|██████    | 302/499 [05:43<07:21,  2.24s/it]"
     ]
    },
    {
     "name": "stdout",
     "output_type": "stream",
     "text": [
      "Encoded DataFrame X_train_302 has been exported to '../data/encoded/train/X_train_302_encoded.csv'\n"
     ]
    },
    {
     "name": "stderr",
     "output_type": "stream",
     "text": [
      "Encoding and exporting DataFrames:  61%|██████    | 303/499 [05:45<07:21,  2.25s/it]"
     ]
    },
    {
     "name": "stdout",
     "output_type": "stream",
     "text": [
      "Encoded DataFrame X_train_303 has been exported to '../data/encoded/train/X_train_303_encoded.csv'\n"
     ]
    },
    {
     "name": "stderr",
     "output_type": "stream",
     "text": [
      "Encoding and exporting DataFrames:  61%|██████    | 304/499 [05:48<07:20,  2.26s/it]"
     ]
    },
    {
     "name": "stdout",
     "output_type": "stream",
     "text": [
      "Encoded DataFrame X_train_304 has been exported to '../data/encoded/train/X_train_304_encoded.csv'\n"
     ]
    },
    {
     "name": "stderr",
     "output_type": "stream",
     "text": [
      "Encoding and exporting DataFrames:  61%|██████    | 305/499 [05:50<07:28,  2.31s/it]"
     ]
    },
    {
     "name": "stdout",
     "output_type": "stream",
     "text": [
      "Encoded DataFrame X_train_305 has been exported to '../data/encoded/train/X_train_305_encoded.csv'\n"
     ]
    },
    {
     "name": "stderr",
     "output_type": "stream",
     "text": [
      "Encoding and exporting DataFrames:  61%|██████▏   | 306/499 [05:52<07:27,  2.32s/it]"
     ]
    },
    {
     "name": "stdout",
     "output_type": "stream",
     "text": [
      "Encoded DataFrame X_train_306 has been exported to '../data/encoded/train/X_train_306_encoded.csv'\n"
     ]
    },
    {
     "name": "stderr",
     "output_type": "stream",
     "text": [
      "Encoding and exporting DataFrames:  62%|██████▏   | 307/499 [05:55<07:23,  2.31s/it]"
     ]
    },
    {
     "name": "stdout",
     "output_type": "stream",
     "text": [
      "Encoded DataFrame X_train_307 has been exported to '../data/encoded/train/X_train_307_encoded.csv'\n"
     ]
    },
    {
     "name": "stderr",
     "output_type": "stream",
     "text": [
      "Encoding and exporting DataFrames:  62%|██████▏   | 308/499 [05:57<07:20,  2.31s/it]"
     ]
    },
    {
     "name": "stdout",
     "output_type": "stream",
     "text": [
      "Encoded DataFrame X_train_308 has been exported to '../data/encoded/train/X_train_308_encoded.csv'\n"
     ]
    },
    {
     "name": "stderr",
     "output_type": "stream",
     "text": [
      "Encoding and exporting DataFrames:  62%|██████▏   | 309/499 [05:59<07:18,  2.31s/it]"
     ]
    },
    {
     "name": "stdout",
     "output_type": "stream",
     "text": [
      "Encoded DataFrame X_train_309 has been exported to '../data/encoded/train/X_train_309_encoded.csv'\n"
     ]
    },
    {
     "name": "stderr",
     "output_type": "stream",
     "text": [
      "Encoding and exporting DataFrames:  62%|██████▏   | 310/499 [06:02<07:19,  2.32s/it]"
     ]
    },
    {
     "name": "stdout",
     "output_type": "stream",
     "text": [
      "Encoded DataFrame X_train_310 has been exported to '../data/encoded/train/X_train_310_encoded.csv'\n"
     ]
    },
    {
     "name": "stderr",
     "output_type": "stream",
     "text": [
      "Encoding and exporting DataFrames:  62%|██████▏   | 311/499 [06:04<07:16,  2.32s/it]"
     ]
    },
    {
     "name": "stdout",
     "output_type": "stream",
     "text": [
      "Encoded DataFrame X_train_311 has been exported to '../data/encoded/train/X_train_311_encoded.csv'\n"
     ]
    },
    {
     "name": "stderr",
     "output_type": "stream",
     "text": [
      "Encoding and exporting DataFrames:  63%|██████▎   | 312/499 [06:06<07:16,  2.34s/it]"
     ]
    },
    {
     "name": "stdout",
     "output_type": "stream",
     "text": [
      "Encoded DataFrame X_train_312 has been exported to '../data/encoded/train/X_train_312_encoded.csv'\n"
     ]
    },
    {
     "name": "stderr",
     "output_type": "stream",
     "text": [
      "Encoding and exporting DataFrames:  63%|██████▎   | 313/499 [06:09<07:14,  2.33s/it]"
     ]
    },
    {
     "name": "stdout",
     "output_type": "stream",
     "text": [
      "Encoded DataFrame X_train_313 has been exported to '../data/encoded/train/X_train_313_encoded.csv'\n"
     ]
    },
    {
     "name": "stderr",
     "output_type": "stream",
     "text": [
      "Encoding and exporting DataFrames:  63%|██████▎   | 314/499 [06:11<07:13,  2.34s/it]"
     ]
    },
    {
     "name": "stdout",
     "output_type": "stream",
     "text": [
      "Encoded DataFrame X_train_314 has been exported to '../data/encoded/train/X_train_314_encoded.csv'\n"
     ]
    },
    {
     "name": "stderr",
     "output_type": "stream",
     "text": [
      "Encoding and exporting DataFrames:  63%|██████▎   | 315/499 [06:13<07:12,  2.35s/it]"
     ]
    },
    {
     "name": "stdout",
     "output_type": "stream",
     "text": [
      "Encoded DataFrame X_train_315 has been exported to '../data/encoded/train/X_train_315_encoded.csv'\n"
     ]
    },
    {
     "name": "stderr",
     "output_type": "stream",
     "text": [
      "Encoding and exporting DataFrames:  63%|██████▎   | 316/499 [06:16<07:10,  2.35s/it]"
     ]
    },
    {
     "name": "stdout",
     "output_type": "stream",
     "text": [
      "Encoded DataFrame X_train_316 has been exported to '../data/encoded/train/X_train_316_encoded.csv'\n"
     ]
    },
    {
     "name": "stderr",
     "output_type": "stream",
     "text": [
      "Encoding and exporting DataFrames:  64%|██████▎   | 317/499 [06:18<07:09,  2.36s/it]"
     ]
    },
    {
     "name": "stdout",
     "output_type": "stream",
     "text": [
      "Encoded DataFrame X_train_317 has been exported to '../data/encoded/train/X_train_317_encoded.csv'\n"
     ]
    },
    {
     "name": "stderr",
     "output_type": "stream",
     "text": [
      "Encoding and exporting DataFrames:  64%|██████▎   | 318/499 [06:21<07:09,  2.37s/it]"
     ]
    },
    {
     "name": "stdout",
     "output_type": "stream",
     "text": [
      "Encoded DataFrame X_train_318 has been exported to '../data/encoded/train/X_train_318_encoded.csv'\n"
     ]
    },
    {
     "name": "stderr",
     "output_type": "stream",
     "text": [
      "Encoding and exporting DataFrames:  64%|██████▍   | 319/499 [06:23<07:11,  2.39s/it]"
     ]
    },
    {
     "name": "stdout",
     "output_type": "stream",
     "text": [
      "Encoded DataFrame X_train_319 has been exported to '../data/encoded/train/X_train_319_encoded.csv'\n"
     ]
    },
    {
     "name": "stderr",
     "output_type": "stream",
     "text": [
      "Encoding and exporting DataFrames:  64%|██████▍   | 320/499 [06:25<07:09,  2.40s/it]"
     ]
    },
    {
     "name": "stdout",
     "output_type": "stream",
     "text": [
      "Encoded DataFrame X_train_320 has been exported to '../data/encoded/train/X_train_320_encoded.csv'\n"
     ]
    },
    {
     "name": "stderr",
     "output_type": "stream",
     "text": [
      "Encoding and exporting DataFrames:  64%|██████▍   | 321/499 [06:28<07:08,  2.40s/it]"
     ]
    },
    {
     "name": "stdout",
     "output_type": "stream",
     "text": [
      "Encoded DataFrame X_train_321 has been exported to '../data/encoded/train/X_train_321_encoded.csv'\n"
     ]
    },
    {
     "name": "stderr",
     "output_type": "stream",
     "text": [
      "Encoding and exporting DataFrames:  65%|██████▍   | 322/499 [06:30<07:05,  2.40s/it]"
     ]
    },
    {
     "name": "stdout",
     "output_type": "stream",
     "text": [
      "Encoded DataFrame X_train_322 has been exported to '../data/encoded/train/X_train_322_encoded.csv'\n"
     ]
    },
    {
     "name": "stderr",
     "output_type": "stream",
     "text": [
      "Encoding and exporting DataFrames:  65%|██████▍   | 323/499 [06:33<07:06,  2.42s/it]"
     ]
    },
    {
     "name": "stdout",
     "output_type": "stream",
     "text": [
      "Encoded DataFrame X_train_323 has been exported to '../data/encoded/train/X_train_323_encoded.csv'\n"
     ]
    },
    {
     "name": "stderr",
     "output_type": "stream",
     "text": [
      "Encoding and exporting DataFrames:  65%|██████▍   | 324/499 [06:35<07:03,  2.42s/it]"
     ]
    },
    {
     "name": "stdout",
     "output_type": "stream",
     "text": [
      "Encoded DataFrame X_train_324 has been exported to '../data/encoded/train/X_train_324_encoded.csv'\n"
     ]
    },
    {
     "name": "stderr",
     "output_type": "stream",
     "text": [
      "Encoding and exporting DataFrames:  65%|██████▌   | 325/499 [06:37<07:01,  2.43s/it]"
     ]
    },
    {
     "name": "stdout",
     "output_type": "stream",
     "text": [
      "Encoded DataFrame X_train_325 has been exported to '../data/encoded/train/X_train_325_encoded.csv'\n"
     ]
    },
    {
     "name": "stderr",
     "output_type": "stream",
     "text": [
      "Encoding and exporting DataFrames:  65%|██████▌   | 326/499 [06:40<07:02,  2.44s/it]"
     ]
    },
    {
     "name": "stdout",
     "output_type": "stream",
     "text": [
      "Encoded DataFrame X_train_326 has been exported to '../data/encoded/train/X_train_326_encoded.csv'\n"
     ]
    },
    {
     "name": "stderr",
     "output_type": "stream",
     "text": [
      "Encoding and exporting DataFrames:  66%|██████▌   | 327/499 [06:42<07:02,  2.46s/it]"
     ]
    },
    {
     "name": "stdout",
     "output_type": "stream",
     "text": [
      "Encoded DataFrame X_train_327 has been exported to '../data/encoded/train/X_train_327_encoded.csv'\n"
     ]
    },
    {
     "name": "stderr",
     "output_type": "stream",
     "text": [
      "Encoding and exporting DataFrames:  66%|██████▌   | 328/499 [06:45<07:00,  2.46s/it]"
     ]
    },
    {
     "name": "stdout",
     "output_type": "stream",
     "text": [
      "Encoded DataFrame X_train_328 has been exported to '../data/encoded/train/X_train_328_encoded.csv'\n"
     ]
    },
    {
     "name": "stderr",
     "output_type": "stream",
     "text": [
      "Encoding and exporting DataFrames:  66%|██████▌   | 329/499 [06:47<06:59,  2.47s/it]"
     ]
    },
    {
     "name": "stdout",
     "output_type": "stream",
     "text": [
      "Encoded DataFrame X_train_329 has been exported to '../data/encoded/train/X_train_329_encoded.csv'\n"
     ]
    },
    {
     "name": "stderr",
     "output_type": "stream",
     "text": [
      "Encoding and exporting DataFrames:  66%|██████▌   | 330/499 [06:50<06:56,  2.47s/it]"
     ]
    },
    {
     "name": "stdout",
     "output_type": "stream",
     "text": [
      "Encoded DataFrame X_train_330 has been exported to '../data/encoded/train/X_train_330_encoded.csv'\n"
     ]
    },
    {
     "name": "stderr",
     "output_type": "stream",
     "text": [
      "Encoding and exporting DataFrames:  66%|██████▋   | 331/499 [06:52<06:56,  2.48s/it]"
     ]
    },
    {
     "name": "stdout",
     "output_type": "stream",
     "text": [
      "Encoded DataFrame X_train_331 has been exported to '../data/encoded/train/X_train_331_encoded.csv'\n"
     ]
    },
    {
     "name": "stderr",
     "output_type": "stream",
     "text": [
      "Encoding and exporting DataFrames:  67%|██████▋   | 332/499 [06:55<06:54,  2.48s/it]"
     ]
    },
    {
     "name": "stdout",
     "output_type": "stream",
     "text": [
      "Encoded DataFrame X_train_332 has been exported to '../data/encoded/train/X_train_332_encoded.csv'\n"
     ]
    },
    {
     "name": "stderr",
     "output_type": "stream",
     "text": [
      "Encoding and exporting DataFrames:  67%|██████▋   | 333/499 [06:57<06:52,  2.48s/it]"
     ]
    },
    {
     "name": "stdout",
     "output_type": "stream",
     "text": [
      "Encoded DataFrame X_train_333 has been exported to '../data/encoded/train/X_train_333_encoded.csv'\n"
     ]
    },
    {
     "name": "stderr",
     "output_type": "stream",
     "text": [
      "Encoding and exporting DataFrames:  67%|██████▋   | 334/499 [07:00<06:52,  2.50s/it]"
     ]
    },
    {
     "name": "stdout",
     "output_type": "stream",
     "text": [
      "Encoded DataFrame X_train_334 has been exported to '../data/encoded/train/X_train_334_encoded.csv'\n"
     ]
    },
    {
     "name": "stderr",
     "output_type": "stream",
     "text": [
      "Encoding and exporting DataFrames:  67%|██████▋   | 335/499 [07:02<06:51,  2.51s/it]"
     ]
    },
    {
     "name": "stdout",
     "output_type": "stream",
     "text": [
      "Encoded DataFrame X_train_335 has been exported to '../data/encoded/train/X_train_335_encoded.csv'\n"
     ]
    },
    {
     "name": "stderr",
     "output_type": "stream",
     "text": [
      "Encoding and exporting DataFrames:  67%|██████▋   | 336/499 [07:05<06:51,  2.52s/it]"
     ]
    },
    {
     "name": "stdout",
     "output_type": "stream",
     "text": [
      "Encoded DataFrame X_train_336 has been exported to '../data/encoded/train/X_train_336_encoded.csv'\n"
     ]
    },
    {
     "name": "stderr",
     "output_type": "stream",
     "text": [
      "Encoding and exporting DataFrames:  68%|██████▊   | 337/499 [07:08<06:48,  2.52s/it]"
     ]
    },
    {
     "name": "stdout",
     "output_type": "stream",
     "text": [
      "Encoded DataFrame X_train_337 has been exported to '../data/encoded/train/X_train_337_encoded.csv'\n"
     ]
    },
    {
     "name": "stderr",
     "output_type": "stream",
     "text": [
      "Encoding and exporting DataFrames:  68%|██████▊   | 338/499 [07:10<06:46,  2.53s/it]"
     ]
    },
    {
     "name": "stdout",
     "output_type": "stream",
     "text": [
      "Encoded DataFrame X_train_338 has been exported to '../data/encoded/train/X_train_338_encoded.csv'\n"
     ]
    },
    {
     "name": "stderr",
     "output_type": "stream",
     "text": [
      "Encoding and exporting DataFrames:  68%|██████▊   | 339/499 [07:13<06:48,  2.55s/it]"
     ]
    },
    {
     "name": "stdout",
     "output_type": "stream",
     "text": [
      "Encoded DataFrame X_train_339 has been exported to '../data/encoded/train/X_train_339_encoded.csv'\n"
     ]
    },
    {
     "name": "stderr",
     "output_type": "stream",
     "text": [
      "Encoding and exporting DataFrames:  68%|██████▊   | 340/499 [07:15<06:45,  2.55s/it]"
     ]
    },
    {
     "name": "stdout",
     "output_type": "stream",
     "text": [
      "Encoded DataFrame X_train_340 has been exported to '../data/encoded/train/X_train_340_encoded.csv'\n"
     ]
    },
    {
     "name": "stderr",
     "output_type": "stream",
     "text": [
      "Encoding and exporting DataFrames:  68%|██████▊   | 341/499 [07:18<06:43,  2.55s/it]"
     ]
    },
    {
     "name": "stdout",
     "output_type": "stream",
     "text": [
      "Encoded DataFrame X_train_341 has been exported to '../data/encoded/train/X_train_341_encoded.csv'\n"
     ]
    },
    {
     "name": "stderr",
     "output_type": "stream",
     "text": [
      "Encoding and exporting DataFrames:  69%|██████▊   | 342/499 [07:20<06:42,  2.56s/it]"
     ]
    },
    {
     "name": "stdout",
     "output_type": "stream",
     "text": [
      "Encoded DataFrame X_train_342 has been exported to '../data/encoded/train/X_train_342_encoded.csv'\n"
     ]
    },
    {
     "name": "stderr",
     "output_type": "stream",
     "text": [
      "Encoding and exporting DataFrames:  69%|██████▊   | 343/499 [07:23<06:42,  2.58s/it]"
     ]
    },
    {
     "name": "stdout",
     "output_type": "stream",
     "text": [
      "Encoded DataFrame X_train_343 has been exported to '../data/encoded/train/X_train_343_encoded.csv'\n"
     ]
    },
    {
     "name": "stderr",
     "output_type": "stream",
     "text": [
      "Encoding and exporting DataFrames:  69%|██████▉   | 344/499 [07:26<06:40,  2.58s/it]"
     ]
    },
    {
     "name": "stdout",
     "output_type": "stream",
     "text": [
      "Encoded DataFrame X_train_344 has been exported to '../data/encoded/train/X_train_344_encoded.csv'\n"
     ]
    },
    {
     "name": "stderr",
     "output_type": "stream",
     "text": [
      "Encoding and exporting DataFrames:  69%|██████▉   | 345/499 [07:28<06:39,  2.59s/it]"
     ]
    },
    {
     "name": "stdout",
     "output_type": "stream",
     "text": [
      "Encoded DataFrame X_train_345 has been exported to '../data/encoded/train/X_train_345_encoded.csv'\n"
     ]
    },
    {
     "name": "stderr",
     "output_type": "stream",
     "text": [
      "Encoding and exporting DataFrames:  69%|██████▉   | 346/499 [07:31<06:36,  2.59s/it]"
     ]
    },
    {
     "name": "stdout",
     "output_type": "stream",
     "text": [
      "Encoded DataFrame X_train_346 has been exported to '../data/encoded/train/X_train_346_encoded.csv'\n"
     ]
    },
    {
     "name": "stderr",
     "output_type": "stream",
     "text": [
      "Encoding and exporting DataFrames:  70%|██████▉   | 347/499 [07:33<06:36,  2.61s/it]"
     ]
    },
    {
     "name": "stdout",
     "output_type": "stream",
     "text": [
      "Encoded DataFrame X_train_347 has been exported to '../data/encoded/train/X_train_347_encoded.csv'\n"
     ]
    },
    {
     "name": "stderr",
     "output_type": "stream",
     "text": [
      "Encoding and exporting DataFrames:  70%|██████▉   | 348/499 [07:36<06:33,  2.61s/it]"
     ]
    },
    {
     "name": "stdout",
     "output_type": "stream",
     "text": [
      "Encoded DataFrame X_train_348 has been exported to '../data/encoded/train/X_train_348_encoded.csv'\n"
     ]
    },
    {
     "name": "stderr",
     "output_type": "stream",
     "text": [
      "Encoding and exporting DataFrames:  70%|██████▉   | 349/499 [07:39<06:34,  2.63s/it]"
     ]
    },
    {
     "name": "stdout",
     "output_type": "stream",
     "text": [
      "Encoded DataFrame X_train_349 has been exported to '../data/encoded/train/X_train_349_encoded.csv'\n"
     ]
    },
    {
     "name": "stderr",
     "output_type": "stream",
     "text": [
      "Encoding and exporting DataFrames:  70%|███████   | 350/499 [07:41<06:30,  2.62s/it]"
     ]
    },
    {
     "name": "stdout",
     "output_type": "stream",
     "text": [
      "Encoded DataFrame X_train_350 has been exported to '../data/encoded/train/X_train_350_encoded.csv'\n"
     ]
    },
    {
     "name": "stderr",
     "output_type": "stream",
     "text": [
      "Encoding and exporting DataFrames:  70%|███████   | 351/499 [07:44<06:28,  2.62s/it]"
     ]
    },
    {
     "name": "stdout",
     "output_type": "stream",
     "text": [
      "Encoded DataFrame X_train_351 has been exported to '../data/encoded/train/X_train_351_encoded.csv'\n"
     ]
    },
    {
     "name": "stderr",
     "output_type": "stream",
     "text": [
      "Encoding and exporting DataFrames:  71%|███████   | 352/499 [07:47<06:28,  2.64s/it]"
     ]
    },
    {
     "name": "stdout",
     "output_type": "stream",
     "text": [
      "Encoded DataFrame X_train_352 has been exported to '../data/encoded/train/X_train_352_encoded.csv'\n"
     ]
    },
    {
     "name": "stderr",
     "output_type": "stream",
     "text": [
      "Encoding and exporting DataFrames:  71%|███████   | 353/499 [07:49<06:27,  2.65s/it]"
     ]
    },
    {
     "name": "stdout",
     "output_type": "stream",
     "text": [
      "Encoded DataFrame X_train_353 has been exported to '../data/encoded/train/X_train_353_encoded.csv'\n"
     ]
    },
    {
     "name": "stderr",
     "output_type": "stream",
     "text": [
      "Encoding and exporting DataFrames:  71%|███████   | 354/499 [07:52<06:24,  2.65s/it]"
     ]
    },
    {
     "name": "stdout",
     "output_type": "stream",
     "text": [
      "Encoded DataFrame X_train_354 has been exported to '../data/encoded/train/X_train_354_encoded.csv'\n"
     ]
    },
    {
     "name": "stderr",
     "output_type": "stream",
     "text": [
      "Encoding and exporting DataFrames:  71%|███████   | 355/499 [07:55<06:21,  2.65s/it]"
     ]
    },
    {
     "name": "stdout",
     "output_type": "stream",
     "text": [
      "Encoded DataFrame X_train_355 has been exported to '../data/encoded/train/X_train_355_encoded.csv'\n"
     ]
    },
    {
     "name": "stderr",
     "output_type": "stream",
     "text": [
      "Encoding and exporting DataFrames:  71%|███████▏  | 356/499 [07:57<06:21,  2.67s/it]"
     ]
    },
    {
     "name": "stdout",
     "output_type": "stream",
     "text": [
      "Encoded DataFrame X_train_356 has been exported to '../data/encoded/train/X_train_356_encoded.csv'\n"
     ]
    },
    {
     "name": "stderr",
     "output_type": "stream",
     "text": [
      "Encoding and exporting DataFrames:  72%|███████▏  | 357/499 [08:00<06:19,  2.67s/it]"
     ]
    },
    {
     "name": "stdout",
     "output_type": "stream",
     "text": [
      "Encoded DataFrame X_train_357 has been exported to '../data/encoded/train/X_train_357_encoded.csv'\n"
     ]
    },
    {
     "name": "stderr",
     "output_type": "stream",
     "text": [
      "Encoding and exporting DataFrames:  72%|███████▏  | 358/499 [08:03<06:18,  2.69s/it]"
     ]
    },
    {
     "name": "stdout",
     "output_type": "stream",
     "text": [
      "Encoded DataFrame X_train_358 has been exported to '../data/encoded/train/X_train_358_encoded.csv'\n"
     ]
    },
    {
     "name": "stderr",
     "output_type": "stream",
     "text": [
      "Encoding and exporting DataFrames:  72%|███████▏  | 359/499 [08:05<06:15,  2.68s/it]"
     ]
    },
    {
     "name": "stdout",
     "output_type": "stream",
     "text": [
      "Encoded DataFrame X_train_359 has been exported to '../data/encoded/train/X_train_359_encoded.csv'\n"
     ]
    },
    {
     "name": "stderr",
     "output_type": "stream",
     "text": [
      "Encoding and exporting DataFrames:  72%|███████▏  | 360/499 [08:08<06:15,  2.70s/it]"
     ]
    },
    {
     "name": "stdout",
     "output_type": "stream",
     "text": [
      "Encoded DataFrame X_train_360 has been exported to '../data/encoded/train/X_train_360_encoded.csv'\n"
     ]
    },
    {
     "name": "stderr",
     "output_type": "stream",
     "text": [
      "Encoding and exporting DataFrames:  72%|███████▏  | 361/499 [08:11<06:12,  2.70s/it]"
     ]
    },
    {
     "name": "stdout",
     "output_type": "stream",
     "text": [
      "Encoded DataFrame X_train_361 has been exported to '../data/encoded/train/X_train_361_encoded.csv'\n"
     ]
    },
    {
     "name": "stderr",
     "output_type": "stream",
     "text": [
      "Encoding and exporting DataFrames:  73%|███████▎  | 362/499 [08:14<06:11,  2.71s/it]"
     ]
    },
    {
     "name": "stdout",
     "output_type": "stream",
     "text": [
      "Encoded DataFrame X_train_362 has been exported to '../data/encoded/train/X_train_362_encoded.csv'\n"
     ]
    },
    {
     "name": "stderr",
     "output_type": "stream",
     "text": [
      "Encoding and exporting DataFrames:  73%|███████▎  | 363/499 [08:16<06:08,  2.71s/it]"
     ]
    },
    {
     "name": "stdout",
     "output_type": "stream",
     "text": [
      "Encoded DataFrame X_train_363 has been exported to '../data/encoded/train/X_train_363_encoded.csv'\n"
     ]
    },
    {
     "name": "stderr",
     "output_type": "stream",
     "text": [
      "Encoding and exporting DataFrames:  73%|███████▎  | 364/499 [08:19<06:09,  2.74s/it]"
     ]
    },
    {
     "name": "stdout",
     "output_type": "stream",
     "text": [
      "Encoded DataFrame X_train_364 has been exported to '../data/encoded/train/X_train_364_encoded.csv'\n"
     ]
    },
    {
     "name": "stderr",
     "output_type": "stream",
     "text": [
      "Encoding and exporting DataFrames:  73%|███████▎  | 365/499 [08:22<06:07,  2.74s/it]"
     ]
    },
    {
     "name": "stdout",
     "output_type": "stream",
     "text": [
      "Encoded DataFrame X_train_365 has been exported to '../data/encoded/train/X_train_365_encoded.csv'\n"
     ]
    },
    {
     "name": "stderr",
     "output_type": "stream",
     "text": [
      "Encoding and exporting DataFrames:  73%|███████▎  | 366/499 [08:25<06:06,  2.75s/it]"
     ]
    },
    {
     "name": "stdout",
     "output_type": "stream",
     "text": [
      "Encoded DataFrame X_train_366 has been exported to '../data/encoded/train/X_train_366_encoded.csv'\n"
     ]
    },
    {
     "name": "stderr",
     "output_type": "stream",
     "text": [
      "Encoding and exporting DataFrames:  74%|███████▎  | 367/499 [08:27<06:05,  2.77s/it]"
     ]
    },
    {
     "name": "stdout",
     "output_type": "stream",
     "text": [
      "Encoded DataFrame X_train_367 has been exported to '../data/encoded/train/X_train_367_encoded.csv'\n"
     ]
    },
    {
     "name": "stderr",
     "output_type": "stream",
     "text": [
      "Encoding and exporting DataFrames:  74%|███████▎  | 368/499 [08:30<06:04,  2.78s/it]"
     ]
    },
    {
     "name": "stdout",
     "output_type": "stream",
     "text": [
      "Encoded DataFrame X_train_368 has been exported to '../data/encoded/train/X_train_368_encoded.csv'\n"
     ]
    },
    {
     "name": "stderr",
     "output_type": "stream",
     "text": [
      "Encoding and exporting DataFrames:  74%|███████▍  | 369/499 [08:33<06:00,  2.78s/it]"
     ]
    },
    {
     "name": "stdout",
     "output_type": "stream",
     "text": [
      "Encoded DataFrame X_train_369 has been exported to '../data/encoded/train/X_train_369_encoded.csv'\n"
     ]
    },
    {
     "name": "stderr",
     "output_type": "stream",
     "text": [
      "Encoding and exporting DataFrames:  74%|███████▍  | 370/499 [08:36<05:57,  2.77s/it]"
     ]
    },
    {
     "name": "stdout",
     "output_type": "stream",
     "text": [
      "Encoded DataFrame X_train_370 has been exported to '../data/encoded/train/X_train_370_encoded.csv'\n"
     ]
    },
    {
     "name": "stderr",
     "output_type": "stream",
     "text": [
      "Encoding and exporting DataFrames:  74%|███████▍  | 371/499 [08:39<05:55,  2.77s/it]"
     ]
    },
    {
     "name": "stdout",
     "output_type": "stream",
     "text": [
      "Encoded DataFrame X_train_371 has been exported to '../data/encoded/train/X_train_371_encoded.csv'\n"
     ]
    },
    {
     "name": "stderr",
     "output_type": "stream",
     "text": [
      "Encoding and exporting DataFrames:  75%|███████▍  | 372/499 [08:41<05:53,  2.79s/it]"
     ]
    },
    {
     "name": "stdout",
     "output_type": "stream",
     "text": [
      "Encoded DataFrame X_train_372 has been exported to '../data/encoded/train/X_train_372_encoded.csv'\n"
     ]
    },
    {
     "name": "stderr",
     "output_type": "stream",
     "text": [
      "Encoding and exporting DataFrames:  75%|███████▍  | 373/499 [08:44<05:51,  2.79s/it]"
     ]
    },
    {
     "name": "stdout",
     "output_type": "stream",
     "text": [
      "Encoded DataFrame X_train_373 has been exported to '../data/encoded/train/X_train_373_encoded.csv'\n"
     ]
    },
    {
     "name": "stderr",
     "output_type": "stream",
     "text": [
      "Encoding and exporting DataFrames:  75%|███████▍  | 374/499 [08:47<05:49,  2.80s/it]"
     ]
    },
    {
     "name": "stdout",
     "output_type": "stream",
     "text": [
      "Encoded DataFrame X_train_374 has been exported to '../data/encoded/train/X_train_374_encoded.csv'\n"
     ]
    },
    {
     "name": "stderr",
     "output_type": "stream",
     "text": [
      "Encoding and exporting DataFrames:  75%|███████▌  | 375/499 [08:50<05:47,  2.80s/it]"
     ]
    },
    {
     "name": "stdout",
     "output_type": "stream",
     "text": [
      "Encoded DataFrame X_train_375 has been exported to '../data/encoded/train/X_train_375_encoded.csv'\n"
     ]
    },
    {
     "name": "stderr",
     "output_type": "stream",
     "text": [
      "Encoding and exporting DataFrames:  75%|███████▌  | 376/499 [08:53<05:46,  2.81s/it]"
     ]
    },
    {
     "name": "stdout",
     "output_type": "stream",
     "text": [
      "Encoded DataFrame X_train_376 has been exported to '../data/encoded/train/X_train_376_encoded.csv'\n"
     ]
    },
    {
     "name": "stderr",
     "output_type": "stream",
     "text": [
      "Encoding and exporting DataFrames:  76%|███████▌  | 377/499 [08:55<05:43,  2.82s/it]"
     ]
    },
    {
     "name": "stdout",
     "output_type": "stream",
     "text": [
      "Encoded DataFrame X_train_377 has been exported to '../data/encoded/train/X_train_377_encoded.csv'\n"
     ]
    },
    {
     "name": "stderr",
     "output_type": "stream",
     "text": [
      "Encoding and exporting DataFrames:  76%|███████▌  | 378/499 [08:58<05:42,  2.83s/it]"
     ]
    },
    {
     "name": "stdout",
     "output_type": "stream",
     "text": [
      "Encoded DataFrame X_train_378 has been exported to '../data/encoded/train/X_train_378_encoded.csv'\n"
     ]
    },
    {
     "name": "stderr",
     "output_type": "stream",
     "text": [
      "Encoding and exporting DataFrames:  76%|███████▌  | 379/499 [09:01<05:40,  2.84s/it]"
     ]
    },
    {
     "name": "stdout",
     "output_type": "stream",
     "text": [
      "Encoded DataFrame X_train_379 has been exported to '../data/encoded/train/X_train_379_encoded.csv'\n"
     ]
    },
    {
     "name": "stderr",
     "output_type": "stream",
     "text": [
      "Encoding and exporting DataFrames:  76%|███████▌  | 380/499 [09:04<05:39,  2.85s/it]"
     ]
    },
    {
     "name": "stdout",
     "output_type": "stream",
     "text": [
      "Encoded DataFrame X_train_380 has been exported to '../data/encoded/train/X_train_380_encoded.csv'\n"
     ]
    },
    {
     "name": "stderr",
     "output_type": "stream",
     "text": [
      "Encoding and exporting DataFrames:  76%|███████▋  | 381/499 [09:07<05:37,  2.86s/it]"
     ]
    },
    {
     "name": "stdout",
     "output_type": "stream",
     "text": [
      "Encoded DataFrame X_train_381 has been exported to '../data/encoded/train/X_train_381_encoded.csv'\n"
     ]
    },
    {
     "name": "stderr",
     "output_type": "stream",
     "text": [
      "Encoding and exporting DataFrames:  77%|███████▋  | 382/499 [09:10<05:35,  2.87s/it]"
     ]
    },
    {
     "name": "stdout",
     "output_type": "stream",
     "text": [
      "Encoded DataFrame X_train_382 has been exported to '../data/encoded/train/X_train_382_encoded.csv'\n"
     ]
    },
    {
     "name": "stderr",
     "output_type": "stream",
     "text": [
      "Encoding and exporting DataFrames:  77%|███████▋  | 383/499 [09:13<05:32,  2.87s/it]"
     ]
    },
    {
     "name": "stdout",
     "output_type": "stream",
     "text": [
      "Encoded DataFrame X_train_383 has been exported to '../data/encoded/train/X_train_383_encoded.csv'\n"
     ]
    },
    {
     "name": "stderr",
     "output_type": "stream",
     "text": [
      "Encoding and exporting DataFrames:  77%|███████▋  | 384/499 [09:16<05:31,  2.89s/it]"
     ]
    },
    {
     "name": "stdout",
     "output_type": "stream",
     "text": [
      "Encoded DataFrame X_train_384 has been exported to '../data/encoded/train/X_train_384_encoded.csv'\n"
     ]
    },
    {
     "name": "stderr",
     "output_type": "stream",
     "text": [
      "Encoding and exporting DataFrames:  77%|███████▋  | 385/499 [09:18<05:28,  2.88s/it]"
     ]
    },
    {
     "name": "stdout",
     "output_type": "stream",
     "text": [
      "Encoded DataFrame X_train_385 has been exported to '../data/encoded/train/X_train_385_encoded.csv'\n"
     ]
    },
    {
     "name": "stderr",
     "output_type": "stream",
     "text": [
      "Encoding and exporting DataFrames:  77%|███████▋  | 386/499 [09:21<05:26,  2.89s/it]"
     ]
    },
    {
     "name": "stdout",
     "output_type": "stream",
     "text": [
      "Encoded DataFrame X_train_386 has been exported to '../data/encoded/train/X_train_386_encoded.csv'\n"
     ]
    },
    {
     "name": "stderr",
     "output_type": "stream",
     "text": [
      "Encoding and exporting DataFrames:  78%|███████▊  | 387/499 [09:24<05:25,  2.91s/it]"
     ]
    },
    {
     "name": "stdout",
     "output_type": "stream",
     "text": [
      "Encoded DataFrame X_train_387 has been exported to '../data/encoded/train/X_train_387_encoded.csv'\n"
     ]
    },
    {
     "name": "stderr",
     "output_type": "stream",
     "text": [
      "Encoding and exporting DataFrames:  78%|███████▊  | 388/499 [09:27<05:23,  2.91s/it]"
     ]
    },
    {
     "name": "stdout",
     "output_type": "stream",
     "text": [
      "Encoded DataFrame X_train_388 has been exported to '../data/encoded/train/X_train_388_encoded.csv'\n"
     ]
    },
    {
     "name": "stderr",
     "output_type": "stream",
     "text": [
      "Encoding and exporting DataFrames:  78%|███████▊  | 389/499 [09:30<05:20,  2.91s/it]"
     ]
    },
    {
     "name": "stdout",
     "output_type": "stream",
     "text": [
      "Encoded DataFrame X_train_389 has been exported to '../data/encoded/train/X_train_389_encoded.csv'\n"
     ]
    },
    {
     "name": "stderr",
     "output_type": "stream",
     "text": [
      "Encoding and exporting DataFrames:  78%|███████▊  | 390/499 [09:33<05:18,  2.92s/it]"
     ]
    },
    {
     "name": "stdout",
     "output_type": "stream",
     "text": [
      "Encoded DataFrame X_train_390 has been exported to '../data/encoded/train/X_train_390_encoded.csv'\n"
     ]
    },
    {
     "name": "stderr",
     "output_type": "stream",
     "text": [
      "Encoding and exporting DataFrames:  78%|███████▊  | 391/499 [09:36<05:17,  2.94s/it]"
     ]
    },
    {
     "name": "stdout",
     "output_type": "stream",
     "text": [
      "Encoded DataFrame X_train_391 has been exported to '../data/encoded/train/X_train_391_encoded.csv'\n"
     ]
    },
    {
     "name": "stderr",
     "output_type": "stream",
     "text": [
      "Encoding and exporting DataFrames:  79%|███████▊  | 392/499 [09:39<05:15,  2.94s/it]"
     ]
    },
    {
     "name": "stdout",
     "output_type": "stream",
     "text": [
      "Encoded DataFrame X_train_392 has been exported to '../data/encoded/train/X_train_392_encoded.csv'\n"
     ]
    },
    {
     "name": "stderr",
     "output_type": "stream",
     "text": [
      "Encoding and exporting DataFrames:  79%|███████▉  | 393/499 [09:42<05:13,  2.95s/it]"
     ]
    },
    {
     "name": "stdout",
     "output_type": "stream",
     "text": [
      "Encoded DataFrame X_train_393 has been exported to '../data/encoded/train/X_train_393_encoded.csv'\n"
     ]
    },
    {
     "name": "stderr",
     "output_type": "stream",
     "text": [
      "Encoding and exporting DataFrames:  79%|███████▉  | 394/499 [09:45<05:10,  2.96s/it]"
     ]
    },
    {
     "name": "stdout",
     "output_type": "stream",
     "text": [
      "Encoded DataFrame X_train_394 has been exported to '../data/encoded/train/X_train_394_encoded.csv'\n"
     ]
    },
    {
     "name": "stderr",
     "output_type": "stream",
     "text": [
      "Encoding and exporting DataFrames:  79%|███████▉  | 395/499 [09:48<05:09,  2.97s/it]"
     ]
    },
    {
     "name": "stdout",
     "output_type": "stream",
     "text": [
      "Encoded DataFrame X_train_395 has been exported to '../data/encoded/train/X_train_395_encoded.csv'\n"
     ]
    },
    {
     "name": "stderr",
     "output_type": "stream",
     "text": [
      "Encoding and exporting DataFrames:  79%|███████▉  | 396/499 [09:51<05:06,  2.98s/it]"
     ]
    },
    {
     "name": "stdout",
     "output_type": "stream",
     "text": [
      "Encoded DataFrame X_train_396 has been exported to '../data/encoded/train/X_train_396_encoded.csv'\n"
     ]
    },
    {
     "name": "stderr",
     "output_type": "stream",
     "text": [
      "Encoding and exporting DataFrames:  80%|███████▉  | 397/499 [09:54<05:03,  2.98s/it]"
     ]
    },
    {
     "name": "stdout",
     "output_type": "stream",
     "text": [
      "Encoded DataFrame X_train_397 has been exported to '../data/encoded/train/X_train_397_encoded.csv'\n"
     ]
    },
    {
     "name": "stderr",
     "output_type": "stream",
     "text": [
      "Encoding and exporting DataFrames:  80%|███████▉  | 398/499 [09:57<05:01,  2.98s/it]"
     ]
    },
    {
     "name": "stdout",
     "output_type": "stream",
     "text": [
      "Encoded DataFrame X_train_398 has been exported to '../data/encoded/train/X_train_398_encoded.csv'\n"
     ]
    },
    {
     "name": "stderr",
     "output_type": "stream",
     "text": [
      "Encoding and exporting DataFrames:  80%|███████▉  | 399/499 [10:00<05:00,  3.00s/it]"
     ]
    },
    {
     "name": "stdout",
     "output_type": "stream",
     "text": [
      "Encoded DataFrame X_train_399 has been exported to '../data/encoded/train/X_train_399_encoded.csv'\n"
     ]
    },
    {
     "name": "stderr",
     "output_type": "stream",
     "text": [
      "Encoding and exporting DataFrames:  80%|████████  | 400/499 [10:03<04:58,  3.01s/it]"
     ]
    },
    {
     "name": "stdout",
     "output_type": "stream",
     "text": [
      "Encoded DataFrame X_train_400 has been exported to '../data/encoded/train/X_train_400_encoded.csv'\n"
     ]
    },
    {
     "name": "stderr",
     "output_type": "stream",
     "text": [
      "Encoding and exporting DataFrames:  80%|████████  | 401/499 [10:06<04:56,  3.02s/it]"
     ]
    },
    {
     "name": "stdout",
     "output_type": "stream",
     "text": [
      "Encoded DataFrame X_train_401 has been exported to '../data/encoded/train/X_train_401_encoded.csv'\n"
     ]
    },
    {
     "name": "stderr",
     "output_type": "stream",
     "text": [
      "Encoding and exporting DataFrames:  81%|████████  | 402/499 [10:09<04:53,  3.03s/it]"
     ]
    },
    {
     "name": "stdout",
     "output_type": "stream",
     "text": [
      "Encoded DataFrame X_train_402 has been exported to '../data/encoded/train/X_train_402_encoded.csv'\n"
     ]
    },
    {
     "name": "stderr",
     "output_type": "stream",
     "text": [
      "Encoding and exporting DataFrames:  81%|████████  | 403/499 [10:12<04:51,  3.03s/it]"
     ]
    },
    {
     "name": "stdout",
     "output_type": "stream",
     "text": [
      "Encoded DataFrame X_train_403 has been exported to '../data/encoded/train/X_train_403_encoded.csv'\n"
     ]
    },
    {
     "name": "stderr",
     "output_type": "stream",
     "text": [
      "Encoding and exporting DataFrames:  81%|████████  | 404/499 [10:15<04:49,  3.05s/it]"
     ]
    },
    {
     "name": "stdout",
     "output_type": "stream",
     "text": [
      "Encoded DataFrame X_train_404 has been exported to '../data/encoded/train/X_train_404_encoded.csv'\n"
     ]
    },
    {
     "name": "stderr",
     "output_type": "stream",
     "text": [
      "Encoding and exporting DataFrames:  81%|████████  | 405/499 [10:18<04:47,  3.06s/it]"
     ]
    },
    {
     "name": "stdout",
     "output_type": "stream",
     "text": [
      "Encoded DataFrame X_train_405 has been exported to '../data/encoded/train/X_train_405_encoded.csv'\n"
     ]
    },
    {
     "name": "stderr",
     "output_type": "stream",
     "text": [
      "Encoding and exporting DataFrames:  81%|████████▏ | 406/499 [10:21<04:45,  3.07s/it]"
     ]
    },
    {
     "name": "stdout",
     "output_type": "stream",
     "text": [
      "Encoded DataFrame X_train_406 has been exported to '../data/encoded/train/X_train_406_encoded.csv'\n"
     ]
    },
    {
     "name": "stderr",
     "output_type": "stream",
     "text": [
      "Encoding and exporting DataFrames:  82%|████████▏ | 407/499 [10:25<04:42,  3.07s/it]"
     ]
    },
    {
     "name": "stdout",
     "output_type": "stream",
     "text": [
      "Encoded DataFrame X_train_407 has been exported to '../data/encoded/train/X_train_407_encoded.csv'\n"
     ]
    },
    {
     "name": "stderr",
     "output_type": "stream",
     "text": [
      "Encoding and exporting DataFrames:  82%|████████▏ | 408/499 [10:28<04:39,  3.07s/it]"
     ]
    },
    {
     "name": "stdout",
     "output_type": "stream",
     "text": [
      "Encoded DataFrame X_train_408 has been exported to '../data/encoded/train/X_train_408_encoded.csv'\n"
     ]
    },
    {
     "name": "stderr",
     "output_type": "stream",
     "text": [
      "Encoding and exporting DataFrames:  82%|████████▏ | 409/499 [10:31<04:37,  3.08s/it]"
     ]
    },
    {
     "name": "stdout",
     "output_type": "stream",
     "text": [
      "Encoded DataFrame X_train_409 has been exported to '../data/encoded/train/X_train_409_encoded.csv'\n"
     ]
    },
    {
     "name": "stderr",
     "output_type": "stream",
     "text": [
      "Encoding and exporting DataFrames:  82%|████████▏ | 410/499 [10:34<04:34,  3.09s/it]"
     ]
    },
    {
     "name": "stdout",
     "output_type": "stream",
     "text": [
      "Encoded DataFrame X_train_410 has been exported to '../data/encoded/train/X_train_410_encoded.csv'\n"
     ]
    },
    {
     "name": "stderr",
     "output_type": "stream",
     "text": [
      "Encoding and exporting DataFrames:  82%|████████▏ | 411/499 [10:37<04:32,  3.10s/it]"
     ]
    },
    {
     "name": "stdout",
     "output_type": "stream",
     "text": [
      "Encoded DataFrame X_train_411 has been exported to '../data/encoded/train/X_train_411_encoded.csv'\n"
     ]
    },
    {
     "name": "stderr",
     "output_type": "stream",
     "text": [
      "Encoding and exporting DataFrames:  83%|████████▎ | 412/499 [10:40<04:28,  3.09s/it]"
     ]
    },
    {
     "name": "stdout",
     "output_type": "stream",
     "text": [
      "Encoded DataFrame X_train_412 has been exported to '../data/encoded/train/X_train_412_encoded.csv'\n"
     ]
    },
    {
     "name": "stderr",
     "output_type": "stream",
     "text": [
      "Encoding and exporting DataFrames:  83%|████████▎ | 413/499 [10:43<04:26,  3.10s/it]"
     ]
    },
    {
     "name": "stdout",
     "output_type": "stream",
     "text": [
      "Encoded DataFrame X_train_413 has been exported to '../data/encoded/train/X_train_413_encoded.csv'\n"
     ]
    },
    {
     "name": "stderr",
     "output_type": "stream",
     "text": [
      "Encoding and exporting DataFrames:  83%|████████▎ | 414/499 [10:46<04:24,  3.11s/it]"
     ]
    },
    {
     "name": "stdout",
     "output_type": "stream",
     "text": [
      "Encoded DataFrame X_train_414 has been exported to '../data/encoded/train/X_train_414_encoded.csv'\n"
     ]
    },
    {
     "name": "stderr",
     "output_type": "stream",
     "text": [
      "Encoding and exporting DataFrames:  83%|████████▎ | 415/499 [10:49<04:20,  3.10s/it]"
     ]
    },
    {
     "name": "stdout",
     "output_type": "stream",
     "text": [
      "Encoded DataFrame X_train_415 has been exported to '../data/encoded/train/X_train_415_encoded.csv'\n"
     ]
    },
    {
     "name": "stderr",
     "output_type": "stream",
     "text": [
      "Encoding and exporting DataFrames:  83%|████████▎ | 416/499 [10:52<04:17,  3.10s/it]"
     ]
    },
    {
     "name": "stdout",
     "output_type": "stream",
     "text": [
      "Encoded DataFrame X_train_416 has been exported to '../data/encoded/train/X_train_416_encoded.csv'\n"
     ]
    },
    {
     "name": "stderr",
     "output_type": "stream",
     "text": [
      "Encoding and exporting DataFrames:  84%|████████▎ | 417/499 [10:56<04:14,  3.11s/it]"
     ]
    },
    {
     "name": "stdout",
     "output_type": "stream",
     "text": [
      "Encoded DataFrame X_train_417 has been exported to '../data/encoded/train/X_train_417_encoded.csv'\n"
     ]
    },
    {
     "name": "stderr",
     "output_type": "stream",
     "text": [
      "Encoding and exporting DataFrames:  84%|████████▍ | 418/499 [10:59<04:12,  3.12s/it]"
     ]
    },
    {
     "name": "stdout",
     "output_type": "stream",
     "text": [
      "Encoded DataFrame X_train_418 has been exported to '../data/encoded/train/X_train_418_encoded.csv'\n"
     ]
    },
    {
     "name": "stderr",
     "output_type": "stream",
     "text": [
      "Encoding and exporting DataFrames:  84%|████████▍ | 419/499 [11:02<04:09,  3.12s/it]"
     ]
    },
    {
     "name": "stdout",
     "output_type": "stream",
     "text": [
      "Encoded DataFrame X_train_419 has been exported to '../data/encoded/train/X_train_419_encoded.csv'\n"
     ]
    },
    {
     "name": "stderr",
     "output_type": "stream",
     "text": [
      "Encoding and exporting DataFrames:  84%|████████▍ | 420/499 [11:05<04:06,  3.13s/it]"
     ]
    },
    {
     "name": "stdout",
     "output_type": "stream",
     "text": [
      "Encoded DataFrame X_train_420 has been exported to '../data/encoded/train/X_train_420_encoded.csv'\n"
     ]
    },
    {
     "name": "stderr",
     "output_type": "stream",
     "text": [
      "Encoding and exporting DataFrames:  84%|████████▍ | 421/499 [11:08<04:08,  3.18s/it]"
     ]
    },
    {
     "name": "stdout",
     "output_type": "stream",
     "text": [
      "Encoded DataFrame X_train_421 has been exported to '../data/encoded/train/X_train_421_encoded.csv'\n"
     ]
    },
    {
     "name": "stderr",
     "output_type": "stream",
     "text": [
      "Encoding and exporting DataFrames:  85%|████████▍ | 422/499 [11:11<04:04,  3.18s/it]"
     ]
    },
    {
     "name": "stdout",
     "output_type": "stream",
     "text": [
      "Encoded DataFrame X_train_422 has been exported to '../data/encoded/train/X_train_422_encoded.csv'\n"
     ]
    },
    {
     "name": "stderr",
     "output_type": "stream",
     "text": [
      "Encoding and exporting DataFrames:  85%|████████▍ | 423/499 [11:15<04:01,  3.18s/it]"
     ]
    },
    {
     "name": "stdout",
     "output_type": "stream",
     "text": [
      "Encoded DataFrame X_train_423 has been exported to '../data/encoded/train/X_train_423_encoded.csv'\n"
     ]
    },
    {
     "name": "stderr",
     "output_type": "stream",
     "text": [
      "Encoding and exporting DataFrames:  85%|████████▍ | 424/499 [11:18<03:59,  3.19s/it]"
     ]
    },
    {
     "name": "stdout",
     "output_type": "stream",
     "text": [
      "Encoded DataFrame X_train_424 has been exported to '../data/encoded/train/X_train_424_encoded.csv'\n"
     ]
    },
    {
     "name": "stderr",
     "output_type": "stream",
     "text": [
      "Encoding and exporting DataFrames:  85%|████████▌ | 425/499 [11:21<03:55,  3.18s/it]"
     ]
    },
    {
     "name": "stdout",
     "output_type": "stream",
     "text": [
      "Encoded DataFrame X_train_425 has been exported to '../data/encoded/train/X_train_425_encoded.csv'\n"
     ]
    },
    {
     "name": "stderr",
     "output_type": "stream",
     "text": [
      "Encoding and exporting DataFrames:  85%|████████▌ | 426/499 [11:24<03:52,  3.18s/it]"
     ]
    },
    {
     "name": "stdout",
     "output_type": "stream",
     "text": [
      "Encoded DataFrame X_train_426 has been exported to '../data/encoded/train/X_train_426_encoded.csv'\n"
     ]
    },
    {
     "name": "stderr",
     "output_type": "stream",
     "text": [
      "Encoding and exporting DataFrames:  86%|████████▌ | 427/499 [11:27<03:49,  3.19s/it]"
     ]
    },
    {
     "name": "stdout",
     "output_type": "stream",
     "text": [
      "Encoded DataFrame X_train_427 has been exported to '../data/encoded/train/X_train_427_encoded.csv'\n"
     ]
    },
    {
     "name": "stderr",
     "output_type": "stream",
     "text": [
      "Encoding and exporting DataFrames:  86%|████████▌ | 428/499 [11:31<03:46,  3.19s/it]"
     ]
    },
    {
     "name": "stdout",
     "output_type": "stream",
     "text": [
      "Encoded DataFrame X_train_428 has been exported to '../data/encoded/train/X_train_428_encoded.csv'\n"
     ]
    },
    {
     "name": "stderr",
     "output_type": "stream",
     "text": [
      "Encoding and exporting DataFrames:  86%|████████▌ | 429/499 [11:34<03:43,  3.19s/it]"
     ]
    },
    {
     "name": "stdout",
     "output_type": "stream",
     "text": [
      "Encoded DataFrame X_train_429 has been exported to '../data/encoded/train/X_train_429_encoded.csv'\n"
     ]
    },
    {
     "name": "stderr",
     "output_type": "stream",
     "text": [
      "Encoding and exporting DataFrames:  86%|████████▌ | 430/499 [11:37<03:40,  3.20s/it]"
     ]
    },
    {
     "name": "stdout",
     "output_type": "stream",
     "text": [
      "Encoded DataFrame X_train_430 has been exported to '../data/encoded/train/X_train_430_encoded.csv'\n"
     ]
    },
    {
     "name": "stderr",
     "output_type": "stream",
     "text": [
      "Encoding and exporting DataFrames:  86%|████████▋ | 431/499 [11:40<03:37,  3.21s/it]"
     ]
    },
    {
     "name": "stdout",
     "output_type": "stream",
     "text": [
      "Encoded DataFrame X_train_431 has been exported to '../data/encoded/train/X_train_431_encoded.csv'\n"
     ]
    },
    {
     "name": "stderr",
     "output_type": "stream",
     "text": [
      "Encoding and exporting DataFrames:  87%|████████▋ | 432/499 [11:43<03:35,  3.22s/it]"
     ]
    },
    {
     "name": "stdout",
     "output_type": "stream",
     "text": [
      "Encoded DataFrame X_train_432 has been exported to '../data/encoded/train/X_train_432_encoded.csv'\n"
     ]
    },
    {
     "name": "stderr",
     "output_type": "stream",
     "text": [
      "Encoding and exporting DataFrames:  87%|████████▋ | 433/499 [11:47<03:32,  3.22s/it]"
     ]
    },
    {
     "name": "stdout",
     "output_type": "stream",
     "text": [
      "Encoded DataFrame X_train_433 has been exported to '../data/encoded/train/X_train_433_encoded.csv'\n"
     ]
    },
    {
     "name": "stderr",
     "output_type": "stream",
     "text": [
      "Encoding and exporting DataFrames:  87%|████████▋ | 434/499 [11:50<03:29,  3.23s/it]"
     ]
    },
    {
     "name": "stdout",
     "output_type": "stream",
     "text": [
      "Encoded DataFrame X_train_434 has been exported to '../data/encoded/train/X_train_434_encoded.csv'\n"
     ]
    },
    {
     "name": "stderr",
     "output_type": "stream",
     "text": [
      "Encoding and exporting DataFrames:  87%|████████▋ | 435/499 [11:53<03:27,  3.24s/it]"
     ]
    },
    {
     "name": "stdout",
     "output_type": "stream",
     "text": [
      "Encoded DataFrame X_train_435 has been exported to '../data/encoded/train/X_train_435_encoded.csv'\n"
     ]
    },
    {
     "name": "stderr",
     "output_type": "stream",
     "text": [
      "Encoding and exporting DataFrames:  87%|████████▋ | 436/499 [11:56<03:24,  3.25s/it]"
     ]
    },
    {
     "name": "stdout",
     "output_type": "stream",
     "text": [
      "Encoded DataFrame X_train_436 has been exported to '../data/encoded/train/X_train_436_encoded.csv'\n"
     ]
    },
    {
     "name": "stderr",
     "output_type": "stream",
     "text": [
      "Encoding and exporting DataFrames:  88%|████████▊ | 437/499 [12:00<03:21,  3.25s/it]"
     ]
    },
    {
     "name": "stdout",
     "output_type": "stream",
     "text": [
      "Encoded DataFrame X_train_437 has been exported to '../data/encoded/train/X_train_437_encoded.csv'\n"
     ]
    },
    {
     "name": "stderr",
     "output_type": "stream",
     "text": [
      "Encoding and exporting DataFrames:  88%|████████▊ | 438/499 [12:03<03:19,  3.26s/it]"
     ]
    },
    {
     "name": "stdout",
     "output_type": "stream",
     "text": [
      "Encoded DataFrame X_train_438 has been exported to '../data/encoded/train/X_train_438_encoded.csv'\n"
     ]
    },
    {
     "name": "stderr",
     "output_type": "stream",
     "text": [
      "Encoding and exporting DataFrames:  88%|████████▊ | 439/499 [12:06<03:15,  3.25s/it]"
     ]
    },
    {
     "name": "stdout",
     "output_type": "stream",
     "text": [
      "Encoded DataFrame X_train_439 has been exported to '../data/encoded/train/X_train_439_encoded.csv'\n"
     ]
    },
    {
     "name": "stderr",
     "output_type": "stream",
     "text": [
      "Encoding and exporting DataFrames:  88%|████████▊ | 440/499 [12:10<03:12,  3.26s/it]"
     ]
    },
    {
     "name": "stdout",
     "output_type": "stream",
     "text": [
      "Encoded DataFrame X_train_440 has been exported to '../data/encoded/train/X_train_440_encoded.csv'\n"
     ]
    },
    {
     "name": "stderr",
     "output_type": "stream",
     "text": [
      "Encoding and exporting DataFrames:  88%|████████▊ | 441/499 [12:13<03:09,  3.27s/it]"
     ]
    },
    {
     "name": "stdout",
     "output_type": "stream",
     "text": [
      "Encoded DataFrame X_train_441 has been exported to '../data/encoded/train/X_train_441_encoded.csv'\n"
     ]
    },
    {
     "name": "stderr",
     "output_type": "stream",
     "text": [
      "Encoding and exporting DataFrames:  89%|████████▊ | 442/499 [12:16<03:06,  3.26s/it]"
     ]
    },
    {
     "name": "stdout",
     "output_type": "stream",
     "text": [
      "Encoded DataFrame X_train_442 has been exported to '../data/encoded/train/X_train_442_encoded.csv'\n"
     ]
    },
    {
     "name": "stderr",
     "output_type": "stream",
     "text": [
      "Encoding and exporting DataFrames:  89%|████████▉ | 443/499 [12:19<03:03,  3.28s/it]"
     ]
    },
    {
     "name": "stdout",
     "output_type": "stream",
     "text": [
      "Encoded DataFrame X_train_443 has been exported to '../data/encoded/train/X_train_443_encoded.csv'\n"
     ]
    },
    {
     "name": "stderr",
     "output_type": "stream",
     "text": [
      "Encoding and exporting DataFrames:  89%|████████▉ | 444/499 [12:23<03:01,  3.30s/it]"
     ]
    },
    {
     "name": "stdout",
     "output_type": "stream",
     "text": [
      "Encoded DataFrame X_train_444 has been exported to '../data/encoded/train/X_train_444_encoded.csv'\n"
     ]
    },
    {
     "name": "stderr",
     "output_type": "stream",
     "text": [
      "Encoding and exporting DataFrames:  89%|████████▉ | 445/499 [12:26<02:58,  3.30s/it]"
     ]
    },
    {
     "name": "stdout",
     "output_type": "stream",
     "text": [
      "Encoded DataFrame X_train_445 has been exported to '../data/encoded/train/X_train_445_encoded.csv'\n"
     ]
    },
    {
     "name": "stderr",
     "output_type": "stream",
     "text": [
      "Encoding and exporting DataFrames:  89%|████████▉ | 446/499 [12:29<02:55,  3.31s/it]"
     ]
    },
    {
     "name": "stdout",
     "output_type": "stream",
     "text": [
      "Encoded DataFrame X_train_446 has been exported to '../data/encoded/train/X_train_446_encoded.csv'\n"
     ]
    },
    {
     "name": "stderr",
     "output_type": "stream",
     "text": [
      "Encoding and exporting DataFrames:  90%|████████▉ | 447/499 [12:33<02:52,  3.32s/it]"
     ]
    },
    {
     "name": "stdout",
     "output_type": "stream",
     "text": [
      "Encoded DataFrame X_train_447 has been exported to '../data/encoded/train/X_train_447_encoded.csv'\n"
     ]
    },
    {
     "name": "stderr",
     "output_type": "stream",
     "text": [
      "Encoding and exporting DataFrames:  90%|████████▉ | 448/499 [12:36<02:49,  3.33s/it]"
     ]
    },
    {
     "name": "stdout",
     "output_type": "stream",
     "text": [
      "Encoded DataFrame X_train_448 has been exported to '../data/encoded/train/X_train_448_encoded.csv'\n"
     ]
    },
    {
     "name": "stderr",
     "output_type": "stream",
     "text": [
      "Encoding and exporting DataFrames:  90%|████████▉ | 449/499 [12:39<02:46,  3.34s/it]"
     ]
    },
    {
     "name": "stdout",
     "output_type": "stream",
     "text": [
      "Encoded DataFrame X_train_449 has been exported to '../data/encoded/train/X_train_449_encoded.csv'\n"
     ]
    },
    {
     "name": "stderr",
     "output_type": "stream",
     "text": [
      "Encoding and exporting DataFrames:  90%|█████████ | 450/499 [12:43<02:43,  3.33s/it]"
     ]
    },
    {
     "name": "stdout",
     "output_type": "stream",
     "text": [
      "Encoded DataFrame X_train_450 has been exported to '../data/encoded/train/X_train_450_encoded.csv'\n"
     ]
    },
    {
     "name": "stderr",
     "output_type": "stream",
     "text": [
      "Encoding and exporting DataFrames:  90%|█████████ | 451/499 [12:46<02:40,  3.34s/it]"
     ]
    },
    {
     "name": "stdout",
     "output_type": "stream",
     "text": [
      "Encoded DataFrame X_train_451 has been exported to '../data/encoded/train/X_train_451_encoded.csv'\n"
     ]
    },
    {
     "name": "stderr",
     "output_type": "stream",
     "text": [
      "Encoding and exporting DataFrames:  91%|█████████ | 452/499 [12:49<02:38,  3.37s/it]"
     ]
    },
    {
     "name": "stdout",
     "output_type": "stream",
     "text": [
      "Encoded DataFrame X_train_452 has been exported to '../data/encoded/train/X_train_452_encoded.csv'\n"
     ]
    },
    {
     "name": "stderr",
     "output_type": "stream",
     "text": [
      "Encoding and exporting DataFrames:  91%|█████████ | 453/499 [12:53<02:35,  3.38s/it]"
     ]
    },
    {
     "name": "stdout",
     "output_type": "stream",
     "text": [
      "Encoded DataFrame X_train_453 has been exported to '../data/encoded/train/X_train_453_encoded.csv'\n"
     ]
    },
    {
     "name": "stderr",
     "output_type": "stream",
     "text": [
      "Encoding and exporting DataFrames:  91%|█████████ | 454/499 [12:56<02:31,  3.38s/it]"
     ]
    },
    {
     "name": "stdout",
     "output_type": "stream",
     "text": [
      "Encoded DataFrame X_train_454 has been exported to '../data/encoded/train/X_train_454_encoded.csv'\n"
     ]
    },
    {
     "name": "stderr",
     "output_type": "stream",
     "text": [
      "Encoding and exporting DataFrames:  91%|█████████ | 455/499 [13:00<02:28,  3.38s/it]"
     ]
    },
    {
     "name": "stdout",
     "output_type": "stream",
     "text": [
      "Encoded DataFrame X_train_455 has been exported to '../data/encoded/train/X_train_455_encoded.csv'\n"
     ]
    },
    {
     "name": "stderr",
     "output_type": "stream",
     "text": [
      "Encoding and exporting DataFrames:  91%|█████████▏| 456/499 [13:03<02:25,  3.39s/it]"
     ]
    },
    {
     "name": "stdout",
     "output_type": "stream",
     "text": [
      "Encoded DataFrame X_train_456 has been exported to '../data/encoded/train/X_train_456_encoded.csv'\n"
     ]
    },
    {
     "name": "stderr",
     "output_type": "stream",
     "text": [
      "Encoding and exporting DataFrames:  92%|█████████▏| 457/499 [13:06<02:21,  3.38s/it]"
     ]
    },
    {
     "name": "stdout",
     "output_type": "stream",
     "text": [
      "Encoded DataFrame X_train_457 has been exported to '../data/encoded/train/X_train_457_encoded.csv'\n"
     ]
    },
    {
     "name": "stderr",
     "output_type": "stream",
     "text": [
      "Encoding and exporting DataFrames:  92%|█████████▏| 458/499 [13:10<02:18,  3.39s/it]"
     ]
    },
    {
     "name": "stdout",
     "output_type": "stream",
     "text": [
      "Encoded DataFrame X_train_458 has been exported to '../data/encoded/train/X_train_458_encoded.csv'\n"
     ]
    },
    {
     "name": "stderr",
     "output_type": "stream",
     "text": [
      "Encoding and exporting DataFrames:  92%|█████████▏| 459/499 [13:13<02:15,  3.39s/it]"
     ]
    },
    {
     "name": "stdout",
     "output_type": "stream",
     "text": [
      "Encoded DataFrame X_train_459 has been exported to '../data/encoded/train/X_train_459_encoded.csv'\n"
     ]
    },
    {
     "name": "stderr",
     "output_type": "stream",
     "text": [
      "Encoding and exporting DataFrames:  92%|█████████▏| 460/499 [13:17<02:12,  3.40s/it]"
     ]
    },
    {
     "name": "stdout",
     "output_type": "stream",
     "text": [
      "Encoded DataFrame X_train_460 has been exported to '../data/encoded/train/X_train_460_encoded.csv'\n"
     ]
    },
    {
     "name": "stderr",
     "output_type": "stream",
     "text": [
      "Encoding and exporting DataFrames:  92%|█████████▏| 461/499 [13:20<02:09,  3.40s/it]"
     ]
    },
    {
     "name": "stdout",
     "output_type": "stream",
     "text": [
      "Encoded DataFrame X_train_461 has been exported to '../data/encoded/train/X_train_461_encoded.csv'\n"
     ]
    },
    {
     "name": "stderr",
     "output_type": "stream",
     "text": [
      "Encoding and exporting DataFrames:  93%|█████████▎| 462/499 [13:24<02:06,  3.42s/it]"
     ]
    },
    {
     "name": "stdout",
     "output_type": "stream",
     "text": [
      "Encoded DataFrame X_train_462 has been exported to '../data/encoded/train/X_train_462_encoded.csv'\n"
     ]
    },
    {
     "name": "stderr",
     "output_type": "stream",
     "text": [
      "Encoding and exporting DataFrames:  93%|█████████▎| 463/499 [13:27<02:03,  3.42s/it]"
     ]
    },
    {
     "name": "stdout",
     "output_type": "stream",
     "text": [
      "Encoded DataFrame X_train_463 has been exported to '../data/encoded/train/X_train_463_encoded.csv'\n"
     ]
    },
    {
     "name": "stderr",
     "output_type": "stream",
     "text": [
      "Encoding and exporting DataFrames:  93%|█████████▎| 464/499 [13:30<01:59,  3.42s/it]"
     ]
    },
    {
     "name": "stdout",
     "output_type": "stream",
     "text": [
      "Encoded DataFrame X_train_464 has been exported to '../data/encoded/train/X_train_464_encoded.csv'\n"
     ]
    },
    {
     "name": "stderr",
     "output_type": "stream",
     "text": [
      "Encoding and exporting DataFrames:  93%|█████████▎| 465/499 [13:34<01:56,  3.43s/it]"
     ]
    },
    {
     "name": "stdout",
     "output_type": "stream",
     "text": [
      "Encoded DataFrame X_train_465 has been exported to '../data/encoded/train/X_train_465_encoded.csv'\n"
     ]
    },
    {
     "name": "stderr",
     "output_type": "stream",
     "text": [
      "Encoding and exporting DataFrames:  93%|█████████▎| 466/499 [13:37<01:53,  3.43s/it]"
     ]
    },
    {
     "name": "stdout",
     "output_type": "stream",
     "text": [
      "Encoded DataFrame X_train_466 has been exported to '../data/encoded/train/X_train_466_encoded.csv'\n"
     ]
    },
    {
     "name": "stderr",
     "output_type": "stream",
     "text": [
      "Encoding and exporting DataFrames:  94%|█████████▎| 467/499 [13:41<01:50,  3.44s/it]"
     ]
    },
    {
     "name": "stdout",
     "output_type": "stream",
     "text": [
      "Encoded DataFrame X_train_467 has been exported to '../data/encoded/train/X_train_467_encoded.csv'\n"
     ]
    },
    {
     "name": "stderr",
     "output_type": "stream",
     "text": [
      "Encoding and exporting DataFrames:  94%|█████████▍| 468/499 [13:44<01:46,  3.44s/it]"
     ]
    },
    {
     "name": "stdout",
     "output_type": "stream",
     "text": [
      "Encoded DataFrame X_train_468 has been exported to '../data/encoded/train/X_train_468_encoded.csv'\n"
     ]
    },
    {
     "name": "stderr",
     "output_type": "stream",
     "text": [
      "Encoding and exporting DataFrames:  94%|█████████▍| 469/499 [13:48<01:43,  3.46s/it]"
     ]
    },
    {
     "name": "stdout",
     "output_type": "stream",
     "text": [
      "Encoded DataFrame X_train_469 has been exported to '../data/encoded/train/X_train_469_encoded.csv'\n"
     ]
    },
    {
     "name": "stderr",
     "output_type": "stream",
     "text": [
      "Encoding and exporting DataFrames:  94%|█████████▍| 470/499 [13:51<01:40,  3.45s/it]"
     ]
    },
    {
     "name": "stdout",
     "output_type": "stream",
     "text": [
      "Encoded DataFrame X_train_470 has been exported to '../data/encoded/train/X_train_470_encoded.csv'\n"
     ]
    },
    {
     "name": "stderr",
     "output_type": "stream",
     "text": [
      "Encoding and exporting DataFrames:  94%|█████████▍| 471/499 [13:55<01:36,  3.45s/it]"
     ]
    },
    {
     "name": "stdout",
     "output_type": "stream",
     "text": [
      "Encoded DataFrame X_train_471 has been exported to '../data/encoded/train/X_train_471_encoded.csv'\n"
     ]
    },
    {
     "name": "stderr",
     "output_type": "stream",
     "text": [
      "Encoding and exporting DataFrames:  95%|█████████▍| 472/499 [13:58<01:33,  3.45s/it]"
     ]
    },
    {
     "name": "stdout",
     "output_type": "stream",
     "text": [
      "Encoded DataFrame X_train_472 has been exported to '../data/encoded/train/X_train_472_encoded.csv'\n"
     ]
    },
    {
     "name": "stderr",
     "output_type": "stream",
     "text": [
      "Encoding and exporting DataFrames:  95%|█████████▍| 473/499 [14:01<01:30,  3.47s/it]"
     ]
    },
    {
     "name": "stdout",
     "output_type": "stream",
     "text": [
      "Encoded DataFrame X_train_473 has been exported to '../data/encoded/train/X_train_473_encoded.csv'\n"
     ]
    },
    {
     "name": "stderr",
     "output_type": "stream",
     "text": [
      "Encoding and exporting DataFrames:  95%|█████████▍| 474/499 [14:05<01:26,  3.47s/it]"
     ]
    },
    {
     "name": "stdout",
     "output_type": "stream",
     "text": [
      "Encoded DataFrame X_train_474 has been exported to '../data/encoded/train/X_train_474_encoded.csv'\n"
     ]
    },
    {
     "name": "stderr",
     "output_type": "stream",
     "text": [
      "Encoding and exporting DataFrames:  95%|█████████▌| 475/499 [14:08<01:23,  3.48s/it]"
     ]
    },
    {
     "name": "stdout",
     "output_type": "stream",
     "text": [
      "Encoded DataFrame X_train_475 has been exported to '../data/encoded/train/X_train_475_encoded.csv'\n"
     ]
    },
    {
     "name": "stderr",
     "output_type": "stream",
     "text": [
      "Encoding and exporting DataFrames:  95%|█████████▌| 476/499 [14:12<01:20,  3.48s/it]"
     ]
    },
    {
     "name": "stdout",
     "output_type": "stream",
     "text": [
      "Encoded DataFrame X_train_476 has been exported to '../data/encoded/train/X_train_476_encoded.csv'\n"
     ]
    },
    {
     "name": "stderr",
     "output_type": "stream",
     "text": [
      "Encoding and exporting DataFrames:  96%|█████████▌| 477/499 [14:15<01:17,  3.50s/it]"
     ]
    },
    {
     "name": "stdout",
     "output_type": "stream",
     "text": [
      "Encoded DataFrame X_train_477 has been exported to '../data/encoded/train/X_train_477_encoded.csv'\n"
     ]
    },
    {
     "name": "stderr",
     "output_type": "stream",
     "text": [
      "Encoding and exporting DataFrames:  96%|█████████▌| 478/499 [14:19<01:13,  3.50s/it]"
     ]
    },
    {
     "name": "stdout",
     "output_type": "stream",
     "text": [
      "Encoded DataFrame X_train_478 has been exported to '../data/encoded/train/X_train_478_encoded.csv'\n"
     ]
    },
    {
     "name": "stderr",
     "output_type": "stream",
     "text": [
      "Encoding and exporting DataFrames:  96%|█████████▌| 479/499 [14:23<01:10,  3.51s/it]"
     ]
    },
    {
     "name": "stdout",
     "output_type": "stream",
     "text": [
      "Encoded DataFrame X_train_479 has been exported to '../data/encoded/train/X_train_479_encoded.csv'\n"
     ]
    },
    {
     "name": "stderr",
     "output_type": "stream",
     "text": [
      "Encoding and exporting DataFrames:  96%|█████████▌| 480/499 [14:26<01:06,  3.50s/it]"
     ]
    },
    {
     "name": "stdout",
     "output_type": "stream",
     "text": [
      "Encoded DataFrame X_train_480 has been exported to '../data/encoded/train/X_train_480_encoded.csv'\n"
     ]
    },
    {
     "name": "stderr",
     "output_type": "stream",
     "text": [
      "Encoding and exporting DataFrames:  96%|█████████▋| 481/499 [14:29<01:02,  3.50s/it]"
     ]
    },
    {
     "name": "stdout",
     "output_type": "stream",
     "text": [
      "Encoded DataFrame X_train_481 has been exported to '../data/encoded/train/X_train_481_encoded.csv'\n"
     ]
    },
    {
     "name": "stderr",
     "output_type": "stream",
     "text": [
      "Encoding and exporting DataFrames:  97%|█████████▋| 482/499 [14:33<00:59,  3.50s/it]"
     ]
    },
    {
     "name": "stdout",
     "output_type": "stream",
     "text": [
      "Encoded DataFrame X_train_482 has been exported to '../data/encoded/train/X_train_482_encoded.csv'\n"
     ]
    },
    {
     "name": "stderr",
     "output_type": "stream",
     "text": [
      "Encoding and exporting DataFrames:  97%|█████████▋| 483/499 [14:37<00:56,  3.51s/it]"
     ]
    },
    {
     "name": "stdout",
     "output_type": "stream",
     "text": [
      "Encoded DataFrame X_train_483 has been exported to '../data/encoded/train/X_train_483_encoded.csv'\n"
     ]
    },
    {
     "name": "stderr",
     "output_type": "stream",
     "text": [
      "Encoding and exporting DataFrames:  97%|█████████▋| 484/499 [14:40<00:52,  3.51s/it]"
     ]
    },
    {
     "name": "stdout",
     "output_type": "stream",
     "text": [
      "Encoded DataFrame X_train_484 has been exported to '../data/encoded/train/X_train_484_encoded.csv'\n"
     ]
    },
    {
     "name": "stderr",
     "output_type": "stream",
     "text": [
      "Encoding and exporting DataFrames:  97%|█████████▋| 485/499 [14:44<00:49,  3.51s/it]"
     ]
    },
    {
     "name": "stdout",
     "output_type": "stream",
     "text": [
      "Encoded DataFrame X_train_485 has been exported to '../data/encoded/train/X_train_485_encoded.csv'\n"
     ]
    },
    {
     "name": "stderr",
     "output_type": "stream",
     "text": [
      "Encoding and exporting DataFrames:  97%|█████████▋| 486/499 [14:47<00:45,  3.52s/it]"
     ]
    },
    {
     "name": "stdout",
     "output_type": "stream",
     "text": [
      "Encoded DataFrame X_train_486 has been exported to '../data/encoded/train/X_train_486_encoded.csv'\n"
     ]
    },
    {
     "name": "stderr",
     "output_type": "stream",
     "text": [
      "Encoding and exporting DataFrames:  98%|█████████▊| 487/499 [14:51<00:42,  3.52s/it]"
     ]
    },
    {
     "name": "stdout",
     "output_type": "stream",
     "text": [
      "Encoded DataFrame X_train_487 has been exported to '../data/encoded/train/X_train_487_encoded.csv'\n"
     ]
    },
    {
     "name": "stderr",
     "output_type": "stream",
     "text": [
      "Encoding and exporting DataFrames:  98%|█████████▊| 488/499 [14:54<00:38,  3.53s/it]"
     ]
    },
    {
     "name": "stdout",
     "output_type": "stream",
     "text": [
      "Encoded DataFrame X_train_488 has been exported to '../data/encoded/train/X_train_488_encoded.csv'\n"
     ]
    },
    {
     "name": "stderr",
     "output_type": "stream",
     "text": [
      "Encoding and exporting DataFrames:  98%|█████████▊| 489/499 [14:58<00:35,  3.55s/it]"
     ]
    },
    {
     "name": "stdout",
     "output_type": "stream",
     "text": [
      "Encoded DataFrame X_train_489 has been exported to '../data/encoded/train/X_train_489_encoded.csv'\n"
     ]
    },
    {
     "name": "stderr",
     "output_type": "stream",
     "text": [
      "Encoding and exporting DataFrames:  98%|█████████▊| 490/499 [15:01<00:31,  3.55s/it]"
     ]
    },
    {
     "name": "stdout",
     "output_type": "stream",
     "text": [
      "Encoded DataFrame X_train_490 has been exported to '../data/encoded/train/X_train_490_encoded.csv'\n"
     ]
    },
    {
     "name": "stderr",
     "output_type": "stream",
     "text": [
      "Encoding and exporting DataFrames:  98%|█████████▊| 491/499 [15:05<00:28,  3.55s/it]"
     ]
    },
    {
     "name": "stdout",
     "output_type": "stream",
     "text": [
      "Encoded DataFrame X_train_491 has been exported to '../data/encoded/train/X_train_491_encoded.csv'\n"
     ]
    },
    {
     "name": "stderr",
     "output_type": "stream",
     "text": [
      "Encoding and exporting DataFrames:  99%|█████████▊| 492/499 [15:08<00:24,  3.54s/it]"
     ]
    },
    {
     "name": "stdout",
     "output_type": "stream",
     "text": [
      "Encoded DataFrame X_train_492 has been exported to '../data/encoded/train/X_train_492_encoded.csv'\n"
     ]
    },
    {
     "name": "stderr",
     "output_type": "stream",
     "text": [
      "Encoding and exporting DataFrames:  99%|█████████▉| 493/499 [15:12<00:21,  3.55s/it]"
     ]
    },
    {
     "name": "stdout",
     "output_type": "stream",
     "text": [
      "Encoded DataFrame X_train_493 has been exported to '../data/encoded/train/X_train_493_encoded.csv'\n"
     ]
    },
    {
     "name": "stderr",
     "output_type": "stream",
     "text": [
      "Encoding and exporting DataFrames:  99%|█████████▉| 494/499 [15:16<00:17,  3.56s/it]"
     ]
    },
    {
     "name": "stdout",
     "output_type": "stream",
     "text": [
      "Encoded DataFrame X_train_494 has been exported to '../data/encoded/train/X_train_494_encoded.csv'\n"
     ]
    },
    {
     "name": "stderr",
     "output_type": "stream",
     "text": [
      "Encoding and exporting DataFrames:  99%|█████████▉| 495/499 [15:19<00:14,  3.58s/it]"
     ]
    },
    {
     "name": "stdout",
     "output_type": "stream",
     "text": [
      "Encoded DataFrame X_train_495 has been exported to '../data/encoded/train/X_train_495_encoded.csv'\n"
     ]
    },
    {
     "name": "stderr",
     "output_type": "stream",
     "text": [
      "Encoding and exporting DataFrames:  99%|█████████▉| 496/499 [15:23<00:10,  3.59s/it]"
     ]
    },
    {
     "name": "stdout",
     "output_type": "stream",
     "text": [
      "Encoded DataFrame X_train_496 has been exported to '../data/encoded/train/X_train_496_encoded.csv'\n"
     ]
    },
    {
     "name": "stderr",
     "output_type": "stream",
     "text": [
      "Encoding and exporting DataFrames: 100%|█████████▉| 497/499 [15:26<00:07,  3.58s/it]"
     ]
    },
    {
     "name": "stdout",
     "output_type": "stream",
     "text": [
      "Encoded DataFrame X_train_497 has been exported to '../data/encoded/train/X_train_497_encoded.csv'\n"
     ]
    },
    {
     "name": "stderr",
     "output_type": "stream",
     "text": [
      "Encoding and exporting DataFrames: 100%|█████████▉| 498/499 [15:30<00:03,  3.63s/it]"
     ]
    },
    {
     "name": "stdout",
     "output_type": "stream",
     "text": [
      "Encoded DataFrame X_train_498 has been exported to '../data/encoded/train/X_train_498_encoded.csv'\n"
     ]
    },
    {
     "name": "stderr",
     "output_type": "stream",
     "text": [
      "Encoding and exporting DataFrames: 100%|██████████| 499/499 [15:34<00:00,  1.87s/it]"
     ]
    },
    {
     "name": "stdout",
     "output_type": "stream",
     "text": [
      "Encoded DataFrame X_train_499 has been exported to '../data/encoded/train/X_train_499_encoded.csv'\n",
      "Feature name mapping has been saved to '../data/encoded/train/feature_mapping.json'\n"
     ]
    },
    {
     "name": "stderr",
     "output_type": "stream",
     "text": [
      "\n"
     ]
    }
   ],
   "source": [
    "def encode_names(df, original_names):\n",
    "    \"\"\"\n",
    "    Use a dictionary to map numbers to names.\n",
    "    \"\"\"\n",
    "    name_dict = {f\"feature{i}\": name for i, name in enumerate(original_names)}\n",
    "    reverse_dict = {v: k for k, v in name_dict.items()}\n",
    "    df_encoded = df.rename(columns=reverse_dict)\n",
    "    return df_encoded, name_dict\n",
    "\n",
    "# Retrieve the feature names.\n",
    "original_names = globals()['X_train'].columns.tolist()\n",
    "\n",
    "# Init directory for encoded files.\n",
    "os.makedirs(path, exist_ok=True)\n",
    "\n",
    "# Use tqdm to process with progress bar.\n",
    "for df_name in tqdm(df_names, desc=\"Encoding and exporting DataFrames\"):\n",
    "    df = globals()[df_name]\n",
    "    encoded_df, feature_dict = encode_names(df, original_names)\n",
    "    output_file = f'{path}/{df_name}_encoded.csv'\n",
    "    encoded_df.to_csv(output_file, index=False)\n",
    "    print(f\"Encoded DataFrame {df_name} has been exported to '{output_file}'\")\n",
    "\n",
    "# Export the mapping.\n",
    "with open(f'{path}/feature_mapping.json', 'w') as f:\n",
    "    json.dump(feature_dict, f, indent=2)\n",
    "print(f\"Feature name mapping has been saved to '{path}/feature_mapping.json'\")"
   ]
  },
  {
   "cell_type": "code",
   "execution_count": 6,
   "metadata": {},
   "outputs": [],
   "source": [
    "NEGONE_FEATURES = ['MOD_RES','REGION','INTERACTION_REGION','REQUIRED_FOR_INTER','ATP_binding_gbind','Ca2+_binding_gbind','DNA_binding_gbind','HEME_binding_gbind','Mg2+_binding_gbind','Mn2+_binding_gbind','RNA_binding_gbind','Dist2Mutation','BLOSUM62','ProteinLengthChange','TSSDistance','1000Gp3_AF','UK10K_AF','gnomAD_exomes_AF','gnomAD_genomes_AF','MSC_95CI','rel_cDNA_pos','rel_CDS_pos','rel_prot_pos','GDI','Selective_pressure','Clarks_distance','CDS_len','Number_of_paralogs','denovo_Zscore','RVIS','Indispensability_score','RSA','ASA','RSA_Zfit','before_RSA_3','before_RSA_8','before_RSA_15','after_RSA_3','after_RSA_8','after_RSA_15','before_ASA_3','before_ASA_8','before_ASA_15','after_ASA_3','after_ASA_8','after_ASA_15','Phosphorylation','Acetylation','Methylation','Ubiquitination','Glycosylation','PTM','AF_Relative_ASA','IUPRED2','ANCHOR2','before_IUPRED_3','before_IUPRED_8','before_IUPRED_15','after_IUPRED_3','after_IUPRED_8','after_IUPRED_15','before_ANCHOR_3','before_ANCHOR_8','before_ANCHOR_15','after_ANCHOR_3','after_ANCHOR_8','after_ANCHOR_15','A3D_SCORE','n_contacts','distance_com','concavity_score','S_DDG[SEQ]','S_DDG[3D]','hgmd_mutcount','gnomsingle_mutcount','gnom_mutcount','AF_confidence','isHomomultimer','num_interactions','ppi_combined_0','ppi_combined_1','ppi_combined_2','ppi_combined_3','ppi_combined_4','ppi_combined_5','ppi_combined_6','ppi_combined_7','ppi_combined_8','ppi_combined_9','ppi_combined_10','ppi_combined_11','ppi_combined_12','ppi_combined_13','ppi_combined_14','ppi_combined_15','ppi_combined_16','ppi_combined_17','ppi_combined_18','ppi_combined_19','ppi_combined_20','ppi_combined_21','ppi_combined_22','ppi_combined_23','ppi_combined_24','ppi_combined_25','ppi_combined_26','ppi_combined_27','ppi_combined_28','ppi_combined_29','ppi_combined_30','ppi_combined_31','ppi_combined_32','ppi_combined_33','ppi_combined_34','ppi_combined_35','ppi_combined_36','ppi_combined_37','ppi_combined_38','ppi_combined_39','ppi_combined_40','ppi_combined_41','ppi_combined_42','ppi_combined_43','ppi_combined_44','ppi_combined_45','ppi_combined_46','ppi_combined_47','ppi_combined_48','ppi_combined_49','ppi_combined_50','ppi_combined_51','ppi_combined_52','ppi_combined_53','ppi_combined_54','ppi_combined_55','ppi_combined_56','ppi_combined_57','ppi_combined_58','ppi_combined_59','ppi_combined_60','ppi_combined_61','ppi_combined_62','ppi_combined_63','s_het','DRNApredDNAscore_aa_window_3_prev','DRNApredDNAscore_aa_window_8_prev','DRNApredDNAscore_aa_window_15_prev','DRNApredDNAscore_aa_window_3_next','DRNApredDNAscore_aa_window_8_next','DRNApredDNAscore_aa_window_15_next','DRNApredDNAscore_aa','ASAquick_normscore_aa_window_3_prev','ASAquick_normscore_aa_window_8_prev','ASAquick_normscore_aa_window_15_prev','ASAquick_normscore_aa_window_3_next','ASAquick_normscore_aa_window_8_next','ASAquick_normscore_aa_window_15_next','ASAquick_normscore_aa','ASAquick_rawscore_aa_window_3_prev','ASAquick_rawscore_aa_window_8_prev','ASAquick_rawscore_aa_window_15_prev','ASAquick_rawscore_aa_window_3_next','ASAquick_rawscore_aa_window_8_next','ASAquick_rawscore_aa_window_15_next','ASAquick_rawscore_aa','DFLpredScore_aa_window_3_prev','DFLpredScore_aa_window_8_prev','DFLpredScore_aa_window_15_prev','DFLpredScore_aa_window_3_next','DFLpredScore_aa_window_8_next','DFLpredScore_aa_window_15_next','DFLpredScore_aa','DRNApredRNAscore_aa_window_3_prev','DRNApredRNAscore_aa_window_8_prev','DRNApredRNAscore_aa_window_15_prev','DRNApredRNAscore_aa_window_3_next','DRNApredRNAscore_aa_window_8_next','DRNApredRNAscore_aa_window_15_next','DRNApredRNAscore_aa','DisoDNAscore_aa_window_3_prev','DisoDNAscore_aa_window_8_prev','DisoDNAscore_aa_window_15_prev','DisoDNAscore_aa_window_3_next','DisoDNAscore_aa_window_8_next','DisoDNAscore_aa_window_15_next','DisoDNAscore_aa','DisoPROscore_aa_window_3_prev','DisoPROscore_aa_window_8_prev','DisoPROscore_aa_window_15_prev','DisoPROscore_aa_window_3_next','DisoPROscore_aa_window_8_next','DisoPROscore_aa_window_15_next','DisoPROscore_aa','DisoRNAscore_aa_window_3_prev','DisoRNAscore_aa_window_8_prev','DisoRNAscore_aa_window_15_prev','DisoRNAscore_aa_window_3_next','DisoRNAscore_aa_window_8_next','DisoRNAscore_aa_window_15_next','DisoRNAscore_aa','MMseq2_conservation_level_aa_window_3_prev','MMseq2_conservation_level_aa_window_8_prev','MMseq2_conservation_level_aa_window_15_prev','MMseq2_conservation_level_aa_window_3_next','MMseq2_conservation_level_aa_window_8_next','MMseq2_conservation_level_aa_window_15_next','MMseq2_conservation_level_aa','MMseq2_conservation_score_aa_window_3_prev','MMseq2_conservation_score_aa_window_8_prev','MMseq2_conservation_score_aa_window_15_prev','MMseq2_conservation_score_aa_window_3_next','MMseq2_conservation_score_aa_window_8_next','MMseq2_conservation_score_aa_window_15_next','MMseq2_conservation_score_aa','MoRFchibiScore_aa_window_3_prev','MoRFchibiScore_aa_window_8_prev','MoRFchibiScore_aa_window_15_prev','MoRFchibiScore_aa_window_3_next','MoRFchibiScore_aa_window_8_next','MoRFchibiScore_aa_window_15_next','MoRFchibiScore_aa','PSIPRED_helix_aa_window_3_prev','PSIPRED_helix_aa_window_8_prev','PSIPRED_helix_aa_window_15_prev','PSIPRED_helix_aa_window_3_next','PSIPRED_helix_aa_window_8_next','PSIPRED_helix_aa_window_15_next','PSIPRED_helix_aa','PSIPRED_strand_aa_window_3_prev','PSIPRED_strand_aa_window_8_prev','PSIPRED_strand_aa_window_15_prev','PSIPRED_strand_aa_window_3_next','PSIPRED_strand_aa_window_8_next','PSIPRED_strand_aa_window_15_next','PSIPRED_strand_aa','SCRIBERscore_aa_window_3_prev','SCRIBERscore_aa_window_8_prev','SCRIBERscore_aa_window_15_prev','SCRIBERscore_aa_window_3_next','SCRIBERscore_aa_window_8_next','SCRIBERscore_aa_window_15_next','SCRIBERscore_aa','SignalP_score_aa_window_3_prev','SignalP_score_aa_window_8_prev','SignalP_score_aa_window_15_prev','SignalP_score_aa_window_3_next','SignalP_score_aa_window_8_next','SignalP_score_aa_window_15_next','SignalP_score_aa','gtex_Adipose_-_Subcutaneous','gtex_Adipose_-_Visceral_(Omentum)','gtex_Adrenal_Gland','gtex_Artery_-_Aorta','gtex_Artery_-_Coronary','gtex_Artery_-_Tibial','gtex_Bladder','gtex_Brain_-_Amygdala','gtex_Brain_-_Anterior_cingulate_cortex_(BA24)','gtex_Brain_-_Caudate_(basal_ganglia)','gtex_Brain_-_Cerebellar_Hemisphere','gtex_Brain_-_Cerebellum','gtex_Brain_-_Cortex','gtex_Brain_-_Frontal_Cortex_(BA9)','gtex_Brain_-_Hippocampus','gtex_Brain_-_Hypothalamus','gtex_Brain_-_Nucleus_accumbens_(basal_ganglia)','gtex_Brain_-_Putamen_(basal_ganglia)','gtex_Brain_-_Spinal_cord_(cervical_c-1)','gtex_Brain_-_Substantia_nigra','gtex_Breast_-_Mammary_Tissue','gtex_Cells_-_Cultured_fibroblasts','gtex_Cells_-_EBV-transformed_lymphocytes','gtex_Cervix_-_Ectocervix','gtex_Cervix_-_Endocervix','gtex_Colon_-_Sigmoid','gtex_Colon_-_Transverse','gtex_Esophagus_-_Gastroesophageal_Junction','gtex_Esophagus_-_Mucosa','gtex_Esophagus_-_Muscularis','gtex_Fallopian_Tube','gtex_Heart_-_Atrial_Appendage','gtex_Heart_-_Left_Ventricle','gtex_Kidney_-_Cortex','gtex_Kidney_-_Medulla','gtex_Liver','gtex_Lung','gtex_Minor_Salivary_Gland','gtex_Muscle_-_Skeletal','gtex_Nerve_-_Tibial','gtex_Ovary','gtex_Pancreas','gtex_Pituitary','gtex_Prostate','gtex_Skin_-_Not_Sun_Exposed_(Suprapubic)','gtex_Skin_-_Sun_Exposed_(Lower_leg)','gtex_Small_Intestine_-_Terminal_Ileum','gtex_Spleen','gtex_Stomach','gtex_Testis','gtex_Thyroid','gtex_Uterus','gtex_Vagina','gtex_Whole_Blood','haplo','haplo_imputed','PHOSPHORYLATION','ACETYLATION','UBIQUITINATION','S-NITROSYLATION','N-GLYCOSYLATION','METHYLATION','O-GLYCOSYLATION','MYRISTOYLATION','C-GLYCOSYLATION','SUMOYLATION','S-GLYCOSYLATION','polyphen_nobs','polyphen_normasa','polyphen_dvol','polyphen_dprop','polyphen_bfact','polyphen_hbonds','polyphen_avenhet','polyphen_mindhet','polyphen_avenint','polyphen_mindint','polyphen_avensit','polyphen_mindsit','polyphen_idpmax','polyphen_idpsnp','polyphen_idqmin','motifECount','motifEHIPos','motifEScoreChng','Dst2Splice','motifDist','EncodeH3K4me1-sum','EncodeH3K4me1-max','EncodeH3K4me2-sum','EncodeH3K4me2-max','EncodeH3K4me3-sum','EncodeH3K4me3-max','EncodeH3K9ac-sum','EncodeH3K9ac-max','EncodeH3K9me3-sum','EncodeH3K9me3-max','EncodeH3K27ac-sum','EncodeH3K27ac-max','EncodeH3K27me3-sum','EncodeH3K27me3-max','EncodeH3K36me3-sum','EncodeH3K36me3-max','EncodeH3K79me2-sum','EncodeH3K79me2-max','EncodeH4K20me1-sum','EncodeH4K20me1-max','EncodeH2AFZ-sum','EncodeH2AFZ-max','EncodeDNase-sum','EncodeDNase-max','EncodetotalRNA-sum','EncodetotalRNA-max','Grantham_x','Freq100bp','Rare100bp','Sngl100bp','Freq1000bp','Rare1000bp','Sngl1000bp','Freq10000bp','Rare10000bp','Sngl10000bp','RemapOverlapTF','RemapOverlapCL','Charge','Volume','Hydrophobicity','Polarity','Ex','PAM250','JM','HGMD2003','VB','Transition','COSMIC','COSMICvsSWISSPROT','HAPMAP','COSMICvsHAPMAP',]\n",
    "MEDIAN_FEATURES = ['CADD_raw','Conservation','MaxEntScan_alt','MaxEntScan_diff','MaxEntScan_ref','ada_score','rf_score','FATHMM_score','GERPplus_plus_NR','GERPplus_plus_RS','GM12878_fitCons_score','GenoCanyon_score','H1_hESC_fitCons_score','HUVEC_fitCons_score','LINSIGHT','LIST_S2_score','LRT_score','M_CAP_score','MPC_score','MVP_score','MutationAssessor_score','MutationTaster_score','PROVEAN_score','SiPhy_29way_logOdds','VEST4_score','fathmm_MKL_coding_score','fathmm_XF_coding_score','integrated_fitCons_score','phastCons100way_vertebrate','phastCons17way_primate','phastCons30way_mammalian','phyloP100way_vertebrate','phyloP17way_primate','phyloP30way_mammalian','Condel_score','SIFT_score','NearestExonJB_distance','NearestExonJB_len','Dominant_probability','Recessive_probability','polyphen_dscore','polyphen_score1','polyphen_score2','ConsScore','GC','CpG','minDistTSS','minDistTSE','priPhCons','mamPhCons','verPhCons','priPhyloP','mamPhyloP','verPhyloP','bStatistic_y','targetScan','mirSVR-Score','mirSVR-E','mirSVR-Aln','cHmm_E1','cHmm_E2','cHmm_E3','cHmm_E4','cHmm_E5','cHmm_E6','cHmm_E7','cHmm_E8','cHmm_E9','cHmm_E10','cHmm_E11','cHmm_E12','cHmm_E13','cHmm_E14','cHmm_E15','cHmm_E16','cHmm_E17','cHmm_E18','cHmm_E19','cHmm_E20','cHmm_E21','cHmm_E22','cHmm_E23','cHmm_E24','cHmm_E25','GerpRS','GerpRSpval','GerpN','GerpS','tOverlapMotifs','SpliceAI-acc-gain','SpliceAI-acc-loss','SpliceAI-don-gain','SpliceAI-don-loss','MMSp_acceptorIntron','MMSp_acceptor','MMSp_exon','MMSp_donor','MMSp_donorIntron','dbscSNV-ada_score','dbscSNV-rf_score',]"
   ]
  },
  {
   "cell_type": "code",
   "execution_count": 21,
   "metadata": {},
   "outputs": [
    {
     "name": "stdout",
     "output_type": "stream",
     "text": [
      "Encoded features have been saved to '../data/negone_median.json'\n"
     ]
    }
   ],
   "source": [
    "def feature_lists(feature_lists, feature_dict):\n",
    "    \"\"\" \n",
    "    Encode the NEGONE and MEDIAN feature names.\n",
    "    \"\"\"\n",
    "    reverse_dict = {v: k for k, v in feature_dict.items()}\n",
    "    encoded_lists = []\n",
    "    for feature_list in feature_lists:\n",
    "        encoded_list = []\n",
    "        for feature in feature_list:\n",
    "            if feature in reverse_dict:\n",
    "                encoded_list.append(reverse_dict[feature])\n",
    "            else:\n",
    "                print(f\"Warning: Feature '{feature}' not found in the mapping.\")\n",
    "        encoded_lists.append(encoded_list)\n",
    "    return encoded_lists\n",
    "\n",
    "# Do the encoding.\n",
    "encoded_negone, encoded_median = feature_lists([NEGONE_FEATURES, MEDIAN_FEATURES], feature_dict)\n",
    "\n",
    "# Place encoded lists inside a dictionary.\n",
    "encoded_features = {\n",
    "    \"NEGONE_FEATURES\": encoded_negone,\n",
    "    \"MEDIAN_FEATURES\": encoded_median\n",
    "}\n",
    "\n",
    "# Export to JSON.\n",
    "output_path = '../data/negone_median.json'\n",
    "with open(output_path, 'w') as json_file:\n",
    "    json.dump(encoded_features, json_file, indent=4)\n",
    "print(f\"Encoded features have been saved to '{output_path}'\")"
   ]
  },
  {
   "cell_type": "code",
   "execution_count": null,
   "metadata": {},
   "outputs": [],
   "source": [
    "\"\"\" Now, encode the other features mentioned in the LoGoFunc pre-processing script. \"\"\"\n",
    "\n",
    "patterns = ['after', 'before', 'gnomAD_exomes_AF', 'gnomAD_genomes_AF']\n",
    "\n",
    "# Search for features that match the patterns.\n",
    "matching_features = {}\n",
    "for key, value in feature_dict.items():\n",
    "    if any(pattern in value for pattern in patterns):\n",
    "        matching_features[key] = value\n",
    "\n",
    "output_path = '../data/patterns.json'\n",
    "\n",
    "# Make directory.\n",
    "os.makedirs(os.path.dirname(output_path), exist_ok=True)\n",
    "\n",
    "# Export to JSON.\n",
    "with open(output_path, 'w') as json_file:\n",
    "    json.dump(matching_features, json_file, indent=4)\n",
    "print(f\"Saved to '{output_path}'\")"
   ]
  },
  {
   "cell_type": "code",
   "execution_count": 23,
   "metadata": {},
   "outputs": [
    {
     "name": "stdout",
     "output_type": "stream",
     "text": [
      "Matching keys:\n",
      "feature0: ID\n",
      "feature2: IMPACT\n"
     ]
    }
   ],
   "source": [
    "\"\"\" Repeat process for ID and IMPACT columns, because they are mentioned in the LoGoFunc pre-processing script. \"\"\"\n",
    "\"\"\" These will be manually added to the pre-processing pipeline. \"\"\"\n",
    "\n",
    "patterns = ['ID', 'IMPACT']\n",
    "\n",
    "# Search for features that match the patterns.\n",
    "matching_keys = []\n",
    "for key, value in feature_dict.items():\n",
    "    if any(pattern in value for pattern in patterns):\n",
    "        matching_keys.append(key)\n",
    "\n",
    "print(\"Matching keys:\")\n",
    "for key in matching_keys:\n",
    "    print(f\"{key}: {feature_dict[key]}\")"
   ]
  },
  {
   "cell_type": "code",
   "execution_count": 24,
   "metadata": {},
   "outputs": [
    {
     "name": "stderr",
     "output_type": "stream",
     "text": [
      "Processing test filenames: 100%|██████████| 499/499 [00:00<00:00, 427134.22it/s]\n",
      "Loading test DataFrames:   6%|▌         | 28/499 [00:00<00:01, 279.13it/s]"
     ]
    },
    {
     "name": "stdout",
     "output_type": "stream",
     "text": [
      "Shape of X_test_1: (2831, 2)\n",
      "Shape of X_test_2: (2831, 3)\n",
      "Shape of X_test_3: (2831, 4)\n",
      "Shape of X_test_4: (2831, 5)\n",
      "Shape of X_test_5: (2831, 6)\n",
      "Shape of X_test_6: (2831, 7)\n",
      "Shape of X_test_7: (2831, 8)\n",
      "Shape of X_test_8: (2831, 9)\n",
      "Shape of X_test_9: (2831, 10)\n",
      "Shape of X_test_10: (2831, 11)\n",
      "Shape of X_test_11: (2831, 12)\n",
      "Shape of X_test_12: (2831, 13)\n",
      "Shape of X_test_13: (2831, 14)\n",
      "Shape of X_test_14: (2831, 15)\n",
      "Shape of X_test_15: (2831, 16)\n",
      "Shape of X_test_16: (2831, 17)\n",
      "Shape of X_test_17: (2831, 18)\n",
      "Shape of X_test_18: (2831, 19)\n",
      "Shape of X_test_19: (2831, 20)\n",
      "Shape of X_test_20: (2831, 21)\n",
      "Shape of X_test_21: (2831, 22)\n",
      "Shape of X_test_22: (2831, 23)\n",
      "Shape of X_test_23: (2831, 24)\n",
      "Shape of X_test_24: (2831, 25)\n",
      "Shape of X_test_25: (2831, 26)\n",
      "Shape of X_test_26: (2831, 27)\n",
      "Shape of X_test_27: (2831, 28)\n",
      "Shape of X_test_28: (2831, 29)\n",
      "Shape of X_test_29: (2831, 30)\n",
      "Shape of X_test_30: (2831, 31)\n",
      "Shape of X_test_31: (2831, 32)\n",
      "Shape of X_test_32: (2831, 33)\n",
      "Shape of X_test_33: (2831, 34)\n",
      "Shape of X_test_34: (2831, 35)\n",
      "Shape of X_test_35: (2831, 36)\n",
      "Shape of X_test_36: (2831, 37)\n",
      "Shape of X_test_37: (2831, 38)\n",
      "Shape of X_test_38: (2831, 39)\n",
      "Shape of X_test_39: (2831, 40)\n",
      "Shape of X_test_40: (2831, 41)\n",
      "Shape of X_test_41: (2831, 42)\n",
      "Shape of X_test_42: (2831, 43)\n",
      "Shape of X_test_43: (2831, 44)\n",
      "Shape of X_test_44: (2831, 45)\n"
     ]
    },
    {
     "name": "stderr",
     "output_type": "stream",
     "text": [
      "Loading test DataFrames:  11%|█         | 56/499 [00:00<00:02, 179.54it/s]"
     ]
    },
    {
     "name": "stdout",
     "output_type": "stream",
     "text": [
      "Shape of X_test_45: (2831, 46)\n",
      "Shape of X_test_46: (2831, 47)\n",
      "Shape of X_test_47: (2831, 48)\n",
      "Shape of X_test_48: (2831, 49)\n",
      "Shape of X_test_49: (2831, 50)\n",
      "Shape of X_test_50: (2831, 51)\n",
      "Shape of X_test_51: (2831, 52)\n",
      "Shape of X_test_52: (2831, 53)\n",
      "Shape of X_test_53: (2831, 54)\n",
      "Shape of X_test_54: (2831, 55)\n",
      "Shape of X_test_55: (2831, 56)\n",
      "Shape of X_test_56: (2831, 57)\n",
      "Shape of X_test_57: (2831, 58)\n",
      "Shape of X_test_58: (2831, 59)\n",
      "Shape of X_test_59: (2831, 60)\n",
      "Shape of X_test_60: (2831, 61)\n",
      "Shape of X_test_61: (2831, 62)\n",
      "Shape of X_test_62: (2831, 63)\n",
      "Shape of X_test_63: (2831, 64)\n",
      "Shape of X_test_64: (2831, 65)\n",
      "Shape of X_test_65: (2831, 66)\n",
      "Shape of X_test_66: (2831, 67)\n"
     ]
    },
    {
     "name": "stderr",
     "output_type": "stream",
     "text": [
      "Loading test DataFrames:  15%|█▌        | 76/499 [00:00<00:03, 132.79it/s]"
     ]
    },
    {
     "name": "stdout",
     "output_type": "stream",
     "text": [
      "Shape of X_test_67: (2831, 68)\n",
      "Shape of X_test_68: (2831, 69)\n",
      "Shape of X_test_69: (2831, 70)\n",
      "Shape of X_test_70: (2831, 71)\n",
      "Shape of X_test_71: (2831, 72)\n",
      "Shape of X_test_72: (2831, 73)\n",
      "Shape of X_test_73: (2831, 74)\n",
      "Shape of X_test_74: (2831, 75)\n",
      "Shape of X_test_75: (2831, 76)\n",
      "Shape of X_test_76: (2831, 77)\n",
      "Shape of X_test_77: (2831, 78)\n",
      "Shape of X_test_78: (2831, 79)\n",
      "Shape of X_test_79: (2831, 80)\n",
      "Shape of X_test_80: (2831, 81)\n",
      "Shape of X_test_81: (2831, 82)\n",
      "Shape of X_test_82: (2831, 83)\n",
      "Shape of X_test_83: (2831, 84)\n"
     ]
    },
    {
     "name": "stderr",
     "output_type": "stream",
     "text": [
      "Loading test DataFrames:  18%|█▊        | 92/499 [00:00<00:03, 102.70it/s]"
     ]
    },
    {
     "name": "stdout",
     "output_type": "stream",
     "text": [
      "Shape of X_test_84: (2831, 85)\n",
      "Shape of X_test_85: (2831, 86)\n",
      "Shape of X_test_86: (2831, 87)\n",
      "Shape of X_test_87: (2831, 88)\n",
      "Shape of X_test_88: (2831, 89)\n",
      "Shape of X_test_89: (2831, 90)\n",
      "Shape of X_test_90: (2831, 91)\n",
      "Shape of X_test_91: (2831, 92)\n",
      "Shape of X_test_92: (2831, 93)\n",
      "Shape of X_test_93: (2831, 94)\n",
      "Shape of X_test_94: (2831, 95)\n",
      "Shape of X_test_95: (2831, 96)\n",
      "Shape of X_test_96: (2831, 97)\n"
     ]
    },
    {
     "name": "stderr",
     "output_type": "stream",
     "text": [
      "Loading test DataFrames:  21%|██        | 104/499 [00:00<00:04, 87.37it/s]"
     ]
    },
    {
     "name": "stdout",
     "output_type": "stream",
     "text": [
      "Shape of X_test_97: (2831, 98)\n",
      "Shape of X_test_98: (2831, 99)\n",
      "Shape of X_test_99: (2831, 100)\n",
      "Shape of X_test_100: (2831, 101)\n",
      "Shape of X_test_101: (2831, 102)\n",
      "Shape of X_test_102: (2831, 103)\n",
      "Shape of X_test_103: (2831, 104)\n",
      "Shape of X_test_104: (2831, 105)\n",
      "Shape of X_test_105: (2831, 106)\n",
      "Shape of X_test_106: (2831, 107)\n",
      "Shape of X_test_107: (2831, 108)\n",
      "Shape of X_test_108: (2831, 109)\n"
     ]
    },
    {
     "name": "stderr",
     "output_type": "stream",
     "text": [
      "Loading test DataFrames:  23%|██▎       | 114/499 [00:01<00:05, 74.80it/s]"
     ]
    },
    {
     "name": "stdout",
     "output_type": "stream",
     "text": [
      "Shape of X_test_109: (2831, 110)\n",
      "Shape of X_test_110: (2831, 111)\n",
      "Shape of X_test_111: (2831, 112)\n",
      "Shape of X_test_112: (2831, 113)\n",
      "Shape of X_test_113: (2831, 114)\n",
      "Shape of X_test_114: (2831, 115)\n",
      "Shape of X_test_115: (2831, 116)\n",
      "Shape of X_test_116: (2831, 117)\n",
      "Shape of X_test_117: (2831, 118)\n",
      "Shape of X_test_118: (2831, 119)\n"
     ]
    },
    {
     "name": "stderr",
     "output_type": "stream",
     "text": [
      "Loading test DataFrames:  25%|██▍       | 123/499 [00:01<00:05, 68.01it/s]"
     ]
    },
    {
     "name": "stdout",
     "output_type": "stream",
     "text": [
      "Shape of X_test_119: (2831, 120)\n",
      "Shape of X_test_120: (2831, 121)\n",
      "Shape of X_test_121: (2831, 122)\n",
      "Shape of X_test_122: (2831, 123)\n",
      "Shape of X_test_123: (2831, 124)\n",
      "Shape of X_test_124: (2831, 125)\n",
      "Shape of X_test_125: (2831, 126)\n",
      "Shape of X_test_126: (2831, 127)\n",
      "Shape of X_test_127: (2831, 128)\n",
      "Shape of X_test_128: (2831, 129)\n",
      "Shape of X_test_129: (2831, 130)\n"
     ]
    },
    {
     "name": "stderr",
     "output_type": "stream",
     "text": [
      "Loading test DataFrames:  28%|██▊       | 138/499 [00:01<00:06, 59.20it/s]"
     ]
    },
    {
     "name": "stdout",
     "output_type": "stream",
     "text": [
      "Shape of X_test_130: (2831, 131)\n",
      "Shape of X_test_131: (2831, 132)\n",
      "Shape of X_test_132: (2831, 133)\n",
      "Shape of X_test_133: (2831, 134)\n",
      "Shape of X_test_134: (2831, 135)\n",
      "Shape of X_test_135: (2831, 136)\n",
      "Shape of X_test_136: (2831, 137)\n",
      "Shape of X_test_137: (2831, 138)\n",
      "Shape of X_test_138: (2831, 139)\n",
      "Shape of X_test_139: (2831, 140)\n"
     ]
    },
    {
     "name": "stderr",
     "output_type": "stream",
     "text": [
      "Loading test DataFrames:  29%|██▉       | 144/499 [00:01<00:06, 56.24it/s]"
     ]
    },
    {
     "name": "stdout",
     "output_type": "stream",
     "text": [
      "Shape of X_test_140: (2831, 141)\n",
      "Shape of X_test_141: (2831, 142)\n",
      "Shape of X_test_142: (2831, 143)\n",
      "Shape of X_test_143: (2831, 144)\n",
      "Shape of X_test_144: (2831, 145)\n",
      "Shape of X_test_145: (2831, 146)\n",
      "Shape of X_test_146: (2831, 147)\n",
      "Shape of X_test_147: (2831, 148)\n",
      "Shape of X_test_148: (2831, 149)\n"
     ]
    },
    {
     "name": "stderr",
     "output_type": "stream",
     "text": [
      "Loading test DataFrames:  31%|███▏      | 156/499 [00:02<00:06, 49.15it/s]"
     ]
    },
    {
     "name": "stdout",
     "output_type": "stream",
     "text": [
      "Shape of X_test_149: (2831, 150)\n",
      "Shape of X_test_150: (2831, 151)\n",
      "Shape of X_test_151: (2831, 152)\n",
      "Shape of X_test_152: (2831, 153)\n",
      "Shape of X_test_153: (2831, 154)\n",
      "Shape of X_test_154: (2831, 155)\n",
      "Shape of X_test_155: (2831, 156)\n",
      "Shape of X_test_156: (2831, 157)\n",
      "Shape of X_test_157: (2831, 158)\n"
     ]
    },
    {
     "name": "stderr",
     "output_type": "stream",
     "text": [
      "Loading test DataFrames:  33%|███▎      | 166/499 [00:02<00:07, 45.88it/s]"
     ]
    },
    {
     "name": "stdout",
     "output_type": "stream",
     "text": [
      "Shape of X_test_158: (2831, 159)\n",
      "Shape of X_test_159: (2831, 160)\n",
      "Shape of X_test_160: (2831, 161)\n",
      "Shape of X_test_161: (2831, 162)\n",
      "Shape of X_test_162: (2831, 163)\n",
      "Shape of X_test_163: (2831, 164)\n",
      "Shape of X_test_164: (2831, 165)\n",
      "Shape of X_test_165: (2831, 166)\n",
      "Shape of X_test_166: (2831, 167)\n"
     ]
    },
    {
     "name": "stderr",
     "output_type": "stream",
     "text": [
      "Loading test DataFrames:  34%|███▍      | 171/499 [00:02<00:07, 42.53it/s]"
     ]
    },
    {
     "name": "stdout",
     "output_type": "stream",
     "text": [
      "Shape of X_test_167: (2831, 168)\n",
      "Shape of X_test_168: (2831, 169)\n",
      "Shape of X_test_169: (2831, 170)\n",
      "Shape of X_test_170: (2831, 171)\n",
      "Shape of X_test_171: (2831, 172)\n",
      "Shape of X_test_172: (2831, 173)\n",
      "Shape of X_test_173: (2831, 174)\n",
      "Shape of X_test_174: (2831, 175)\n",
      "Shape of X_test_175: (2831, 176)\n"
     ]
    },
    {
     "name": "stderr",
     "output_type": "stream",
     "text": [
      "Loading test DataFrames:  36%|███▋      | 181/499 [00:02<00:07, 40.29it/s]"
     ]
    },
    {
     "name": "stdout",
     "output_type": "stream",
     "text": [
      "Shape of X_test_176: (2831, 177)\n",
      "Shape of X_test_177: (2831, 178)\n",
      "Shape of X_test_178: (2831, 179)\n",
      "Shape of X_test_179: (2831, 180)\n",
      "Shape of X_test_180: (2831, 181)\n",
      "Shape of X_test_181: (2831, 182)\n",
      "Shape of X_test_182: (2831, 183)\n",
      "Shape of X_test_183: (2831, 184)\n"
     ]
    },
    {
     "name": "stderr",
     "output_type": "stream",
     "text": [
      "Loading test DataFrames:  38%|███▊      | 190/499 [00:02<00:07, 38.73it/s]"
     ]
    },
    {
     "name": "stdout",
     "output_type": "stream",
     "text": [
      "Shape of X_test_184: (2831, 185)\n",
      "Shape of X_test_185: (2831, 186)\n",
      "Shape of X_test_186: (2831, 187)\n",
      "Shape of X_test_187: (2831, 188)\n",
      "Shape of X_test_188: (2831, 189)\n",
      "Shape of X_test_189: (2831, 190)\n",
      "Shape of X_test_190: (2831, 191)\n",
      "Shape of X_test_191: (2831, 192)\n"
     ]
    },
    {
     "name": "stderr",
     "output_type": "stream",
     "text": [
      "Loading test DataFrames:  40%|███▉      | 198/499 [00:03<00:08, 36.96it/s]"
     ]
    },
    {
     "name": "stdout",
     "output_type": "stream",
     "text": [
      "Shape of X_test_192: (2831, 193)\n",
      "Shape of X_test_193: (2831, 194)\n",
      "Shape of X_test_194: (2831, 195)\n",
      "Shape of X_test_195: (2831, 196)\n",
      "Shape of X_test_196: (2831, 197)\n",
      "Shape of X_test_197: (2831, 198)\n",
      "Shape of X_test_198: (2831, 199)\n",
      "Shape of X_test_199: (2831, 200)\n"
     ]
    },
    {
     "name": "stderr",
     "output_type": "stream",
     "text": [
      "Loading test DataFrames:  41%|████▏     | 206/499 [00:03<00:08, 34.76it/s]"
     ]
    },
    {
     "name": "stdout",
     "output_type": "stream",
     "text": [
      "Shape of X_test_200: (2831, 201)\n",
      "Shape of X_test_201: (2831, 202)\n",
      "Shape of X_test_202: (2831, 203)\n",
      "Shape of X_test_203: (2831, 204)\n",
      "Shape of X_test_204: (2831, 205)\n",
      "Shape of X_test_205: (2831, 206)\n",
      "Shape of X_test_206: (2831, 207)\n"
     ]
    },
    {
     "name": "stderr",
     "output_type": "stream",
     "text": [
      "Loading test DataFrames:  42%|████▏     | 210/499 [00:03<00:08, 34.06it/s]"
     ]
    },
    {
     "name": "stdout",
     "output_type": "stream",
     "text": [
      "Shape of X_test_207: (2831, 208)\n",
      "Shape of X_test_208: (2831, 209)\n",
      "Shape of X_test_209: (2831, 210)\n",
      "Shape of X_test_210: (2831, 211)\n",
      "Shape of X_test_211: (2831, 212)\n",
      "Shape of X_test_212: (2831, 213)\n",
      "Shape of X_test_213: (2831, 214)\n"
     ]
    },
    {
     "name": "stderr",
     "output_type": "stream",
     "text": [
      "Loading test DataFrames:  44%|████▎     | 218/499 [00:03<00:09, 29.90it/s]"
     ]
    },
    {
     "name": "stdout",
     "output_type": "stream",
     "text": [
      "Shape of X_test_214: (2831, 215)\n",
      "Shape of X_test_215: (2831, 216)\n",
      "Shape of X_test_216: (2831, 217)\n",
      "Shape of X_test_217: (2831, 218)\n",
      "Shape of X_test_218: (2831, 219)\n",
      "Shape of X_test_219: (2831, 220)\n"
     ]
    },
    {
     "name": "stderr",
     "output_type": "stream",
     "text": [
      "Loading test DataFrames:  45%|████▌     | 225/499 [00:04<00:09, 29.28it/s]"
     ]
    },
    {
     "name": "stdout",
     "output_type": "stream",
     "text": [
      "Shape of X_test_220: (2831, 221)\n",
      "Shape of X_test_221: (2831, 222)\n",
      "Shape of X_test_222: (2831, 223)\n",
      "Shape of X_test_223: (2831, 224)\n",
      "Shape of X_test_224: (2831, 225)\n",
      "Shape of X_test_225: (2831, 226)\n"
     ]
    },
    {
     "name": "stderr",
     "output_type": "stream",
     "text": [
      "Loading test DataFrames:  46%|████▋     | 231/499 [00:04<00:09, 28.80it/s]"
     ]
    },
    {
     "name": "stdout",
     "output_type": "stream",
     "text": [
      "Shape of X_test_226: (2831, 227)\n",
      "Shape of X_test_227: (2831, 228)\n",
      "Shape of X_test_228: (2831, 229)\n",
      "Shape of X_test_229: (2831, 230)\n",
      "Shape of X_test_230: (2831, 231)\n",
      "Shape of X_test_231: (2831, 232)\n"
     ]
    },
    {
     "name": "stderr",
     "output_type": "stream",
     "text": [
      "Loading test DataFrames:  47%|████▋     | 237/499 [00:04<00:09, 28.13it/s]"
     ]
    },
    {
     "name": "stdout",
     "output_type": "stream",
     "text": [
      "Shape of X_test_232: (2831, 233)\n",
      "Shape of X_test_233: (2831, 234)\n",
      "Shape of X_test_234: (2831, 235)\n",
      "Shape of X_test_235: (2831, 236)\n",
      "Shape of X_test_236: (2831, 237)\n",
      "Shape of X_test_237: (2831, 238)\n"
     ]
    },
    {
     "name": "stderr",
     "output_type": "stream",
     "text": [
      "Loading test DataFrames:  49%|████▊     | 243/499 [00:04<00:09, 26.73it/s]"
     ]
    },
    {
     "name": "stdout",
     "output_type": "stream",
     "text": [
      "Shape of X_test_238: (2831, 239)\n",
      "Shape of X_test_239: (2831, 240)\n",
      "Shape of X_test_240: (2831, 241)\n",
      "Shape of X_test_241: (2831, 242)\n",
      "Shape of X_test_242: (2831, 243)\n",
      "Shape of X_test_243: (2831, 244)\n"
     ]
    },
    {
     "name": "stderr",
     "output_type": "stream",
     "text": [
      "Loading test DataFrames:  50%|████▉     | 249/499 [00:04<00:09, 26.48it/s]"
     ]
    },
    {
     "name": "stdout",
     "output_type": "stream",
     "text": [
      "Shape of X_test_244: (2831, 245)\n",
      "Shape of X_test_245: (2831, 246)\n",
      "Shape of X_test_246: (2831, 247)\n",
      "Shape of X_test_247: (2831, 248)\n",
      "Shape of X_test_248: (2831, 249)\n",
      "Shape of X_test_249: (2831, 250)\n"
     ]
    },
    {
     "name": "stderr",
     "output_type": "stream",
     "text": [
      "Loading test DataFrames:  51%|█████     | 255/499 [00:05<00:09, 26.20it/s]"
     ]
    },
    {
     "name": "stdout",
     "output_type": "stream",
     "text": [
      "Shape of X_test_250: (2831, 251)\n",
      "Shape of X_test_251: (2831, 252)\n",
      "Shape of X_test_252: (2831, 253)\n",
      "Shape of X_test_253: (2831, 254)\n",
      "Shape of X_test_254: (2831, 255)\n",
      "Shape of X_test_255: (2831, 256)\n"
     ]
    },
    {
     "name": "stderr",
     "output_type": "stream",
     "text": [
      "Loading test DataFrames:  52%|█████▏    | 258/499 [00:05<00:09, 24.60it/s]"
     ]
    },
    {
     "name": "stdout",
     "output_type": "stream",
     "text": [
      "Shape of X_test_256: (2831, 257)\n",
      "Shape of X_test_257: (2831, 258)\n",
      "Shape of X_test_258: (2831, 259)\n",
      "Shape of X_test_259: (2831, 260)\n",
      "Shape of X_test_260: (2831, 261)\n"
     ]
    },
    {
     "name": "stderr",
     "output_type": "stream",
     "text": [
      "Loading test DataFrames:  53%|█████▎    | 264/499 [00:05<00:09, 24.55it/s]"
     ]
    },
    {
     "name": "stdout",
     "output_type": "stream",
     "text": [
      "Shape of X_test_261: (2831, 262)\n",
      "Shape of X_test_262: (2831, 263)\n",
      "Shape of X_test_263: (2831, 264)\n",
      "Shape of X_test_264: (2831, 265)\n",
      "Shape of X_test_265: (2831, 266)\n"
     ]
    },
    {
     "name": "stderr",
     "output_type": "stream",
     "text": [
      "Loading test DataFrames:  54%|█████▍    | 270/499 [00:05<00:09, 24.09it/s]"
     ]
    },
    {
     "name": "stdout",
     "output_type": "stream",
     "text": [
      "Shape of X_test_266: (2831, 267)\n",
      "Shape of X_test_267: (2831, 268)\n",
      "Shape of X_test_268: (2831, 269)\n",
      "Shape of X_test_269: (2831, 270)\n",
      "Shape of X_test_270: (2831, 271)\n"
     ]
    },
    {
     "name": "stderr",
     "output_type": "stream",
     "text": [
      "Loading test DataFrames:  55%|█████▍    | 273/499 [00:05<00:09, 24.10it/s]"
     ]
    },
    {
     "name": "stdout",
     "output_type": "stream",
     "text": [
      "Shape of X_test_271: (2831, 272)\n",
      "Shape of X_test_272: (2831, 273)\n",
      "Shape of X_test_273: (2831, 274)\n",
      "Shape of X_test_274: (2831, 275)\n",
      "Shape of X_test_275: (2831, 276)\n"
     ]
    },
    {
     "name": "stderr",
     "output_type": "stream",
     "text": [
      "Loading test DataFrames:  56%|█████▌    | 279/499 [00:06<00:09, 23.91it/s]"
     ]
    },
    {
     "name": "stdout",
     "output_type": "stream",
     "text": [
      "Shape of X_test_276: (2831, 277)\n",
      "Shape of X_test_277: (2831, 278)\n",
      "Shape of X_test_278: (2831, 279)\n",
      "Shape of X_test_279: (2831, 280)\n",
      "Shape of X_test_280: (2831, 281)\n"
     ]
    },
    {
     "name": "stderr",
     "output_type": "stream",
     "text": [
      "Loading test DataFrames:  57%|█████▋    | 285/499 [00:06<00:09, 23.18it/s]"
     ]
    },
    {
     "name": "stdout",
     "output_type": "stream",
     "text": [
      "Shape of X_test_281: (2831, 282)\n",
      "Shape of X_test_282: (2831, 283)\n",
      "Shape of X_test_283: (2831, 284)\n",
      "Shape of X_test_284: (2831, 285)\n",
      "Shape of X_test_285: (2831, 286)\n"
     ]
    },
    {
     "name": "stderr",
     "output_type": "stream",
     "text": [
      "Loading test DataFrames:  58%|█████▊    | 288/499 [00:06<00:09, 23.27it/s]"
     ]
    },
    {
     "name": "stdout",
     "output_type": "stream",
     "text": [
      "Shape of X_test_286: (2831, 287)\n",
      "Shape of X_test_287: (2831, 288)\n",
      "Shape of X_test_288: (2831, 289)\n",
      "Shape of X_test_289: (2831, 290)\n",
      "Shape of X_test_290: (2831, 291)\n"
     ]
    },
    {
     "name": "stderr",
     "output_type": "stream",
     "text": [
      "Loading test DataFrames:  59%|█████▉    | 294/499 [00:06<00:09, 21.94it/s]"
     ]
    },
    {
     "name": "stdout",
     "output_type": "stream",
     "text": [
      "Shape of X_test_291: (2831, 292)\n",
      "Shape of X_test_292: (2831, 293)\n",
      "Shape of X_test_293: (2831, 294)\n",
      "Shape of X_test_294: (2831, 295)\n",
      "Shape of X_test_295: (2831, 296)\n"
     ]
    },
    {
     "name": "stderr",
     "output_type": "stream",
     "text": [
      "Loading test DataFrames:  60%|██████    | 300/499 [00:07<00:08, 22.19it/s]"
     ]
    },
    {
     "name": "stdout",
     "output_type": "stream",
     "text": [
      "Shape of X_test_296: (2831, 297)\n",
      "Shape of X_test_297: (2831, 298)\n",
      "Shape of X_test_298: (2831, 299)\n",
      "Shape of X_test_299: (2831, 300)\n",
      "Shape of X_test_300: (2831, 301)\n"
     ]
    },
    {
     "name": "stderr",
     "output_type": "stream",
     "text": [
      "Loading test DataFrames:  61%|██████    | 303/499 [00:07<00:08, 22.22it/s]"
     ]
    },
    {
     "name": "stdout",
     "output_type": "stream",
     "text": [
      "Shape of X_test_301: (2831, 302)\n",
      "Shape of X_test_302: (2831, 303)\n",
      "Shape of X_test_303: (2831, 304)\n",
      "Shape of X_test_304: (2831, 305)\n",
      "Shape of X_test_305: (2831, 306)\n"
     ]
    },
    {
     "name": "stderr",
     "output_type": "stream",
     "text": [
      "Loading test DataFrames:  62%|██████▏   | 309/499 [00:07<00:08, 21.57it/s]"
     ]
    },
    {
     "name": "stdout",
     "output_type": "stream",
     "text": [
      "Shape of X_test_306: (2831, 307)\n",
      "Shape of X_test_307: (2831, 308)\n",
      "Shape of X_test_308: (2831, 309)\n",
      "Shape of X_test_309: (2831, 310)\n",
      "Shape of X_test_310: (2831, 311)\n"
     ]
    },
    {
     "name": "stderr",
     "output_type": "stream",
     "text": [
      "Loading test DataFrames:  63%|██████▎   | 315/499 [00:07<00:08, 21.61it/s]"
     ]
    },
    {
     "name": "stdout",
     "output_type": "stream",
     "text": [
      "Shape of X_test_311: (2831, 312)\n",
      "Shape of X_test_312: (2831, 313)\n",
      "Shape of X_test_313: (2831, 314)\n",
      "Shape of X_test_314: (2831, 315)\n",
      "Shape of X_test_315: (2831, 316)\n"
     ]
    },
    {
     "name": "stderr",
     "output_type": "stream",
     "text": [
      "Loading test DataFrames:  64%|██████▎   | 318/499 [00:07<00:08, 21.50it/s]"
     ]
    },
    {
     "name": "stdout",
     "output_type": "stream",
     "text": [
      "Shape of X_test_316: (2831, 317)\n",
      "Shape of X_test_317: (2831, 318)\n",
      "Shape of X_test_318: (2831, 319)\n",
      "Shape of X_test_319: (2831, 320)\n",
      "Shape of X_test_320: (2831, 321)\n"
     ]
    },
    {
     "name": "stderr",
     "output_type": "stream",
     "text": [
      "Loading test DataFrames:  65%|██████▍   | 324/499 [00:08<00:08, 20.00it/s]"
     ]
    },
    {
     "name": "stdout",
     "output_type": "stream",
     "text": [
      "Shape of X_test_321: (2831, 322)\n",
      "Shape of X_test_322: (2831, 323)\n",
      "Shape of X_test_323: (2831, 324)\n",
      "Shape of X_test_324: (2831, 325)\n"
     ]
    },
    {
     "name": "stderr",
     "output_type": "stream",
     "text": [
      "Loading test DataFrames:  66%|██████▌   | 327/499 [00:08<00:08, 20.21it/s]"
     ]
    },
    {
     "name": "stdout",
     "output_type": "stream",
     "text": [
      "Shape of X_test_325: (2831, 326)\n",
      "Shape of X_test_326: (2831, 327)\n",
      "Shape of X_test_327: (2831, 328)\n",
      "Shape of X_test_328: (2831, 329)\n",
      "Shape of X_test_329: (2831, 330)\n"
     ]
    },
    {
     "name": "stderr",
     "output_type": "stream",
     "text": [
      "Loading test DataFrames:  67%|██████▋   | 333/499 [00:08<00:08, 20.08it/s]"
     ]
    },
    {
     "name": "stdout",
     "output_type": "stream",
     "text": [
      "Shape of X_test_330: (2831, 331)\n",
      "Shape of X_test_331: (2831, 332)\n",
      "Shape of X_test_332: (2831, 333)\n",
      "Shape of X_test_333: (2831, 334)\n",
      "Shape of X_test_334: (2831, 335)\n"
     ]
    },
    {
     "name": "stderr",
     "output_type": "stream",
     "text": [
      "Loading test DataFrames:  67%|██████▋   | 336/499 [00:08<00:08, 20.22it/s]"
     ]
    },
    {
     "name": "stdout",
     "output_type": "stream",
     "text": [
      "Shape of X_test_335: (2831, 336)\n",
      "Shape of X_test_336: (2831, 337)\n",
      "Shape of X_test_337: (2831, 338)\n",
      "Shape of X_test_338: (2831, 339)\n"
     ]
    },
    {
     "name": "stderr",
     "output_type": "stream",
     "text": [
      "Loading test DataFrames:  69%|██████▊   | 342/499 [00:09<00:07, 20.08it/s]"
     ]
    },
    {
     "name": "stdout",
     "output_type": "stream",
     "text": [
      "Shape of X_test_339: (2831, 340)\n",
      "Shape of X_test_340: (2831, 341)\n",
      "Shape of X_test_341: (2831, 342)\n",
      "Shape of X_test_342: (2831, 343)\n",
      "Shape of X_test_343: (2831, 344)\n"
     ]
    },
    {
     "name": "stderr",
     "output_type": "stream",
     "text": [
      "Loading test DataFrames:  69%|██████▉   | 345/499 [00:09<00:07, 20.00it/s]"
     ]
    },
    {
     "name": "stdout",
     "output_type": "stream",
     "text": [
      "Shape of X_test_344: (2831, 345)\n",
      "Shape of X_test_345: (2831, 346)\n",
      "Shape of X_test_346: (2831, 347)\n",
      "Shape of X_test_347: (2831, 348)\n"
     ]
    },
    {
     "name": "stderr",
     "output_type": "stream",
     "text": [
      "Loading test DataFrames:  70%|███████   | 350/499 [00:09<00:07, 18.85it/s]"
     ]
    },
    {
     "name": "stdout",
     "output_type": "stream",
     "text": [
      "Shape of X_test_348: (2831, 349)\n",
      "Shape of X_test_349: (2831, 350)\n",
      "Shape of X_test_350: (2831, 351)\n",
      "Shape of X_test_351: (2831, 352)\n"
     ]
    },
    {
     "name": "stderr",
     "output_type": "stream",
     "text": [
      "Loading test DataFrames:  71%|███████   | 354/499 [00:09<00:07, 18.85it/s]"
     ]
    },
    {
     "name": "stdout",
     "output_type": "stream",
     "text": [
      "Shape of X_test_352: (2831, 353)\n",
      "Shape of X_test_353: (2831, 354)\n",
      "Shape of X_test_354: (2831, 355)\n",
      "Shape of X_test_355: (2831, 356)\n"
     ]
    },
    {
     "name": "stderr",
     "output_type": "stream",
     "text": [
      "Loading test DataFrames:  72%|███████▏  | 358/499 [00:10<00:07, 18.37it/s]"
     ]
    },
    {
     "name": "stdout",
     "output_type": "stream",
     "text": [
      "Shape of X_test_356: (2831, 357)\n",
      "Shape of X_test_357: (2831, 358)\n",
      "Shape of X_test_358: (2831, 359)\n",
      "Shape of X_test_359: (2831, 360)\n"
     ]
    },
    {
     "name": "stderr",
     "output_type": "stream",
     "text": [
      "Loading test DataFrames:  73%|███████▎  | 362/499 [00:10<00:07, 18.65it/s]"
     ]
    },
    {
     "name": "stdout",
     "output_type": "stream",
     "text": [
      "Shape of X_test_360: (2831, 361)\n",
      "Shape of X_test_361: (2831, 362)\n",
      "Shape of X_test_362: (2831, 363)\n",
      "Shape of X_test_363: (2831, 364)\n"
     ]
    },
    {
     "name": "stderr",
     "output_type": "stream",
     "text": [
      "Loading test DataFrames:  73%|███████▎  | 366/499 [00:10<00:07, 18.51it/s]"
     ]
    },
    {
     "name": "stdout",
     "output_type": "stream",
     "text": [
      "Shape of X_test_364: (2831, 365)\n",
      "Shape of X_test_365: (2831, 366)\n",
      "Shape of X_test_366: (2831, 367)\n",
      "Shape of X_test_367: (2831, 368)\n"
     ]
    },
    {
     "name": "stderr",
     "output_type": "stream",
     "text": [
      "Loading test DataFrames:  74%|███████▍  | 370/499 [00:10<00:06, 18.60it/s]"
     ]
    },
    {
     "name": "stdout",
     "output_type": "stream",
     "text": [
      "Shape of X_test_368: (2831, 369)\n",
      "Shape of X_test_369: (2831, 370)\n",
      "Shape of X_test_370: (2831, 371)\n",
      "Shape of X_test_371: (2831, 372)\n"
     ]
    },
    {
     "name": "stderr",
     "output_type": "stream",
     "text": [
      "Loading test DataFrames:  75%|███████▍  | 374/499 [00:10<00:06, 18.00it/s]"
     ]
    },
    {
     "name": "stdout",
     "output_type": "stream",
     "text": [
      "Shape of X_test_372: (2831, 373)\n",
      "Shape of X_test_373: (2831, 374)\n",
      "Shape of X_test_374: (2831, 375)\n",
      "Shape of X_test_375: (2831, 376)\n"
     ]
    },
    {
     "name": "stderr",
     "output_type": "stream",
     "text": [
      "Loading test DataFrames:  76%|███████▌  | 378/499 [00:11<00:07, 16.68it/s]"
     ]
    },
    {
     "name": "stdout",
     "output_type": "stream",
     "text": [
      "Shape of X_test_376: (2831, 377)\n",
      "Shape of X_test_377: (2831, 378)\n",
      "Shape of X_test_378: (2831, 379)\n",
      "Shape of X_test_379: (2831, 380)\n"
     ]
    },
    {
     "name": "stderr",
     "output_type": "stream",
     "text": [
      "Loading test DataFrames:  77%|███████▋  | 382/499 [00:11<00:06, 17.62it/s]"
     ]
    },
    {
     "name": "stdout",
     "output_type": "stream",
     "text": [
      "Shape of X_test_380: (2831, 381)\n",
      "Shape of X_test_381: (2831, 382)\n",
      "Shape of X_test_382: (2831, 383)\n",
      "Shape of X_test_383: (2831, 384)\n"
     ]
    },
    {
     "name": "stderr",
     "output_type": "stream",
     "text": [
      "Loading test DataFrames:  77%|███████▋  | 386/499 [00:11<00:06, 17.53it/s]"
     ]
    },
    {
     "name": "stdout",
     "output_type": "stream",
     "text": [
      "Shape of X_test_384: (2831, 385)\n",
      "Shape of X_test_385: (2831, 386)\n",
      "Shape of X_test_386: (2831, 387)\n",
      "Shape of X_test_387: (2831, 388)\n"
     ]
    },
    {
     "name": "stderr",
     "output_type": "stream",
     "text": [
      "Loading test DataFrames:  78%|███████▊  | 390/499 [00:11<00:06, 17.78it/s]"
     ]
    },
    {
     "name": "stdout",
     "output_type": "stream",
     "text": [
      "Shape of X_test_388: (2831, 389)\n",
      "Shape of X_test_389: (2831, 390)\n",
      "Shape of X_test_390: (2831, 391)\n",
      "Shape of X_test_391: (2831, 392)\n"
     ]
    },
    {
     "name": "stderr",
     "output_type": "stream",
     "text": [
      "Loading test DataFrames:  79%|███████▉  | 394/499 [00:12<00:05, 17.71it/s]"
     ]
    },
    {
     "name": "stdout",
     "output_type": "stream",
     "text": [
      "Shape of X_test_392: (2831, 393)\n",
      "Shape of X_test_393: (2831, 394)\n",
      "Shape of X_test_394: (2831, 395)\n",
      "Shape of X_test_395: (2831, 396)\n"
     ]
    },
    {
     "name": "stderr",
     "output_type": "stream",
     "text": [
      "Loading test DataFrames:  80%|███████▉  | 398/499 [00:12<00:05, 17.75it/s]"
     ]
    },
    {
     "name": "stdout",
     "output_type": "stream",
     "text": [
      "Shape of X_test_396: (2831, 397)\n",
      "Shape of X_test_397: (2831, 398)\n",
      "Shape of X_test_398: (2831, 399)\n",
      "Shape of X_test_399: (2831, 400)\n"
     ]
    },
    {
     "name": "stderr",
     "output_type": "stream",
     "text": [
      "Loading test DataFrames:  81%|████████  | 402/499 [00:12<00:05, 16.84it/s]"
     ]
    },
    {
     "name": "stdout",
     "output_type": "stream",
     "text": [
      "Shape of X_test_400: (2831, 401)\n",
      "Shape of X_test_401: (2831, 402)\n",
      "Shape of X_test_402: (2831, 403)\n",
      "Shape of X_test_403: (2831, 404)\n"
     ]
    },
    {
     "name": "stderr",
     "output_type": "stream",
     "text": [
      "Loading test DataFrames:  81%|████████▏ | 406/499 [00:12<00:05, 17.10it/s]"
     ]
    },
    {
     "name": "stdout",
     "output_type": "stream",
     "text": [
      "Shape of X_test_404: (2831, 405)\n",
      "Shape of X_test_405: (2831, 406)\n",
      "Shape of X_test_406: (2831, 407)\n",
      "Shape of X_test_407: (2831, 408)\n"
     ]
    },
    {
     "name": "stderr",
     "output_type": "stream",
     "text": [
      "Loading test DataFrames:  82%|████████▏ | 410/499 [00:13<00:05, 17.13it/s]"
     ]
    },
    {
     "name": "stdout",
     "output_type": "stream",
     "text": [
      "Shape of X_test_408: (2831, 409)\n",
      "Shape of X_test_409: (2831, 410)\n",
      "Shape of X_test_410: (2831, 411)\n",
      "Shape of X_test_411: (2831, 412)\n"
     ]
    },
    {
     "name": "stderr",
     "output_type": "stream",
     "text": [
      "Loading test DataFrames:  83%|████████▎ | 414/499 [00:13<00:05, 16.76it/s]"
     ]
    },
    {
     "name": "stdout",
     "output_type": "stream",
     "text": [
      "Shape of X_test_412: (2831, 413)\n",
      "Shape of X_test_413: (2831, 414)\n",
      "Shape of X_test_414: (2831, 415)\n",
      "Shape of X_test_415: (2831, 416)\n"
     ]
    },
    {
     "name": "stderr",
     "output_type": "stream",
     "text": [
      "Loading test DataFrames:  84%|████████▍ | 418/499 [00:13<00:04, 17.06it/s]"
     ]
    },
    {
     "name": "stdout",
     "output_type": "stream",
     "text": [
      "Shape of X_test_416: (2831, 417)\n",
      "Shape of X_test_417: (2831, 418)\n",
      "Shape of X_test_418: (2831, 419)\n",
      "Shape of X_test_419: (2831, 420)\n"
     ]
    },
    {
     "name": "stderr",
     "output_type": "stream",
     "text": [
      "Loading test DataFrames:  85%|████████▍ | 422/499 [00:13<00:04, 16.05it/s]"
     ]
    },
    {
     "name": "stdout",
     "output_type": "stream",
     "text": [
      "Shape of X_test_420: (2831, 421)\n",
      "Shape of X_test_421: (2831, 422)\n",
      "Shape of X_test_422: (2831, 423)\n",
      "Shape of X_test_423: (2831, 424)\n"
     ]
    },
    {
     "name": "stderr",
     "output_type": "stream",
     "text": [
      "Loading test DataFrames:  85%|████████▌ | 426/499 [00:14<00:04, 16.29it/s]"
     ]
    },
    {
     "name": "stdout",
     "output_type": "stream",
     "text": [
      "Shape of X_test_424: (2831, 425)\n",
      "Shape of X_test_425: (2831, 426)\n",
      "Shape of X_test_426: (2831, 427)\n",
      "Shape of X_test_427: (2831, 428)\n"
     ]
    },
    {
     "name": "stderr",
     "output_type": "stream",
     "text": [
      "Loading test DataFrames:  86%|████████▌ | 430/499 [00:14<00:04, 16.10it/s]"
     ]
    },
    {
     "name": "stdout",
     "output_type": "stream",
     "text": [
      "Shape of X_test_428: (2831, 429)\n",
      "Shape of X_test_429: (2831, 430)\n",
      "Shape of X_test_430: (2831, 431)\n"
     ]
    },
    {
     "name": "stderr",
     "output_type": "stream",
     "text": [
      "Loading test DataFrames:  87%|████████▋ | 434/499 [00:14<00:04, 15.20it/s]"
     ]
    },
    {
     "name": "stdout",
     "output_type": "stream",
     "text": [
      "Shape of X_test_431: (2831, 432)\n",
      "Shape of X_test_432: (2831, 433)\n",
      "Shape of X_test_433: (2831, 434)\n",
      "Shape of X_test_434: (2831, 435)\n"
     ]
    },
    {
     "name": "stderr",
     "output_type": "stream",
     "text": [
      "Loading test DataFrames:  88%|████████▊ | 438/499 [00:14<00:03, 15.49it/s]"
     ]
    },
    {
     "name": "stdout",
     "output_type": "stream",
     "text": [
      "Shape of X_test_435: (2831, 436)\n",
      "Shape of X_test_436: (2831, 437)\n",
      "Shape of X_test_437: (2831, 438)\n",
      "Shape of X_test_438: (2831, 439)\n"
     ]
    },
    {
     "name": "stderr",
     "output_type": "stream",
     "text": [
      "Loading test DataFrames:  89%|████████▊ | 442/499 [00:15<00:03, 15.90it/s]"
     ]
    },
    {
     "name": "stdout",
     "output_type": "stream",
     "text": [
      "Shape of X_test_439: (2831, 440)\n",
      "Shape of X_test_440: (2831, 441)\n",
      "Shape of X_test_441: (2831, 442)\n",
      "Shape of X_test_442: (2831, 443)\n"
     ]
    },
    {
     "name": "stderr",
     "output_type": "stream",
     "text": [
      "Loading test DataFrames:  89%|████████▉ | 444/499 [00:15<00:03, 15.93it/s]"
     ]
    },
    {
     "name": "stdout",
     "output_type": "stream",
     "text": [
      "Shape of X_test_443: (2831, 444)\n",
      "Shape of X_test_444: (2831, 445)\n",
      "Shape of X_test_445: (2831, 446)\n"
     ]
    },
    {
     "name": "stderr",
     "output_type": "stream",
     "text": [
      "Loading test DataFrames:  90%|████████▉ | 448/499 [00:15<00:03, 15.08it/s]"
     ]
    },
    {
     "name": "stdout",
     "output_type": "stream",
     "text": [
      "Shape of X_test_446: (2831, 447)\n",
      "Shape of X_test_447: (2831, 448)\n",
      "Shape of X_test_448: (2831, 449)\n",
      "Shape of X_test_449: (2831, 450)\n"
     ]
    },
    {
     "name": "stderr",
     "output_type": "stream",
     "text": [
      "Loading test DataFrames:  91%|█████████ | 452/499 [00:15<00:03, 15.60it/s]"
     ]
    },
    {
     "name": "stdout",
     "output_type": "stream",
     "text": [
      "Shape of X_test_450: (2831, 451)\n",
      "Shape of X_test_451: (2831, 452)\n",
      "Shape of X_test_452: (2831, 453)\n",
      "Shape of X_test_453: (2831, 454)\n"
     ]
    },
    {
     "name": "stderr",
     "output_type": "stream",
     "text": [
      "Loading test DataFrames:  91%|█████████▏| 456/499 [00:15<00:02, 15.84it/s]"
     ]
    },
    {
     "name": "stdout",
     "output_type": "stream",
     "text": [
      "Shape of X_test_454: (2831, 455)\n",
      "Shape of X_test_455: (2831, 456)\n",
      "Shape of X_test_456: (2831, 457)\n",
      "Shape of X_test_457: (2831, 458)\n"
     ]
    },
    {
     "name": "stderr",
     "output_type": "stream",
     "text": [
      "Loading test DataFrames:  92%|█████████▏| 460/499 [00:16<00:02, 15.60it/s]"
     ]
    },
    {
     "name": "stdout",
     "output_type": "stream",
     "text": [
      "Shape of X_test_458: (2831, 459)\n",
      "Shape of X_test_459: (2831, 460)\n",
      "Shape of X_test_460: (2831, 461)\n",
      "Shape of X_test_461: (2831, 462)\n"
     ]
    },
    {
     "name": "stderr",
     "output_type": "stream",
     "text": [
      "Loading test DataFrames:  93%|█████████▎| 464/499 [00:16<00:02, 15.42it/s]"
     ]
    },
    {
     "name": "stdout",
     "output_type": "stream",
     "text": [
      "Shape of X_test_462: (2831, 463)\n",
      "Shape of X_test_463: (2831, 464)\n",
      "Shape of X_test_464: (2831, 465)\n",
      "Shape of X_test_465: (2831, 466)\n"
     ]
    },
    {
     "name": "stderr",
     "output_type": "stream",
     "text": [
      "Loading test DataFrames:  94%|█████████▍| 468/499 [00:16<00:02, 14.67it/s]"
     ]
    },
    {
     "name": "stdout",
     "output_type": "stream",
     "text": [
      "Shape of X_test_466: (2831, 467)\n",
      "Shape of X_test_467: (2831, 468)\n",
      "Shape of X_test_468: (2831, 469)\n"
     ]
    },
    {
     "name": "stderr",
     "output_type": "stream",
     "text": [
      "Loading test DataFrames:  95%|█████████▍| 472/499 [00:17<00:01, 14.91it/s]"
     ]
    },
    {
     "name": "stdout",
     "output_type": "stream",
     "text": [
      "Shape of X_test_469: (2831, 470)\n",
      "Shape of X_test_470: (2831, 471)\n",
      "Shape of X_test_471: (2831, 472)\n",
      "Shape of X_test_472: (2831, 473)\n"
     ]
    },
    {
     "name": "stderr",
     "output_type": "stream",
     "text": [
      "Loading test DataFrames:  95%|█████████▍| 474/499 [00:17<00:01, 14.66it/s]"
     ]
    },
    {
     "name": "stdout",
     "output_type": "stream",
     "text": [
      "Shape of X_test_473: (2831, 474)\n",
      "Shape of X_test_474: (2831, 475)\n",
      "Shape of X_test_475: (2831, 476)\n"
     ]
    },
    {
     "name": "stderr",
     "output_type": "stream",
     "text": [
      "Loading test DataFrames:  96%|█████████▌| 478/499 [00:17<00:01, 14.64it/s]"
     ]
    },
    {
     "name": "stdout",
     "output_type": "stream",
     "text": [
      "Shape of X_test_476: (2831, 477)\n",
      "Shape of X_test_477: (2831, 478)\n",
      "Shape of X_test_478: (2831, 479)\n"
     ]
    },
    {
     "name": "stderr",
     "output_type": "stream",
     "text": [
      "Loading test DataFrames:  97%|█████████▋| 482/499 [00:17<00:01, 14.88it/s]"
     ]
    },
    {
     "name": "stdout",
     "output_type": "stream",
     "text": [
      "Shape of X_test_479: (2831, 480)\n",
      "Shape of X_test_480: (2831, 481)\n",
      "Shape of X_test_481: (2831, 482)\n",
      "Shape of X_test_482: (2831, 483)\n"
     ]
    },
    {
     "name": "stderr",
     "output_type": "stream",
     "text": [
      "Loading test DataFrames:  97%|█████████▋| 484/499 [00:17<00:01, 14.92it/s]"
     ]
    },
    {
     "name": "stdout",
     "output_type": "stream",
     "text": [
      "Shape of X_test_483: (2831, 484)\n",
      "Shape of X_test_484: (2831, 485)\n",
      "Shape of X_test_485: (2831, 486)\n"
     ]
    },
    {
     "name": "stderr",
     "output_type": "stream",
     "text": [
      "Loading test DataFrames:  98%|█████████▊| 488/499 [00:18<00:00, 14.92it/s]"
     ]
    },
    {
     "name": "stdout",
     "output_type": "stream",
     "text": [
      "Shape of X_test_486: (2831, 487)\n",
      "Shape of X_test_487: (2831, 488)\n",
      "Shape of X_test_488: (2831, 489)\n"
     ]
    },
    {
     "name": "stderr",
     "output_type": "stream",
     "text": [
      "Loading test DataFrames:  98%|█████████▊| 490/499 [00:18<00:00, 14.87it/s]"
     ]
    },
    {
     "name": "stdout",
     "output_type": "stream",
     "text": [
      "Shape of X_test_489: (2831, 490)\n",
      "Shape of X_test_490: (2831, 491)\n",
      "Shape of X_test_491: (2831, 492)\n"
     ]
    },
    {
     "name": "stderr",
     "output_type": "stream",
     "text": [
      "Loading test DataFrames:  99%|█████████▉| 494/499 [00:18<00:00, 13.87it/s]"
     ]
    },
    {
     "name": "stdout",
     "output_type": "stream",
     "text": [
      "Shape of X_test_492: (2831, 493)\n",
      "Shape of X_test_493: (2831, 494)\n",
      "Shape of X_test_494: (2831, 495)\n"
     ]
    },
    {
     "name": "stderr",
     "output_type": "stream",
     "text": [
      "Loading test DataFrames:  99%|█████████▉| 496/499 [00:18<00:00, 13.93it/s]"
     ]
    },
    {
     "name": "stdout",
     "output_type": "stream",
     "text": [
      "Shape of X_test_495: (2831, 496)\n",
      "Shape of X_test_496: (2831, 497)\n",
      "Shape of X_test_497: (2831, 498)\n"
     ]
    },
    {
     "name": "stderr",
     "output_type": "stream",
     "text": [
      "Loading test DataFrames: 100%|██████████| 499/499 [00:18<00:00, 26.41it/s]\n"
     ]
    },
    {
     "name": "stdout",
     "output_type": "stream",
     "text": [
      "Shape of X_test_498: (2831, 499)\n",
      "Shape of X_test_499: (2831, 500)\n",
      "\n",
      "Total number of DataFrames: 499\n"
     ]
    },
    {
     "name": "stderr",
     "output_type": "stream",
     "text": [
      "Confirming test DataFrames: 100%|██████████| 499/499 [00:00<00:00, 238187.97it/s]"
     ]
    },
    {
     "name": "stdout",
     "output_type": "stream",
     "text": [
      "Shape of X_test_1: (2831, 2)\n",
      "Shape of X_test_2: (2831, 3)\n",
      "Shape of X_test_3: (2831, 4)\n",
      "Shape of X_test_4: (2831, 5)\n",
      "Shape of X_test_5: (2831, 6)\n",
      "Shape of X_test_6: (2831, 7)\n",
      "Shape of X_test_7: (2831, 8)\n",
      "Shape of X_test_8: (2831, 9)\n",
      "Shape of X_test_9: (2831, 10)\n",
      "Shape of X_test_10: (2831, 11)\n",
      "Shape of X_test_11: (2831, 12)\n",
      "Shape of X_test_12: (2831, 13)\n",
      "Shape of X_test_13: (2831, 14)\n",
      "Shape of X_test_14: (2831, 15)\n",
      "Shape of X_test_15: (2831, 16)\n",
      "Shape of X_test_16: (2831, 17)\n",
      "Shape of X_test_17: (2831, 18)\n",
      "Shape of X_test_18: (2831, 19)\n",
      "Shape of X_test_19: (2831, 20)\n",
      "Shape of X_test_20: (2831, 21)\n",
      "Shape of X_test_21: (2831, 22)\n",
      "Shape of X_test_22: (2831, 23)\n",
      "Shape of X_test_23: (2831, 24)\n",
      "Shape of X_test_24: (2831, 25)\n",
      "Shape of X_test_25: (2831, 26)\n",
      "Shape of X_test_26: (2831, 27)\n",
      "Shape of X_test_27: (2831, 28)\n",
      "Shape of X_test_28: (2831, 29)\n",
      "Shape of X_test_29: (2831, 30)\n",
      "Shape of X_test_30: (2831, 31)\n",
      "Shape of X_test_31: (2831, 32)\n",
      "Shape of X_test_32: (2831, 33)\n",
      "Shape of X_test_33: (2831, 34)\n",
      "Shape of X_test_34: (2831, 35)\n",
      "Shape of X_test_35: (2831, 36)\n",
      "Shape of X_test_36: (2831, 37)\n",
      "Shape of X_test_37: (2831, 38)\n",
      "Shape of X_test_38: (2831, 39)\n",
      "Shape of X_test_39: (2831, 40)\n",
      "Shape of X_test_40: (2831, 41)\n",
      "Shape of X_test_41: (2831, 42)\n",
      "Shape of X_test_42: (2831, 43)\n",
      "Shape of X_test_43: (2831, 44)\n",
      "Shape of X_test_44: (2831, 45)\n",
      "Shape of X_test_45: (2831, 46)\n",
      "Shape of X_test_46: (2831, 47)\n",
      "Shape of X_test_47: (2831, 48)\n",
      "Shape of X_test_48: (2831, 49)\n",
      "Shape of X_test_49: (2831, 50)\n",
      "Shape of X_test_50: (2831, 51)\n",
      "Shape of X_test_51: (2831, 52)\n",
      "Shape of X_test_52: (2831, 53)\n",
      "Shape of X_test_53: (2831, 54)\n",
      "Shape of X_test_54: (2831, 55)\n",
      "Shape of X_test_55: (2831, 56)\n",
      "Shape of X_test_56: (2831, 57)\n",
      "Shape of X_test_57: (2831, 58)\n",
      "Shape of X_test_58: (2831, 59)\n",
      "Shape of X_test_59: (2831, 60)\n",
      "Shape of X_test_60: (2831, 61)\n",
      "Shape of X_test_61: (2831, 62)\n",
      "Shape of X_test_62: (2831, 63)\n",
      "Shape of X_test_63: (2831, 64)\n",
      "Shape of X_test_64: (2831, 65)\n",
      "Shape of X_test_65: (2831, 66)\n",
      "Shape of X_test_66: (2831, 67)\n",
      "Shape of X_test_67: (2831, 68)\n",
      "Shape of X_test_68: (2831, 69)\n",
      "Shape of X_test_69: (2831, 70)\n",
      "Shape of X_test_70: (2831, 71)\n",
      "Shape of X_test_71: (2831, 72)\n",
      "Shape of X_test_72: (2831, 73)\n",
      "Shape of X_test_73: (2831, 74)\n",
      "Shape of X_test_74: (2831, 75)\n",
      "Shape of X_test_75: (2831, 76)\n",
      "Shape of X_test_76: (2831, 77)\n",
      "Shape of X_test_77: (2831, 78)\n",
      "Shape of X_test_78: (2831, 79)\n",
      "Shape of X_test_79: (2831, 80)\n",
      "Shape of X_test_80: (2831, 81)\n",
      "Shape of X_test_81: (2831, 82)\n",
      "Shape of X_test_82: (2831, 83)\n",
      "Shape of X_test_83: (2831, 84)\n",
      "Shape of X_test_84: (2831, 85)\n",
      "Shape of X_test_85: (2831, 86)\n",
      "Shape of X_test_86: (2831, 87)\n",
      "Shape of X_test_87: (2831, 88)\n",
      "Shape of X_test_88: (2831, 89)\n",
      "Shape of X_test_89: (2831, 90)\n",
      "Shape of X_test_90: (2831, 91)\n",
      "Shape of X_test_91: (2831, 92)\n",
      "Shape of X_test_92: (2831, 93)\n",
      "Shape of X_test_93: (2831, 94)\n",
      "Shape of X_test_94: (2831, 95)\n",
      "Shape of X_test_95: (2831, 96)\n",
      "Shape of X_test_96: (2831, 97)\n",
      "Shape of X_test_97: (2831, 98)\n",
      "Shape of X_test_98: (2831, 99)\n",
      "Shape of X_test_99: (2831, 100)\n",
      "Shape of X_test_100: (2831, 101)\n",
      "Shape of X_test_101: (2831, 102)\n",
      "Shape of X_test_102: (2831, 103)\n",
      "Shape of X_test_103: (2831, 104)\n",
      "Shape of X_test_104: (2831, 105)\n",
      "Shape of X_test_105: (2831, 106)\n",
      "Shape of X_test_106: (2831, 107)\n",
      "Shape of X_test_107: (2831, 108)\n",
      "Shape of X_test_108: (2831, 109)\n",
      "Shape of X_test_109: (2831, 110)\n",
      "Shape of X_test_110: (2831, 111)\n",
      "Shape of X_test_111: (2831, 112)\n",
      "Shape of X_test_112: (2831, 113)\n",
      "Shape of X_test_113: (2831, 114)\n",
      "Shape of X_test_114: (2831, 115)\n",
      "Shape of X_test_115: (2831, 116)\n",
      "Shape of X_test_116: (2831, 117)\n",
      "Shape of X_test_117: (2831, 118)\n",
      "Shape of X_test_118: (2831, 119)\n",
      "Shape of X_test_119: (2831, 120)\n",
      "Shape of X_test_120: (2831, 121)\n",
      "Shape of X_test_121: (2831, 122)\n",
      "Shape of X_test_122: (2831, 123)\n",
      "Shape of X_test_123: (2831, 124)\n",
      "Shape of X_test_124: (2831, 125)\n",
      "Shape of X_test_125: (2831, 126)\n",
      "Shape of X_test_126: (2831, 127)\n",
      "Shape of X_test_127: (2831, 128)\n",
      "Shape of X_test_128: (2831, 129)\n",
      "Shape of X_test_129: (2831, 130)\n",
      "Shape of X_test_130: (2831, 131)\n",
      "Shape of X_test_131: (2831, 132)\n",
      "Shape of X_test_132: (2831, 133)\n",
      "Shape of X_test_133: (2831, 134)\n",
      "Shape of X_test_134: (2831, 135)\n",
      "Shape of X_test_135: (2831, 136)\n",
      "Shape of X_test_136: (2831, 137)\n",
      "Shape of X_test_137: (2831, 138)\n",
      "Shape of X_test_138: (2831, 139)\n",
      "Shape of X_test_139: (2831, 140)\n",
      "Shape of X_test_140: (2831, 141)\n",
      "Shape of X_test_141: (2831, 142)\n",
      "Shape of X_test_142: (2831, 143)\n",
      "Shape of X_test_143: (2831, 144)\n",
      "Shape of X_test_144: (2831, 145)\n",
      "Shape of X_test_145: (2831, 146)\n",
      "Shape of X_test_146: (2831, 147)\n",
      "Shape of X_test_147: (2831, 148)\n",
      "Shape of X_test_148: (2831, 149)\n",
      "Shape of X_test_149: (2831, 150)\n",
      "Shape of X_test_150: (2831, 151)\n",
      "Shape of X_test_151: (2831, 152)\n",
      "Shape of X_test_152: (2831, 153)\n",
      "Shape of X_test_153: (2831, 154)\n",
      "Shape of X_test_154: (2831, 155)\n",
      "Shape of X_test_155: (2831, 156)\n",
      "Shape of X_test_156: (2831, 157)\n",
      "Shape of X_test_157: (2831, 158)\n",
      "Shape of X_test_158: (2831, 159)\n",
      "Shape of X_test_159: (2831, 160)\n",
      "Shape of X_test_160: (2831, 161)\n",
      "Shape of X_test_161: (2831, 162)\n",
      "Shape of X_test_162: (2831, 163)\n",
      "Shape of X_test_163: (2831, 164)\n",
      "Shape of X_test_164: (2831, 165)\n",
      "Shape of X_test_165: (2831, 166)\n",
      "Shape of X_test_166: (2831, 167)\n",
      "Shape of X_test_167: (2831, 168)\n",
      "Shape of X_test_168: (2831, 169)\n",
      "Shape of X_test_169: (2831, 170)\n",
      "Shape of X_test_170: (2831, 171)\n",
      "Shape of X_test_171: (2831, 172)\n",
      "Shape of X_test_172: (2831, 173)\n",
      "Shape of X_test_173: (2831, 174)\n",
      "Shape of X_test_174: (2831, 175)\n",
      "Shape of X_test_175: (2831, 176)\n",
      "Shape of X_test_176: (2831, 177)\n",
      "Shape of X_test_177: (2831, 178)\n",
      "Shape of X_test_178: (2831, 179)\n",
      "Shape of X_test_179: (2831, 180)\n",
      "Shape of X_test_180: (2831, 181)\n",
      "Shape of X_test_181: (2831, 182)\n",
      "Shape of X_test_182: (2831, 183)\n",
      "Shape of X_test_183: (2831, 184)\n",
      "Shape of X_test_184: (2831, 185)\n",
      "Shape of X_test_185: (2831, 186)\n",
      "Shape of X_test_186: (2831, 187)\n",
      "Shape of X_test_187: (2831, 188)\n",
      "Shape of X_test_188: (2831, 189)\n",
      "Shape of X_test_189: (2831, 190)\n",
      "Shape of X_test_190: (2831, 191)\n",
      "Shape of X_test_191: (2831, 192)\n",
      "Shape of X_test_192: (2831, 193)\n",
      "Shape of X_test_193: (2831, 194)\n",
      "Shape of X_test_194: (2831, 195)\n",
      "Shape of X_test_195: (2831, 196)\n",
      "Shape of X_test_196: (2831, 197)\n",
      "Shape of X_test_197: (2831, 198)\n",
      "Shape of X_test_198: (2831, 199)\n",
      "Shape of X_test_199: (2831, 200)\n",
      "Shape of X_test_200: (2831, 201)\n",
      "Shape of X_test_201: (2831, 202)\n",
      "Shape of X_test_202: (2831, 203)\n",
      "Shape of X_test_203: (2831, 204)\n",
      "Shape of X_test_204: (2831, 205)\n",
      "Shape of X_test_205: (2831, 206)\n",
      "Shape of X_test_206: (2831, 207)\n",
      "Shape of X_test_207: (2831, 208)\n",
      "Shape of X_test_208: (2831, 209)\n",
      "Shape of X_test_209: (2831, 210)\n",
      "Shape of X_test_210: (2831, 211)\n",
      "Shape of X_test_211: (2831, 212)\n",
      "Shape of X_test_212: (2831, 213)\n",
      "Shape of X_test_213: (2831, 214)\n",
      "Shape of X_test_214: (2831, 215)\n",
      "Shape of X_test_215: (2831, 216)\n",
      "Shape of X_test_216: (2831, 217)\n",
      "Shape of X_test_217: (2831, 218)\n",
      "Shape of X_test_218: (2831, 219)\n",
      "Shape of X_test_219: (2831, 220)\n",
      "Shape of X_test_220: (2831, 221)\n",
      "Shape of X_test_221: (2831, 222)\n",
      "Shape of X_test_222: (2831, 223)\n",
      "Shape of X_test_223: (2831, 224)\n",
      "Shape of X_test_224: (2831, 225)\n",
      "Shape of X_test_225: (2831, 226)\n",
      "Shape of X_test_226: (2831, 227)\n",
      "Shape of X_test_227: (2831, 228)\n",
      "Shape of X_test_228: (2831, 229)\n",
      "Shape of X_test_229: (2831, 230)\n",
      "Shape of X_test_230: (2831, 231)\n",
      "Shape of X_test_231: (2831, 232)\n",
      "Shape of X_test_232: (2831, 233)\n",
      "Shape of X_test_233: (2831, 234)\n",
      "Shape of X_test_234: (2831, 235)\n",
      "Shape of X_test_235: (2831, 236)\n",
      "Shape of X_test_236: (2831, 237)\n",
      "Shape of X_test_237: (2831, 238)\n",
      "Shape of X_test_238: (2831, 239)\n",
      "Shape of X_test_239: (2831, 240)\n",
      "Shape of X_test_240: (2831, 241)\n",
      "Shape of X_test_241: (2831, 242)\n",
      "Shape of X_test_242: (2831, 243)\n",
      "Shape of X_test_243: (2831, 244)\n",
      "Shape of X_test_244: (2831, 245)\n",
      "Shape of X_test_245: (2831, 246)\n",
      "Shape of X_test_246: (2831, 247)\n",
      "Shape of X_test_247: (2831, 248)\n",
      "Shape of X_test_248: (2831, 249)\n",
      "Shape of X_test_249: (2831, 250)\n",
      "Shape of X_test_250: (2831, 251)\n",
      "Shape of X_test_251: (2831, 252)\n",
      "Shape of X_test_252: (2831, 253)\n",
      "Shape of X_test_253: (2831, 254)\n",
      "Shape of X_test_254: (2831, 255)\n",
      "Shape of X_test_255: (2831, 256)\n",
      "Shape of X_test_256: (2831, 257)\n",
      "Shape of X_test_257: (2831, 258)\n",
      "Shape of X_test_258: (2831, 259)\n",
      "Shape of X_test_259: (2831, 260)\n",
      "Shape of X_test_260: (2831, 261)\n",
      "Shape of X_test_261: (2831, 262)\n",
      "Shape of X_test_262: (2831, 263)\n",
      "Shape of X_test_263: (2831, 264)\n",
      "Shape of X_test_264: (2831, 265)\n",
      "Shape of X_test_265: (2831, 266)\n",
      "Shape of X_test_266: (2831, 267)\n",
      "Shape of X_test_267: (2831, 268)\n",
      "Shape of X_test_268: (2831, 269)\n",
      "Shape of X_test_269: (2831, 270)\n",
      "Shape of X_test_270: (2831, 271)\n",
      "Shape of X_test_271: (2831, 272)\n",
      "Shape of X_test_272: (2831, 273)\n",
      "Shape of X_test_273: (2831, 274)\n",
      "Shape of X_test_274: (2831, 275)\n",
      "Shape of X_test_275: (2831, 276)\n",
      "Shape of X_test_276: (2831, 277)\n",
      "Shape of X_test_277: (2831, 278)\n",
      "Shape of X_test_278: (2831, 279)\n",
      "Shape of X_test_279: (2831, 280)\n",
      "Shape of X_test_280: (2831, 281)\n",
      "Shape of X_test_281: (2831, 282)\n",
      "Shape of X_test_282: (2831, 283)\n",
      "Shape of X_test_283: (2831, 284)\n",
      "Shape of X_test_284: (2831, 285)\n",
      "Shape of X_test_285: (2831, 286)\n",
      "Shape of X_test_286: (2831, 287)\n",
      "Shape of X_test_287: (2831, 288)\n",
      "Shape of X_test_288: (2831, 289)\n",
      "Shape of X_test_289: (2831, 290)\n",
      "Shape of X_test_290: (2831, 291)\n",
      "Shape of X_test_291: (2831, 292)\n",
      "Shape of X_test_292: (2831, 293)\n",
      "Shape of X_test_293: (2831, 294)\n",
      "Shape of X_test_294: (2831, 295)\n",
      "Shape of X_test_295: (2831, 296)\n",
      "Shape of X_test_296: (2831, 297)\n",
      "Shape of X_test_297: (2831, 298)\n",
      "Shape of X_test_298: (2831, 299)\n",
      "Shape of X_test_299: (2831, 300)\n",
      "Shape of X_test_300: (2831, 301)\n",
      "Shape of X_test_301: (2831, 302)\n",
      "Shape of X_test_302: (2831, 303)\n",
      "Shape of X_test_303: (2831, 304)\n",
      "Shape of X_test_304: (2831, 305)\n",
      "Shape of X_test_305: (2831, 306)\n",
      "Shape of X_test_306: (2831, 307)\n",
      "Shape of X_test_307: (2831, 308)\n",
      "Shape of X_test_308: (2831, 309)\n",
      "Shape of X_test_309: (2831, 310)\n",
      "Shape of X_test_310: (2831, 311)\n",
      "Shape of X_test_311: (2831, 312)\n",
      "Shape of X_test_312: (2831, 313)\n",
      "Shape of X_test_313: (2831, 314)\n",
      "Shape of X_test_314: (2831, 315)\n",
      "Shape of X_test_315: (2831, 316)\n",
      "Shape of X_test_316: (2831, 317)\n",
      "Shape of X_test_317: (2831, 318)\n",
      "Shape of X_test_318: (2831, 319)\n",
      "Shape of X_test_319: (2831, 320)\n",
      "Shape of X_test_320: (2831, 321)\n",
      "Shape of X_test_321: (2831, 322)\n",
      "Shape of X_test_322: (2831, 323)\n",
      "Shape of X_test_323: (2831, 324)\n",
      "Shape of X_test_324: (2831, 325)\n",
      "Shape of X_test_325: (2831, 326)\n",
      "Shape of X_test_326: (2831, 327)\n",
      "Shape of X_test_327: (2831, 328)\n",
      "Shape of X_test_328: (2831, 329)\n",
      "Shape of X_test_329: (2831, 330)\n",
      "Shape of X_test_330: (2831, 331)\n",
      "Shape of X_test_331: (2831, 332)\n",
      "Shape of X_test_332: (2831, 333)\n",
      "Shape of X_test_333: (2831, 334)\n",
      "Shape of X_test_334: (2831, 335)\n",
      "Shape of X_test_335: (2831, 336)\n",
      "Shape of X_test_336: (2831, 337)\n",
      "Shape of X_test_337: (2831, 338)\n",
      "Shape of X_test_338: (2831, 339)\n",
      "Shape of X_test_339: (2831, 340)\n",
      "Shape of X_test_340: (2831, 341)\n",
      "Shape of X_test_341: (2831, 342)\n",
      "Shape of X_test_342: (2831, 343)\n",
      "Shape of X_test_343: (2831, 344)\n",
      "Shape of X_test_344: (2831, 345)\n",
      "Shape of X_test_345: (2831, 346)\n",
      "Shape of X_test_346: (2831, 347)\n",
      "Shape of X_test_347: (2831, 348)\n",
      "Shape of X_test_348: (2831, 349)\n",
      "Shape of X_test_349: (2831, 350)\n",
      "Shape of X_test_350: (2831, 351)\n",
      "Shape of X_test_351: (2831, 352)\n",
      "Shape of X_test_352: (2831, 353)\n",
      "Shape of X_test_353: (2831, 354)\n",
      "Shape of X_test_354: (2831, 355)\n",
      "Shape of X_test_355: (2831, 356)\n",
      "Shape of X_test_356: (2831, 357)\n",
      "Shape of X_test_357: (2831, 358)\n",
      "Shape of X_test_358: (2831, 359)\n",
      "Shape of X_test_359: (2831, 360)\n",
      "Shape of X_test_360: (2831, 361)\n",
      "Shape of X_test_361: (2831, 362)\n",
      "Shape of X_test_362: (2831, 363)\n",
      "Shape of X_test_363: (2831, 364)\n",
      "Shape of X_test_364: (2831, 365)\n",
      "Shape of X_test_365: (2831, 366)\n",
      "Shape of X_test_366: (2831, 367)\n",
      "Shape of X_test_367: (2831, 368)\n",
      "Shape of X_test_368: (2831, 369)\n",
      "Shape of X_test_369: (2831, 370)\n",
      "Shape of X_test_370: (2831, 371)\n",
      "Shape of X_test_371: (2831, 372)\n",
      "Shape of X_test_372: (2831, 373)\n",
      "Shape of X_test_373: (2831, 374)\n",
      "Shape of X_test_374: (2831, 375)\n",
      "Shape of X_test_375: (2831, 376)\n",
      "Shape of X_test_376: (2831, 377)\n",
      "Shape of X_test_377: (2831, 378)\n",
      "Shape of X_test_378: (2831, 379)\n",
      "Shape of X_test_379: (2831, 380)\n",
      "Shape of X_test_380: (2831, 381)\n",
      "Shape of X_test_381: (2831, 382)\n",
      "Shape of X_test_382: (2831, 383)\n",
      "Shape of X_test_383: (2831, 384)\n",
      "Shape of X_test_384: (2831, 385)\n",
      "Shape of X_test_385: (2831, 386)\n",
      "Shape of X_test_386: (2831, 387)\n",
      "Shape of X_test_387: (2831, 388)\n",
      "Shape of X_test_388: (2831, 389)\n",
      "Shape of X_test_389: (2831, 390)\n",
      "Shape of X_test_390: (2831, 391)\n",
      "Shape of X_test_391: (2831, 392)\n",
      "Shape of X_test_392: (2831, 393)\n",
      "Shape of X_test_393: (2831, 394)\n",
      "Shape of X_test_394: (2831, 395)\n",
      "Shape of X_test_395: (2831, 396)\n",
      "Shape of X_test_396: (2831, 397)\n",
      "Shape of X_test_397: (2831, 398)\n",
      "Shape of X_test_398: (2831, 399)\n",
      "Shape of X_test_399: (2831, 400)\n",
      "Shape of X_test_400: (2831, 401)\n",
      "Shape of X_test_401: (2831, 402)\n",
      "Shape of X_test_402: (2831, 403)\n",
      "Shape of X_test_403: (2831, 404)\n",
      "Shape of X_test_404: (2831, 405)\n",
      "Shape of X_test_405: (2831, 406)\n",
      "Shape of X_test_406: (2831, 407)\n",
      "Shape of X_test_407: (2831, 408)\n",
      "Shape of X_test_408: (2831, 409)\n",
      "Shape of X_test_409: (2831, 410)\n",
      "Shape of X_test_410: (2831, 411)\n",
      "Shape of X_test_411: (2831, 412)\n",
      "Shape of X_test_412: (2831, 413)\n",
      "Shape of X_test_413: (2831, 414)\n",
      "Shape of X_test_414: (2831, 415)\n",
      "Shape of X_test_415: (2831, 416)\n",
      "Shape of X_test_416: (2831, 417)\n",
      "Shape of X_test_417: (2831, 418)\n",
      "Shape of X_test_418: (2831, 419)\n",
      "Shape of X_test_419: (2831, 420)\n",
      "Shape of X_test_420: (2831, 421)\n",
      "Shape of X_test_421: (2831, 422)\n",
      "Shape of X_test_422: (2831, 423)\n",
      "Shape of X_test_423: (2831, 424)\n",
      "Shape of X_test_424: (2831, 425)\n",
      "Shape of X_test_425: (2831, 426)\n",
      "Shape of X_test_426: (2831, 427)\n",
      "Shape of X_test_427: (2831, 428)\n",
      "Shape of X_test_428: (2831, 429)\n",
      "Shape of X_test_429: (2831, 430)\n",
      "Shape of X_test_430: (2831, 431)\n",
      "Shape of X_test_431: (2831, 432)\n",
      "Shape of X_test_432: (2831, 433)\n",
      "Shape of X_test_433: (2831, 434)\n",
      "Shape of X_test_434: (2831, 435)\n",
      "Shape of X_test_435: (2831, 436)\n",
      "Shape of X_test_436: (2831, 437)\n",
      "Shape of X_test_437: (2831, 438)\n",
      "Shape of X_test_438: (2831, 439)\n",
      "Shape of X_test_439: (2831, 440)\n",
      "Shape of X_test_440: (2831, 441)\n",
      "Shape of X_test_441: (2831, 442)\n",
      "Shape of X_test_442: (2831, 443)\n",
      "Shape of X_test_443: (2831, 444)\n",
      "Shape of X_test_444: (2831, 445)\n",
      "Shape of X_test_445: (2831, 446)\n",
      "Shape of X_test_446: (2831, 447)\n",
      "Shape of X_test_447: (2831, 448)\n",
      "Shape of X_test_448: (2831, 449)\n",
      "Shape of X_test_449: (2831, 450)\n",
      "Shape of X_test_450: (2831, 451)\n",
      "Shape of X_test_451: (2831, 452)\n",
      "Shape of X_test_452: (2831, 453)\n",
      "Shape of X_test_453: (2831, 454)\n",
      "Shape of X_test_454: (2831, 455)\n",
      "Shape of X_test_455: (2831, 456)\n",
      "Shape of X_test_456: (2831, 457)\n",
      "Shape of X_test_457: (2831, 458)\n",
      "Shape of X_test_458: (2831, 459)\n",
      "Shape of X_test_459: (2831, 460)\n",
      "Shape of X_test_460: (2831, 461)\n",
      "Shape of X_test_461: (2831, 462)\n",
      "Shape of X_test_462: (2831, 463)\n",
      "Shape of X_test_463: (2831, 464)\n",
      "Shape of X_test_464: (2831, 465)\n",
      "Shape of X_test_465: (2831, 466)\n",
      "Shape of X_test_466: (2831, 467)\n",
      "Shape of X_test_467: (2831, 468)\n",
      "Shape of X_test_468: (2831, 469)\n",
      "Shape of X_test_469: (2831, 470)\n",
      "Shape of X_test_470: (2831, 471)\n",
      "Shape of X_test_471: (2831, 472)\n",
      "Shape of X_test_472: (2831, 473)\n",
      "Shape of X_test_473: (2831, 474)\n",
      "Shape of X_test_474: (2831, 475)\n",
      "Shape of X_test_475: (2831, 476)\n",
      "Shape of X_test_476: (2831, 477)\n",
      "Shape of X_test_477: (2831, 478)\n",
      "Shape of X_test_478: (2831, 479)\n",
      "Shape of X_test_479: (2831, 480)\n",
      "Shape of X_test_480: (2831, 481)\n",
      "Shape of X_test_481: (2831, 482)\n",
      "Shape of X_test_482: (2831, 483)\n",
      "Shape of X_test_483: (2831, 484)\n",
      "Shape of X_test_484: (2831, 485)\n",
      "Shape of X_test_485: (2831, 486)\n",
      "Shape of X_test_486: (2831, 487)\n",
      "Shape of X_test_487: (2831, 488)\n",
      "Shape of X_test_488: (2831, 489)\n",
      "Shape of X_test_489: (2831, 490)\n",
      "Shape of X_test_490: (2831, 491)\n",
      "Shape of X_test_491: (2831, 492)\n",
      "Shape of X_test_492: (2831, 493)\n",
      "Shape of X_test_493: (2831, 494)\n",
      "Shape of X_test_494: (2831, 495)\n",
      "Shape of X_test_495: (2831, 496)\n",
      "Shape of X_test_496: (2831, 497)\n",
      "Shape of X_test_497: (2831, 498)\n",
      "Shape of X_test_498: (2831, 499)\n",
      "Shape of X_test_499: (2831, 500)\n"
     ]
    },
    {
     "name": "stderr",
     "output_type": "stream",
     "text": [
      "\n"
     ]
    }
   ],
   "source": [
    "# Find all test sets.\n",
    "file_pattern = '../data/test-subsets/X_test_id_top_*_features.csv'\n",
    "filenames = glob.glob(file_pattern)\n",
    "\n",
    "def feature_count(filename):\n",
    "    \"\"\" \n",
    "    Extracts feature count from the names.\n",
    "    \"\"\"\n",
    "    match = re.search(r'top_(\\d+)_features', filename)\n",
    "    return int(match.group(1)) if match else 0\n",
    "\n",
    "# Sort files from names.\n",
    "filenames = sorted(filenames, key=feature_count)\n",
    "\n",
    "# Init dict to store the names.\n",
    "short_names = {}\n",
    "\n",
    "# Use tqdm to populate the dict with progress bar.\n",
    "for filename in tqdm(filenames, desc=\"Processing test filenames\"):\n",
    "    base_name = os.path.basename(filename)\n",
    "    if base_name.startswith('X_test_id_top_'):\n",
    "        feature_count = feature_count(filename)\n",
    "        short_name = f'X_test_{feature_count}'\n",
    "        short_names[short_name] = filename\n",
    "\n",
    "# Show shapes of the df's.\n",
    "for short_name, filename in tqdm(short_names.items(), desc=\"Loading test DataFrames\"):\n",
    "    globals()[short_name] = pd.read_csv(filename, low_memory=False)\n",
    "    print(f'Shape of {short_name}: {globals()[short_name].shape}')\n",
    "\n",
    "# Show names.\n",
    "df_names = list(short_names.keys())\n",
    "\n",
    "# Add to list.\n",
    "df_list = [globals()[name] for name in df_names]\n",
    "print(f'\\nTotal number of DataFrames: {len(df_list)}')\n",
    "for i, df in enumerate(tqdm(df_list, desc=\"Confirming test DataFrames\")):\n",
    "    print(f'Shape of {df_names[i]}: {df.shape}')"
   ]
  },
  {
   "cell_type": "code",
   "execution_count": 25,
   "metadata": {},
   "outputs": [],
   "source": [
    "X_test = pd.read_csv('../data/test-subsets/X_test_id_top_499_features.csv', low_memory=False)\n",
    "path = '../data/encoded/test'"
   ]
  },
  {
   "cell_type": "code",
   "execution_count": 26,
   "metadata": {},
   "outputs": [
    {
     "name": "stderr",
     "output_type": "stream",
     "text": [
      "Encoding and exporting test DataFrames:   3%|▎         | 13/499 [00:00<00:03, 122.28it/s]"
     ]
    },
    {
     "name": "stdout",
     "output_type": "stream",
     "text": [
      "Encoded DataFrame X_test_1 has been exported to '../data/encoded/test/X_test_1_encoded.csv'\n",
      "Encoded DataFrame X_test_2 has been exported to '../data/encoded/test/X_test_2_encoded.csv'\n",
      "Encoded DataFrame X_test_3 has been exported to '../data/encoded/test/X_test_3_encoded.csv'\n",
      "Encoded DataFrame X_test_4 has been exported to '../data/encoded/test/X_test_4_encoded.csv'\n",
      "Encoded DataFrame X_test_5 has been exported to '../data/encoded/test/X_test_5_encoded.csv'\n",
      "Encoded DataFrame X_test_6 has been exported to '../data/encoded/test/X_test_6_encoded.csv'\n",
      "Encoded DataFrame X_test_7 has been exported to '../data/encoded/test/X_test_7_encoded.csv'\n",
      "Encoded DataFrame X_test_8 has been exported to '../data/encoded/test/X_test_8_encoded.csv'\n",
      "Encoded DataFrame X_test_9 has been exported to '../data/encoded/test/X_test_9_encoded.csv'\n",
      "Encoded DataFrame X_test_10 has been exported to '../data/encoded/test/X_test_10_encoded.csv'\n",
      "Encoded DataFrame X_test_11 has been exported to '../data/encoded/test/X_test_11_encoded.csv'\n",
      "Encoded DataFrame X_test_12 has been exported to '../data/encoded/test/X_test_12_encoded.csv'\n",
      "Encoded DataFrame X_test_13 has been exported to '../data/encoded/test/X_test_13_encoded.csv'\n",
      "Encoded DataFrame X_test_14 has been exported to '../data/encoded/test/X_test_14_encoded.csv'\n",
      "Encoded DataFrame X_test_15 has been exported to '../data/encoded/test/X_test_15_encoded.csv'\n",
      "Encoded DataFrame X_test_16 has been exported to '../data/encoded/test/X_test_16_encoded.csv'\n",
      "Encoded DataFrame X_test_17 has been exported to '../data/encoded/test/X_test_17_encoded.csv'\n",
      "Encoded DataFrame X_test_18 has been exported to '../data/encoded/test/X_test_18_encoded.csv'\n",
      "Encoded DataFrame X_test_19 has been exported to '../data/encoded/test/X_test_19_encoded.csv'\n"
     ]
    },
    {
     "name": "stderr",
     "output_type": "stream",
     "text": [
      "Encoding and exporting test DataFrames:   5%|▌         | 26/499 [00:00<00:06, 74.17it/s] "
     ]
    },
    {
     "name": "stdout",
     "output_type": "stream",
     "text": [
      "Encoded DataFrame X_test_20 has been exported to '../data/encoded/test/X_test_20_encoded.csv'\n",
      "Encoded DataFrame X_test_21 has been exported to '../data/encoded/test/X_test_21_encoded.csv'\n",
      "Encoded DataFrame X_test_22 has been exported to '../data/encoded/test/X_test_22_encoded.csv'\n",
      "Encoded DataFrame X_test_23 has been exported to '../data/encoded/test/X_test_23_encoded.csv'\n",
      "Encoded DataFrame X_test_24 has been exported to '../data/encoded/test/X_test_24_encoded.csv'\n",
      "Encoded DataFrame X_test_25 has been exported to '../data/encoded/test/X_test_25_encoded.csv'\n",
      "Encoded DataFrame X_test_26 has been exported to '../data/encoded/test/X_test_26_encoded.csv'\n",
      "Encoded DataFrame X_test_27 has been exported to '../data/encoded/test/X_test_27_encoded.csv'\n",
      "Encoded DataFrame X_test_28 has been exported to '../data/encoded/test/X_test_28_encoded.csv'\n",
      "Encoded DataFrame X_test_29 has been exported to '../data/encoded/test/X_test_29_encoded.csv'\n"
     ]
    },
    {
     "name": "stderr",
     "output_type": "stream",
     "text": [
      "Encoding and exporting test DataFrames:   7%|▋         | 35/499 [00:00<00:08, 56.79it/s]"
     ]
    },
    {
     "name": "stdout",
     "output_type": "stream",
     "text": [
      "Encoded DataFrame X_test_30 has been exported to '../data/encoded/test/X_test_30_encoded.csv'\n",
      "Encoded DataFrame X_test_31 has been exported to '../data/encoded/test/X_test_31_encoded.csv'\n",
      "Encoded DataFrame X_test_32 has been exported to '../data/encoded/test/X_test_32_encoded.csv'\n",
      "Encoded DataFrame X_test_33 has been exported to '../data/encoded/test/X_test_33_encoded.csv'\n",
      "Encoded DataFrame X_test_34 has been exported to '../data/encoded/test/X_test_34_encoded.csv'\n",
      "Encoded DataFrame X_test_35 has been exported to '../data/encoded/test/X_test_35_encoded.csv'\n",
      "Encoded DataFrame X_test_36 has been exported to '../data/encoded/test/X_test_36_encoded.csv'\n",
      "Encoded DataFrame X_test_37 has been exported to '../data/encoded/test/X_test_37_encoded.csv'\n"
     ]
    },
    {
     "name": "stderr",
     "output_type": "stream",
     "text": [
      "Encoding and exporting test DataFrames:   8%|▊         | 42/499 [00:00<00:10, 44.99it/s]"
     ]
    },
    {
     "name": "stdout",
     "output_type": "stream",
     "text": [
      "Encoded DataFrame X_test_38 has been exported to '../data/encoded/test/X_test_38_encoded.csv'\n",
      "Encoded DataFrame X_test_39 has been exported to '../data/encoded/test/X_test_39_encoded.csv'\n",
      "Encoded DataFrame X_test_40 has been exported to '../data/encoded/test/X_test_40_encoded.csv'\n",
      "Encoded DataFrame X_test_41 has been exported to '../data/encoded/test/X_test_41_encoded.csv'\n",
      "Encoded DataFrame X_test_42 has been exported to '../data/encoded/test/X_test_42_encoded.csv'\n",
      "Encoded DataFrame X_test_43 has been exported to '../data/encoded/test/X_test_43_encoded.csv'\n"
     ]
    },
    {
     "name": "stderr",
     "output_type": "stream",
     "text": [
      "Encoding and exporting test DataFrames:  10%|▉         | 48/499 [00:00<00:11, 39.20it/s]"
     ]
    },
    {
     "name": "stdout",
     "output_type": "stream",
     "text": [
      "Encoded DataFrame X_test_44 has been exported to '../data/encoded/test/X_test_44_encoded.csv'\n",
      "Encoded DataFrame X_test_45 has been exported to '../data/encoded/test/X_test_45_encoded.csv'\n",
      "Encoded DataFrame X_test_46 has been exported to '../data/encoded/test/X_test_46_encoded.csv'\n",
      "Encoded DataFrame X_test_47 has been exported to '../data/encoded/test/X_test_47_encoded.csv'\n",
      "Encoded DataFrame X_test_48 has been exported to '../data/encoded/test/X_test_48_encoded.csv'\n",
      "Encoded DataFrame X_test_49 has been exported to '../data/encoded/test/X_test_49_encoded.csv'\n"
     ]
    },
    {
     "name": "stderr",
     "output_type": "stream",
     "text": [
      "Encoding and exporting test DataFrames:  11%|█         | 53/499 [00:01<00:12, 34.51it/s]"
     ]
    },
    {
     "name": "stdout",
     "output_type": "stream",
     "text": [
      "Encoded DataFrame X_test_50 has been exported to '../data/encoded/test/X_test_50_encoded.csv'\n",
      "Encoded DataFrame X_test_51 has been exported to '../data/encoded/test/X_test_51_encoded.csv'\n",
      "Encoded DataFrame X_test_52 has been exported to '../data/encoded/test/X_test_52_encoded.csv'\n",
      "Encoded DataFrame X_test_53 has been exported to '../data/encoded/test/X_test_53_encoded.csv'\n",
      "Encoded DataFrame X_test_54 has been exported to '../data/encoded/test/X_test_54_encoded.csv'\n"
     ]
    },
    {
     "name": "stderr",
     "output_type": "stream",
     "text": [
      "Encoding and exporting test DataFrames:  11%|█▏        | 57/499 [00:01<00:14, 31.04it/s]"
     ]
    },
    {
     "name": "stdout",
     "output_type": "stream",
     "text": [
      "Encoded DataFrame X_test_55 has been exported to '../data/encoded/test/X_test_55_encoded.csv'\n",
      "Encoded DataFrame X_test_56 has been exported to '../data/encoded/test/X_test_56_encoded.csv'\n",
      "Encoded DataFrame X_test_57 has been exported to '../data/encoded/test/X_test_57_encoded.csv'\n",
      "Encoded DataFrame X_test_58 has been exported to '../data/encoded/test/X_test_58_encoded.csv'\n",
      "Encoded DataFrame X_test_59 has been exported to '../data/encoded/test/X_test_59_encoded.csv'\n"
     ]
    },
    {
     "name": "stderr",
     "output_type": "stream",
     "text": [
      "Encoding and exporting test DataFrames:  13%|█▎        | 64/499 [00:01<00:16, 26.01it/s]"
     ]
    },
    {
     "name": "stdout",
     "output_type": "stream",
     "text": [
      "Encoded DataFrame X_test_60 has been exported to '../data/encoded/test/X_test_60_encoded.csv'\n",
      "Encoded DataFrame X_test_61 has been exported to '../data/encoded/test/X_test_61_encoded.csv'\n",
      "Encoded DataFrame X_test_62 has been exported to '../data/encoded/test/X_test_62_encoded.csv'\n",
      "Encoded DataFrame X_test_63 has been exported to '../data/encoded/test/X_test_63_encoded.csv'\n",
      "Encoded DataFrame X_test_64 has been exported to '../data/encoded/test/X_test_64_encoded.csv'\n"
     ]
    },
    {
     "name": "stderr",
     "output_type": "stream",
     "text": [
      "Encoding and exporting test DataFrames:  13%|█▎        | 67/499 [00:01<00:17, 24.10it/s]"
     ]
    },
    {
     "name": "stdout",
     "output_type": "stream",
     "text": [
      "Encoded DataFrame X_test_65 has been exported to '../data/encoded/test/X_test_65_encoded.csv'\n",
      "Encoded DataFrame X_test_66 has been exported to '../data/encoded/test/X_test_66_encoded.csv'\n",
      "Encoded DataFrame X_test_67 has been exported to '../data/encoded/test/X_test_67_encoded.csv'\n",
      "Encoded DataFrame X_test_68 has been exported to '../data/encoded/test/X_test_68_encoded.csv'\n"
     ]
    },
    {
     "name": "stderr",
     "output_type": "stream",
     "text": [
      "Encoding and exporting test DataFrames:  14%|█▍        | 70/499 [00:02<00:19, 22.33it/s]"
     ]
    },
    {
     "name": "stdout",
     "output_type": "stream",
     "text": [
      "Encoded DataFrame X_test_69 has been exported to '../data/encoded/test/X_test_69_encoded.csv'\n",
      "Encoded DataFrame X_test_70 has been exported to '../data/encoded/test/X_test_70_encoded.csv'\n",
      "Encoded DataFrame X_test_71 has been exported to '../data/encoded/test/X_test_71_encoded.csv'\n",
      "Encoded DataFrame X_test_72 has been exported to '../data/encoded/test/X_test_72_encoded.csv'\n"
     ]
    },
    {
     "name": "stderr",
     "output_type": "stream",
     "text": [
      "Encoding and exporting test DataFrames:  15%|█▌        | 76/499 [00:02<00:22, 19.05it/s]"
     ]
    },
    {
     "name": "stdout",
     "output_type": "stream",
     "text": [
      "Encoded DataFrame X_test_73 has been exported to '../data/encoded/test/X_test_73_encoded.csv'\n",
      "Encoded DataFrame X_test_74 has been exported to '../data/encoded/test/X_test_74_encoded.csv'\n",
      "Encoded DataFrame X_test_75 has been exported to '../data/encoded/test/X_test_75_encoded.csv'\n",
      "Encoded DataFrame X_test_76 has been exported to '../data/encoded/test/X_test_76_encoded.csv'\n"
     ]
    },
    {
     "name": "stderr",
     "output_type": "stream",
     "text": [
      "Encoding and exporting test DataFrames:  16%|█▌        | 80/499 [00:02<00:23, 17.67it/s]"
     ]
    },
    {
     "name": "stdout",
     "output_type": "stream",
     "text": [
      "Encoded DataFrame X_test_77 has been exported to '../data/encoded/test/X_test_77_encoded.csv'\n",
      "Encoded DataFrame X_test_78 has been exported to '../data/encoded/test/X_test_78_encoded.csv'\n",
      "Encoded DataFrame X_test_79 has been exported to '../data/encoded/test/X_test_79_encoded.csv'\n",
      "Encoded DataFrame X_test_80 has been exported to '../data/encoded/test/X_test_80_encoded.csv'\n"
     ]
    },
    {
     "name": "stderr",
     "output_type": "stream",
     "text": [
      "Encoding and exporting test DataFrames:  17%|█▋        | 84/499 [00:02<00:25, 16.46it/s]"
     ]
    },
    {
     "name": "stdout",
     "output_type": "stream",
     "text": [
      "Encoded DataFrame X_test_81 has been exported to '../data/encoded/test/X_test_81_encoded.csv'\n",
      "Encoded DataFrame X_test_82 has been exported to '../data/encoded/test/X_test_82_encoded.csv'\n",
      "Encoded DataFrame X_test_83 has been exported to '../data/encoded/test/X_test_83_encoded.csv'\n",
      "Encoded DataFrame X_test_84 has been exported to '../data/encoded/test/X_test_84_encoded.csv'\n"
     ]
    },
    {
     "name": "stderr",
     "output_type": "stream",
     "text": [
      "Encoding and exporting test DataFrames:  17%|█▋        | 86/499 [00:03<00:26, 15.87it/s]"
     ]
    },
    {
     "name": "stdout",
     "output_type": "stream",
     "text": [
      "Encoded DataFrame X_test_85 has been exported to '../data/encoded/test/X_test_85_encoded.csv'\n",
      "Encoded DataFrame X_test_86 has been exported to '../data/encoded/test/X_test_86_encoded.csv'\n",
      "Encoded DataFrame X_test_87 has been exported to '../data/encoded/test/X_test_87_encoded.csv'\n"
     ]
    },
    {
     "name": "stderr",
     "output_type": "stream",
     "text": [
      "Encoding and exporting test DataFrames:  18%|█▊        | 90/499 [00:03<00:28, 14.28it/s]"
     ]
    },
    {
     "name": "stdout",
     "output_type": "stream",
     "text": [
      "Encoded DataFrame X_test_88 has been exported to '../data/encoded/test/X_test_88_encoded.csv'\n",
      "Encoded DataFrame X_test_89 has been exported to '../data/encoded/test/X_test_89_encoded.csv'\n",
      "Encoded DataFrame X_test_90 has been exported to '../data/encoded/test/X_test_90_encoded.csv'\n"
     ]
    },
    {
     "name": "stderr",
     "output_type": "stream",
     "text": [
      "Encoding and exporting test DataFrames:  18%|█▊        | 92/499 [00:03<00:28, 14.12it/s]"
     ]
    },
    {
     "name": "stdout",
     "output_type": "stream",
     "text": [
      "Encoded DataFrame X_test_91 has been exported to '../data/encoded/test/X_test_91_encoded.csv'\n",
      "Encoded DataFrame X_test_92 has been exported to '../data/encoded/test/X_test_92_encoded.csv'\n",
      "Encoded DataFrame X_test_93 has been exported to '../data/encoded/test/X_test_93_encoded.csv'\n"
     ]
    },
    {
     "name": "stderr",
     "output_type": "stream",
     "text": [
      "Encoding and exporting test DataFrames:  19%|█▉        | 96/499 [00:03<00:29, 13.67it/s]"
     ]
    },
    {
     "name": "stdout",
     "output_type": "stream",
     "text": [
      "Encoded DataFrame X_test_94 has been exported to '../data/encoded/test/X_test_94_encoded.csv'\n",
      "Encoded DataFrame X_test_95 has been exported to '../data/encoded/test/X_test_95_encoded.csv'\n",
      "Encoded DataFrame X_test_96 has been exported to '../data/encoded/test/X_test_96_encoded.csv'\n"
     ]
    },
    {
     "name": "stderr",
     "output_type": "stream",
     "text": [
      "Encoding and exporting test DataFrames:  20%|█▉        | 98/499 [00:03<00:29, 13.40it/s]"
     ]
    },
    {
     "name": "stdout",
     "output_type": "stream",
     "text": [
      "Encoded DataFrame X_test_97 has been exported to '../data/encoded/test/X_test_97_encoded.csv'\n",
      "Encoded DataFrame X_test_98 has been exported to '../data/encoded/test/X_test_98_encoded.csv'\n",
      "Encoded DataFrame X_test_99 has been exported to '../data/encoded/test/X_test_99_encoded.csv'\n"
     ]
    },
    {
     "name": "stderr",
     "output_type": "stream",
     "text": [
      "Encoding and exporting test DataFrames:  20%|██        | 102/499 [00:04<00:31, 12.73it/s]"
     ]
    },
    {
     "name": "stdout",
     "output_type": "stream",
     "text": [
      "Encoded DataFrame X_test_100 has been exported to '../data/encoded/test/X_test_100_encoded.csv'\n",
      "Encoded DataFrame X_test_101 has been exported to '../data/encoded/test/X_test_101_encoded.csv'\n",
      "Encoded DataFrame X_test_102 has been exported to '../data/encoded/test/X_test_102_encoded.csv'\n"
     ]
    },
    {
     "name": "stderr",
     "output_type": "stream",
     "text": [
      "Encoding and exporting test DataFrames:  21%|██        | 104/499 [00:04<00:31, 12.50it/s]"
     ]
    },
    {
     "name": "stdout",
     "output_type": "stream",
     "text": [
      "Encoded DataFrame X_test_103 has been exported to '../data/encoded/test/X_test_103_encoded.csv'\n",
      "Encoded DataFrame X_test_104 has been exported to '../data/encoded/test/X_test_104_encoded.csv'\n",
      "Encoded DataFrame X_test_105 has been exported to '../data/encoded/test/X_test_105_encoded.csv'\n"
     ]
    },
    {
     "name": "stderr",
     "output_type": "stream",
     "text": [
      "Encoding and exporting test DataFrames:  22%|██▏       | 108/499 [00:04<00:34, 11.43it/s]"
     ]
    },
    {
     "name": "stdout",
     "output_type": "stream",
     "text": [
      "Encoded DataFrame X_test_106 has been exported to '../data/encoded/test/X_test_106_encoded.csv'\n",
      "Encoded DataFrame X_test_107 has been exported to '../data/encoded/test/X_test_107_encoded.csv'\n",
      "Encoded DataFrame X_test_108 has been exported to '../data/encoded/test/X_test_108_encoded.csv'\n"
     ]
    },
    {
     "name": "stderr",
     "output_type": "stream",
     "text": [
      "Encoding and exporting test DataFrames:  22%|██▏       | 110/499 [00:05<00:34, 11.38it/s]"
     ]
    },
    {
     "name": "stdout",
     "output_type": "stream",
     "text": [
      "Encoded DataFrame X_test_109 has been exported to '../data/encoded/test/X_test_109_encoded.csv'\n",
      "Encoded DataFrame X_test_110 has been exported to '../data/encoded/test/X_test_110_encoded.csv'\n",
      "Encoded DataFrame X_test_111 has been exported to '../data/encoded/test/X_test_111_encoded.csv'\n"
     ]
    },
    {
     "name": "stderr",
     "output_type": "stream",
     "text": [
      "Encoding and exporting test DataFrames:  23%|██▎       | 114/499 [00:05<00:34, 11.10it/s]"
     ]
    },
    {
     "name": "stdout",
     "output_type": "stream",
     "text": [
      "Encoded DataFrame X_test_112 has been exported to '../data/encoded/test/X_test_112_encoded.csv'\n",
      "Encoded DataFrame X_test_113 has been exported to '../data/encoded/test/X_test_113_encoded.csv'\n",
      "Encoded DataFrame X_test_114 has been exported to '../data/encoded/test/X_test_114_encoded.csv'\n"
     ]
    },
    {
     "name": "stderr",
     "output_type": "stream",
     "text": [
      "Encoding and exporting test DataFrames:  23%|██▎       | 116/499 [00:05<00:35, 10.91it/s]"
     ]
    },
    {
     "name": "stdout",
     "output_type": "stream",
     "text": [
      "Encoded DataFrame X_test_115 has been exported to '../data/encoded/test/X_test_115_encoded.csv'\n",
      "Encoded DataFrame X_test_116 has been exported to '../data/encoded/test/X_test_116_encoded.csv'\n",
      "Encoded DataFrame X_test_117 has been exported to '../data/encoded/test/X_test_117_encoded.csv'\n"
     ]
    },
    {
     "name": "stderr",
     "output_type": "stream",
     "text": [
      "Encoding and exporting test DataFrames:  24%|██▍       | 120/499 [00:05<00:35, 10.58it/s]"
     ]
    },
    {
     "name": "stdout",
     "output_type": "stream",
     "text": [
      "Encoded DataFrame X_test_118 has been exported to '../data/encoded/test/X_test_118_encoded.csv'\n",
      "Encoded DataFrame X_test_119 has been exported to '../data/encoded/test/X_test_119_encoded.csv'\n",
      "Encoded DataFrame X_test_120 has been exported to '../data/encoded/test/X_test_120_encoded.csv'\n"
     ]
    },
    {
     "name": "stderr",
     "output_type": "stream",
     "text": [
      "Encoding and exporting test DataFrames:  24%|██▍       | 122/499 [00:06<00:36, 10.45it/s]"
     ]
    },
    {
     "name": "stdout",
     "output_type": "stream",
     "text": [
      "Encoded DataFrame X_test_121 has been exported to '../data/encoded/test/X_test_121_encoded.csv'\n",
      "Encoded DataFrame X_test_122 has been exported to '../data/encoded/test/X_test_122_encoded.csv'\n"
     ]
    },
    {
     "name": "stderr",
     "output_type": "stream",
     "text": [
      "Encoding and exporting test DataFrames:  25%|██▍       | 124/499 [00:06<00:37,  9.99it/s]"
     ]
    },
    {
     "name": "stdout",
     "output_type": "stream",
     "text": [
      "Encoded DataFrame X_test_123 has been exported to '../data/encoded/test/X_test_123_encoded.csv'\n",
      "Encoded DataFrame X_test_124 has been exported to '../data/encoded/test/X_test_124_encoded.csv'\n"
     ]
    },
    {
     "name": "stderr",
     "output_type": "stream",
     "text": [
      "Encoding and exporting test DataFrames:  25%|██▌       | 126/499 [00:06<00:37,  9.97it/s]"
     ]
    },
    {
     "name": "stdout",
     "output_type": "stream",
     "text": [
      "Encoded DataFrame X_test_125 has been exported to '../data/encoded/test/X_test_125_encoded.csv'\n",
      "Encoded DataFrame X_test_126 has been exported to '../data/encoded/test/X_test_126_encoded.csv'\n"
     ]
    },
    {
     "name": "stderr",
     "output_type": "stream",
     "text": [
      "Encoding and exporting test DataFrames:  26%|██▌       | 128/499 [00:06<00:37,  9.86it/s]"
     ]
    },
    {
     "name": "stdout",
     "output_type": "stream",
     "text": [
      "Encoded DataFrame X_test_127 has been exported to '../data/encoded/test/X_test_127_encoded.csv'\n",
      "Encoded DataFrame X_test_128 has been exported to '../data/encoded/test/X_test_128_encoded.csv'\n"
     ]
    },
    {
     "name": "stderr",
     "output_type": "stream",
     "text": [
      "Encoding and exporting test DataFrames:  26%|██▌       | 130/499 [00:07<00:39,  9.40it/s]"
     ]
    },
    {
     "name": "stdout",
     "output_type": "stream",
     "text": [
      "Encoded DataFrame X_test_129 has been exported to '../data/encoded/test/X_test_129_encoded.csv'\n",
      "Encoded DataFrame X_test_130 has been exported to '../data/encoded/test/X_test_130_encoded.csv'\n"
     ]
    },
    {
     "name": "stderr",
     "output_type": "stream",
     "text": [
      "Encoding and exporting test DataFrames:  26%|██▋       | 132/499 [00:07<00:39,  9.40it/s]"
     ]
    },
    {
     "name": "stdout",
     "output_type": "stream",
     "text": [
      "Encoded DataFrame X_test_131 has been exported to '../data/encoded/test/X_test_131_encoded.csv'\n",
      "Encoded DataFrame X_test_132 has been exported to '../data/encoded/test/X_test_132_encoded.csv'\n"
     ]
    },
    {
     "name": "stderr",
     "output_type": "stream",
     "text": [
      "Encoding and exporting test DataFrames:  27%|██▋       | 134/499 [00:07<00:39,  9.34it/s]"
     ]
    },
    {
     "name": "stdout",
     "output_type": "stream",
     "text": [
      "Encoded DataFrame X_test_133 has been exported to '../data/encoded/test/X_test_133_encoded.csv'\n",
      "Encoded DataFrame X_test_134 has been exported to '../data/encoded/test/X_test_134_encoded.csv'\n"
     ]
    },
    {
     "name": "stderr",
     "output_type": "stream",
     "text": [
      "Encoding and exporting test DataFrames:  27%|██▋       | 136/499 [00:07<00:39,  9.22it/s]"
     ]
    },
    {
     "name": "stdout",
     "output_type": "stream",
     "text": [
      "Encoded DataFrame X_test_135 has been exported to '../data/encoded/test/X_test_135_encoded.csv'\n",
      "Encoded DataFrame X_test_136 has been exported to '../data/encoded/test/X_test_136_encoded.csv'\n"
     ]
    },
    {
     "name": "stderr",
     "output_type": "stream",
     "text": [
      "Encoding and exporting test DataFrames:  28%|██▊       | 138/499 [00:07<00:39,  9.04it/s]"
     ]
    },
    {
     "name": "stdout",
     "output_type": "stream",
     "text": [
      "Encoded DataFrame X_test_137 has been exported to '../data/encoded/test/X_test_137_encoded.csv'\n",
      "Encoded DataFrame X_test_138 has been exported to '../data/encoded/test/X_test_138_encoded.csv'\n"
     ]
    },
    {
     "name": "stderr",
     "output_type": "stream",
     "text": [
      "Encoding and exporting test DataFrames:  28%|██▊       | 140/499 [00:08<00:42,  8.42it/s]"
     ]
    },
    {
     "name": "stdout",
     "output_type": "stream",
     "text": [
      "Encoded DataFrame X_test_139 has been exported to '../data/encoded/test/X_test_139_encoded.csv'\n",
      "Encoded DataFrame X_test_140 has been exported to '../data/encoded/test/X_test_140_encoded.csv'\n"
     ]
    },
    {
     "name": "stderr",
     "output_type": "stream",
     "text": [
      "Encoding and exporting test DataFrames:  28%|██▊       | 142/499 [00:08<00:41,  8.53it/s]"
     ]
    },
    {
     "name": "stdout",
     "output_type": "stream",
     "text": [
      "Encoded DataFrame X_test_141 has been exported to '../data/encoded/test/X_test_141_encoded.csv'\n",
      "Encoded DataFrame X_test_142 has been exported to '../data/encoded/test/X_test_142_encoded.csv'\n"
     ]
    },
    {
     "name": "stderr",
     "output_type": "stream",
     "text": [
      "Encoding and exporting test DataFrames:  29%|██▉       | 144/499 [00:08<00:41,  8.51it/s]"
     ]
    },
    {
     "name": "stdout",
     "output_type": "stream",
     "text": [
      "Encoded DataFrame X_test_143 has been exported to '../data/encoded/test/X_test_143_encoded.csv'\n",
      "Encoded DataFrame X_test_144 has been exported to '../data/encoded/test/X_test_144_encoded.csv'\n"
     ]
    },
    {
     "name": "stderr",
     "output_type": "stream",
     "text": [
      "Encoding and exporting test DataFrames:  29%|██▉       | 146/499 [00:08<00:41,  8.43it/s]"
     ]
    },
    {
     "name": "stdout",
     "output_type": "stream",
     "text": [
      "Encoded DataFrame X_test_145 has been exported to '../data/encoded/test/X_test_145_encoded.csv'\n",
      "Encoded DataFrame X_test_146 has been exported to '../data/encoded/test/X_test_146_encoded.csv'\n"
     ]
    },
    {
     "name": "stderr",
     "output_type": "stream",
     "text": [
      "Encoding and exporting test DataFrames:  30%|██▉       | 148/499 [00:09<00:42,  8.30it/s]"
     ]
    },
    {
     "name": "stdout",
     "output_type": "stream",
     "text": [
      "Encoded DataFrame X_test_147 has been exported to '../data/encoded/test/X_test_147_encoded.csv'\n",
      "Encoded DataFrame X_test_148 has been exported to '../data/encoded/test/X_test_148_encoded.csv'\n"
     ]
    },
    {
     "name": "stderr",
     "output_type": "stream",
     "text": [
      "Encoding and exporting test DataFrames:  30%|███       | 150/499 [00:09<00:42,  8.12it/s]"
     ]
    },
    {
     "name": "stdout",
     "output_type": "stream",
     "text": [
      "Encoded DataFrame X_test_149 has been exported to '../data/encoded/test/X_test_149_encoded.csv'\n",
      "Encoded DataFrame X_test_150 has been exported to '../data/encoded/test/X_test_150_encoded.csv'\n"
     ]
    },
    {
     "name": "stderr",
     "output_type": "stream",
     "text": [
      "Encoding and exporting test DataFrames:  30%|███       | 152/499 [00:09<00:44,  7.77it/s]"
     ]
    },
    {
     "name": "stdout",
     "output_type": "stream",
     "text": [
      "Encoded DataFrame X_test_151 has been exported to '../data/encoded/test/X_test_151_encoded.csv'\n",
      "Encoded DataFrame X_test_152 has been exported to '../data/encoded/test/X_test_152_encoded.csv'\n"
     ]
    },
    {
     "name": "stderr",
     "output_type": "stream",
     "text": [
      "Encoding and exporting test DataFrames:  31%|███       | 154/499 [00:09<00:44,  7.76it/s]"
     ]
    },
    {
     "name": "stdout",
     "output_type": "stream",
     "text": [
      "Encoded DataFrame X_test_153 has been exported to '../data/encoded/test/X_test_153_encoded.csv'\n",
      "Encoded DataFrame X_test_154 has been exported to '../data/encoded/test/X_test_154_encoded.csv'\n"
     ]
    },
    {
     "name": "stderr",
     "output_type": "stream",
     "text": [
      "Encoding and exporting test DataFrames:  31%|███▏      | 156/499 [00:10<00:45,  7.53it/s]"
     ]
    },
    {
     "name": "stdout",
     "output_type": "stream",
     "text": [
      "Encoded DataFrame X_test_155 has been exported to '../data/encoded/test/X_test_155_encoded.csv'\n",
      "Encoded DataFrame X_test_156 has been exported to '../data/encoded/test/X_test_156_encoded.csv'\n"
     ]
    },
    {
     "name": "stderr",
     "output_type": "stream",
     "text": [
      "Encoding and exporting test DataFrames:  32%|███▏      | 158/499 [00:10<00:47,  7.23it/s]"
     ]
    },
    {
     "name": "stdout",
     "output_type": "stream",
     "text": [
      "Encoded DataFrame X_test_157 has been exported to '../data/encoded/test/X_test_157_encoded.csv'\n",
      "Encoded DataFrame X_test_158 has been exported to '../data/encoded/test/X_test_158_encoded.csv'\n"
     ]
    },
    {
     "name": "stderr",
     "output_type": "stream",
     "text": [
      "Encoding and exporting test DataFrames:  32%|███▏      | 160/499 [00:10<00:46,  7.27it/s]"
     ]
    },
    {
     "name": "stdout",
     "output_type": "stream",
     "text": [
      "Encoded DataFrame X_test_159 has been exported to '../data/encoded/test/X_test_159_encoded.csv'\n",
      "Encoded DataFrame X_test_160 has been exported to '../data/encoded/test/X_test_160_encoded.csv'\n"
     ]
    },
    {
     "name": "stderr",
     "output_type": "stream",
     "text": [
      "Encoding and exporting test DataFrames:  32%|███▏      | 162/499 [00:10<00:46,  7.26it/s]"
     ]
    },
    {
     "name": "stdout",
     "output_type": "stream",
     "text": [
      "Encoded DataFrame X_test_161 has been exported to '../data/encoded/test/X_test_161_encoded.csv'\n",
      "Encoded DataFrame X_test_162 has been exported to '../data/encoded/test/X_test_162_encoded.csv'\n"
     ]
    },
    {
     "name": "stderr",
     "output_type": "stream",
     "text": [
      "Encoding and exporting test DataFrames:  33%|███▎      | 164/499 [00:11<00:48,  6.92it/s]"
     ]
    },
    {
     "name": "stdout",
     "output_type": "stream",
     "text": [
      "Encoded DataFrame X_test_163 has been exported to '../data/encoded/test/X_test_163_encoded.csv'\n",
      "Encoded DataFrame X_test_164 has been exported to '../data/encoded/test/X_test_164_encoded.csv'\n"
     ]
    },
    {
     "name": "stderr",
     "output_type": "stream",
     "text": [
      "Encoding and exporting test DataFrames:  33%|███▎      | 166/499 [00:11<00:47,  7.02it/s]"
     ]
    },
    {
     "name": "stdout",
     "output_type": "stream",
     "text": [
      "Encoded DataFrame X_test_165 has been exported to '../data/encoded/test/X_test_165_encoded.csv'\n",
      "Encoded DataFrame X_test_166 has been exported to '../data/encoded/test/X_test_166_encoded.csv'\n"
     ]
    },
    {
     "name": "stderr",
     "output_type": "stream",
     "text": [
      "Encoding and exporting test DataFrames:  34%|███▎      | 168/499 [00:11<00:46,  7.09it/s]"
     ]
    },
    {
     "name": "stdout",
     "output_type": "stream",
     "text": [
      "Encoded DataFrame X_test_167 has been exported to '../data/encoded/test/X_test_167_encoded.csv'\n",
      "Encoded DataFrame X_test_168 has been exported to '../data/encoded/test/X_test_168_encoded.csv'\n"
     ]
    },
    {
     "name": "stderr",
     "output_type": "stream",
     "text": [
      "Encoding and exporting test DataFrames:  34%|███▍      | 170/499 [00:12<00:46,  7.00it/s]"
     ]
    },
    {
     "name": "stdout",
     "output_type": "stream",
     "text": [
      "Encoded DataFrame X_test_169 has been exported to '../data/encoded/test/X_test_169_encoded.csv'\n",
      "Encoded DataFrame X_test_170 has been exported to '../data/encoded/test/X_test_170_encoded.csv'\n"
     ]
    },
    {
     "name": "stderr",
     "output_type": "stream",
     "text": [
      "Encoding and exporting test DataFrames:  34%|███▍      | 172/499 [00:12<00:47,  6.82it/s]"
     ]
    },
    {
     "name": "stdout",
     "output_type": "stream",
     "text": [
      "Encoded DataFrame X_test_171 has been exported to '../data/encoded/test/X_test_171_encoded.csv'\n",
      "Encoded DataFrame X_test_172 has been exported to '../data/encoded/test/X_test_172_encoded.csv'\n"
     ]
    },
    {
     "name": "stderr",
     "output_type": "stream",
     "text": [
      "Encoding and exporting test DataFrames:  35%|███▍      | 174/499 [00:12<00:47,  6.84it/s]"
     ]
    },
    {
     "name": "stdout",
     "output_type": "stream",
     "text": [
      "Encoded DataFrame X_test_173 has been exported to '../data/encoded/test/X_test_173_encoded.csv'\n",
      "Encoded DataFrame X_test_174 has been exported to '../data/encoded/test/X_test_174_encoded.csv'\n"
     ]
    },
    {
     "name": "stderr",
     "output_type": "stream",
     "text": [
      "Encoding and exporting test DataFrames:  35%|███▌      | 176/499 [00:13<00:47,  6.83it/s]"
     ]
    },
    {
     "name": "stdout",
     "output_type": "stream",
     "text": [
      "Encoded DataFrame X_test_175 has been exported to '../data/encoded/test/X_test_175_encoded.csv'\n",
      "Encoded DataFrame X_test_176 has been exported to '../data/encoded/test/X_test_176_encoded.csv'\n"
     ]
    },
    {
     "name": "stderr",
     "output_type": "stream",
     "text": [
      "Encoding and exporting test DataFrames:  36%|███▌      | 178/499 [00:13<00:48,  6.57it/s]"
     ]
    },
    {
     "name": "stdout",
     "output_type": "stream",
     "text": [
      "Encoded DataFrame X_test_177 has been exported to '../data/encoded/test/X_test_177_encoded.csv'\n",
      "Encoded DataFrame X_test_178 has been exported to '../data/encoded/test/X_test_178_encoded.csv'\n"
     ]
    },
    {
     "name": "stderr",
     "output_type": "stream",
     "text": [
      "Encoding and exporting test DataFrames:  36%|███▌      | 180/499 [00:13<00:48,  6.56it/s]"
     ]
    },
    {
     "name": "stdout",
     "output_type": "stream",
     "text": [
      "Encoded DataFrame X_test_179 has been exported to '../data/encoded/test/X_test_179_encoded.csv'\n",
      "Encoded DataFrame X_test_180 has been exported to '../data/encoded/test/X_test_180_encoded.csv'\n"
     ]
    },
    {
     "name": "stderr",
     "output_type": "stream",
     "text": [
      "Encoding and exporting test DataFrames:  36%|███▋      | 182/499 [00:13<00:50,  6.32it/s]"
     ]
    },
    {
     "name": "stdout",
     "output_type": "stream",
     "text": [
      "Encoded DataFrame X_test_181 has been exported to '../data/encoded/test/X_test_181_encoded.csv'\n",
      "Encoded DataFrame X_test_182 has been exported to '../data/encoded/test/X_test_182_encoded.csv'\n"
     ]
    },
    {
     "name": "stderr",
     "output_type": "stream",
     "text": [
      "Encoding and exporting test DataFrames:  37%|███▋      | 184/499 [00:14<00:49,  6.38it/s]"
     ]
    },
    {
     "name": "stdout",
     "output_type": "stream",
     "text": [
      "Encoded DataFrame X_test_183 has been exported to '../data/encoded/test/X_test_183_encoded.csv'\n",
      "Encoded DataFrame X_test_184 has been exported to '../data/encoded/test/X_test_184_encoded.csv'\n"
     ]
    },
    {
     "name": "stderr",
     "output_type": "stream",
     "text": [
      "Encoding and exporting test DataFrames:  37%|███▋      | 186/499 [00:14<00:49,  6.34it/s]"
     ]
    },
    {
     "name": "stdout",
     "output_type": "stream",
     "text": [
      "Encoded DataFrame X_test_185 has been exported to '../data/encoded/test/X_test_185_encoded.csv'\n",
      "Encoded DataFrame X_test_186 has been exported to '../data/encoded/test/X_test_186_encoded.csv'\n"
     ]
    },
    {
     "name": "stderr",
     "output_type": "stream",
     "text": [
      "Encoding and exporting test DataFrames:  38%|███▊      | 188/499 [00:14<00:50,  6.12it/s]"
     ]
    },
    {
     "name": "stdout",
     "output_type": "stream",
     "text": [
      "Encoded DataFrame X_test_187 has been exported to '../data/encoded/test/X_test_187_encoded.csv'\n",
      "Encoded DataFrame X_test_188 has been exported to '../data/encoded/test/X_test_188_encoded.csv'\n"
     ]
    },
    {
     "name": "stderr",
     "output_type": "stream",
     "text": [
      "Encoding and exporting test DataFrames:  38%|███▊      | 190/499 [00:15<00:49,  6.24it/s]"
     ]
    },
    {
     "name": "stdout",
     "output_type": "stream",
     "text": [
      "Encoded DataFrame X_test_189 has been exported to '../data/encoded/test/X_test_189_encoded.csv'\n",
      "Encoded DataFrame X_test_190 has been exported to '../data/encoded/test/X_test_190_encoded.csv'\n"
     ]
    },
    {
     "name": "stderr",
     "output_type": "stream",
     "text": [
      "Encoding and exporting test DataFrames:  38%|███▊      | 192/499 [00:15<00:51,  5.99it/s]"
     ]
    },
    {
     "name": "stdout",
     "output_type": "stream",
     "text": [
      "Encoded DataFrame X_test_191 has been exported to '../data/encoded/test/X_test_191_encoded.csv'\n",
      "Encoded DataFrame X_test_192 has been exported to '../data/encoded/test/X_test_192_encoded.csv'\n"
     ]
    },
    {
     "name": "stderr",
     "output_type": "stream",
     "text": [
      "Encoding and exporting test DataFrames:  39%|███▉      | 194/499 [00:15<00:50,  6.02it/s]"
     ]
    },
    {
     "name": "stdout",
     "output_type": "stream",
     "text": [
      "Encoded DataFrame X_test_193 has been exported to '../data/encoded/test/X_test_193_encoded.csv'\n",
      "Encoded DataFrame X_test_194 has been exported to '../data/encoded/test/X_test_194_encoded.csv'\n"
     ]
    },
    {
     "name": "stderr",
     "output_type": "stream",
     "text": [
      "Encoding and exporting test DataFrames:  39%|███▉      | 196/499 [00:16<00:50,  6.01it/s]"
     ]
    },
    {
     "name": "stdout",
     "output_type": "stream",
     "text": [
      "Encoded DataFrame X_test_195 has been exported to '../data/encoded/test/X_test_195_encoded.csv'\n",
      "Encoded DataFrame X_test_196 has been exported to '../data/encoded/test/X_test_196_encoded.csv'\n"
     ]
    },
    {
     "name": "stderr",
     "output_type": "stream",
     "text": [
      "Encoding and exporting test DataFrames:  40%|███▉      | 198/499 [00:16<00:50,  5.96it/s]"
     ]
    },
    {
     "name": "stdout",
     "output_type": "stream",
     "text": [
      "Encoded DataFrame X_test_197 has been exported to '../data/encoded/test/X_test_197_encoded.csv'\n",
      "Encoded DataFrame X_test_198 has been exported to '../data/encoded/test/X_test_198_encoded.csv'\n"
     ]
    },
    {
     "name": "stderr",
     "output_type": "stream",
     "text": [
      "Encoding and exporting test DataFrames:  40%|████      | 200/499 [00:16<00:50,  5.95it/s]"
     ]
    },
    {
     "name": "stdout",
     "output_type": "stream",
     "text": [
      "Encoded DataFrame X_test_199 has been exported to '../data/encoded/test/X_test_199_encoded.csv'\n",
      "Encoded DataFrame X_test_200 has been exported to '../data/encoded/test/X_test_200_encoded.csv'\n"
     ]
    },
    {
     "name": "stderr",
     "output_type": "stream",
     "text": [
      "Encoding and exporting test DataFrames:  40%|████      | 202/499 [00:17<00:52,  5.68it/s]"
     ]
    },
    {
     "name": "stdout",
     "output_type": "stream",
     "text": [
      "Encoded DataFrame X_test_201 has been exported to '../data/encoded/test/X_test_201_encoded.csv'\n",
      "Encoded DataFrame X_test_202 has been exported to '../data/encoded/test/X_test_202_encoded.csv'\n"
     ]
    },
    {
     "name": "stderr",
     "output_type": "stream",
     "text": [
      "Encoding and exporting test DataFrames:  41%|████      | 204/499 [00:17<00:51,  5.70it/s]"
     ]
    },
    {
     "name": "stdout",
     "output_type": "stream",
     "text": [
      "Encoded DataFrame X_test_203 has been exported to '../data/encoded/test/X_test_203_encoded.csv'\n",
      "Encoded DataFrame X_test_204 has been exported to '../data/encoded/test/X_test_204_encoded.csv'\n"
     ]
    },
    {
     "name": "stderr",
     "output_type": "stream",
     "text": [
      "Encoding and exporting test DataFrames:  41%|████▏     | 206/499 [00:18<00:51,  5.68it/s]"
     ]
    },
    {
     "name": "stdout",
     "output_type": "stream",
     "text": [
      "Encoded DataFrame X_test_205 has been exported to '../data/encoded/test/X_test_205_encoded.csv'\n",
      "Encoded DataFrame X_test_206 has been exported to '../data/encoded/test/X_test_206_encoded.csv'\n"
     ]
    },
    {
     "name": "stderr",
     "output_type": "stream",
     "text": [
      "Encoding and exporting test DataFrames:  42%|████▏     | 208/499 [00:18<00:53,  5.48it/s]"
     ]
    },
    {
     "name": "stdout",
     "output_type": "stream",
     "text": [
      "Encoded DataFrame X_test_207 has been exported to '../data/encoded/test/X_test_207_encoded.csv'\n",
      "Encoded DataFrame X_test_208 has been exported to '../data/encoded/test/X_test_208_encoded.csv'\n"
     ]
    },
    {
     "name": "stderr",
     "output_type": "stream",
     "text": [
      "Encoding and exporting test DataFrames:  42%|████▏     | 210/499 [00:18<00:51,  5.61it/s]"
     ]
    },
    {
     "name": "stdout",
     "output_type": "stream",
     "text": [
      "Encoded DataFrame X_test_209 has been exported to '../data/encoded/test/X_test_209_encoded.csv'\n",
      "Encoded DataFrame X_test_210 has been exported to '../data/encoded/test/X_test_210_encoded.csv'\n"
     ]
    },
    {
     "name": "stderr",
     "output_type": "stream",
     "text": [
      "Encoding and exporting test DataFrames:  42%|████▏     | 212/499 [00:19<00:51,  5.62it/s]"
     ]
    },
    {
     "name": "stdout",
     "output_type": "stream",
     "text": [
      "Encoded DataFrame X_test_211 has been exported to '../data/encoded/test/X_test_211_encoded.csv'\n",
      "Encoded DataFrame X_test_212 has been exported to '../data/encoded/test/X_test_212_encoded.csv'\n"
     ]
    },
    {
     "name": "stderr",
     "output_type": "stream",
     "text": [
      "Encoding and exporting test DataFrames:  43%|████▎     | 214/499 [00:19<00:51,  5.56it/s]"
     ]
    },
    {
     "name": "stdout",
     "output_type": "stream",
     "text": [
      "Encoded DataFrame X_test_213 has been exported to '../data/encoded/test/X_test_213_encoded.csv'\n",
      "Encoded DataFrame X_test_214 has been exported to '../data/encoded/test/X_test_214_encoded.csv'\n"
     ]
    },
    {
     "name": "stderr",
     "output_type": "stream",
     "text": [
      "Encoding and exporting test DataFrames:  43%|████▎     | 216/499 [00:19<00:51,  5.50it/s]"
     ]
    },
    {
     "name": "stdout",
     "output_type": "stream",
     "text": [
      "Encoded DataFrame X_test_215 has been exported to '../data/encoded/test/X_test_215_encoded.csv'\n",
      "Encoded DataFrame X_test_216 has been exported to '../data/encoded/test/X_test_216_encoded.csv'\n"
     ]
    },
    {
     "name": "stderr",
     "output_type": "stream",
     "text": [
      "Encoding and exporting test DataFrames:  43%|████▎     | 217/499 [00:20<00:51,  5.46it/s]"
     ]
    },
    {
     "name": "stdout",
     "output_type": "stream",
     "text": [
      "Encoded DataFrame X_test_217 has been exported to '../data/encoded/test/X_test_217_encoded.csv'\n"
     ]
    },
    {
     "name": "stderr",
     "output_type": "stream",
     "text": [
      "Encoding and exporting test DataFrames:  44%|████▍     | 219/499 [00:20<00:53,  5.27it/s]"
     ]
    },
    {
     "name": "stdout",
     "output_type": "stream",
     "text": [
      "Encoded DataFrame X_test_218 has been exported to '../data/encoded/test/X_test_218_encoded.csv'\n",
      "Encoded DataFrame X_test_219 has been exported to '../data/encoded/test/X_test_219_encoded.csv'\n"
     ]
    },
    {
     "name": "stderr",
     "output_type": "stream",
     "text": [
      "Encoding and exporting test DataFrames:  44%|████▍     | 221/499 [00:20<00:52,  5.32it/s]"
     ]
    },
    {
     "name": "stdout",
     "output_type": "stream",
     "text": [
      "Encoded DataFrame X_test_220 has been exported to '../data/encoded/test/X_test_220_encoded.csv'\n",
      "Encoded DataFrame X_test_221 has been exported to '../data/encoded/test/X_test_221_encoded.csv'\n"
     ]
    },
    {
     "name": "stderr",
     "output_type": "stream",
     "text": [
      "Encoding and exporting test DataFrames:  45%|████▍     | 223/499 [00:21<00:51,  5.31it/s]"
     ]
    },
    {
     "name": "stdout",
     "output_type": "stream",
     "text": [
      "Encoded DataFrame X_test_222 has been exported to '../data/encoded/test/X_test_222_encoded.csv'\n",
      "Encoded DataFrame X_test_223 has been exported to '../data/encoded/test/X_test_223_encoded.csv'\n"
     ]
    },
    {
     "name": "stderr",
     "output_type": "stream",
     "text": [
      "Encoding and exporting test DataFrames:  45%|████▌     | 225/499 [00:21<00:51,  5.28it/s]"
     ]
    },
    {
     "name": "stdout",
     "output_type": "stream",
     "text": [
      "Encoded DataFrame X_test_224 has been exported to '../data/encoded/test/X_test_224_encoded.csv'\n",
      "Encoded DataFrame X_test_225 has been exported to '../data/encoded/test/X_test_225_encoded.csv'\n"
     ]
    },
    {
     "name": "stderr",
     "output_type": "stream",
     "text": [
      "Encoding and exporting test DataFrames:  45%|████▌     | 227/499 [00:21<00:51,  5.25it/s]"
     ]
    },
    {
     "name": "stdout",
     "output_type": "stream",
     "text": [
      "Encoded DataFrame X_test_226 has been exported to '../data/encoded/test/X_test_226_encoded.csv'\n",
      "Encoded DataFrame X_test_227 has been exported to '../data/encoded/test/X_test_227_encoded.csv'\n"
     ]
    },
    {
     "name": "stderr",
     "output_type": "stream",
     "text": [
      "Encoding and exporting test DataFrames:  46%|████▌     | 229/499 [00:22<00:52,  5.11it/s]"
     ]
    },
    {
     "name": "stdout",
     "output_type": "stream",
     "text": [
      "Encoded DataFrame X_test_228 has been exported to '../data/encoded/test/X_test_228_encoded.csv'\n",
      "Encoded DataFrame X_test_229 has been exported to '../data/encoded/test/X_test_229_encoded.csv'\n"
     ]
    },
    {
     "name": "stderr",
     "output_type": "stream",
     "text": [
      "Encoding and exporting test DataFrames:  46%|████▋     | 231/499 [00:22<00:52,  5.12it/s]"
     ]
    },
    {
     "name": "stdout",
     "output_type": "stream",
     "text": [
      "Encoded DataFrame X_test_230 has been exported to '../data/encoded/test/X_test_230_encoded.csv'\n",
      "Encoded DataFrame X_test_231 has been exported to '../data/encoded/test/X_test_231_encoded.csv'\n"
     ]
    },
    {
     "name": "stderr",
     "output_type": "stream",
     "text": [
      "Encoding and exporting test DataFrames:  47%|████▋     | 233/499 [00:23<00:52,  5.11it/s]"
     ]
    },
    {
     "name": "stdout",
     "output_type": "stream",
     "text": [
      "Encoded DataFrame X_test_232 has been exported to '../data/encoded/test/X_test_232_encoded.csv'\n",
      "Encoded DataFrame X_test_233 has been exported to '../data/encoded/test/X_test_233_encoded.csv'\n"
     ]
    },
    {
     "name": "stderr",
     "output_type": "stream",
     "text": [
      "Encoding and exporting test DataFrames:  47%|████▋     | 235/499 [00:23<00:52,  5.05it/s]"
     ]
    },
    {
     "name": "stdout",
     "output_type": "stream",
     "text": [
      "Encoded DataFrame X_test_234 has been exported to '../data/encoded/test/X_test_234_encoded.csv'\n",
      "Encoded DataFrame X_test_235 has been exported to '../data/encoded/test/X_test_235_encoded.csv'\n"
     ]
    },
    {
     "name": "stderr",
     "output_type": "stream",
     "text": [
      "Encoding and exporting test DataFrames:  47%|████▋     | 236/499 [00:23<00:52,  5.03it/s]"
     ]
    },
    {
     "name": "stdout",
     "output_type": "stream",
     "text": [
      "Encoded DataFrame X_test_236 has been exported to '../data/encoded/test/X_test_236_encoded.csv'\n",
      "Encoded DataFrame X_test_237 has been exported to '../data/encoded/test/X_test_237_encoded.csv'\n"
     ]
    },
    {
     "name": "stderr",
     "output_type": "stream",
     "text": [
      "Encoding and exporting test DataFrames:  48%|████▊     | 239/499 [00:24<00:53,  4.89it/s]"
     ]
    },
    {
     "name": "stdout",
     "output_type": "stream",
     "text": [
      "Encoded DataFrame X_test_238 has been exported to '../data/encoded/test/X_test_238_encoded.csv'\n",
      "Encoded DataFrame X_test_239 has been exported to '../data/encoded/test/X_test_239_encoded.csv'\n"
     ]
    },
    {
     "name": "stderr",
     "output_type": "stream",
     "text": [
      "Encoding and exporting test DataFrames:  48%|████▊     | 240/499 [00:24<00:52,  4.90it/s]"
     ]
    },
    {
     "name": "stdout",
     "output_type": "stream",
     "text": [
      "Encoded DataFrame X_test_240 has been exported to '../data/encoded/test/X_test_240_encoded.csv'\n"
     ]
    },
    {
     "name": "stderr",
     "output_type": "stream",
     "text": [
      "Encoding and exporting test DataFrames:  48%|████▊     | 241/499 [00:24<00:52,  4.92it/s]"
     ]
    },
    {
     "name": "stdout",
     "output_type": "stream",
     "text": [
      "Encoded DataFrame X_test_241 has been exported to '../data/encoded/test/X_test_241_encoded.csv'\n"
     ]
    },
    {
     "name": "stderr",
     "output_type": "stream",
     "text": [
      "Encoding and exporting test DataFrames:  48%|████▊     | 242/499 [00:24<00:52,  4.88it/s]"
     ]
    },
    {
     "name": "stdout",
     "output_type": "stream",
     "text": [
      "Encoded DataFrame X_test_242 has been exported to '../data/encoded/test/X_test_242_encoded.csv'\n"
     ]
    },
    {
     "name": "stderr",
     "output_type": "stream",
     "text": [
      "Encoding and exporting test DataFrames:  49%|████▊     | 243/499 [00:25<00:52,  4.88it/s]"
     ]
    },
    {
     "name": "stdout",
     "output_type": "stream",
     "text": [
      "Encoded DataFrame X_test_243 has been exported to '../data/encoded/test/X_test_243_encoded.csv'\n"
     ]
    },
    {
     "name": "stderr",
     "output_type": "stream",
     "text": [
      "Encoding and exporting test DataFrames:  49%|████▉     | 244/499 [00:25<00:52,  4.82it/s]"
     ]
    },
    {
     "name": "stdout",
     "output_type": "stream",
     "text": [
      "Encoded DataFrame X_test_244 has been exported to '../data/encoded/test/X_test_244_encoded.csv'\n"
     ]
    },
    {
     "name": "stderr",
     "output_type": "stream",
     "text": [
      "Encoding and exporting test DataFrames:  49%|████▉     | 245/499 [00:25<00:52,  4.84it/s]"
     ]
    },
    {
     "name": "stdout",
     "output_type": "stream",
     "text": [
      "Encoded DataFrame X_test_245 has been exported to '../data/encoded/test/X_test_245_encoded.csv'\n"
     ]
    },
    {
     "name": "stderr",
     "output_type": "stream",
     "text": [
      "Encoding and exporting test DataFrames:  49%|████▉     | 246/499 [00:25<00:52,  4.85it/s]"
     ]
    },
    {
     "name": "stdout",
     "output_type": "stream",
     "text": [
      "Encoded DataFrame X_test_246 has been exported to '../data/encoded/test/X_test_246_encoded.csv'\n"
     ]
    },
    {
     "name": "stderr",
     "output_type": "stream",
     "text": [
      "Encoding and exporting test DataFrames:  49%|████▉     | 247/499 [00:26<00:53,  4.67it/s]"
     ]
    },
    {
     "name": "stdout",
     "output_type": "stream",
     "text": [
      "Encoded DataFrame X_test_247 has been exported to '../data/encoded/test/X_test_247_encoded.csv'\n"
     ]
    },
    {
     "name": "stderr",
     "output_type": "stream",
     "text": [
      "Encoding and exporting test DataFrames:  50%|████▉     | 248/499 [00:26<00:52,  4.74it/s]"
     ]
    },
    {
     "name": "stdout",
     "output_type": "stream",
     "text": [
      "Encoded DataFrame X_test_248 has been exported to '../data/encoded/test/X_test_248_encoded.csv'\n"
     ]
    },
    {
     "name": "stderr",
     "output_type": "stream",
     "text": [
      "Encoding and exporting test DataFrames:  50%|████▉     | 249/499 [00:26<00:52,  4.76it/s]"
     ]
    },
    {
     "name": "stdout",
     "output_type": "stream",
     "text": [
      "Encoded DataFrame X_test_249 has been exported to '../data/encoded/test/X_test_249_encoded.csv'\n"
     ]
    },
    {
     "name": "stderr",
     "output_type": "stream",
     "text": [
      "Encoding and exporting test DataFrames:  50%|█████     | 250/499 [00:26<00:52,  4.76it/s]"
     ]
    },
    {
     "name": "stdout",
     "output_type": "stream",
     "text": [
      "Encoded DataFrame X_test_250 has been exported to '../data/encoded/test/X_test_250_encoded.csv'\n"
     ]
    },
    {
     "name": "stderr",
     "output_type": "stream",
     "text": [
      "Encoding and exporting test DataFrames:  50%|█████     | 251/499 [00:26<00:51,  4.79it/s]"
     ]
    },
    {
     "name": "stdout",
     "output_type": "stream",
     "text": [
      "Encoded DataFrame X_test_251 has been exported to '../data/encoded/test/X_test_251_encoded.csv'\n"
     ]
    },
    {
     "name": "stderr",
     "output_type": "stream",
     "text": [
      "Encoding and exporting test DataFrames:  51%|█████     | 252/499 [00:27<00:52,  4.75it/s]"
     ]
    },
    {
     "name": "stdout",
     "output_type": "stream",
     "text": [
      "Encoded DataFrame X_test_252 has been exported to '../data/encoded/test/X_test_252_encoded.csv'\n"
     ]
    },
    {
     "name": "stderr",
     "output_type": "stream",
     "text": [
      "Encoding and exporting test DataFrames:  51%|█████     | 253/499 [00:27<00:52,  4.73it/s]"
     ]
    },
    {
     "name": "stdout",
     "output_type": "stream",
     "text": [
      "Encoded DataFrame X_test_253 has been exported to '../data/encoded/test/X_test_253_encoded.csv'\n"
     ]
    },
    {
     "name": "stderr",
     "output_type": "stream",
     "text": [
      "Encoding and exporting test DataFrames:  51%|█████     | 254/499 [00:27<00:52,  4.69it/s]"
     ]
    },
    {
     "name": "stdout",
     "output_type": "stream",
     "text": [
      "Encoded DataFrame X_test_254 has been exported to '../data/encoded/test/X_test_254_encoded.csv'\n"
     ]
    },
    {
     "name": "stderr",
     "output_type": "stream",
     "text": [
      "Encoding and exporting test DataFrames:  51%|█████     | 255/499 [00:27<00:54,  4.49it/s]"
     ]
    },
    {
     "name": "stdout",
     "output_type": "stream",
     "text": [
      "Encoded DataFrame X_test_255 has been exported to '../data/encoded/test/X_test_255_encoded.csv'\n"
     ]
    },
    {
     "name": "stderr",
     "output_type": "stream",
     "text": [
      "Encoding and exporting test DataFrames:  51%|█████▏    | 256/499 [00:27<00:53,  4.51it/s]"
     ]
    },
    {
     "name": "stdout",
     "output_type": "stream",
     "text": [
      "Encoded DataFrame X_test_256 has been exported to '../data/encoded/test/X_test_256_encoded.csv'\n"
     ]
    },
    {
     "name": "stderr",
     "output_type": "stream",
     "text": [
      "Encoding and exporting test DataFrames:  52%|█████▏    | 257/499 [00:28<00:53,  4.56it/s]"
     ]
    },
    {
     "name": "stdout",
     "output_type": "stream",
     "text": [
      "Encoded DataFrame X_test_257 has been exported to '../data/encoded/test/X_test_257_encoded.csv'\n"
     ]
    },
    {
     "name": "stderr",
     "output_type": "stream",
     "text": [
      "Encoding and exporting test DataFrames:  52%|█████▏    | 258/499 [00:28<00:52,  4.56it/s]"
     ]
    },
    {
     "name": "stdout",
     "output_type": "stream",
     "text": [
      "Encoded DataFrame X_test_258 has been exported to '../data/encoded/test/X_test_258_encoded.csv'\n"
     ]
    },
    {
     "name": "stderr",
     "output_type": "stream",
     "text": [
      "Encoding and exporting test DataFrames:  52%|█████▏    | 259/499 [00:28<00:52,  4.56it/s]"
     ]
    },
    {
     "name": "stdout",
     "output_type": "stream",
     "text": [
      "Encoded DataFrame X_test_259 has been exported to '../data/encoded/test/X_test_259_encoded.csv'\n"
     ]
    },
    {
     "name": "stderr",
     "output_type": "stream",
     "text": [
      "Encoding and exporting test DataFrames:  52%|█████▏    | 260/499 [00:28<00:52,  4.53it/s]"
     ]
    },
    {
     "name": "stdout",
     "output_type": "stream",
     "text": [
      "Encoded DataFrame X_test_260 has been exported to '../data/encoded/test/X_test_260_encoded.csv'\n"
     ]
    },
    {
     "name": "stderr",
     "output_type": "stream",
     "text": [
      "Encoding and exporting test DataFrames:  52%|█████▏    | 261/499 [00:29<00:52,  4.53it/s]"
     ]
    },
    {
     "name": "stdout",
     "output_type": "stream",
     "text": [
      "Encoded DataFrame X_test_261 has been exported to '../data/encoded/test/X_test_261_encoded.csv'\n"
     ]
    },
    {
     "name": "stderr",
     "output_type": "stream",
     "text": [
      "Encoding and exporting test DataFrames:  53%|█████▎    | 262/499 [00:29<00:53,  4.41it/s]"
     ]
    },
    {
     "name": "stdout",
     "output_type": "stream",
     "text": [
      "Encoded DataFrame X_test_262 has been exported to '../data/encoded/test/X_test_262_encoded.csv'\n"
     ]
    },
    {
     "name": "stderr",
     "output_type": "stream",
     "text": [
      "Encoding and exporting test DataFrames:  53%|█████▎    | 263/499 [00:29<00:52,  4.46it/s]"
     ]
    },
    {
     "name": "stdout",
     "output_type": "stream",
     "text": [
      "Encoded DataFrame X_test_263 has been exported to '../data/encoded/test/X_test_263_encoded.csv'\n"
     ]
    },
    {
     "name": "stderr",
     "output_type": "stream",
     "text": [
      "Encoding and exporting test DataFrames:  53%|█████▎    | 264/499 [00:29<00:52,  4.47it/s]"
     ]
    },
    {
     "name": "stdout",
     "output_type": "stream",
     "text": [
      "Encoded DataFrame X_test_264 has been exported to '../data/encoded/test/X_test_264_encoded.csv'\n"
     ]
    },
    {
     "name": "stderr",
     "output_type": "stream",
     "text": [
      "Encoding and exporting test DataFrames:  53%|█████▎    | 265/499 [00:29<00:52,  4.48it/s]"
     ]
    },
    {
     "name": "stdout",
     "output_type": "stream",
     "text": [
      "Encoded DataFrame X_test_265 has been exported to '../data/encoded/test/X_test_265_encoded.csv'\n"
     ]
    },
    {
     "name": "stderr",
     "output_type": "stream",
     "text": [
      "Encoding and exporting test DataFrames:  53%|█████▎    | 266/499 [00:30<00:51,  4.49it/s]"
     ]
    },
    {
     "name": "stdout",
     "output_type": "stream",
     "text": [
      "Encoded DataFrame X_test_266 has been exported to '../data/encoded/test/X_test_266_encoded.csv'\n"
     ]
    },
    {
     "name": "stderr",
     "output_type": "stream",
     "text": [
      "Encoding and exporting test DataFrames:  54%|█████▎    | 267/499 [00:30<00:51,  4.48it/s]"
     ]
    },
    {
     "name": "stdout",
     "output_type": "stream",
     "text": [
      "Encoded DataFrame X_test_267 has been exported to '../data/encoded/test/X_test_267_encoded.csv'\n"
     ]
    },
    {
     "name": "stderr",
     "output_type": "stream",
     "text": [
      "Encoding and exporting test DataFrames:  54%|█████▎    | 268/499 [00:30<00:52,  4.42it/s]"
     ]
    },
    {
     "name": "stdout",
     "output_type": "stream",
     "text": [
      "Encoded DataFrame X_test_268 has been exported to '../data/encoded/test/X_test_268_encoded.csv'\n"
     ]
    },
    {
     "name": "stderr",
     "output_type": "stream",
     "text": [
      "Encoding and exporting test DataFrames:  54%|█████▍    | 269/499 [00:30<00:53,  4.28it/s]"
     ]
    },
    {
     "name": "stdout",
     "output_type": "stream",
     "text": [
      "Encoded DataFrame X_test_269 has been exported to '../data/encoded/test/X_test_269_encoded.csv'\n"
     ]
    },
    {
     "name": "stderr",
     "output_type": "stream",
     "text": [
      "Encoding and exporting test DataFrames:  54%|█████▍    | 270/499 [00:31<00:52,  4.33it/s]"
     ]
    },
    {
     "name": "stdout",
     "output_type": "stream",
     "text": [
      "Encoded DataFrame X_test_270 has been exported to '../data/encoded/test/X_test_270_encoded.csv'\n"
     ]
    },
    {
     "name": "stderr",
     "output_type": "stream",
     "text": [
      "Encoding and exporting test DataFrames:  54%|█████▍    | 271/499 [00:31<00:52,  4.36it/s]"
     ]
    },
    {
     "name": "stdout",
     "output_type": "stream",
     "text": [
      "Encoded DataFrame X_test_271 has been exported to '../data/encoded/test/X_test_271_encoded.csv'\n"
     ]
    },
    {
     "name": "stderr",
     "output_type": "stream",
     "text": [
      "Encoding and exporting test DataFrames:  55%|█████▍    | 272/499 [00:31<00:51,  4.38it/s]"
     ]
    },
    {
     "name": "stdout",
     "output_type": "stream",
     "text": [
      "Encoded DataFrame X_test_272 has been exported to '../data/encoded/test/X_test_272_encoded.csv'\n"
     ]
    },
    {
     "name": "stderr",
     "output_type": "stream",
     "text": [
      "Encoding and exporting test DataFrames:  55%|█████▍    | 273/499 [00:31<00:51,  4.40it/s]"
     ]
    },
    {
     "name": "stdout",
     "output_type": "stream",
     "text": [
      "Encoded DataFrame X_test_273 has been exported to '../data/encoded/test/X_test_273_encoded.csv'\n"
     ]
    },
    {
     "name": "stderr",
     "output_type": "stream",
     "text": [
      "Encoding and exporting test DataFrames:  55%|█████▍    | 274/499 [00:32<00:51,  4.40it/s]"
     ]
    },
    {
     "name": "stdout",
     "output_type": "stream",
     "text": [
      "Encoded DataFrame X_test_274 has been exported to '../data/encoded/test/X_test_274_encoded.csv'\n"
     ]
    },
    {
     "name": "stderr",
     "output_type": "stream",
     "text": [
      "Encoding and exporting test DataFrames:  55%|█████▌    | 275/499 [00:32<00:51,  4.38it/s]"
     ]
    },
    {
     "name": "stdout",
     "output_type": "stream",
     "text": [
      "Encoded DataFrame X_test_275 has been exported to '../data/encoded/test/X_test_275_encoded.csv'\n"
     ]
    },
    {
     "name": "stderr",
     "output_type": "stream",
     "text": [
      "Encoding and exporting test DataFrames:  55%|█████▌    | 276/499 [00:32<00:52,  4.24it/s]"
     ]
    },
    {
     "name": "stdout",
     "output_type": "stream",
     "text": [
      "Encoded DataFrame X_test_276 has been exported to '../data/encoded/test/X_test_276_encoded.csv'\n"
     ]
    },
    {
     "name": "stderr",
     "output_type": "stream",
     "text": [
      "Encoding and exporting test DataFrames:  56%|█████▌    | 277/499 [00:32<00:52,  4.27it/s]"
     ]
    },
    {
     "name": "stdout",
     "output_type": "stream",
     "text": [
      "Encoded DataFrame X_test_277 has been exported to '../data/encoded/test/X_test_277_encoded.csv'\n"
     ]
    },
    {
     "name": "stderr",
     "output_type": "stream",
     "text": [
      "Encoding and exporting test DataFrames:  56%|█████▌    | 278/499 [00:32<00:51,  4.28it/s]"
     ]
    },
    {
     "name": "stdout",
     "output_type": "stream",
     "text": [
      "Encoded DataFrame X_test_278 has been exported to '../data/encoded/test/X_test_278_encoded.csv'\n"
     ]
    },
    {
     "name": "stderr",
     "output_type": "stream",
     "text": [
      "Encoding and exporting test DataFrames:  56%|█████▌    | 279/499 [00:33<00:51,  4.28it/s]"
     ]
    },
    {
     "name": "stdout",
     "output_type": "stream",
     "text": [
      "Encoded DataFrame X_test_279 has been exported to '../data/encoded/test/X_test_279_encoded.csv'\n"
     ]
    },
    {
     "name": "stderr",
     "output_type": "stream",
     "text": [
      "Encoding and exporting test DataFrames:  56%|█████▌    | 280/499 [00:33<00:51,  4.24it/s]"
     ]
    },
    {
     "name": "stdout",
     "output_type": "stream",
     "text": [
      "Encoded DataFrame X_test_280 has been exported to '../data/encoded/test/X_test_280_encoded.csv'\n"
     ]
    },
    {
     "name": "stderr",
     "output_type": "stream",
     "text": [
      "Encoding and exporting test DataFrames:  56%|█████▋    | 281/499 [00:33<00:51,  4.26it/s]"
     ]
    },
    {
     "name": "stdout",
     "output_type": "stream",
     "text": [
      "Encoded DataFrame X_test_281 has been exported to '../data/encoded/test/X_test_281_encoded.csv'\n"
     ]
    },
    {
     "name": "stderr",
     "output_type": "stream",
     "text": [
      "Encoding and exporting test DataFrames:  57%|█████▋    | 282/499 [00:33<00:52,  4.13it/s]"
     ]
    },
    {
     "name": "stdout",
     "output_type": "stream",
     "text": [
      "Encoded DataFrame X_test_282 has been exported to '../data/encoded/test/X_test_282_encoded.csv'\n"
     ]
    },
    {
     "name": "stderr",
     "output_type": "stream",
     "text": [
      "Encoding and exporting test DataFrames:  57%|█████▋    | 283/499 [00:34<00:51,  4.16it/s]"
     ]
    },
    {
     "name": "stdout",
     "output_type": "stream",
     "text": [
      "Encoded DataFrame X_test_283 has been exported to '../data/encoded/test/X_test_283_encoded.csv'\n"
     ]
    },
    {
     "name": "stderr",
     "output_type": "stream",
     "text": [
      "Encoding and exporting test DataFrames:  57%|█████▋    | 284/499 [00:34<00:51,  4.17it/s]"
     ]
    },
    {
     "name": "stdout",
     "output_type": "stream",
     "text": [
      "Encoded DataFrame X_test_284 has been exported to '../data/encoded/test/X_test_284_encoded.csv'\n"
     ]
    },
    {
     "name": "stderr",
     "output_type": "stream",
     "text": [
      "Encoding and exporting test DataFrames:  57%|█████▋    | 285/499 [00:34<00:51,  4.18it/s]"
     ]
    },
    {
     "name": "stdout",
     "output_type": "stream",
     "text": [
      "Encoded DataFrame X_test_285 has been exported to '../data/encoded/test/X_test_285_encoded.csv'\n"
     ]
    },
    {
     "name": "stderr",
     "output_type": "stream",
     "text": [
      "Encoding and exporting test DataFrames:  57%|█████▋    | 286/499 [00:34<00:50,  4.18it/s]"
     ]
    },
    {
     "name": "stdout",
     "output_type": "stream",
     "text": [
      "Encoded DataFrame X_test_286 has been exported to '../data/encoded/test/X_test_286_encoded.csv'\n"
     ]
    },
    {
     "name": "stderr",
     "output_type": "stream",
     "text": [
      "Encoding and exporting test DataFrames:  58%|█████▊    | 287/499 [00:35<00:50,  4.18it/s]"
     ]
    },
    {
     "name": "stdout",
     "output_type": "stream",
     "text": [
      "Encoded DataFrame X_test_287 has been exported to '../data/encoded/test/X_test_287_encoded.csv'\n"
     ]
    },
    {
     "name": "stderr",
     "output_type": "stream",
     "text": [
      "Encoding and exporting test DataFrames:  58%|█████▊    | 288/499 [00:35<00:50,  4.15it/s]"
     ]
    },
    {
     "name": "stdout",
     "output_type": "stream",
     "text": [
      "Encoded DataFrame X_test_288 has been exported to '../data/encoded/test/X_test_288_encoded.csv'\n"
     ]
    },
    {
     "name": "stderr",
     "output_type": "stream",
     "text": [
      "Encoding and exporting test DataFrames:  58%|█████▊    | 289/499 [00:35<00:52,  4.03it/s]"
     ]
    },
    {
     "name": "stdout",
     "output_type": "stream",
     "text": [
      "Encoded DataFrame X_test_289 has been exported to '../data/encoded/test/X_test_289_encoded.csv'\n"
     ]
    },
    {
     "name": "stderr",
     "output_type": "stream",
     "text": [
      "Encoding and exporting test DataFrames:  58%|█████▊    | 290/499 [00:35<00:51,  4.05it/s]"
     ]
    },
    {
     "name": "stdout",
     "output_type": "stream",
     "text": [
      "Encoded DataFrame X_test_290 has been exported to '../data/encoded/test/X_test_290_encoded.csv'\n"
     ]
    },
    {
     "name": "stderr",
     "output_type": "stream",
     "text": [
      "Encoding and exporting test DataFrames:  58%|█████▊    | 291/499 [00:36<00:51,  4.07it/s]"
     ]
    },
    {
     "name": "stdout",
     "output_type": "stream",
     "text": [
      "Encoded DataFrame X_test_291 has been exported to '../data/encoded/test/X_test_291_encoded.csv'\n"
     ]
    },
    {
     "name": "stderr",
     "output_type": "stream",
     "text": [
      "Encoding and exporting test DataFrames:  59%|█████▊    | 292/499 [00:36<00:51,  4.02it/s]"
     ]
    },
    {
     "name": "stdout",
     "output_type": "stream",
     "text": [
      "Encoded DataFrame X_test_292 has been exported to '../data/encoded/test/X_test_292_encoded.csv'\n"
     ]
    },
    {
     "name": "stderr",
     "output_type": "stream",
     "text": [
      "Encoding and exporting test DataFrames:  59%|█████▊    | 293/499 [00:36<00:51,  4.04it/s]"
     ]
    },
    {
     "name": "stdout",
     "output_type": "stream",
     "text": [
      "Encoded DataFrame X_test_293 has been exported to '../data/encoded/test/X_test_293_encoded.csv'\n"
     ]
    },
    {
     "name": "stderr",
     "output_type": "stream",
     "text": [
      "Encoding and exporting test DataFrames:  59%|█████▉    | 294/499 [00:36<00:50,  4.05it/s]"
     ]
    },
    {
     "name": "stdout",
     "output_type": "stream",
     "text": [
      "Encoded DataFrame X_test_294 has been exported to '../data/encoded/test/X_test_294_encoded.csv'\n"
     ]
    },
    {
     "name": "stderr",
     "output_type": "stream",
     "text": [
      "Encoding and exporting test DataFrames:  59%|█████▉    | 295/499 [00:37<00:51,  3.93it/s]"
     ]
    },
    {
     "name": "stdout",
     "output_type": "stream",
     "text": [
      "Encoded DataFrame X_test_295 has been exported to '../data/encoded/test/X_test_295_encoded.csv'\n"
     ]
    },
    {
     "name": "stderr",
     "output_type": "stream",
     "text": [
      "Encoding and exporting test DataFrames:  59%|█████▉    | 296/499 [00:37<00:51,  3.96it/s]"
     ]
    },
    {
     "name": "stdout",
     "output_type": "stream",
     "text": [
      "Encoded DataFrame X_test_296 has been exported to '../data/encoded/test/X_test_296_encoded.csv'\n"
     ]
    },
    {
     "name": "stderr",
     "output_type": "stream",
     "text": [
      "Encoding and exporting test DataFrames:  60%|█████▉    | 297/499 [00:37<00:50,  3.98it/s]"
     ]
    },
    {
     "name": "stdout",
     "output_type": "stream",
     "text": [
      "Encoded DataFrame X_test_297 has been exported to '../data/encoded/test/X_test_297_encoded.csv'\n"
     ]
    },
    {
     "name": "stderr",
     "output_type": "stream",
     "text": [
      "Encoding and exporting test DataFrames:  60%|█████▉    | 298/499 [00:37<00:50,  3.99it/s]"
     ]
    },
    {
     "name": "stdout",
     "output_type": "stream",
     "text": [
      "Encoded DataFrame X_test_298 has been exported to '../data/encoded/test/X_test_298_encoded.csv'\n"
     ]
    },
    {
     "name": "stderr",
     "output_type": "stream",
     "text": [
      "Encoding and exporting test DataFrames:  60%|█████▉    | 299/499 [00:38<00:50,  3.99it/s]"
     ]
    },
    {
     "name": "stdout",
     "output_type": "stream",
     "text": [
      "Encoded DataFrame X_test_299 has been exported to '../data/encoded/test/X_test_299_encoded.csv'\n"
     ]
    },
    {
     "name": "stderr",
     "output_type": "stream",
     "text": [
      "Encoding and exporting test DataFrames:  60%|██████    | 300/499 [00:38<00:49,  3.99it/s]"
     ]
    },
    {
     "name": "stdout",
     "output_type": "stream",
     "text": [
      "Encoded DataFrame X_test_300 has been exported to '../data/encoded/test/X_test_300_encoded.csv'\n"
     ]
    },
    {
     "name": "stderr",
     "output_type": "stream",
     "text": [
      "Encoding and exporting test DataFrames:  60%|██████    | 301/499 [00:38<00:50,  3.89it/s]"
     ]
    },
    {
     "name": "stdout",
     "output_type": "stream",
     "text": [
      "Encoded DataFrame X_test_301 has been exported to '../data/encoded/test/X_test_301_encoded.csv'\n"
     ]
    },
    {
     "name": "stderr",
     "output_type": "stream",
     "text": [
      "Encoding and exporting test DataFrames:  61%|██████    | 302/499 [00:38<00:50,  3.91it/s]"
     ]
    },
    {
     "name": "stdout",
     "output_type": "stream",
     "text": [
      "Encoded DataFrame X_test_302 has been exported to '../data/encoded/test/X_test_302_encoded.csv'\n"
     ]
    },
    {
     "name": "stderr",
     "output_type": "stream",
     "text": [
      "Encoding and exporting test DataFrames:  61%|██████    | 303/499 [00:39<00:50,  3.89it/s]"
     ]
    },
    {
     "name": "stdout",
     "output_type": "stream",
     "text": [
      "Encoded DataFrame X_test_303 has been exported to '../data/encoded/test/X_test_303_encoded.csv'\n"
     ]
    },
    {
     "name": "stderr",
     "output_type": "stream",
     "text": [
      "Encoding and exporting test DataFrames:  61%|██████    | 304/499 [00:39<00:50,  3.89it/s]"
     ]
    },
    {
     "name": "stdout",
     "output_type": "stream",
     "text": [
      "Encoded DataFrame X_test_304 has been exported to '../data/encoded/test/X_test_304_encoded.csv'\n"
     ]
    },
    {
     "name": "stderr",
     "output_type": "stream",
     "text": [
      "Encoding and exporting test DataFrames:  61%|██████    | 305/499 [00:39<00:50,  3.88it/s]"
     ]
    },
    {
     "name": "stdout",
     "output_type": "stream",
     "text": [
      "Encoded DataFrame X_test_305 has been exported to '../data/encoded/test/X_test_305_encoded.csv'\n"
     ]
    },
    {
     "name": "stderr",
     "output_type": "stream",
     "text": [
      "Encoding and exporting test DataFrames:  61%|██████▏   | 306/499 [00:39<00:51,  3.78it/s]"
     ]
    },
    {
     "name": "stdout",
     "output_type": "stream",
     "text": [
      "Encoded DataFrame X_test_306 has been exported to '../data/encoded/test/X_test_306_encoded.csv'\n"
     ]
    },
    {
     "name": "stderr",
     "output_type": "stream",
     "text": [
      "Encoding and exporting test DataFrames:  62%|██████▏   | 307/499 [00:40<00:50,  3.81it/s]"
     ]
    },
    {
     "name": "stdout",
     "output_type": "stream",
     "text": [
      "Encoded DataFrame X_test_307 has been exported to '../data/encoded/test/X_test_307_encoded.csv'\n"
     ]
    },
    {
     "name": "stderr",
     "output_type": "stream",
     "text": [
      "Encoding and exporting test DataFrames:  62%|██████▏   | 308/499 [00:40<00:50,  3.82it/s]"
     ]
    },
    {
     "name": "stdout",
     "output_type": "stream",
     "text": [
      "Encoded DataFrame X_test_308 has been exported to '../data/encoded/test/X_test_308_encoded.csv'\n"
     ]
    },
    {
     "name": "stderr",
     "output_type": "stream",
     "text": [
      "Encoding and exporting test DataFrames:  62%|██████▏   | 309/499 [00:40<00:49,  3.81it/s]"
     ]
    },
    {
     "name": "stdout",
     "output_type": "stream",
     "text": [
      "Encoded DataFrame X_test_309 has been exported to '../data/encoded/test/X_test_309_encoded.csv'\n"
     ]
    },
    {
     "name": "stderr",
     "output_type": "stream",
     "text": [
      "Encoding and exporting test DataFrames:  62%|██████▏   | 310/499 [00:41<00:49,  3.82it/s]"
     ]
    },
    {
     "name": "stdout",
     "output_type": "stream",
     "text": [
      "Encoded DataFrame X_test_310 has been exported to '../data/encoded/test/X_test_310_encoded.csv'\n"
     ]
    },
    {
     "name": "stderr",
     "output_type": "stream",
     "text": [
      "Encoding and exporting test DataFrames:  62%|██████▏   | 311/499 [00:41<00:50,  3.73it/s]"
     ]
    },
    {
     "name": "stdout",
     "output_type": "stream",
     "text": [
      "Encoded DataFrame X_test_311 has been exported to '../data/encoded/test/X_test_311_encoded.csv'\n"
     ]
    },
    {
     "name": "stderr",
     "output_type": "stream",
     "text": [
      "Encoding and exporting test DataFrames:  63%|██████▎   | 312/499 [00:41<00:50,  3.74it/s]"
     ]
    },
    {
     "name": "stdout",
     "output_type": "stream",
     "text": [
      "Encoded DataFrame X_test_312 has been exported to '../data/encoded/test/X_test_312_encoded.csv'\n"
     ]
    },
    {
     "name": "stderr",
     "output_type": "stream",
     "text": [
      "Encoding and exporting test DataFrames:  63%|██████▎   | 313/499 [00:41<00:50,  3.72it/s]"
     ]
    },
    {
     "name": "stdout",
     "output_type": "stream",
     "text": [
      "Encoded DataFrame X_test_313 has been exported to '../data/encoded/test/X_test_313_encoded.csv'\n"
     ]
    },
    {
     "name": "stderr",
     "output_type": "stream",
     "text": [
      "Encoding and exporting test DataFrames:  63%|██████▎   | 314/499 [00:42<00:49,  3.73it/s]"
     ]
    },
    {
     "name": "stdout",
     "output_type": "stream",
     "text": [
      "Encoded DataFrame X_test_314 has been exported to '../data/encoded/test/X_test_314_encoded.csv'\n"
     ]
    },
    {
     "name": "stderr",
     "output_type": "stream",
     "text": [
      "Encoding and exporting test DataFrames:  63%|██████▎   | 315/499 [00:42<00:49,  3.73it/s]"
     ]
    },
    {
     "name": "stdout",
     "output_type": "stream",
     "text": [
      "Encoded DataFrame X_test_315 has been exported to '../data/encoded/test/X_test_315_encoded.csv'\n"
     ]
    },
    {
     "name": "stderr",
     "output_type": "stream",
     "text": [
      "Encoding and exporting test DataFrames:  63%|██████▎   | 316/499 [00:42<00:48,  3.74it/s]"
     ]
    },
    {
     "name": "stdout",
     "output_type": "stream",
     "text": [
      "Encoded DataFrame X_test_316 has been exported to '../data/encoded/test/X_test_316_encoded.csv'\n"
     ]
    },
    {
     "name": "stderr",
     "output_type": "stream",
     "text": [
      "Encoding and exporting test DataFrames:  64%|██████▎   | 317/499 [00:42<00:49,  3.65it/s]"
     ]
    },
    {
     "name": "stdout",
     "output_type": "stream",
     "text": [
      "Encoded DataFrame X_test_317 has been exported to '../data/encoded/test/X_test_317_encoded.csv'\n"
     ]
    },
    {
     "name": "stderr",
     "output_type": "stream",
     "text": [
      "Encoding and exporting test DataFrames:  64%|██████▎   | 318/499 [00:43<00:49,  3.65it/s]"
     ]
    },
    {
     "name": "stdout",
     "output_type": "stream",
     "text": [
      "Encoded DataFrame X_test_318 has been exported to '../data/encoded/test/X_test_318_encoded.csv'\n"
     ]
    },
    {
     "name": "stderr",
     "output_type": "stream",
     "text": [
      "Encoding and exporting test DataFrames:  64%|██████▍   | 319/499 [00:43<00:49,  3.67it/s]"
     ]
    },
    {
     "name": "stdout",
     "output_type": "stream",
     "text": [
      "Encoded DataFrame X_test_319 has been exported to '../data/encoded/test/X_test_319_encoded.csv'\n"
     ]
    },
    {
     "name": "stderr",
     "output_type": "stream",
     "text": [
      "Encoding and exporting test DataFrames:  64%|██████▍   | 320/499 [00:43<00:48,  3.67it/s]"
     ]
    },
    {
     "name": "stdout",
     "output_type": "stream",
     "text": [
      "Encoded DataFrame X_test_320 has been exported to '../data/encoded/test/X_test_320_encoded.csv'\n"
     ]
    },
    {
     "name": "stderr",
     "output_type": "stream",
     "text": [
      "Encoding and exporting test DataFrames:  64%|██████▍   | 321/499 [00:44<00:48,  3.67it/s]"
     ]
    },
    {
     "name": "stdout",
     "output_type": "stream",
     "text": [
      "Encoded DataFrame X_test_321 has been exported to '../data/encoded/test/X_test_321_encoded.csv'\n"
     ]
    },
    {
     "name": "stderr",
     "output_type": "stream",
     "text": [
      "Encoding and exporting test DataFrames:  65%|██████▍   | 322/499 [00:44<00:49,  3.58it/s]"
     ]
    },
    {
     "name": "stdout",
     "output_type": "stream",
     "text": [
      "Encoded DataFrame X_test_322 has been exported to '../data/encoded/test/X_test_322_encoded.csv'\n"
     ]
    },
    {
     "name": "stderr",
     "output_type": "stream",
     "text": [
      "Encoding and exporting test DataFrames:  65%|██████▍   | 323/499 [00:44<00:55,  3.19it/s]"
     ]
    },
    {
     "name": "stdout",
     "output_type": "stream",
     "text": [
      "Encoded DataFrame X_test_323 has been exported to '../data/encoded/test/X_test_323_encoded.csv'\n"
     ]
    },
    {
     "name": "stderr",
     "output_type": "stream",
     "text": [
      "Encoding and exporting test DataFrames:  65%|██████▍   | 324/499 [00:44<00:52,  3.32it/s]"
     ]
    },
    {
     "name": "stdout",
     "output_type": "stream",
     "text": [
      "Encoded DataFrame X_test_324 has been exported to '../data/encoded/test/X_test_324_encoded.csv'\n"
     ]
    },
    {
     "name": "stderr",
     "output_type": "stream",
     "text": [
      "Encoding and exporting test DataFrames:  65%|██████▌   | 325/499 [00:45<00:51,  3.41it/s]"
     ]
    },
    {
     "name": "stdout",
     "output_type": "stream",
     "text": [
      "Encoded DataFrame X_test_325 has been exported to '../data/encoded/test/X_test_325_encoded.csv'\n"
     ]
    },
    {
     "name": "stderr",
     "output_type": "stream",
     "text": [
      "Encoding and exporting test DataFrames:  65%|██████▌   | 326/499 [00:45<00:50,  3.46it/s]"
     ]
    },
    {
     "name": "stdout",
     "output_type": "stream",
     "text": [
      "Encoded DataFrame X_test_326 has been exported to '../data/encoded/test/X_test_326_encoded.csv'\n"
     ]
    },
    {
     "name": "stderr",
     "output_type": "stream",
     "text": [
      "Encoding and exporting test DataFrames:  66%|██████▌   | 327/499 [00:45<00:49,  3.51it/s]"
     ]
    },
    {
     "name": "stdout",
     "output_type": "stream",
     "text": [
      "Encoded DataFrame X_test_327 has been exported to '../data/encoded/test/X_test_327_encoded.csv'\n"
     ]
    },
    {
     "name": "stderr",
     "output_type": "stream",
     "text": [
      "Encoding and exporting test DataFrames:  66%|██████▌   | 328/499 [00:46<00:49,  3.45it/s]"
     ]
    },
    {
     "name": "stdout",
     "output_type": "stream",
     "text": [
      "Encoded DataFrame X_test_328 has been exported to '../data/encoded/test/X_test_328_encoded.csv'\n"
     ]
    },
    {
     "name": "stderr",
     "output_type": "stream",
     "text": [
      "Encoding and exporting test DataFrames:  66%|██████▌   | 329/499 [00:46<00:48,  3.49it/s]"
     ]
    },
    {
     "name": "stdout",
     "output_type": "stream",
     "text": [
      "Encoded DataFrame X_test_329 has been exported to '../data/encoded/test/X_test_329_encoded.csv'\n"
     ]
    },
    {
     "name": "stderr",
     "output_type": "stream",
     "text": [
      "Encoding and exporting test DataFrames:  66%|██████▌   | 330/499 [00:46<00:48,  3.51it/s]"
     ]
    },
    {
     "name": "stdout",
     "output_type": "stream",
     "text": [
      "Encoded DataFrame X_test_330 has been exported to '../data/encoded/test/X_test_330_encoded.csv'\n"
     ]
    },
    {
     "name": "stderr",
     "output_type": "stream",
     "text": [
      "Encoding and exporting test DataFrames:  66%|██████▋   | 331/499 [00:46<00:47,  3.53it/s]"
     ]
    },
    {
     "name": "stdout",
     "output_type": "stream",
     "text": [
      "Encoded DataFrame X_test_331 has been exported to '../data/encoded/test/X_test_331_encoded.csv'\n"
     ]
    },
    {
     "name": "stderr",
     "output_type": "stream",
     "text": [
      "Encoding and exporting test DataFrames:  67%|██████▋   | 332/499 [00:47<00:47,  3.51it/s]"
     ]
    },
    {
     "name": "stdout",
     "output_type": "stream",
     "text": [
      "Encoded DataFrame X_test_332 has been exported to '../data/encoded/test/X_test_332_encoded.csv'\n"
     ]
    },
    {
     "name": "stderr",
     "output_type": "stream",
     "text": [
      "Encoding and exporting test DataFrames:  67%|██████▋   | 333/499 [00:47<00:48,  3.44it/s]"
     ]
    },
    {
     "name": "stdout",
     "output_type": "stream",
     "text": [
      "Encoded DataFrame X_test_333 has been exported to '../data/encoded/test/X_test_333_encoded.csv'\n"
     ]
    },
    {
     "name": "stderr",
     "output_type": "stream",
     "text": [
      "Encoding and exporting test DataFrames:  67%|██████▋   | 334/499 [00:47<00:47,  3.47it/s]"
     ]
    },
    {
     "name": "stdout",
     "output_type": "stream",
     "text": [
      "Encoded DataFrame X_test_334 has been exported to '../data/encoded/test/X_test_334_encoded.csv'\n"
     ]
    },
    {
     "name": "stderr",
     "output_type": "stream",
     "text": [
      "Encoding and exporting test DataFrames:  67%|██████▋   | 335/499 [00:48<00:46,  3.49it/s]"
     ]
    },
    {
     "name": "stdout",
     "output_type": "stream",
     "text": [
      "Encoded DataFrame X_test_335 has been exported to '../data/encoded/test/X_test_335_encoded.csv'\n"
     ]
    },
    {
     "name": "stderr",
     "output_type": "stream",
     "text": [
      "Encoding and exporting test DataFrames:  67%|██████▋   | 336/499 [00:48<00:46,  3.51it/s]"
     ]
    },
    {
     "name": "stdout",
     "output_type": "stream",
     "text": [
      "Encoded DataFrame X_test_336 has been exported to '../data/encoded/test/X_test_336_encoded.csv'\n"
     ]
    },
    {
     "name": "stderr",
     "output_type": "stream",
     "text": [
      "Encoding and exporting test DataFrames:  68%|██████▊   | 337/499 [00:48<00:46,  3.51it/s]"
     ]
    },
    {
     "name": "stdout",
     "output_type": "stream",
     "text": [
      "Encoded DataFrame X_test_337 has been exported to '../data/encoded/test/X_test_337_encoded.csv'\n"
     ]
    },
    {
     "name": "stderr",
     "output_type": "stream",
     "text": [
      "Encoding and exporting test DataFrames:  68%|██████▊   | 338/499 [00:48<00:46,  3.43it/s]"
     ]
    },
    {
     "name": "stdout",
     "output_type": "stream",
     "text": [
      "Encoded DataFrame X_test_338 has been exported to '../data/encoded/test/X_test_338_encoded.csv'\n"
     ]
    },
    {
     "name": "stderr",
     "output_type": "stream",
     "text": [
      "Encoding and exporting test DataFrames:  68%|██████▊   | 339/499 [00:49<00:46,  3.45it/s]"
     ]
    },
    {
     "name": "stdout",
     "output_type": "stream",
     "text": [
      "Encoded DataFrame X_test_339 has been exported to '../data/encoded/test/X_test_339_encoded.csv'\n"
     ]
    },
    {
     "name": "stderr",
     "output_type": "stream",
     "text": [
      "Encoding and exporting test DataFrames:  68%|██████▊   | 340/499 [00:49<00:46,  3.45it/s]"
     ]
    },
    {
     "name": "stdout",
     "output_type": "stream",
     "text": [
      "Encoded DataFrame X_test_340 has been exported to '../data/encoded/test/X_test_340_encoded.csv'\n"
     ]
    },
    {
     "name": "stderr",
     "output_type": "stream",
     "text": [
      "Encoding and exporting test DataFrames:  68%|██████▊   | 341/499 [00:49<00:46,  3.42it/s]"
     ]
    },
    {
     "name": "stdout",
     "output_type": "stream",
     "text": [
      "Encoded DataFrame X_test_341 has been exported to '../data/encoded/test/X_test_341_encoded.csv'\n"
     ]
    },
    {
     "name": "stderr",
     "output_type": "stream",
     "text": [
      "Encoding and exporting test DataFrames:  69%|██████▊   | 342/499 [00:50<00:45,  3.42it/s]"
     ]
    },
    {
     "name": "stdout",
     "output_type": "stream",
     "text": [
      "Encoded DataFrame X_test_342 has been exported to '../data/encoded/test/X_test_342_encoded.csv'\n"
     ]
    },
    {
     "name": "stderr",
     "output_type": "stream",
     "text": [
      "Encoding and exporting test DataFrames:  69%|██████▊   | 343/499 [00:50<00:45,  3.43it/s]"
     ]
    },
    {
     "name": "stdout",
     "output_type": "stream",
     "text": [
      "Encoded DataFrame X_test_343 has been exported to '../data/encoded/test/X_test_343_encoded.csv'\n"
     ]
    },
    {
     "name": "stderr",
     "output_type": "stream",
     "text": [
      "Encoding and exporting test DataFrames:  69%|██████▉   | 344/499 [00:50<00:46,  3.34it/s]"
     ]
    },
    {
     "name": "stdout",
     "output_type": "stream",
     "text": [
      "Encoded DataFrame X_test_344 has been exported to '../data/encoded/test/X_test_344_encoded.csv'\n"
     ]
    },
    {
     "name": "stderr",
     "output_type": "stream",
     "text": [
      "Encoding and exporting test DataFrames:  69%|██████▉   | 345/499 [00:51<00:45,  3.37it/s]"
     ]
    },
    {
     "name": "stdout",
     "output_type": "stream",
     "text": [
      "Encoded DataFrame X_test_345 has been exported to '../data/encoded/test/X_test_345_encoded.csv'\n"
     ]
    },
    {
     "name": "stderr",
     "output_type": "stream",
     "text": [
      "Encoding and exporting test DataFrames:  69%|██████▉   | 346/499 [00:51<00:45,  3.37it/s]"
     ]
    },
    {
     "name": "stdout",
     "output_type": "stream",
     "text": [
      "Encoded DataFrame X_test_346 has been exported to '../data/encoded/test/X_test_346_encoded.csv'\n"
     ]
    },
    {
     "name": "stderr",
     "output_type": "stream",
     "text": [
      "Encoding and exporting test DataFrames:  70%|██████▉   | 347/499 [00:51<00:44,  3.38it/s]"
     ]
    },
    {
     "name": "stdout",
     "output_type": "stream",
     "text": [
      "Encoded DataFrame X_test_347 has been exported to '../data/encoded/test/X_test_347_encoded.csv'\n"
     ]
    },
    {
     "name": "stderr",
     "output_type": "stream",
     "text": [
      "Encoding and exporting test DataFrames:  70%|██████▉   | 348/499 [00:51<00:44,  3.40it/s]"
     ]
    },
    {
     "name": "stdout",
     "output_type": "stream",
     "text": [
      "Encoded DataFrame X_test_348 has been exported to '../data/encoded/test/X_test_348_encoded.csv'\n"
     ]
    },
    {
     "name": "stderr",
     "output_type": "stream",
     "text": [
      "Encoding and exporting test DataFrames:  70%|██████▉   | 349/499 [00:52<00:45,  3.30it/s]"
     ]
    },
    {
     "name": "stdout",
     "output_type": "stream",
     "text": [
      "Encoded DataFrame X_test_349 has been exported to '../data/encoded/test/X_test_349_encoded.csv'\n"
     ]
    },
    {
     "name": "stderr",
     "output_type": "stream",
     "text": [
      "Encoding and exporting test DataFrames:  70%|███████   | 350/499 [00:52<00:44,  3.31it/s]"
     ]
    },
    {
     "name": "stdout",
     "output_type": "stream",
     "text": [
      "Encoded DataFrame X_test_350 has been exported to '../data/encoded/test/X_test_350_encoded.csv'\n"
     ]
    },
    {
     "name": "stderr",
     "output_type": "stream",
     "text": [
      "Encoding and exporting test DataFrames:  70%|███████   | 351/499 [00:52<00:44,  3.33it/s]"
     ]
    },
    {
     "name": "stdout",
     "output_type": "stream",
     "text": [
      "Encoded DataFrame X_test_351 has been exported to '../data/encoded/test/X_test_351_encoded.csv'\n"
     ]
    },
    {
     "name": "stderr",
     "output_type": "stream",
     "text": [
      "Encoding and exporting test DataFrames:  71%|███████   | 352/499 [00:53<00:44,  3.33it/s]"
     ]
    },
    {
     "name": "stdout",
     "output_type": "stream",
     "text": [
      "Encoded DataFrame X_test_352 has been exported to '../data/encoded/test/X_test_352_encoded.csv'\n"
     ]
    },
    {
     "name": "stderr",
     "output_type": "stream",
     "text": [
      "Encoding and exporting test DataFrames:  71%|███████   | 353/499 [00:53<00:43,  3.34it/s]"
     ]
    },
    {
     "name": "stdout",
     "output_type": "stream",
     "text": [
      "Encoded DataFrame X_test_353 has been exported to '../data/encoded/test/X_test_353_encoded.csv'\n"
     ]
    },
    {
     "name": "stderr",
     "output_type": "stream",
     "text": [
      "Encoding and exporting test DataFrames:  71%|███████   | 354/499 [00:53<00:44,  3.27it/s]"
     ]
    },
    {
     "name": "stdout",
     "output_type": "stream",
     "text": [
      "Encoded DataFrame X_test_354 has been exported to '../data/encoded/test/X_test_354_encoded.csv'\n"
     ]
    },
    {
     "name": "stderr",
     "output_type": "stream",
     "text": [
      "Encoding and exporting test DataFrames:  71%|███████   | 355/499 [00:54<00:43,  3.29it/s]"
     ]
    },
    {
     "name": "stdout",
     "output_type": "stream",
     "text": [
      "Encoded DataFrame X_test_355 has been exported to '../data/encoded/test/X_test_355_encoded.csv'\n"
     ]
    },
    {
     "name": "stderr",
     "output_type": "stream",
     "text": [
      "Encoding and exporting test DataFrames:  71%|███████▏  | 356/499 [00:54<00:43,  3.30it/s]"
     ]
    },
    {
     "name": "stdout",
     "output_type": "stream",
     "text": [
      "Encoded DataFrame X_test_356 has been exported to '../data/encoded/test/X_test_356_encoded.csv'\n"
     ]
    },
    {
     "name": "stderr",
     "output_type": "stream",
     "text": [
      "Encoding and exporting test DataFrames:  72%|███████▏  | 357/499 [00:54<00:43,  3.27it/s]"
     ]
    },
    {
     "name": "stdout",
     "output_type": "stream",
     "text": [
      "Encoded DataFrame X_test_357 has been exported to '../data/encoded/test/X_test_357_encoded.csv'\n"
     ]
    },
    {
     "name": "stderr",
     "output_type": "stream",
     "text": [
      "Encoding and exporting test DataFrames:  72%|███████▏  | 358/499 [00:54<00:42,  3.29it/s]"
     ]
    },
    {
     "name": "stdout",
     "output_type": "stream",
     "text": [
      "Encoded DataFrame X_test_358 has been exported to '../data/encoded/test/X_test_358_encoded.csv'\n"
     ]
    },
    {
     "name": "stderr",
     "output_type": "stream",
     "text": [
      "Encoding and exporting test DataFrames:  72%|███████▏  | 359/499 [00:55<00:43,  3.23it/s]"
     ]
    },
    {
     "name": "stdout",
     "output_type": "stream",
     "text": [
      "Encoded DataFrame X_test_359 has been exported to '../data/encoded/test/X_test_359_encoded.csv'\n"
     ]
    },
    {
     "name": "stderr",
     "output_type": "stream",
     "text": [
      "Encoding and exporting test DataFrames:  72%|███████▏  | 360/499 [00:55<00:42,  3.24it/s]"
     ]
    },
    {
     "name": "stdout",
     "output_type": "stream",
     "text": [
      "Encoded DataFrame X_test_360 has been exported to '../data/encoded/test/X_test_360_encoded.csv'\n"
     ]
    },
    {
     "name": "stderr",
     "output_type": "stream",
     "text": [
      "Encoding and exporting test DataFrames:  72%|███████▏  | 361/499 [00:55<00:42,  3.25it/s]"
     ]
    },
    {
     "name": "stdout",
     "output_type": "stream",
     "text": [
      "Encoded DataFrame X_test_361 has been exported to '../data/encoded/test/X_test_361_encoded.csv'\n"
     ]
    },
    {
     "name": "stderr",
     "output_type": "stream",
     "text": [
      "Encoding and exporting test DataFrames:  73%|███████▎  | 362/499 [00:56<00:42,  3.24it/s]"
     ]
    },
    {
     "name": "stdout",
     "output_type": "stream",
     "text": [
      "Encoded DataFrame X_test_362 has been exported to '../data/encoded/test/X_test_362_encoded.csv'\n"
     ]
    },
    {
     "name": "stderr",
     "output_type": "stream",
     "text": [
      "Encoding and exporting test DataFrames:  73%|███████▎  | 363/499 [00:56<00:41,  3.25it/s]"
     ]
    },
    {
     "name": "stdout",
     "output_type": "stream",
     "text": [
      "Encoded DataFrame X_test_363 has been exported to '../data/encoded/test/X_test_363_encoded.csv'\n"
     ]
    },
    {
     "name": "stderr",
     "output_type": "stream",
     "text": [
      "Encoding and exporting test DataFrames:  73%|███████▎  | 364/499 [00:56<00:42,  3.18it/s]"
     ]
    },
    {
     "name": "stdout",
     "output_type": "stream",
     "text": [
      "Encoded DataFrame X_test_364 has been exported to '../data/encoded/test/X_test_364_encoded.csv'\n"
     ]
    },
    {
     "name": "stderr",
     "output_type": "stream",
     "text": [
      "Encoding and exporting test DataFrames:  73%|███████▎  | 365/499 [00:57<00:42,  3.17it/s]"
     ]
    },
    {
     "name": "stdout",
     "output_type": "stream",
     "text": [
      "Encoded DataFrame X_test_365 has been exported to '../data/encoded/test/X_test_365_encoded.csv'\n"
     ]
    },
    {
     "name": "stderr",
     "output_type": "stream",
     "text": [
      "Encoding and exporting test DataFrames:  73%|███████▎  | 366/499 [00:57<00:41,  3.20it/s]"
     ]
    },
    {
     "name": "stdout",
     "output_type": "stream",
     "text": [
      "Encoded DataFrame X_test_366 has been exported to '../data/encoded/test/X_test_366_encoded.csv'\n"
     ]
    },
    {
     "name": "stderr",
     "output_type": "stream",
     "text": [
      "Encoding and exporting test DataFrames:  74%|███████▎  | 367/499 [00:57<00:41,  3.21it/s]"
     ]
    },
    {
     "name": "stdout",
     "output_type": "stream",
     "text": [
      "Encoded DataFrame X_test_367 has been exported to '../data/encoded/test/X_test_367_encoded.csv'\n"
     ]
    },
    {
     "name": "stderr",
     "output_type": "stream",
     "text": [
      "Encoding and exporting test DataFrames:  74%|███████▎  | 368/499 [00:58<00:40,  3.21it/s]"
     ]
    },
    {
     "name": "stdout",
     "output_type": "stream",
     "text": [
      "Encoded DataFrame X_test_368 has been exported to '../data/encoded/test/X_test_368_encoded.csv'\n"
     ]
    },
    {
     "name": "stderr",
     "output_type": "stream",
     "text": [
      "Encoding and exporting test DataFrames:  74%|███████▍  | 369/499 [00:58<00:40,  3.21it/s]"
     ]
    },
    {
     "name": "stdout",
     "output_type": "stream",
     "text": [
      "Encoded DataFrame X_test_369 has been exported to '../data/encoded/test/X_test_369_encoded.csv'\n"
     ]
    },
    {
     "name": "stderr",
     "output_type": "stream",
     "text": [
      "Encoding and exporting test DataFrames:  74%|███████▍  | 370/499 [00:58<00:41,  3.14it/s]"
     ]
    },
    {
     "name": "stdout",
     "output_type": "stream",
     "text": [
      "Encoded DataFrame X_test_370 has been exported to '../data/encoded/test/X_test_370_encoded.csv'\n"
     ]
    },
    {
     "name": "stderr",
     "output_type": "stream",
     "text": [
      "Encoding and exporting test DataFrames:  74%|███████▍  | 371/499 [00:59<00:40,  3.16it/s]"
     ]
    },
    {
     "name": "stdout",
     "output_type": "stream",
     "text": [
      "Encoded DataFrame X_test_371 has been exported to '../data/encoded/test/X_test_371_encoded.csv'\n"
     ]
    },
    {
     "name": "stderr",
     "output_type": "stream",
     "text": [
      "Encoding and exporting test DataFrames:  75%|███████▍  | 372/499 [00:59<00:40,  3.16it/s]"
     ]
    },
    {
     "name": "stdout",
     "output_type": "stream",
     "text": [
      "Encoded DataFrame X_test_372 has been exported to '../data/encoded/test/X_test_372_encoded.csv'\n"
     ]
    },
    {
     "name": "stderr",
     "output_type": "stream",
     "text": [
      "Encoding and exporting test DataFrames:  75%|███████▍  | 373/499 [00:59<00:40,  3.13it/s]"
     ]
    },
    {
     "name": "stdout",
     "output_type": "stream",
     "text": [
      "Encoded DataFrame X_test_373 has been exported to '../data/encoded/test/X_test_373_encoded.csv'\n"
     ]
    },
    {
     "name": "stderr",
     "output_type": "stream",
     "text": [
      "Encoding and exporting test DataFrames:  75%|███████▍  | 374/499 [01:00<00:39,  3.14it/s]"
     ]
    },
    {
     "name": "stdout",
     "output_type": "stream",
     "text": [
      "Encoded DataFrame X_test_374 has been exported to '../data/encoded/test/X_test_374_encoded.csv'\n"
     ]
    },
    {
     "name": "stderr",
     "output_type": "stream",
     "text": [
      "Encoding and exporting test DataFrames:  75%|███████▌  | 375/499 [01:00<00:40,  3.08it/s]"
     ]
    },
    {
     "name": "stdout",
     "output_type": "stream",
     "text": [
      "Encoded DataFrame X_test_375 has been exported to '../data/encoded/test/X_test_375_encoded.csv'\n"
     ]
    },
    {
     "name": "stderr",
     "output_type": "stream",
     "text": [
      "Encoding and exporting test DataFrames:  75%|███████▌  | 376/499 [01:00<00:39,  3.10it/s]"
     ]
    },
    {
     "name": "stdout",
     "output_type": "stream",
     "text": [
      "Encoded DataFrame X_test_376 has been exported to '../data/encoded/test/X_test_376_encoded.csv'\n"
     ]
    },
    {
     "name": "stderr",
     "output_type": "stream",
     "text": [
      "Encoding and exporting test DataFrames:  76%|███████▌  | 377/499 [01:00<00:39,  3.11it/s]"
     ]
    },
    {
     "name": "stdout",
     "output_type": "stream",
     "text": [
      "Encoded DataFrame X_test_377 has been exported to '../data/encoded/test/X_test_377_encoded.csv'\n"
     ]
    },
    {
     "name": "stderr",
     "output_type": "stream",
     "text": [
      "Encoding and exporting test DataFrames:  76%|███████▌  | 378/499 [01:01<00:38,  3.13it/s]"
     ]
    },
    {
     "name": "stdout",
     "output_type": "stream",
     "text": [
      "Encoded DataFrame X_test_378 has been exported to '../data/encoded/test/X_test_378_encoded.csv'\n"
     ]
    },
    {
     "name": "stderr",
     "output_type": "stream",
     "text": [
      "Encoding and exporting test DataFrames:  76%|███████▌  | 379/499 [01:01<00:38,  3.13it/s]"
     ]
    },
    {
     "name": "stdout",
     "output_type": "stream",
     "text": [
      "Encoded DataFrame X_test_379 has been exported to '../data/encoded/test/X_test_379_encoded.csv'\n"
     ]
    },
    {
     "name": "stderr",
     "output_type": "stream",
     "text": [
      "Encoding and exporting test DataFrames:  76%|███████▌  | 380/499 [01:01<00:39,  3.02it/s]"
     ]
    },
    {
     "name": "stdout",
     "output_type": "stream",
     "text": [
      "Encoded DataFrame X_test_380 has been exported to '../data/encoded/test/X_test_380_encoded.csv'\n"
     ]
    },
    {
     "name": "stderr",
     "output_type": "stream",
     "text": [
      "Encoding and exporting test DataFrames:  76%|███████▋  | 381/499 [01:02<00:38,  3.05it/s]"
     ]
    },
    {
     "name": "stdout",
     "output_type": "stream",
     "text": [
      "Encoded DataFrame X_test_381 has been exported to '../data/encoded/test/X_test_381_encoded.csv'\n"
     ]
    },
    {
     "name": "stderr",
     "output_type": "stream",
     "text": [
      "Encoding and exporting test DataFrames:  77%|███████▋  | 382/499 [01:02<00:38,  3.07it/s]"
     ]
    },
    {
     "name": "stdout",
     "output_type": "stream",
     "text": [
      "Encoded DataFrame X_test_382 has been exported to '../data/encoded/test/X_test_382_encoded.csv'\n"
     ]
    },
    {
     "name": "stderr",
     "output_type": "stream",
     "text": [
      "Encoding and exporting test DataFrames:  77%|███████▋  | 383/499 [01:02<00:37,  3.09it/s]"
     ]
    },
    {
     "name": "stdout",
     "output_type": "stream",
     "text": [
      "Encoded DataFrame X_test_383 has been exported to '../data/encoded/test/X_test_383_encoded.csv'\n"
     ]
    },
    {
     "name": "stderr",
     "output_type": "stream",
     "text": [
      "Encoding and exporting test DataFrames:  77%|███████▋  | 384/499 [01:03<00:37,  3.09it/s]"
     ]
    },
    {
     "name": "stdout",
     "output_type": "stream",
     "text": [
      "Encoded DataFrame X_test_384 has been exported to '../data/encoded/test/X_test_384_encoded.csv'\n"
     ]
    },
    {
     "name": "stderr",
     "output_type": "stream",
     "text": [
      "Encoding and exporting test DataFrames:  77%|███████▋  | 385/499 [01:03<00:37,  3.02it/s]"
     ]
    },
    {
     "name": "stdout",
     "output_type": "stream",
     "text": [
      "Encoded DataFrame X_test_385 has been exported to '../data/encoded/test/X_test_385_encoded.csv'\n"
     ]
    },
    {
     "name": "stderr",
     "output_type": "stream",
     "text": [
      "Encoding and exporting test DataFrames:  77%|███████▋  | 386/499 [01:03<00:37,  3.04it/s]"
     ]
    },
    {
     "name": "stdout",
     "output_type": "stream",
     "text": [
      "Encoded DataFrame X_test_386 has been exported to '../data/encoded/test/X_test_386_encoded.csv'\n"
     ]
    },
    {
     "name": "stderr",
     "output_type": "stream",
     "text": [
      "Encoding and exporting test DataFrames:  78%|███████▊  | 387/499 [01:04<00:36,  3.05it/s]"
     ]
    },
    {
     "name": "stdout",
     "output_type": "stream",
     "text": [
      "Encoded DataFrame X_test_387 has been exported to '../data/encoded/test/X_test_387_encoded.csv'\n"
     ]
    },
    {
     "name": "stderr",
     "output_type": "stream",
     "text": [
      "Encoding and exporting test DataFrames:  78%|███████▊  | 388/499 [01:04<00:36,  3.03it/s]"
     ]
    },
    {
     "name": "stdout",
     "output_type": "stream",
     "text": [
      "Encoded DataFrame X_test_388 has been exported to '../data/encoded/test/X_test_388_encoded.csv'\n"
     ]
    },
    {
     "name": "stderr",
     "output_type": "stream",
     "text": [
      "Encoding and exporting test DataFrames:  78%|███████▊  | 389/499 [01:04<00:36,  3.04it/s]"
     ]
    },
    {
     "name": "stdout",
     "output_type": "stream",
     "text": [
      "Encoded DataFrame X_test_389 has been exported to '../data/encoded/test/X_test_389_encoded.csv'\n"
     ]
    },
    {
     "name": "stderr",
     "output_type": "stream",
     "text": [
      "Encoding and exporting test DataFrames:  78%|███████▊  | 390/499 [01:05<00:36,  2.98it/s]"
     ]
    },
    {
     "name": "stdout",
     "output_type": "stream",
     "text": [
      "Encoded DataFrame X_test_390 has been exported to '../data/encoded/test/X_test_390_encoded.csv'\n"
     ]
    },
    {
     "name": "stderr",
     "output_type": "stream",
     "text": [
      "Encoding and exporting test DataFrames:  78%|███████▊  | 391/499 [01:05<00:36,  3.00it/s]"
     ]
    },
    {
     "name": "stdout",
     "output_type": "stream",
     "text": [
      "Encoded DataFrame X_test_391 has been exported to '../data/encoded/test/X_test_391_encoded.csv'\n"
     ]
    },
    {
     "name": "stderr",
     "output_type": "stream",
     "text": [
      "Encoding and exporting test DataFrames:  79%|███████▊  | 392/499 [01:05<00:35,  3.00it/s]"
     ]
    },
    {
     "name": "stdout",
     "output_type": "stream",
     "text": [
      "Encoded DataFrame X_test_392 has been exported to '../data/encoded/test/X_test_392_encoded.csv'\n"
     ]
    },
    {
     "name": "stderr",
     "output_type": "stream",
     "text": [
      "Encoding and exporting test DataFrames:  79%|███████▉  | 393/499 [01:06<00:35,  3.01it/s]"
     ]
    },
    {
     "name": "stdout",
     "output_type": "stream",
     "text": [
      "Encoded DataFrame X_test_393 has been exported to '../data/encoded/test/X_test_393_encoded.csv'\n"
     ]
    },
    {
     "name": "stderr",
     "output_type": "stream",
     "text": [
      "Encoding and exporting test DataFrames:  79%|███████▉  | 394/499 [01:06<00:34,  3.00it/s]"
     ]
    },
    {
     "name": "stdout",
     "output_type": "stream",
     "text": [
      "Encoded DataFrame X_test_394 has been exported to '../data/encoded/test/X_test_394_encoded.csv'\n"
     ]
    },
    {
     "name": "stderr",
     "output_type": "stream",
     "text": [
      "Encoding and exporting test DataFrames:  79%|███████▉  | 395/499 [01:06<00:35,  2.91it/s]"
     ]
    },
    {
     "name": "stdout",
     "output_type": "stream",
     "text": [
      "Encoded DataFrame X_test_395 has been exported to '../data/encoded/test/X_test_395_encoded.csv'\n"
     ]
    },
    {
     "name": "stderr",
     "output_type": "stream",
     "text": [
      "Encoding and exporting test DataFrames:  79%|███████▉  | 396/499 [01:07<00:35,  2.93it/s]"
     ]
    },
    {
     "name": "stdout",
     "output_type": "stream",
     "text": [
      "Encoded DataFrame X_test_396 has been exported to '../data/encoded/test/X_test_396_encoded.csv'\n"
     ]
    },
    {
     "name": "stderr",
     "output_type": "stream",
     "text": [
      "Encoding and exporting test DataFrames:  80%|███████▉  | 397/499 [01:07<00:34,  2.95it/s]"
     ]
    },
    {
     "name": "stdout",
     "output_type": "stream",
     "text": [
      "Encoded DataFrame X_test_397 has been exported to '../data/encoded/test/X_test_397_encoded.csv'\n"
     ]
    },
    {
     "name": "stderr",
     "output_type": "stream",
     "text": [
      "Encoding and exporting test DataFrames:  80%|███████▉  | 398/499 [01:07<00:34,  2.96it/s]"
     ]
    },
    {
     "name": "stdout",
     "output_type": "stream",
     "text": [
      "Encoded DataFrame X_test_398 has been exported to '../data/encoded/test/X_test_398_encoded.csv'\n"
     ]
    },
    {
     "name": "stderr",
     "output_type": "stream",
     "text": [
      "Encoding and exporting test DataFrames:  80%|███████▉  | 399/499 [01:08<00:33,  2.97it/s]"
     ]
    },
    {
     "name": "stdout",
     "output_type": "stream",
     "text": [
      "Encoded DataFrame X_test_399 has been exported to '../data/encoded/test/X_test_399_encoded.csv'\n"
     ]
    },
    {
     "name": "stderr",
     "output_type": "stream",
     "text": [
      "Encoding and exporting test DataFrames:  80%|████████  | 400/499 [01:08<00:33,  2.99it/s]"
     ]
    },
    {
     "name": "stdout",
     "output_type": "stream",
     "text": [
      "Encoded DataFrame X_test_400 has been exported to '../data/encoded/test/X_test_400_encoded.csv'\n"
     ]
    },
    {
     "name": "stderr",
     "output_type": "stream",
     "text": [
      "Encoding and exporting test DataFrames:  80%|████████  | 401/499 [01:08<00:33,  2.92it/s]"
     ]
    },
    {
     "name": "stdout",
     "output_type": "stream",
     "text": [
      "Encoded DataFrame X_test_401 has been exported to '../data/encoded/test/X_test_401_encoded.csv'\n"
     ]
    },
    {
     "name": "stderr",
     "output_type": "stream",
     "text": [
      "Encoding and exporting test DataFrames:  81%|████████  | 402/499 [01:09<00:33,  2.91it/s]"
     ]
    },
    {
     "name": "stdout",
     "output_type": "stream",
     "text": [
      "Encoded DataFrame X_test_402 has been exported to '../data/encoded/test/X_test_402_encoded.csv'\n"
     ]
    },
    {
     "name": "stderr",
     "output_type": "stream",
     "text": [
      "Encoding and exporting test DataFrames:  81%|████████  | 403/499 [01:09<00:32,  2.91it/s]"
     ]
    },
    {
     "name": "stdout",
     "output_type": "stream",
     "text": [
      "Encoded DataFrame X_test_403 has been exported to '../data/encoded/test/X_test_403_encoded.csv'\n"
     ]
    },
    {
     "name": "stderr",
     "output_type": "stream",
     "text": [
      "Encoding and exporting test DataFrames:  81%|████████  | 404/499 [01:10<00:32,  2.92it/s]"
     ]
    },
    {
     "name": "stdout",
     "output_type": "stream",
     "text": [
      "Encoded DataFrame X_test_404 has been exported to '../data/encoded/test/X_test_404_encoded.csv'\n"
     ]
    },
    {
     "name": "stderr",
     "output_type": "stream",
     "text": [
      "Encoding and exporting test DataFrames:  81%|████████  | 405/499 [01:10<00:32,  2.93it/s]"
     ]
    },
    {
     "name": "stdout",
     "output_type": "stream",
     "text": [
      "Encoded DataFrame X_test_405 has been exported to '../data/encoded/test/X_test_405_encoded.csv'\n"
     ]
    },
    {
     "name": "stderr",
     "output_type": "stream",
     "text": [
      "Encoding and exporting test DataFrames:  81%|████████▏ | 406/499 [01:10<00:32,  2.87it/s]"
     ]
    },
    {
     "name": "stdout",
     "output_type": "stream",
     "text": [
      "Encoded DataFrame X_test_406 has been exported to '../data/encoded/test/X_test_406_encoded.csv'\n"
     ]
    },
    {
     "name": "stderr",
     "output_type": "stream",
     "text": [
      "Encoding and exporting test DataFrames:  82%|████████▏ | 407/499 [01:11<00:31,  2.89it/s]"
     ]
    },
    {
     "name": "stdout",
     "output_type": "stream",
     "text": [
      "Encoded DataFrame X_test_407 has been exported to '../data/encoded/test/X_test_407_encoded.csv'\n"
     ]
    },
    {
     "name": "stderr",
     "output_type": "stream",
     "text": [
      "Encoding and exporting test DataFrames:  82%|████████▏ | 408/499 [01:11<00:31,  2.90it/s]"
     ]
    },
    {
     "name": "stdout",
     "output_type": "stream",
     "text": [
      "Encoded DataFrame X_test_408 has been exported to '../data/encoded/test/X_test_408_encoded.csv'\n"
     ]
    },
    {
     "name": "stderr",
     "output_type": "stream",
     "text": [
      "Encoding and exporting test DataFrames:  82%|████████▏ | 409/499 [01:11<00:31,  2.90it/s]"
     ]
    },
    {
     "name": "stdout",
     "output_type": "stream",
     "text": [
      "Encoded DataFrame X_test_409 has been exported to '../data/encoded/test/X_test_409_encoded.csv'\n"
     ]
    },
    {
     "name": "stderr",
     "output_type": "stream",
     "text": [
      "Encoding and exporting test DataFrames:  82%|████████▏ | 410/499 [01:12<00:30,  2.89it/s]"
     ]
    },
    {
     "name": "stdout",
     "output_type": "stream",
     "text": [
      "Encoded DataFrame X_test_410 has been exported to '../data/encoded/test/X_test_410_encoded.csv'\n"
     ]
    },
    {
     "name": "stderr",
     "output_type": "stream",
     "text": [
      "Encoding and exporting test DataFrames:  82%|████████▏ | 411/499 [01:12<00:30,  2.89it/s]"
     ]
    },
    {
     "name": "stdout",
     "output_type": "stream",
     "text": [
      "Encoded DataFrame X_test_411 has been exported to '../data/encoded/test/X_test_411_encoded.csv'\n"
     ]
    },
    {
     "name": "stderr",
     "output_type": "stream",
     "text": [
      "Encoding and exporting test DataFrames:  83%|████████▎ | 412/499 [01:12<00:30,  2.90it/s]"
     ]
    },
    {
     "name": "stdout",
     "output_type": "stream",
     "text": [
      "Encoded DataFrame X_test_412 has been exported to '../data/encoded/test/X_test_412_encoded.csv'\n"
     ]
    },
    {
     "name": "stderr",
     "output_type": "stream",
     "text": [
      "Encoding and exporting test DataFrames:  83%|████████▎ | 413/499 [01:13<00:29,  2.89it/s]"
     ]
    },
    {
     "name": "stdout",
     "output_type": "stream",
     "text": [
      "Encoded DataFrame X_test_413 has been exported to '../data/encoded/test/X_test_413_encoded.csv'\n"
     ]
    },
    {
     "name": "stderr",
     "output_type": "stream",
     "text": [
      "Encoding and exporting test DataFrames:  83%|████████▎ | 414/499 [01:13<00:30,  2.83it/s]"
     ]
    },
    {
     "name": "stdout",
     "output_type": "stream",
     "text": [
      "Encoded DataFrame X_test_414 has been exported to '../data/encoded/test/X_test_414_encoded.csv'\n"
     ]
    },
    {
     "name": "stderr",
     "output_type": "stream",
     "text": [
      "Encoding and exporting test DataFrames:  83%|████████▎ | 415/499 [01:13<00:29,  2.84it/s]"
     ]
    },
    {
     "name": "stdout",
     "output_type": "stream",
     "text": [
      "Encoded DataFrame X_test_415 has been exported to '../data/encoded/test/X_test_415_encoded.csv'\n"
     ]
    },
    {
     "name": "stderr",
     "output_type": "stream",
     "text": [
      "Encoding and exporting test DataFrames:  83%|████████▎ | 416/499 [01:14<00:29,  2.84it/s]"
     ]
    },
    {
     "name": "stdout",
     "output_type": "stream",
     "text": [
      "Encoded DataFrame X_test_416 has been exported to '../data/encoded/test/X_test_416_encoded.csv'\n"
     ]
    },
    {
     "name": "stderr",
     "output_type": "stream",
     "text": [
      "Encoding and exporting test DataFrames:  84%|████████▎ | 417/499 [01:14<00:28,  2.85it/s]"
     ]
    },
    {
     "name": "stdout",
     "output_type": "stream",
     "text": [
      "Encoded DataFrame X_test_417 has been exported to '../data/encoded/test/X_test_417_encoded.csv'\n"
     ]
    },
    {
     "name": "stderr",
     "output_type": "stream",
     "text": [
      "Encoding and exporting test DataFrames:  84%|████████▍ | 418/499 [01:14<00:28,  2.86it/s]"
     ]
    },
    {
     "name": "stdout",
     "output_type": "stream",
     "text": [
      "Encoded DataFrame X_test_418 has been exported to '../data/encoded/test/X_test_418_encoded.csv'\n"
     ]
    },
    {
     "name": "stderr",
     "output_type": "stream",
     "text": [
      "Encoding and exporting test DataFrames:  84%|████████▍ | 419/499 [01:15<00:27,  2.86it/s]"
     ]
    },
    {
     "name": "stdout",
     "output_type": "stream",
     "text": [
      "Encoded DataFrame X_test_419 has been exported to '../data/encoded/test/X_test_419_encoded.csv'\n"
     ]
    },
    {
     "name": "stderr",
     "output_type": "stream",
     "text": [
      "Encoding and exporting test DataFrames:  84%|████████▍ | 420/499 [01:15<00:27,  2.85it/s]"
     ]
    },
    {
     "name": "stdout",
     "output_type": "stream",
     "text": [
      "Encoded DataFrame X_test_420 has been exported to '../data/encoded/test/X_test_420_encoded.csv'\n"
     ]
    },
    {
     "name": "stderr",
     "output_type": "stream",
     "text": [
      "Encoding and exporting test DataFrames:  84%|████████▍ | 421/499 [01:15<00:27,  2.81it/s]"
     ]
    },
    {
     "name": "stdout",
     "output_type": "stream",
     "text": [
      "Encoded DataFrame X_test_421 has been exported to '../data/encoded/test/X_test_421_encoded.csv'\n"
     ]
    },
    {
     "name": "stderr",
     "output_type": "stream",
     "text": [
      "Encoding and exporting test DataFrames:  85%|████████▍ | 422/499 [01:16<00:27,  2.82it/s]"
     ]
    },
    {
     "name": "stdout",
     "output_type": "stream",
     "text": [
      "Encoded DataFrame X_test_422 has been exported to '../data/encoded/test/X_test_422_encoded.csv'\n"
     ]
    },
    {
     "name": "stderr",
     "output_type": "stream",
     "text": [
      "Encoding and exporting test DataFrames:  85%|████████▍ | 423/499 [01:16<00:26,  2.83it/s]"
     ]
    },
    {
     "name": "stdout",
     "output_type": "stream",
     "text": [
      "Encoded DataFrame X_test_423 has been exported to '../data/encoded/test/X_test_423_encoded.csv'\n"
     ]
    },
    {
     "name": "stderr",
     "output_type": "stream",
     "text": [
      "Encoding and exporting test DataFrames:  85%|████████▍ | 424/499 [01:17<00:26,  2.83it/s]"
     ]
    },
    {
     "name": "stdout",
     "output_type": "stream",
     "text": [
      "Encoded DataFrame X_test_424 has been exported to '../data/encoded/test/X_test_424_encoded.csv'\n"
     ]
    },
    {
     "name": "stderr",
     "output_type": "stream",
     "text": [
      "Encoding and exporting test DataFrames:  85%|████████▌ | 425/499 [01:17<00:26,  2.83it/s]"
     ]
    },
    {
     "name": "stdout",
     "output_type": "stream",
     "text": [
      "Encoded DataFrame X_test_425 has been exported to '../data/encoded/test/X_test_425_encoded.csv'\n"
     ]
    },
    {
     "name": "stderr",
     "output_type": "stream",
     "text": [
      "Encoding and exporting test DataFrames:  85%|████████▌ | 426/499 [01:17<00:25,  2.83it/s]"
     ]
    },
    {
     "name": "stdout",
     "output_type": "stream",
     "text": [
      "Encoded DataFrame X_test_426 has been exported to '../data/encoded/test/X_test_426_encoded.csv'\n"
     ]
    },
    {
     "name": "stderr",
     "output_type": "stream",
     "text": [
      "Encoding and exporting test DataFrames:  86%|████████▌ | 427/499 [01:18<00:25,  2.82it/s]"
     ]
    },
    {
     "name": "stdout",
     "output_type": "stream",
     "text": [
      "Encoded DataFrame X_test_427 has been exported to '../data/encoded/test/X_test_427_encoded.csv'\n"
     ]
    },
    {
     "name": "stderr",
     "output_type": "stream",
     "text": [
      "Encoding and exporting test DataFrames:  86%|████████▌ | 428/499 [01:18<00:25,  2.82it/s]"
     ]
    },
    {
     "name": "stdout",
     "output_type": "stream",
     "text": [
      "Encoded DataFrame X_test_428 has been exported to '../data/encoded/test/X_test_428_encoded.csv'\n"
     ]
    },
    {
     "name": "stderr",
     "output_type": "stream",
     "text": [
      "Encoding and exporting test DataFrames:  86%|████████▌ | 429/499 [01:18<00:25,  2.77it/s]"
     ]
    },
    {
     "name": "stdout",
     "output_type": "stream",
     "text": [
      "Encoded DataFrame X_test_429 has been exported to '../data/encoded/test/X_test_429_encoded.csv'\n"
     ]
    },
    {
     "name": "stderr",
     "output_type": "stream",
     "text": [
      "Encoding and exporting test DataFrames:  86%|████████▌ | 430/499 [01:19<00:24,  2.78it/s]"
     ]
    },
    {
     "name": "stdout",
     "output_type": "stream",
     "text": [
      "Encoded DataFrame X_test_430 has been exported to '../data/encoded/test/X_test_430_encoded.csv'\n"
     ]
    },
    {
     "name": "stderr",
     "output_type": "stream",
     "text": [
      "Encoding and exporting test DataFrames:  86%|████████▋ | 431/499 [01:19<00:24,  2.79it/s]"
     ]
    },
    {
     "name": "stdout",
     "output_type": "stream",
     "text": [
      "Encoded DataFrame X_test_431 has been exported to '../data/encoded/test/X_test_431_encoded.csv'\n"
     ]
    },
    {
     "name": "stderr",
     "output_type": "stream",
     "text": [
      "Encoding and exporting test DataFrames:  87%|████████▋ | 432/499 [01:19<00:23,  2.79it/s]"
     ]
    },
    {
     "name": "stdout",
     "output_type": "stream",
     "text": [
      "Encoded DataFrame X_test_432 has been exported to '../data/encoded/test/X_test_432_encoded.csv'\n"
     ]
    },
    {
     "name": "stderr",
     "output_type": "stream",
     "text": [
      "Encoding and exporting test DataFrames:  87%|████████▋ | 433/499 [01:20<00:23,  2.79it/s]"
     ]
    },
    {
     "name": "stdout",
     "output_type": "stream",
     "text": [
      "Encoded DataFrame X_test_433 has been exported to '../data/encoded/test/X_test_433_encoded.csv'\n"
     ]
    },
    {
     "name": "stderr",
     "output_type": "stream",
     "text": [
      "Encoding and exporting test DataFrames:  87%|████████▋ | 434/499 [01:20<00:23,  2.80it/s]"
     ]
    },
    {
     "name": "stdout",
     "output_type": "stream",
     "text": [
      "Encoded DataFrame X_test_434 has been exported to '../data/encoded/test/X_test_434_encoded.csv'\n"
     ]
    },
    {
     "name": "stderr",
     "output_type": "stream",
     "text": [
      "Encoding and exporting test DataFrames:  87%|████████▋ | 435/499 [01:20<00:23,  2.74it/s]"
     ]
    },
    {
     "name": "stdout",
     "output_type": "stream",
     "text": [
      "Encoded DataFrame X_test_435 has been exported to '../data/encoded/test/X_test_435_encoded.csv'\n"
     ]
    },
    {
     "name": "stderr",
     "output_type": "stream",
     "text": [
      "Encoding and exporting test DataFrames:  87%|████████▋ | 436/499 [01:21<00:22,  2.76it/s]"
     ]
    },
    {
     "name": "stdout",
     "output_type": "stream",
     "text": [
      "Encoded DataFrame X_test_436 has been exported to '../data/encoded/test/X_test_436_encoded.csv'\n"
     ]
    },
    {
     "name": "stderr",
     "output_type": "stream",
     "text": [
      "Encoding and exporting test DataFrames:  88%|████████▊ | 437/499 [01:21<00:22,  2.77it/s]"
     ]
    },
    {
     "name": "stdout",
     "output_type": "stream",
     "text": [
      "Encoded DataFrame X_test_437 has been exported to '../data/encoded/test/X_test_437_encoded.csv'\n"
     ]
    },
    {
     "name": "stderr",
     "output_type": "stream",
     "text": [
      "Encoding and exporting test DataFrames:  88%|████████▊ | 438/499 [01:22<00:22,  2.77it/s]"
     ]
    },
    {
     "name": "stdout",
     "output_type": "stream",
     "text": [
      "Encoded DataFrame X_test_438 has been exported to '../data/encoded/test/X_test_438_encoded.csv'\n"
     ]
    },
    {
     "name": "stderr",
     "output_type": "stream",
     "text": [
      "Encoding and exporting test DataFrames:  88%|████████▊ | 439/499 [01:22<00:21,  2.77it/s]"
     ]
    },
    {
     "name": "stdout",
     "output_type": "stream",
     "text": [
      "Encoded DataFrame X_test_439 has been exported to '../data/encoded/test/X_test_439_encoded.csv'\n"
     ]
    },
    {
     "name": "stderr",
     "output_type": "stream",
     "text": [
      "Encoding and exporting test DataFrames:  88%|████████▊ | 440/499 [01:22<00:21,  2.77it/s]"
     ]
    },
    {
     "name": "stdout",
     "output_type": "stream",
     "text": [
      "Encoded DataFrame X_test_440 has been exported to '../data/encoded/test/X_test_440_encoded.csv'\n"
     ]
    },
    {
     "name": "stderr",
     "output_type": "stream",
     "text": [
      "Encoding and exporting test DataFrames:  88%|████████▊ | 441/499 [01:23<00:21,  2.76it/s]"
     ]
    },
    {
     "name": "stdout",
     "output_type": "stream",
     "text": [
      "Encoded DataFrame X_test_441 has been exported to '../data/encoded/test/X_test_441_encoded.csv'\n"
     ]
    },
    {
     "name": "stderr",
     "output_type": "stream",
     "text": [
      "Encoding and exporting test DataFrames:  89%|████████▊ | 442/499 [01:23<00:20,  2.76it/s]"
     ]
    },
    {
     "name": "stdout",
     "output_type": "stream",
     "text": [
      "Encoded DataFrame X_test_442 has been exported to '../data/encoded/test/X_test_442_encoded.csv'\n"
     ]
    },
    {
     "name": "stderr",
     "output_type": "stream",
     "text": [
      "Encoding and exporting test DataFrames:  89%|████████▉ | 443/499 [01:23<00:20,  2.71it/s]"
     ]
    },
    {
     "name": "stdout",
     "output_type": "stream",
     "text": [
      "Encoded DataFrame X_test_443 has been exported to '../data/encoded/test/X_test_443_encoded.csv'\n"
     ]
    },
    {
     "name": "stderr",
     "output_type": "stream",
     "text": [
      "Encoding and exporting test DataFrames:  89%|████████▉ | 444/499 [01:24<00:20,  2.72it/s]"
     ]
    },
    {
     "name": "stdout",
     "output_type": "stream",
     "text": [
      "Encoded DataFrame X_test_444 has been exported to '../data/encoded/test/X_test_444_encoded.csv'\n"
     ]
    },
    {
     "name": "stderr",
     "output_type": "stream",
     "text": [
      "Encoding and exporting test DataFrames:  89%|████████▉ | 445/499 [01:24<00:19,  2.72it/s]"
     ]
    },
    {
     "name": "stdout",
     "output_type": "stream",
     "text": [
      "Encoded DataFrame X_test_445 has been exported to '../data/encoded/test/X_test_445_encoded.csv'\n"
     ]
    },
    {
     "name": "stderr",
     "output_type": "stream",
     "text": [
      "Encoding and exporting test DataFrames:  89%|████████▉ | 446/499 [01:25<00:19,  2.71it/s]"
     ]
    },
    {
     "name": "stdout",
     "output_type": "stream",
     "text": [
      "Encoded DataFrame X_test_446 has been exported to '../data/encoded/test/X_test_446_encoded.csv'\n"
     ]
    },
    {
     "name": "stderr",
     "output_type": "stream",
     "text": [
      "Encoding and exporting test DataFrames:  90%|████████▉ | 447/499 [01:25<00:19,  2.71it/s]"
     ]
    },
    {
     "name": "stdout",
     "output_type": "stream",
     "text": [
      "Encoded DataFrame X_test_447 has been exported to '../data/encoded/test/X_test_447_encoded.csv'\n"
     ]
    },
    {
     "name": "stderr",
     "output_type": "stream",
     "text": [
      "Encoding and exporting test DataFrames:  90%|████████▉ | 448/499 [01:25<00:18,  2.70it/s]"
     ]
    },
    {
     "name": "stdout",
     "output_type": "stream",
     "text": [
      "Encoded DataFrame X_test_448 has been exported to '../data/encoded/test/X_test_448_encoded.csv'\n"
     ]
    },
    {
     "name": "stderr",
     "output_type": "stream",
     "text": [
      "Encoding and exporting test DataFrames:  90%|████████▉ | 449/499 [01:26<00:18,  2.65it/s]"
     ]
    },
    {
     "name": "stdout",
     "output_type": "stream",
     "text": [
      "Encoded DataFrame X_test_449 has been exported to '../data/encoded/test/X_test_449_encoded.csv'\n"
     ]
    },
    {
     "name": "stderr",
     "output_type": "stream",
     "text": [
      "Encoding and exporting test DataFrames:  90%|█████████ | 450/499 [01:26<00:18,  2.66it/s]"
     ]
    },
    {
     "name": "stdout",
     "output_type": "stream",
     "text": [
      "Encoded DataFrame X_test_450 has been exported to '../data/encoded/test/X_test_450_encoded.csv'\n"
     ]
    },
    {
     "name": "stderr",
     "output_type": "stream",
     "text": [
      "Encoding and exporting test DataFrames:  90%|█████████ | 451/499 [01:26<00:18,  2.66it/s]"
     ]
    },
    {
     "name": "stdout",
     "output_type": "stream",
     "text": [
      "Encoded DataFrame X_test_451 has been exported to '../data/encoded/test/X_test_451_encoded.csv'\n"
     ]
    },
    {
     "name": "stderr",
     "output_type": "stream",
     "text": [
      "Encoding and exporting test DataFrames:  91%|█████████ | 452/499 [01:27<00:17,  2.67it/s]"
     ]
    },
    {
     "name": "stdout",
     "output_type": "stream",
     "text": [
      "Encoded DataFrame X_test_452 has been exported to '../data/encoded/test/X_test_452_encoded.csv'\n"
     ]
    },
    {
     "name": "stderr",
     "output_type": "stream",
     "text": [
      "Encoding and exporting test DataFrames:  91%|█████████ | 453/499 [01:27<00:17,  2.68it/s]"
     ]
    },
    {
     "name": "stdout",
     "output_type": "stream",
     "text": [
      "Encoded DataFrame X_test_453 has been exported to '../data/encoded/test/X_test_453_encoded.csv'\n"
     ]
    },
    {
     "name": "stderr",
     "output_type": "stream",
     "text": [
      "Encoding and exporting test DataFrames:  91%|█████████ | 454/499 [01:28<00:16,  2.68it/s]"
     ]
    },
    {
     "name": "stdout",
     "output_type": "stream",
     "text": [
      "Encoded DataFrame X_test_454 has been exported to '../data/encoded/test/X_test_454_encoded.csv'\n"
     ]
    },
    {
     "name": "stderr",
     "output_type": "stream",
     "text": [
      "Encoding and exporting test DataFrames:  91%|█████████ | 455/499 [01:28<00:16,  2.68it/s]"
     ]
    },
    {
     "name": "stdout",
     "output_type": "stream",
     "text": [
      "Encoded DataFrame X_test_455 has been exported to '../data/encoded/test/X_test_455_encoded.csv'\n"
     ]
    },
    {
     "name": "stderr",
     "output_type": "stream",
     "text": [
      "Encoding and exporting test DataFrames:  91%|█████████▏| 456/499 [01:28<00:16,  2.67it/s]"
     ]
    },
    {
     "name": "stdout",
     "output_type": "stream",
     "text": [
      "Encoded DataFrame X_test_456 has been exported to '../data/encoded/test/X_test_456_encoded.csv'\n"
     ]
    },
    {
     "name": "stderr",
     "output_type": "stream",
     "text": [
      "Encoding and exporting test DataFrames:  92%|█████████▏| 457/499 [01:29<00:15,  2.63it/s]"
     ]
    },
    {
     "name": "stdout",
     "output_type": "stream",
     "text": [
      "Encoded DataFrame X_test_457 has been exported to '../data/encoded/test/X_test_457_encoded.csv'\n"
     ]
    },
    {
     "name": "stderr",
     "output_type": "stream",
     "text": [
      "Encoding and exporting test DataFrames:  92%|█████████▏| 458/499 [01:29<00:15,  2.64it/s]"
     ]
    },
    {
     "name": "stdout",
     "output_type": "stream",
     "text": [
      "Encoded DataFrame X_test_458 has been exported to '../data/encoded/test/X_test_458_encoded.csv'\n"
     ]
    },
    {
     "name": "stderr",
     "output_type": "stream",
     "text": [
      "Encoding and exporting test DataFrames:  92%|█████████▏| 459/499 [01:29<00:15,  2.65it/s]"
     ]
    },
    {
     "name": "stdout",
     "output_type": "stream",
     "text": [
      "Encoded DataFrame X_test_459 has been exported to '../data/encoded/test/X_test_459_encoded.csv'\n"
     ]
    },
    {
     "name": "stderr",
     "output_type": "stream",
     "text": [
      "Encoding and exporting test DataFrames:  92%|█████████▏| 460/499 [01:30<00:14,  2.65it/s]"
     ]
    },
    {
     "name": "stdout",
     "output_type": "stream",
     "text": [
      "Encoded DataFrame X_test_460 has been exported to '../data/encoded/test/X_test_460_encoded.csv'\n"
     ]
    },
    {
     "name": "stderr",
     "output_type": "stream",
     "text": [
      "Encoding and exporting test DataFrames:  92%|█████████▏| 461/499 [01:30<00:14,  2.65it/s]"
     ]
    },
    {
     "name": "stdout",
     "output_type": "stream",
     "text": [
      "Encoded DataFrame X_test_461 has been exported to '../data/encoded/test/X_test_461_encoded.csv'\n"
     ]
    },
    {
     "name": "stderr",
     "output_type": "stream",
     "text": [
      "Encoding and exporting test DataFrames:  93%|█████████▎| 462/499 [01:31<00:13,  2.65it/s]"
     ]
    },
    {
     "name": "stdout",
     "output_type": "stream",
     "text": [
      "Encoded DataFrame X_test_462 has been exported to '../data/encoded/test/X_test_462_encoded.csv'\n"
     ]
    },
    {
     "name": "stderr",
     "output_type": "stream",
     "text": [
      "Encoding and exporting test DataFrames:  93%|█████████▎| 463/499 [01:31<00:13,  2.59it/s]"
     ]
    },
    {
     "name": "stdout",
     "output_type": "stream",
     "text": [
      "Encoded DataFrame X_test_463 has been exported to '../data/encoded/test/X_test_463_encoded.csv'\n"
     ]
    },
    {
     "name": "stderr",
     "output_type": "stream",
     "text": [
      "Encoding and exporting test DataFrames:  93%|█████████▎| 464/499 [01:31<00:13,  2.60it/s]"
     ]
    },
    {
     "name": "stdout",
     "output_type": "stream",
     "text": [
      "Encoded DataFrame X_test_464 has been exported to '../data/encoded/test/X_test_464_encoded.csv'\n"
     ]
    },
    {
     "name": "stderr",
     "output_type": "stream",
     "text": [
      "Encoding and exporting test DataFrames:  93%|█████████▎| 465/499 [01:32<00:13,  2.61it/s]"
     ]
    },
    {
     "name": "stdout",
     "output_type": "stream",
     "text": [
      "Encoded DataFrame X_test_465 has been exported to '../data/encoded/test/X_test_465_encoded.csv'\n"
     ]
    },
    {
     "name": "stderr",
     "output_type": "stream",
     "text": [
      "Encoding and exporting test DataFrames:  93%|█████████▎| 466/499 [01:32<00:12,  2.61it/s]"
     ]
    },
    {
     "name": "stdout",
     "output_type": "stream",
     "text": [
      "Encoded DataFrame X_test_466 has been exported to '../data/encoded/test/X_test_466_encoded.csv'\n"
     ]
    },
    {
     "name": "stderr",
     "output_type": "stream",
     "text": [
      "Encoding and exporting test DataFrames:  94%|█████████▎| 467/499 [01:32<00:12,  2.61it/s]"
     ]
    },
    {
     "name": "stdout",
     "output_type": "stream",
     "text": [
      "Encoded DataFrame X_test_467 has been exported to '../data/encoded/test/X_test_467_encoded.csv'\n"
     ]
    },
    {
     "name": "stderr",
     "output_type": "stream",
     "text": [
      "Encoding and exporting test DataFrames:  94%|█████████▍| 468/499 [01:33<00:11,  2.61it/s]"
     ]
    },
    {
     "name": "stdout",
     "output_type": "stream",
     "text": [
      "Encoded DataFrame X_test_468 has been exported to '../data/encoded/test/X_test_468_encoded.csv'\n"
     ]
    },
    {
     "name": "stderr",
     "output_type": "stream",
     "text": [
      "Encoding and exporting test DataFrames:  94%|█████████▍| 469/499 [01:33<00:11,  2.61it/s]"
     ]
    },
    {
     "name": "stdout",
     "output_type": "stream",
     "text": [
      "Encoded DataFrame X_test_469 has been exported to '../data/encoded/test/X_test_469_encoded.csv'\n"
     ]
    },
    {
     "name": "stderr",
     "output_type": "stream",
     "text": [
      "Encoding and exporting test DataFrames:  94%|█████████▍| 470/499 [01:34<00:11,  2.56it/s]"
     ]
    },
    {
     "name": "stdout",
     "output_type": "stream",
     "text": [
      "Encoded DataFrame X_test_470 has been exported to '../data/encoded/test/X_test_470_encoded.csv'\n"
     ]
    },
    {
     "name": "stderr",
     "output_type": "stream",
     "text": [
      "Encoding and exporting test DataFrames:  94%|█████████▍| 471/499 [01:34<00:10,  2.57it/s]"
     ]
    },
    {
     "name": "stdout",
     "output_type": "stream",
     "text": [
      "Encoded DataFrame X_test_471 has been exported to '../data/encoded/test/X_test_471_encoded.csv'\n"
     ]
    },
    {
     "name": "stderr",
     "output_type": "stream",
     "text": [
      "Encoding and exporting test DataFrames:  95%|█████████▍| 472/499 [01:34<00:10,  2.59it/s]"
     ]
    },
    {
     "name": "stdout",
     "output_type": "stream",
     "text": [
      "Encoded DataFrame X_test_472 has been exported to '../data/encoded/test/X_test_472_encoded.csv'\n"
     ]
    },
    {
     "name": "stderr",
     "output_type": "stream",
     "text": [
      "Encoding and exporting test DataFrames:  95%|█████████▍| 473/499 [01:35<00:10,  2.59it/s]"
     ]
    },
    {
     "name": "stdout",
     "output_type": "stream",
     "text": [
      "Encoded DataFrame X_test_473 has been exported to '../data/encoded/test/X_test_473_encoded.csv'\n"
     ]
    },
    {
     "name": "stderr",
     "output_type": "stream",
     "text": [
      "Encoding and exporting test DataFrames:  95%|█████████▍| 474/499 [01:35<00:09,  2.58it/s]"
     ]
    },
    {
     "name": "stdout",
     "output_type": "stream",
     "text": [
      "Encoded DataFrame X_test_474 has been exported to '../data/encoded/test/X_test_474_encoded.csv'\n"
     ]
    },
    {
     "name": "stderr",
     "output_type": "stream",
     "text": [
      "Encoding and exporting test DataFrames:  95%|█████████▌| 475/499 [01:36<00:09,  2.58it/s]"
     ]
    },
    {
     "name": "stdout",
     "output_type": "stream",
     "text": [
      "Encoded DataFrame X_test_475 has been exported to '../data/encoded/test/X_test_475_encoded.csv'\n"
     ]
    },
    {
     "name": "stderr",
     "output_type": "stream",
     "text": [
      "Encoding and exporting test DataFrames:  95%|█████████▌| 476/499 [01:36<00:08,  2.59it/s]"
     ]
    },
    {
     "name": "stdout",
     "output_type": "stream",
     "text": [
      "Encoded DataFrame X_test_476 has been exported to '../data/encoded/test/X_test_476_encoded.csv'\n"
     ]
    },
    {
     "name": "stderr",
     "output_type": "stream",
     "text": [
      "Encoding and exporting test DataFrames:  96%|█████████▌| 477/499 [01:36<00:08,  2.55it/s]"
     ]
    },
    {
     "name": "stdout",
     "output_type": "stream",
     "text": [
      "Encoded DataFrame X_test_477 has been exported to '../data/encoded/test/X_test_477_encoded.csv'\n"
     ]
    },
    {
     "name": "stderr",
     "output_type": "stream",
     "text": [
      "Encoding and exporting test DataFrames:  96%|█████████▌| 478/499 [01:37<00:08,  2.56it/s]"
     ]
    },
    {
     "name": "stdout",
     "output_type": "stream",
     "text": [
      "Encoded DataFrame X_test_478 has been exported to '../data/encoded/test/X_test_478_encoded.csv'\n"
     ]
    },
    {
     "name": "stderr",
     "output_type": "stream",
     "text": [
      "Encoding and exporting test DataFrames:  96%|█████████▌| 479/499 [01:37<00:07,  2.56it/s]"
     ]
    },
    {
     "name": "stdout",
     "output_type": "stream",
     "text": [
      "Encoded DataFrame X_test_479 has been exported to '../data/encoded/test/X_test_479_encoded.csv'\n"
     ]
    },
    {
     "name": "stderr",
     "output_type": "stream",
     "text": [
      "Encoding and exporting test DataFrames:  96%|█████████▌| 480/499 [01:38<00:07,  2.57it/s]"
     ]
    },
    {
     "name": "stdout",
     "output_type": "stream",
     "text": [
      "Encoded DataFrame X_test_480 has been exported to '../data/encoded/test/X_test_480_encoded.csv'\n"
     ]
    },
    {
     "name": "stderr",
     "output_type": "stream",
     "text": [
      "Encoding and exporting test DataFrames:  96%|█████████▋| 481/499 [01:38<00:07,  2.57it/s]"
     ]
    },
    {
     "name": "stdout",
     "output_type": "stream",
     "text": [
      "Encoded DataFrame X_test_481 has been exported to '../data/encoded/test/X_test_481_encoded.csv'\n"
     ]
    },
    {
     "name": "stderr",
     "output_type": "stream",
     "text": [
      "Encoding and exporting test DataFrames:  97%|█████████▋| 482/499 [01:38<00:06,  2.58it/s]"
     ]
    },
    {
     "name": "stdout",
     "output_type": "stream",
     "text": [
      "Encoded DataFrame X_test_482 has been exported to '../data/encoded/test/X_test_482_encoded.csv'\n"
     ]
    },
    {
     "name": "stderr",
     "output_type": "stream",
     "text": [
      "Encoding and exporting test DataFrames:  97%|█████████▋| 483/499 [01:39<00:06,  2.53it/s]"
     ]
    },
    {
     "name": "stdout",
     "output_type": "stream",
     "text": [
      "Encoded DataFrame X_test_483 has been exported to '../data/encoded/test/X_test_483_encoded.csv'\n"
     ]
    },
    {
     "name": "stderr",
     "output_type": "stream",
     "text": [
      "Encoding and exporting test DataFrames:  97%|█████████▋| 484/499 [01:39<00:05,  2.54it/s]"
     ]
    },
    {
     "name": "stdout",
     "output_type": "stream",
     "text": [
      "Encoded DataFrame X_test_484 has been exported to '../data/encoded/test/X_test_484_encoded.csv'\n"
     ]
    },
    {
     "name": "stderr",
     "output_type": "stream",
     "text": [
      "Encoding and exporting test DataFrames:  97%|█████████▋| 485/499 [01:40<00:05,  2.54it/s]"
     ]
    },
    {
     "name": "stdout",
     "output_type": "stream",
     "text": [
      "Encoded DataFrame X_test_485 has been exported to '../data/encoded/test/X_test_485_encoded.csv'\n"
     ]
    },
    {
     "name": "stderr",
     "output_type": "stream",
     "text": [
      "Encoding and exporting test DataFrames:  97%|█████████▋| 486/499 [01:40<00:05,  2.55it/s]"
     ]
    },
    {
     "name": "stdout",
     "output_type": "stream",
     "text": [
      "Encoded DataFrame X_test_486 has been exported to '../data/encoded/test/X_test_486_encoded.csv'\n"
     ]
    },
    {
     "name": "stderr",
     "output_type": "stream",
     "text": [
      "Encoding and exporting test DataFrames:  98%|█████████▊| 487/499 [01:40<00:04,  2.55it/s]"
     ]
    },
    {
     "name": "stdout",
     "output_type": "stream",
     "text": [
      "Encoded DataFrame X_test_487 has been exported to '../data/encoded/test/X_test_487_encoded.csv'\n"
     ]
    },
    {
     "name": "stderr",
     "output_type": "stream",
     "text": [
      "Encoding and exporting test DataFrames:  98%|█████████▊| 488/499 [01:41<00:04,  2.55it/s]"
     ]
    },
    {
     "name": "stdout",
     "output_type": "stream",
     "text": [
      "Encoded DataFrame X_test_488 has been exported to '../data/encoded/test/X_test_488_encoded.csv'\n"
     ]
    },
    {
     "name": "stderr",
     "output_type": "stream",
     "text": [
      "Encoding and exporting test DataFrames:  98%|█████████▊| 489/499 [01:41<00:03,  2.55it/s]"
     ]
    },
    {
     "name": "stdout",
     "output_type": "stream",
     "text": [
      "Encoded DataFrame X_test_489 has been exported to '../data/encoded/test/X_test_489_encoded.csv'\n"
     ]
    },
    {
     "name": "stderr",
     "output_type": "stream",
     "text": [
      "Encoding and exporting test DataFrames:  98%|█████████▊| 490/499 [01:41<00:03,  2.51it/s]"
     ]
    },
    {
     "name": "stdout",
     "output_type": "stream",
     "text": [
      "Encoded DataFrame X_test_490 has been exported to '../data/encoded/test/X_test_490_encoded.csv'\n"
     ]
    },
    {
     "name": "stderr",
     "output_type": "stream",
     "text": [
      "Encoding and exporting test DataFrames:  98%|█████████▊| 491/499 [01:42<00:03,  2.52it/s]"
     ]
    },
    {
     "name": "stdout",
     "output_type": "stream",
     "text": [
      "Encoded DataFrame X_test_491 has been exported to '../data/encoded/test/X_test_491_encoded.csv'\n"
     ]
    },
    {
     "name": "stderr",
     "output_type": "stream",
     "text": [
      "Encoding and exporting test DataFrames:  99%|█████████▊| 492/499 [01:42<00:02,  2.53it/s]"
     ]
    },
    {
     "name": "stdout",
     "output_type": "stream",
     "text": [
      "Encoded DataFrame X_test_492 has been exported to '../data/encoded/test/X_test_492_encoded.csv'\n"
     ]
    },
    {
     "name": "stderr",
     "output_type": "stream",
     "text": [
      "Encoding and exporting test DataFrames:  99%|█████████▉| 493/499 [01:43<00:02,  2.53it/s]"
     ]
    },
    {
     "name": "stdout",
     "output_type": "stream",
     "text": [
      "Encoded DataFrame X_test_493 has been exported to '../data/encoded/test/X_test_493_encoded.csv'\n"
     ]
    },
    {
     "name": "stderr",
     "output_type": "stream",
     "text": [
      "Encoding and exporting test DataFrames:  99%|█████████▉| 494/499 [01:43<00:01,  2.53it/s]"
     ]
    },
    {
     "name": "stdout",
     "output_type": "stream",
     "text": [
      "Encoded DataFrame X_test_494 has been exported to '../data/encoded/test/X_test_494_encoded.csv'\n"
     ]
    },
    {
     "name": "stderr",
     "output_type": "stream",
     "text": [
      "Encoding and exporting test DataFrames:  99%|█████████▉| 495/499 [01:43<00:01,  2.53it/s]"
     ]
    },
    {
     "name": "stdout",
     "output_type": "stream",
     "text": [
      "Encoded DataFrame X_test_495 has been exported to '../data/encoded/test/X_test_495_encoded.csv'\n"
     ]
    },
    {
     "name": "stderr",
     "output_type": "stream",
     "text": [
      "Encoding and exporting test DataFrames:  99%|█████████▉| 496/499 [01:44<00:01,  2.53it/s]"
     ]
    },
    {
     "name": "stdout",
     "output_type": "stream",
     "text": [
      "Encoded DataFrame X_test_496 has been exported to '../data/encoded/test/X_test_496_encoded.csv'\n"
     ]
    },
    {
     "name": "stderr",
     "output_type": "stream",
     "text": [
      "Encoding and exporting test DataFrames: 100%|█████████▉| 497/499 [01:44<00:00,  2.49it/s]"
     ]
    },
    {
     "name": "stdout",
     "output_type": "stream",
     "text": [
      "Encoded DataFrame X_test_497 has been exported to '../data/encoded/test/X_test_497_encoded.csv'\n"
     ]
    },
    {
     "name": "stderr",
     "output_type": "stream",
     "text": [
      "Encoding and exporting test DataFrames: 100%|█████████▉| 498/499 [01:45<00:00,  2.50it/s]"
     ]
    },
    {
     "name": "stdout",
     "output_type": "stream",
     "text": [
      "Encoded DataFrame X_test_498 has been exported to '../data/encoded/test/X_test_498_encoded.csv'\n"
     ]
    },
    {
     "name": "stderr",
     "output_type": "stream",
     "text": [
      "Encoding and exporting test DataFrames: 100%|██████████| 499/499 [01:45<00:00,  4.73it/s]"
     ]
    },
    {
     "name": "stdout",
     "output_type": "stream",
     "text": [
      "Encoded DataFrame X_test_499 has been exported to '../data/encoded/test/X_test_499_encoded.csv'\n",
      "Feature name mapping has been saved to '../data/encoded/test/feature_mapping.json'\n"
     ]
    },
    {
     "name": "stderr",
     "output_type": "stream",
     "text": [
      "\n"
     ]
    }
   ],
   "source": [
    "def encode_names(df, original_names):\n",
    "    \"\"\"\n",
    "    Use a dictionary to map numbers to names.\n",
    "    \"\"\"\n",
    "    name_dict = {f\"feature{i}\": name for i, name in enumerate(original_names)}\n",
    "    reverse_dict = {v: k for k, v in name_dict.items()}\n",
    "    df_encoded = df.rename(columns=reverse_dict)\n",
    "    return df_encoded, name_dict\n",
    "\n",
    "# Retrieve the feature names.\n",
    "original_names = globals()['X_test'].columns.tolist()\n",
    "\n",
    "# Init directory for encoded files.\n",
    "os.makedirs(path, exist_ok=True)\n",
    "\n",
    "# Use tqdm to process with progress bar.\n",
    "for df_name in tqdm(df_names, desc=\"Encoding and exporting test DataFrames\"):\n",
    "    df = globals()[df_name]\n",
    "    encoded_df, feature_dict = encode_names(df, original_names)\n",
    "    output_file = f'{path}/{df_name}_encoded.csv'\n",
    "    encoded_df.to_csv(output_file, index=False)\n",
    "    print(f\"Encoded DataFrame {df_name} has been exported to '{output_file}'\")\n",
    "\n",
    "# Export the mapping.\n",
    "with open(f'{path}/feature_mapping.json', 'w') as f:\n",
    "    json.dump(feature_dict, f, indent=2)\n",
    "print(f\"Feature name mapping has been saved to '{path}/feature_mapping.json'\")"
   ]
  }
 ],
 "metadata": {
  "kernelspec": {
   "display_name": "tabulate",
   "language": "python",
   "name": "python3"
  },
  "language_info": {
   "codemirror_mode": {
    "name": "ipython",
    "version": 3
   },
   "file_extension": ".py",
   "mimetype": "text/x-python",
   "name": "python",
   "nbconvert_exporter": "python",
   "pygments_lexer": "ipython3",
   "version": "3.8.19"
  }
 },
 "nbformat": 4,
 "nbformat_minor": 2
}
