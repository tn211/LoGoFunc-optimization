{
 "cells": [
  {
   "cell_type": "code",
   "execution_count": 1,
   "metadata": {},
   "outputs": [],
   "source": [
    "import pandas as pd\n",
    "import numpy as np\n",
    "import json, os, sys"
   ]
  },
  {
   "cell_type": "markdown",
   "metadata": {},
   "source": [
    "### Create new datasets with ranked features"
   ]
  },
  {
   "cell_type": "code",
   "execution_count": 2,
   "metadata": {},
   "outputs": [
    {
     "name": "stdout",
     "output_type": "stream",
     "text": [
      "(25546, 500)\n",
      "(2831, 500)\n"
     ]
    }
   ],
   "source": [
    "data = pd.read_csv('../data/X_train_499.csv')\n",
    "print(data.shape)\n",
    "test = pd.read_csv('../data/X_test_499.csv', low_memory=False)\n",
    "print(test.shape)"
   ]
  },
  {
   "cell_type": "code",
   "execution_count": 14,
   "metadata": {},
   "outputs": [],
   "source": [
    "# Make directories to store the subsets.\n",
    "os.makedirs('../data/subsets', exist_ok=True)\n",
    "os.makedirs('../data/subsets/train', exist_ok=True)\n",
    "os.makedirs('../data/subsets/test', exist_ok=True)"
   ]
  },
  {
   "cell_type": "code",
   "execution_count": 7,
   "metadata": {},
   "outputs": [
    {
     "name": "stdout",
     "output_type": "stream",
     "text": [
      "saved as 'data/X_train_id_ranked.csv'\n"
     ]
    }
   ],
   "source": [
    "# Load the rankings from JSON.\n",
    "with open('decoded_ranks.json', 'r') as f:\n",
    "    rankings = json.load(f)\n",
    "\n",
    "# Feature names = keys and ranks = values.\n",
    "rank_dict = {v: int(k) for k, v in rankings.items()}\n",
    "df = data\n",
    "\n",
    "# Exclude the 'ID' column since it is not a feature.\n",
    "columns = df.columns.tolist()[1:]\n",
    "\n",
    "# Sorted by rank.\n",
    "sorted_columns = sorted(columns, key=lambda x: rank_dict.get(x, float('inf')))\n",
    "reordered_df = df[['ID'] + sorted_columns]\n",
    "reordered_df.to_csv('../data/X_train_id_ranked.csv', index=False)\n",
    "print(\"saved as 'data/X_train_id_ranked.csv'\")"
   ]
  },
  {
   "cell_type": "code",
   "execution_count": null,
   "metadata": {},
   "outputs": [],
   "source": [
    "# Load rankings from CSV.\n",
    "df = pd.read_csv('../data/X_train_id_ranked.csv')\n",
    "\n",
    "# Exclude the 'ID' column since it is not a feature.\n",
    "columns = df.columns.tolist()[1:]  \n",
    "\n",
    "# Iterate over the columns to create the subsets.\n",
    "for i in range(len(columns), 0, -1):\n",
    "    subset_columns = ['ID'] + columns[:i]\n",
    "    subset_df = df[subset_columns]\n",
    "    filename = f'../data/subsets/train/X_train_id_top_{i}_features.csv'\n",
    "    subset_df.to_csv(filename, index=False)\n",
    "    \n",
    "    print(f\"subset with top {i} features as '{filename}'\")\n",
    "\n",
    "print(\"Saved in '../data/subsets/train'.\")"
   ]
  },
  {
   "cell_type": "code",
   "execution_count": null,
   "metadata": {},
   "outputs": [],
   "source": [
    "# Repeat the process for the test set.\n",
    "df = test\n",
    "\n",
    "# Exclude the 'ID' column since it is not a feature.\n",
    "columns = df.columns.tolist()[1:]  \n",
    "\n",
    "# Iterate over the columns to create the subsets.\n",
    "for i in range(len(columns), 0, -1):\n",
    "    subset_columns = ['ID'] + columns[:i]\n",
    "    subset_df = df[subset_columns]\n",
    "    filename = f'../data/subsets/test/X_test_id_top_{i}_features.csv'\n",
    "    subset_df.to_csv(filename, index=False)\n",
    "    \n",
    "    print(f\"subset with top {i} features as '{filename}'\")\n",
    "\n",
    "print(\"Saved in '../data/subsets/test'.\")"
   ]
  },
  {
   "cell_type": "code",
   "execution_count": null,
   "metadata": {},
   "outputs": [],
   "source": [
    "# Load rankings from JSON.\n",
    "with open('decoded_ranks.json', 'r') as f:\n",
    "    rankings = json.load(f)\n",
    "\n",
    "rank_dict = {v: int(k) for k, v in rankings.items()}\n",
    "df = test\n",
    "columns = df.columns.tolist()[1:] \n",
    "sorted_columns = sorted(columns, key=lambda x: rank_dict.get(x, float('inf')))\n",
    "reordered_df = df[['ID'] + sorted_columns]\n",
    "reordered_df.to_csv('../data/X_test_id_ranked.csv', index=False)\n",
    "\n",
    "print(\"Saved as '../data/X_test_id_ranked.csv'\")"
   ]
  },
  {
   "cell_type": "code",
   "execution_count": null,
   "metadata": {},
   "outputs": [],
   "source": [
    "df = pd.read_csv('../data/X_test_id_ranked.csv', low_memory=False)\n",
    "columns = df.columns.tolist()[1:] \n",
    "\n",
    "for i in range(len(columns), 0, -1):\n",
    "    subset_columns = ['ID'] + columns[:i]\n",
    "    subset_df = df[subset_columns]\n",
    "    filename = f'../data/subsets/X_test_id_top_{i}_features.csv'\n",
    "    subset_df.to_csv(filename, index=False)\n",
    "    print(f\"subset with top {i} features as '{filename}'\")\n",
    "print(\"saved in '../data/subsets'.\")"
   ]
  }
 ],
 "metadata": {
  "kernelspec": {
   "display_name": "tabulate",
   "language": "python",
   "name": "python3"
  },
  "language_info": {
   "codemirror_mode": {
    "name": "ipython",
    "version": 3
   },
   "file_extension": ".py",
   "mimetype": "text/x-python",
   "name": "python",
   "nbconvert_exporter": "python",
   "pygments_lexer": "ipython3",
   "version": "3.8.19"
  }
 },
 "nbformat": 4,
 "nbformat_minor": 2
}
