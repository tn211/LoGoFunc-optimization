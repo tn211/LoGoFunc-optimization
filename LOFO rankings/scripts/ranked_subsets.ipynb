{
 "cells": [
  {
   "cell_type": "code",
   "execution_count": 1,
   "metadata": {},
   "outputs": [],
   "source": [
    "import json\n",
    "import pandas as pd\n",
    "import os\n",
    "from tqdm.notebook import tqdm"
   ]
  },
  {
   "cell_type": "markdown",
   "metadata": {},
   "source": [
    "### This uses the LOFO rankings to create 499 subsets, each containing the Top \"X\" number of features."
   ]
  },
  {
   "cell_type": "code",
   "execution_count": 2,
   "metadata": {},
   "outputs": [],
   "source": [
    "# Load the feature rankings.\n",
    "with open('../metrics/accuracy_rankings.json', 'r') as f:\n",
    "    rankings = json.load(f)"
   ]
  },
  {
   "cell_type": "code",
   "execution_count": 3,
   "metadata": {},
   "outputs": [
    {
     "name": "stdout",
     "output_type": "stream",
     "text": [
      "Index(['feature0', 'feature1', 'feature2', 'feature3', 'feature4', 'feature5',\n",
      "       'feature6', 'feature7', 'feature8', 'feature9',\n",
      "       ...\n",
      "       'feature490', 'feature491', 'feature492', 'feature493', 'feature494',\n",
      "       'feature495', 'feature496', 'feature497', 'feature498', 'feature499'],\n",
      "      dtype='object', length=500)\n"
     ]
    }
   ],
   "source": [
    "# Load training data.\n",
    "data = pd.read_csv('../data/X_train_encoded.csv')\n",
    "print(data.columns)"
   ]
  },
  {
   "cell_type": "code",
   "execution_count": 4,
   "metadata": {},
   "outputs": [],
   "source": [
    "# Make a directory for training subsets.\n",
    "output_dir = '../data/ranked_subsets/train_features_csv'\n",
    "os.makedirs(output_dir, exist_ok=True)"
   ]
  },
  {
   "cell_type": "code",
   "execution_count": 5,
   "metadata": {},
   "outputs": [
    {
     "data": {
      "application/vnd.jupyter.widget-view+json": {
       "model_id": "371f5a1e144a455cbbd499ecdb4c8df8",
       "version_major": 2,
       "version_minor": 0
      },
      "text/plain": [
       "Generating CSV files:   0%|          | 0/500 [00:00<?, ?it/s]"
      ]
     },
     "metadata": {},
     "output_type": "display_data"
    },
    {
     "name": "stdout",
     "output_type": "stream",
     "text": [
      "All CSV files have been generated.\n"
     ]
    }
   ],
   "source": [
    "# Turn rankings into a list and extract column names.\n",
    "feature_list = [int(rankings[str(i)]) for i in range(1, len(rankings) + 1)]\n",
    "all_columns = data.columns.tolist()\n",
    "\n",
    "# Generate CSV files for TOP \"X\" features.\n",
    "for i in tqdm(range(1, 500), desc=\"Generating CSV files\"):\n",
    "    top_features = [all_columns[idx] for idx in feature_list[:i]]\n",
    "    selected_data = data[top_features]\n",
    "    if 'feature0' not in selected_data.columns:\n",
    "        selected_data.insert(0, 'feature0', data['feature0'])\n",
    "    \n",
    "    # Save to CSV.\n",
    "    output_file = os.path.join(output_dir, f'top_{i}_features.csv')\n",
    "    selected_data.to_csv(output_file, index=False)\n",
    "print(\"All CSV files have been generated.\")"
   ]
  },
  {
   "cell_type": "code",
   "execution_count": 6,
   "metadata": {},
   "outputs": [],
   "source": [
    "# Load test data.\n",
    "test = pd.read_csv('../data/X_test_encoded.csv', low_memory=False)"
   ]
  },
  {
   "cell_type": "code",
   "execution_count": 7,
   "metadata": {},
   "outputs": [],
   "source": [
    "# Make a directory for test subsets.\n",
    "output_dir = '../data/ranked_subsets/test_features_csv'\n",
    "os.makedirs(output_dir, exist_ok=True)"
   ]
  },
  {
   "cell_type": "code",
   "execution_count": 8,
   "metadata": {},
   "outputs": [],
   "source": [
    "data = test"
   ]
  },
  {
   "cell_type": "code",
   "execution_count": 9,
   "metadata": {},
   "outputs": [
    {
     "data": {
      "application/vnd.jupyter.widget-view+json": {
       "model_id": "6163a1c731174953b42e82bbc6f0fe9b",
       "version_major": 2,
       "version_minor": 0
      },
      "text/plain": [
       "Generating CSV files:   0%|          | 0/500 [00:00<?, ?it/s]"
      ]
     },
     "metadata": {},
     "output_type": "display_data"
    },
    {
     "name": "stdout",
     "output_type": "stream",
     "text": [
      "All CSV files have been generated.\n"
     ]
    }
   ],
   "source": [
    "# Turn rankings into a list and extract column names.\n",
    "feature_list = [int(rankings[str(i)]) for i in range(1, len(rankings) + 1)]\n",
    "all_columns = data.columns.tolist()\n",
    "\n",
    "# Generate CSV files for TOP \"X\" features.\n",
    "for i in tqdm(range(1, 500), desc=\"Generating CSV files\"):\n",
    "    top_features = [all_columns[idx] for idx in feature_list[:i]]\n",
    "    selected_data = data[top_features]\n",
    "    if 'feature0' not in selected_data.columns:\n",
    "        selected_data.insert(0, 'feature0', data['feature0'])\n",
    "    \n",
    "    # Save to CSV\n",
    "    output_file = os.path.join(output_dir, f'test_{i}_features.csv')\n",
    "    selected_data.to_csv(output_file, index=False)\n",
    "print(\"All CSV files have been generated.\")"
   ]
  }
 ],
 "metadata": {
  "kernelspec": {
   "display_name": "tabulate",
   "language": "python",
   "name": "python3"
  },
  "language_info": {
   "codemirror_mode": {
    "name": "ipython",
    "version": 3
   },
   "file_extension": ".py",
   "mimetype": "text/x-python",
   "name": "python",
   "nbconvert_exporter": "python",
   "pygments_lexer": "ipython3",
   "version": "3.8.19"
  }
 },
 "nbformat": 4,
 "nbformat_minor": 2
}
