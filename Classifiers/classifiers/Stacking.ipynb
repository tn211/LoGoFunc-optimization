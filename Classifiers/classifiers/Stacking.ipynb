{
 "cells": [
  {
   "cell_type": "markdown",
   "metadata": {},
   "source": [
    "### Stacking Classifier Cross-Validation, Training, Testing, and Evaluation"
   ]
  },
  {
   "cell_type": "code",
   "execution_count": 1,
   "metadata": {},
   "outputs": [],
   "source": [
    "import os, joblib, utils, json, csv, ast\n",
    "from utils import *\n",
    "import pandas as pd\n",
    "import numpy as np\n",
    "import random\n",
    "from scipy.special import softmax\n",
    "from joblib import Parallel, delayed\n",
    "from sklearn.tree import DecisionTreeClassifier\n",
    "from sklearn.svm import SVC\n",
    "from sklearn.model_selection import train_test_split, RandomizedSearchCV, KFold, cross_val_score\n",
    "from sklearn.metrics import accuracy_score, precision_score, recall_score, f1_score, roc_auc_score, confusion_matrix\n",
    "from sklearn.linear_model import LogisticRegression\n",
    "from sklearn.ensemble import ExtraTreesClassifier, RandomForestClassifier, StackingClassifier"
   ]
  },
  {
   "cell_type": "code",
   "execution_count": 14,
   "metadata": {},
   "outputs": [],
   "source": [
    "# Establish the random seed.\n",
    "np.random.seed(42)\n",
    "random.seed(42)"
   ]
  },
  {
   "cell_type": "code",
   "execution_count": 15,
   "metadata": {},
   "outputs": [],
   "source": [
    "# These lists are used to determine imputation strategies for the specified features (inherited from LoGoFunc)\n",
    "NEGONE_FEATURES = ['MOD_RES','REGION','INTERACTION_REGION','REQUIRED_FOR_INTER','ATP_binding_gbind','Ca2+_binding_gbind','DNA_binding_gbind','HEME_binding_gbind','Mg2+_binding_gbind','Mn2+_binding_gbind','RNA_binding_gbind','Dist2Mutation','BLOSUM62','ProteinLengthChange','TSSDistance','1000Gp3_AF','UK10K_AF','gnomAD_exomes_AF','gnomAD_genomes_AF','MSC_95CI','rel_cDNA_pos','rel_CDS_pos','rel_prot_pos','GDI','Selective_pressure','Clarks_distance','CDS_len','Number_of_paralogs','denovo_Zscore','RVIS','Indispensability_score','RSA','ASA','RSA_Zfit','before_RSA_3','before_RSA_8','before_RSA_15','after_RSA_3','after_RSA_8','after_RSA_15','before_ASA_3','before_ASA_8','before_ASA_15','after_ASA_3','after_ASA_8','after_ASA_15','Phosphorylation','Acetylation','Methylation','Ubiquitination','Glycosylation','PTM','AF_Relative_ASA','IUPRED2','ANCHOR2','before_IUPRED_3','before_IUPRED_8','before_IUPRED_15','after_IUPRED_3','after_IUPRED_8','after_IUPRED_15','before_ANCHOR_3','before_ANCHOR_8','before_ANCHOR_15','after_ANCHOR_3','after_ANCHOR_8','after_ANCHOR_15','A3D_SCORE','n_contacts','distance_com','concavity_score','S_DDG[SEQ]','S_DDG[3D]','hgmd_mutcount','gnomsingle_mutcount','gnom_mutcount','AF_confidence','isHomomultimer','num_interactions','ppi_combined_0','ppi_combined_1','ppi_combined_2','ppi_combined_3','ppi_combined_4','ppi_combined_5','ppi_combined_6','ppi_combined_7','ppi_combined_8','ppi_combined_9','ppi_combined_10','ppi_combined_11','ppi_combined_12','ppi_combined_13','ppi_combined_14','ppi_combined_15','ppi_combined_16','ppi_combined_17','ppi_combined_18','ppi_combined_19','ppi_combined_20','ppi_combined_21','ppi_combined_22','ppi_combined_23','ppi_combined_24','ppi_combined_25','ppi_combined_26','ppi_combined_27','ppi_combined_28','ppi_combined_29','ppi_combined_30','ppi_combined_31','ppi_combined_32','ppi_combined_33','ppi_combined_34','ppi_combined_35','ppi_combined_36','ppi_combined_37','ppi_combined_38','ppi_combined_39','ppi_combined_40','ppi_combined_41','ppi_combined_42','ppi_combined_43','ppi_combined_44','ppi_combined_45','ppi_combined_46','ppi_combined_47','ppi_combined_48','ppi_combined_49','ppi_combined_50','ppi_combined_51','ppi_combined_52','ppi_combined_53','ppi_combined_54','ppi_combined_55','ppi_combined_56','ppi_combined_57','ppi_combined_58','ppi_combined_59','ppi_combined_60','ppi_combined_61','ppi_combined_62','ppi_combined_63','s_het','DRNApredDNAscore_aa_window_3_prev','DRNApredDNAscore_aa_window_8_prev','DRNApredDNAscore_aa_window_15_prev','DRNApredDNAscore_aa_window_3_next','DRNApredDNAscore_aa_window_8_next','DRNApredDNAscore_aa_window_15_next','DRNApredDNAscore_aa','ASAquick_normscore_aa_window_3_prev','ASAquick_normscore_aa_window_8_prev','ASAquick_normscore_aa_window_15_prev','ASAquick_normscore_aa_window_3_next','ASAquick_normscore_aa_window_8_next','ASAquick_normscore_aa_window_15_next','ASAquick_normscore_aa','ASAquick_rawscore_aa_window_3_prev','ASAquick_rawscore_aa_window_8_prev','ASAquick_rawscore_aa_window_15_prev','ASAquick_rawscore_aa_window_3_next','ASAquick_rawscore_aa_window_8_next','ASAquick_rawscore_aa_window_15_next','ASAquick_rawscore_aa','DFLpredScore_aa_window_3_prev','DFLpredScore_aa_window_8_prev','DFLpredScore_aa_window_15_prev','DFLpredScore_aa_window_3_next','DFLpredScore_aa_window_8_next','DFLpredScore_aa_window_15_next','DFLpredScore_aa','DRNApredRNAscore_aa_window_3_prev','DRNApredRNAscore_aa_window_8_prev','DRNApredRNAscore_aa_window_15_prev','DRNApredRNAscore_aa_window_3_next','DRNApredRNAscore_aa_window_8_next','DRNApredRNAscore_aa_window_15_next','DRNApredRNAscore_aa','DisoDNAscore_aa_window_3_prev','DisoDNAscore_aa_window_8_prev','DisoDNAscore_aa_window_15_prev','DisoDNAscore_aa_window_3_next','DisoDNAscore_aa_window_8_next','DisoDNAscore_aa_window_15_next','DisoDNAscore_aa','DisoPROscore_aa_window_3_prev','DisoPROscore_aa_window_8_prev','DisoPROscore_aa_window_15_prev','DisoPROscore_aa_window_3_next','DisoPROscore_aa_window_8_next','DisoPROscore_aa_window_15_next','DisoPROscore_aa','DisoRNAscore_aa_window_3_prev','DisoRNAscore_aa_window_8_prev','DisoRNAscore_aa_window_15_prev','DisoRNAscore_aa_window_3_next','DisoRNAscore_aa_window_8_next','DisoRNAscore_aa_window_15_next','DisoRNAscore_aa','MMseq2_conservation_level_aa_window_3_prev','MMseq2_conservation_level_aa_window_8_prev','MMseq2_conservation_level_aa_window_15_prev','MMseq2_conservation_level_aa_window_3_next','MMseq2_conservation_level_aa_window_8_next','MMseq2_conservation_level_aa_window_15_next','MMseq2_conservation_level_aa','MMseq2_conservation_score_aa_window_3_prev','MMseq2_conservation_score_aa_window_8_prev','MMseq2_conservation_score_aa_window_15_prev','MMseq2_conservation_score_aa_window_3_next','MMseq2_conservation_score_aa_window_8_next','MMseq2_conservation_score_aa_window_15_next','MMseq2_conservation_score_aa','MoRFchibiScore_aa_window_3_prev','MoRFchibiScore_aa_window_8_prev','MoRFchibiScore_aa_window_15_prev','MoRFchibiScore_aa_window_3_next','MoRFchibiScore_aa_window_8_next','MoRFchibiScore_aa_window_15_next','MoRFchibiScore_aa','PSIPRED_helix_aa_window_3_prev','PSIPRED_helix_aa_window_8_prev','PSIPRED_helix_aa_window_15_prev','PSIPRED_helix_aa_window_3_next','PSIPRED_helix_aa_window_8_next','PSIPRED_helix_aa_window_15_next','PSIPRED_helix_aa','PSIPRED_strand_aa_window_3_prev','PSIPRED_strand_aa_window_8_prev','PSIPRED_strand_aa_window_15_prev','PSIPRED_strand_aa_window_3_next','PSIPRED_strand_aa_window_8_next','PSIPRED_strand_aa_window_15_next','PSIPRED_strand_aa','SCRIBERscore_aa_window_3_prev','SCRIBERscore_aa_window_8_prev','SCRIBERscore_aa_window_15_prev','SCRIBERscore_aa_window_3_next','SCRIBERscore_aa_window_8_next','SCRIBERscore_aa_window_15_next','SCRIBERscore_aa','SignalP_score_aa_window_3_prev','SignalP_score_aa_window_8_prev','SignalP_score_aa_window_15_prev','SignalP_score_aa_window_3_next','SignalP_score_aa_window_8_next','SignalP_score_aa_window_15_next','SignalP_score_aa','gtex_Adipose_-_Subcutaneous','gtex_Adipose_-_Visceral_(Omentum)','gtex_Adrenal_Gland','gtex_Artery_-_Aorta','gtex_Artery_-_Coronary','gtex_Artery_-_Tibial','gtex_Bladder','gtex_Brain_-_Amygdala','gtex_Brain_-_Anterior_cingulate_cortex_(BA24)','gtex_Brain_-_Caudate_(basal_ganglia)','gtex_Brain_-_Cerebellar_Hemisphere','gtex_Brain_-_Cerebellum','gtex_Brain_-_Cortex','gtex_Brain_-_Frontal_Cortex_(BA9)','gtex_Brain_-_Hippocampus','gtex_Brain_-_Hypothalamus','gtex_Brain_-_Nucleus_accumbens_(basal_ganglia)','gtex_Brain_-_Putamen_(basal_ganglia)','gtex_Brain_-_Spinal_cord_(cervical_c-1)','gtex_Brain_-_Substantia_nigra','gtex_Breast_-_Mammary_Tissue','gtex_Cells_-_Cultured_fibroblasts','gtex_Cells_-_EBV-transformed_lymphocytes','gtex_Cervix_-_Ectocervix','gtex_Cervix_-_Endocervix','gtex_Colon_-_Sigmoid','gtex_Colon_-_Transverse','gtex_Esophagus_-_Gastroesophageal_Junction','gtex_Esophagus_-_Mucosa','gtex_Esophagus_-_Muscularis','gtex_Fallopian_Tube','gtex_Heart_-_Atrial_Appendage','gtex_Heart_-_Left_Ventricle','gtex_Kidney_-_Cortex','gtex_Kidney_-_Medulla','gtex_Liver','gtex_Lung','gtex_Minor_Salivary_Gland','gtex_Muscle_-_Skeletal','gtex_Nerve_-_Tibial','gtex_Ovary','gtex_Pancreas','gtex_Pituitary','gtex_Prostate','gtex_Skin_-_Not_Sun_Exposed_(Suprapubic)','gtex_Skin_-_Sun_Exposed_(Lower_leg)','gtex_Small_Intestine_-_Terminal_Ileum','gtex_Spleen','gtex_Stomach','gtex_Testis','gtex_Thyroid','gtex_Uterus','gtex_Vagina','gtex_Whole_Blood','haplo','haplo_imputed','PHOSPHORYLATION','ACETYLATION','UBIQUITINATION','S-NITROSYLATION','N-GLYCOSYLATION','METHYLATION','O-GLYCOSYLATION','MYRISTOYLATION','C-GLYCOSYLATION','SUMOYLATION','S-GLYCOSYLATION','polyphen_nobs','polyphen_normasa','polyphen_dvol','polyphen_dprop','polyphen_bfact','polyphen_hbonds','polyphen_avenhet','polyphen_mindhet','polyphen_avenint','polyphen_mindint','polyphen_avensit','polyphen_mindsit','polyphen_idpmax','polyphen_idpsnp','polyphen_idqmin','motifECount','motifEHIPos','motifEScoreChng','Dst2Splice','motifDist','EncodeH3K4me1-sum','EncodeH3K4me1-max','EncodeH3K4me2-sum','EncodeH3K4me2-max','EncodeH3K4me3-sum','EncodeH3K4me3-max','EncodeH3K9ac-sum','EncodeH3K9ac-max','EncodeH3K9me3-sum','EncodeH3K9me3-max','EncodeH3K27ac-sum','EncodeH3K27ac-max','EncodeH3K27me3-sum','EncodeH3K27me3-max','EncodeH3K36me3-sum','EncodeH3K36me3-max','EncodeH3K79me2-sum','EncodeH3K79me2-max','EncodeH4K20me1-sum','EncodeH4K20me1-max','EncodeH2AFZ-sum','EncodeH2AFZ-max','EncodeDNase-sum','EncodeDNase-max','EncodetotalRNA-sum','EncodetotalRNA-max','Grantham_x','Freq100bp','Rare100bp','Sngl100bp','Freq1000bp','Rare1000bp','Sngl1000bp','Freq10000bp','Rare10000bp','Sngl10000bp','RemapOverlapTF','RemapOverlapCL','Charge','Volume','Hydrophobicity','Polarity','Ex','PAM250','JM','HGMD2003','VB','Transition','COSMIC','COSMICvsSWISSPROT','HAPMAP','COSMICvsHAPMAP',]\n",
    "MEDIAN_FEATURES = ['CADD_raw','Conservation','MaxEntScan_alt','MaxEntScan_diff','MaxEntScan_ref','ada_score','rf_score','FATHMM_score','GERPplus_plus_NR','GERPplus_plus_RS','GM12878_fitCons_score','GenoCanyon_score','H1_hESC_fitCons_score','HUVEC_fitCons_score','LINSIGHT','LIST_S2_score','LRT_score','M_CAP_score','MPC_score','MVP_score','MutationAssessor_score','MutationTaster_score','PROVEAN_score','SiPhy_29way_logOdds','VEST4_score','fathmm_MKL_coding_score','fathmm_XF_coding_score','integrated_fitCons_score','phastCons100way_vertebrate','phastCons17way_primate','phastCons30way_mammalian','phyloP100way_vertebrate','phyloP17way_primate','phyloP30way_mammalian','Condel_score','SIFT_score','NearestExonJB_distance','NearestExonJB_len','Dominant_probability','Recessive_probability','polyphen_dscore','polyphen_score1','polyphen_score2','ConsScore','GC','CpG','minDistTSS','minDistTSE','priPhCons','mamPhCons','verPhCons','priPhyloP','mamPhyloP','verPhyloP','bStatistic_y','targetScan','mirSVR-Score','mirSVR-E','mirSVR-Aln','cHmm_E1','cHmm_E2','cHmm_E3','cHmm_E4','cHmm_E5','cHmm_E6','cHmm_E7','cHmm_E8','cHmm_E9','cHmm_E10','cHmm_E11','cHmm_E12','cHmm_E13','cHmm_E14','cHmm_E15','cHmm_E16','cHmm_E17','cHmm_E18','cHmm_E19','cHmm_E20','cHmm_E21','cHmm_E22','cHmm_E23','cHmm_E24','cHmm_E25','GerpRS','GerpRSpval','GerpN','GerpS','tOverlapMotifs','SpliceAI-acc-gain','SpliceAI-acc-loss','SpliceAI-don-gain','SpliceAI-don-loss','MMSp_acceptorIntron','MMSp_acceptor','MMSp_exon','MMSp_donor','MMSp_donorIntron','dbscSNV-ada_score','dbscSNV-rf_score',]"
   ]
  },
  {
   "cell_type": "markdown",
   "metadata": {},
   "source": [
    "### Preprocessing and Validation Split"
   ]
  },
  {
   "cell_type": "code",
   "execution_count": 2,
   "metadata": {},
   "outputs": [],
   "source": [
    "# Loading the correct training data (missing `Protein_dom`).\n",
    "X_train = pd.read_csv('../data/X_train_500.csv', low_memory=False)\n",
    "y_train = pd.read_csv('../data/y_train_id.csv', low_memory=False)\n",
    "model_type = 'stacking-trees' \n",
    "model_path = f'../models/{model_type}-validation'\n",
    "output_path = f'../results/{model_type}-validation.csv'\n",
    "metrics_file = f'../metrics/{model_type}-validation-metrics.csv'"
   ]
  },
  {
   "cell_type": "code",
   "execution_count": 17,
   "metadata": {},
   "outputs": [
    {
     "name": "stdout",
     "output_type": "stream",
     "text": [
      "initial took 0.8413841724395752 to run.\n",
      "(25546, 498)\n",
      "(25546, 472)\n",
      "removeba took 0.0287020206451416 to run.\n",
      "variance_threshold took 0.12464499473571777 to run.\n",
      "oversampling took 0.18565893173217773 to run.\n"
     ]
    }
   ],
   "source": [
    "# This is used to drop columns that only contain NaN values.\n",
    "def drop_allnan(data):\n",
    "    for col in data.columns:\n",
    "        if data[col].isna().sum() == len(data):\n",
    "            data = data.drop(columns=col)\n",
    "    return data\n",
    "\n",
    "# This encodes the IMPACT feature's column.\n",
    "X_train = drop_allnan(X_train)\n",
    "impact_vals = {'LOW': 0, 'MODIFIER': 1, 'MODERATE': 1.5, 'HIGH': 2}\n",
    "encoded_impacts = [impact_vals[imp] for imp in X_train['IMPACT']]\n",
    "X_train = X_train.drop(columns=['IMPACT'])\n",
    "X_train['IMPACT'] = encoded_impacts\n",
    "\n",
    "# Conditional imputation based on feature type.\n",
    "numeric_features = X_train.select_dtypes(include=['number']).columns\n",
    "categorical_features = X_train.select_dtypes(include=['object']).columns\n",
    "\n",
    "# Pre-processor generation with multiple parameters that can be tweaked. I used the same values as LoGoFunc.\n",
    "preprocessor = utils.generate_preprocessor(numeric_features, categorical_features, 40, 0,\n",
    "                            1, 0, 2, 0, 0, 1,\n",
    "                            prefix='light0', do_feature_subset=True, max_features=1)\n",
    "\n",
    "# Encoding the labels.\n",
    "y_train_enc = []\n",
    "for lab in y_train['label']:\n",
    "    if lab == 'GOF':\n",
    "        y_train_enc.append(1)\n",
    "    elif lab == 'LOF':\n",
    "        y_train_enc.append(2)\n",
    "    else:\n",
    "        y_train_enc.append(0)\n",
    "y_train = y_train_enc\n",
    "\n",
    "X_train, y_train = utils.preprocess(preprocessor, X_train, y_train)\n",
    "\n",
    "# This creates a directory for the preprocessor and trained models.\n",
    "os.makedirs(model_path, exist_ok=True)\n",
    "joblib.dump(preprocessor, f'{model_path}/preprocessor.joblib')\n",
    "\n",
    "# This is where the train-val split happens in a 80-20 ratio.\n",
    "X_train, X_val, y_train, y_val = train_test_split(X_train, y_train, test_size=0.2, random_state=41)"
   ]
  },
  {
   "cell_type": "markdown",
   "metadata": {},
   "source": [
    "### Training and Validation"
   ]
  },
  {
   "cell_type": "code",
   "execution_count": 18,
   "metadata": {},
   "outputs": [
    {
     "name": "stdout",
     "output_type": "stream",
     "text": [
      "Cross-validation accuracy: 0.9308504628218746\n",
      "Fitting 3 folds for each of 135 candidates, totalling 405 fits\n",
      "[CV] END dt__max_depth=10, et__max_depth=20, et__n_estimators=100, final_estimator__C=1.0, rf__max_depth=None, rf__n_estimators=100; total time= 5.0min\n",
      "[CV] END dt__max_depth=10, et__max_depth=20, et__n_estimators=100, final_estimator__C=1.0, rf__max_depth=None, rf__n_estimators=100; total time= 5.0min\n",
      "[CV] END dt__max_depth=10, et__max_depth=20, et__n_estimators=100, final_estimator__C=1.0, rf__max_depth=None, rf__n_estimators=100; total time= 5.0min\n",
      "[CV] END dt__max_depth=10, et__max_depth=20, et__n_estimators=200, final_estimator__C=1.0, rf__max_depth=10, rf__n_estimators=200; total time= 5.4min\n",
      "[CV] END dt__max_depth=10, et__max_depth=20, et__n_estimators=200, final_estimator__C=1.0, rf__max_depth=10, rf__n_estimators=200; total time= 5.4min\n",
      "[CV] END dt__max_depth=10, et__max_depth=20, et__n_estimators=200, final_estimator__C=1.0, rf__max_depth=10, rf__n_estimators=200; total time= 5.4min\n"
     ]
    },
    {
     "name": "stderr",
     "output_type": "stream",
     "text": [
      "/Users/benzenesea/mambaforge/envs/logofunc3/lib/python3.9/site-packages/sklearn/linear_model/_sag.py:350: ConvergenceWarning: The max_iter was reached which means the coef_ did not converge\n",
      "  warnings.warn(\n"
     ]
    },
    {
     "name": "stdout",
     "output_type": "stream",
     "text": [
      "[CV] END dt__max_depth=None, et__max_depth=None, et__n_estimators=50, final_estimator__C=100.0, rf__max_depth=20, rf__n_estimators=100; total time= 7.6min\n"
     ]
    },
    {
     "name": "stderr",
     "output_type": "stream",
     "text": [
      "/Users/benzenesea/mambaforge/envs/logofunc3/lib/python3.9/site-packages/sklearn/linear_model/_sag.py:350: ConvergenceWarning: The max_iter was reached which means the coef_ did not converge\n",
      "  warnings.warn(\n"
     ]
    },
    {
     "name": "stdout",
     "output_type": "stream",
     "text": [
      "[CV] END dt__max_depth=None, et__max_depth=None, et__n_estimators=50, final_estimator__C=100.0, rf__max_depth=20, rf__n_estimators=100; total time= 7.7min\n"
     ]
    },
    {
     "name": "stderr",
     "output_type": "stream",
     "text": [
      "/Users/benzenesea/mambaforge/envs/logofunc3/lib/python3.9/site-packages/sklearn/linear_model/_sag.py:350: ConvergenceWarning: The max_iter was reached which means the coef_ did not converge\n",
      "  warnings.warn(\n"
     ]
    },
    {
     "name": "stdout",
     "output_type": "stream",
     "text": [
      "[CV] END dt__max_depth=None, et__max_depth=None, et__n_estimators=50, final_estimator__C=100.0, rf__max_depth=20, rf__n_estimators=100; total time= 7.7min\n",
      "[CV] END dt__max_depth=None, et__max_depth=10, et__n_estimators=50, final_estimator__C=1.0, rf__max_depth=None, rf__n_estimators=200; total time= 7.9min\n",
      "[CV] END dt__max_depth=None, et__max_depth=10, et__n_estimators=50, final_estimator__C=1.0, rf__max_depth=None, rf__n_estimators=200; total time= 8.0min\n",
      "[CV] END dt__max_depth=None, et__max_depth=10, et__n_estimators=50, final_estimator__C=1.0, rf__max_depth=None, rf__n_estimators=200; total time= 8.0min\n",
      "[CV] END dt__max_depth=10, et__max_depth=None, et__n_estimators=100, final_estimator__C=100.0, rf__max_depth=20, rf__n_estimators=200; total time= 3.0min\n"
     ]
    },
    {
     "name": "stderr",
     "output_type": "stream",
     "text": [
      "/Users/benzenesea/mambaforge/envs/logofunc3/lib/python3.9/site-packages/sklearn/linear_model/_sag.py:350: ConvergenceWarning: The max_iter was reached which means the coef_ did not converge\n",
      "  warnings.warn(\n"
     ]
    },
    {
     "name": "stdout",
     "output_type": "stream",
     "text": [
      "[CV] END dt__max_depth=10, et__max_depth=None, et__n_estimators=100, final_estimator__C=100.0, rf__max_depth=20, rf__n_estimators=200; total time= 3.1min\n",
      "[CV] END dt__max_depth=10, et__max_depth=None, et__n_estimators=100, final_estimator__C=100.0, rf__max_depth=20, rf__n_estimators=200; total time= 3.3min\n",
      "[CV] END dt__max_depth=20, et__max_depth=10, et__n_estimators=50, final_estimator__C=1.0, rf__max_depth=20, rf__n_estimators=100; total time= 3.1min\n",
      "[CV] END dt__max_depth=20, et__max_depth=10, et__n_estimators=50, final_estimator__C=1.0, rf__max_depth=20, rf__n_estimators=100; total time= 3.5min\n",
      "[CV] END dt__max_depth=20, et__max_depth=10, et__n_estimators=50, final_estimator__C=1.0, rf__max_depth=20, rf__n_estimators=100; total time= 3.7min\n",
      "[CV] END dt__max_depth=10, et__max_depth=10, et__n_estimators=100, final_estimator__C=0.01, rf__max_depth=10, rf__n_estimators=200; total time= 5.0min\n",
      "[CV] END dt__max_depth=10, et__max_depth=10, et__n_estimators=100, final_estimator__C=0.01, rf__max_depth=10, rf__n_estimators=200; total time= 5.1min\n",
      "[CV] END dt__max_depth=10, et__max_depth=10, et__n_estimators=100, final_estimator__C=0.01, rf__max_depth=10, rf__n_estimators=200; total time= 5.1min\n",
      "[CV] END dt__max_depth=None, et__max_depth=20, et__n_estimators=50, final_estimator__C=0.01, rf__max_depth=None, rf__n_estimators=50; total time= 5.9min\n",
      "[CV] END dt__max_depth=None, et__max_depth=20, et__n_estimators=50, final_estimator__C=0.01, rf__max_depth=None, rf__n_estimators=50; total time= 6.4min\n",
      "[CV] END dt__max_depth=None, et__max_depth=20, et__n_estimators=50, final_estimator__C=0.01, rf__max_depth=None, rf__n_estimators=50; total time= 6.6min\n"
     ]
    },
    {
     "name": "stderr",
     "output_type": "stream",
     "text": [
      "/Users/benzenesea/mambaforge/envs/logofunc3/lib/python3.9/site-packages/sklearn/linear_model/_sag.py:350: ConvergenceWarning: The max_iter was reached which means the coef_ did not converge\n",
      "  warnings.warn(\n"
     ]
    },
    {
     "name": "stdout",
     "output_type": "stream",
     "text": [
      "[CV] END dt__max_depth=None, et__max_depth=None, et__n_estimators=200, final_estimator__C=10.0, rf__max_depth=20, rf__n_estimators=50; total time= 7.0min\n",
      "[CV] END dt__max_depth=None, et__max_depth=None, et__n_estimators=200, final_estimator__C=10.0, rf__max_depth=20, rf__n_estimators=50; total time= 7.1min\n"
     ]
    },
    {
     "name": "stderr",
     "output_type": "stream",
     "text": [
      "/Users/benzenesea/mambaforge/envs/logofunc3/lib/python3.9/site-packages/sklearn/linear_model/_sag.py:350: ConvergenceWarning: The max_iter was reached which means the coef_ did not converge\n",
      "  warnings.warn(\n"
     ]
    },
    {
     "name": "stdout",
     "output_type": "stream",
     "text": [
      "[CV] END dt__max_depth=None, et__max_depth=None, et__n_estimators=200, final_estimator__C=10.0, rf__max_depth=20, rf__n_estimators=50; total time= 6.9min\n",
      "[CV] END dt__max_depth=None, et__max_depth=None, et__n_estimators=200, final_estimator__C=1.0, rf__max_depth=10, rf__n_estimators=200; total time= 8.1min\n",
      "[CV] END dt__max_depth=20, et__max_depth=None, et__n_estimators=200, final_estimator__C=10.0, rf__max_depth=10, rf__n_estimators=50; total time=33.3min\n",
      "[CV] END dt__max_depth=20, et__max_depth=None, et__n_estimators=200, final_estimator__C=10.0, rf__max_depth=10, rf__n_estimators=50; total time=33.3min\n"
     ]
    },
    {
     "name": "stderr",
     "output_type": "stream",
     "text": [
      "/Users/benzenesea/mambaforge/envs/logofunc3/lib/python3.9/site-packages/sklearn/linear_model/_sag.py:350: ConvergenceWarning: The max_iter was reached which means the coef_ did not converge\n",
      "  warnings.warn(\n"
     ]
    },
    {
     "name": "stdout",
     "output_type": "stream",
     "text": [
      "[CV] END dt__max_depth=20, et__max_depth=None, et__n_estimators=200, final_estimator__C=10.0, rf__max_depth=10, rf__n_estimators=50; total time=33.3min\n",
      "[CV] END dt__max_depth=None, et__max_depth=None, et__n_estimators=200, final_estimator__C=1.0, rf__max_depth=10, rf__n_estimators=200; total time=37.5min\n",
      "[CV] END dt__max_depth=None, et__max_depth=None, et__n_estimators=200, final_estimator__C=1.0, rf__max_depth=10, rf__n_estimators=200; total time=37.4min\n",
      "[CV] END dt__max_depth=10, et__max_depth=20, et__n_estimators=100, final_estimator__C=0.1, rf__max_depth=10, rf__n_estimators=50; total time=33.4min\n",
      "[CV] END dt__max_depth=10, et__max_depth=20, et__n_estimators=100, final_estimator__C=0.1, rf__max_depth=10, rf__n_estimators=50; total time=33.4min\n",
      "[CV] END dt__max_depth=10, et__max_depth=20, et__n_estimators=100, final_estimator__C=0.1, rf__max_depth=10, rf__n_estimators=50; total time=33.4min\n"
     ]
    },
    {
     "name": "stderr",
     "output_type": "stream",
     "text": [
      "/Users/benzenesea/mambaforge/envs/logofunc3/lib/python3.9/site-packages/sklearn/linear_model/_sag.py:350: ConvergenceWarning: The max_iter was reached which means the coef_ did not converge\n",
      "  warnings.warn(\n"
     ]
    },
    {
     "name": "stdout",
     "output_type": "stream",
     "text": [
      "[CV] END dt__max_depth=10, et__max_depth=None, et__n_estimators=100, final_estimator__C=10.0, rf__max_depth=None, rf__n_estimators=100; total time=33.6min\n"
     ]
    },
    {
     "name": "stderr",
     "output_type": "stream",
     "text": [
      "/Users/benzenesea/mambaforge/envs/logofunc3/lib/python3.9/site-packages/sklearn/linear_model/_sag.py:350: ConvergenceWarning: The max_iter was reached which means the coef_ did not converge\n",
      "  warnings.warn(\n"
     ]
    },
    {
     "name": "stdout",
     "output_type": "stream",
     "text": [
      "[CV] END dt__max_depth=10, et__max_depth=None, et__n_estimators=100, final_estimator__C=10.0, rf__max_depth=None, rf__n_estimators=100; total time= 4.3min\n"
     ]
    },
    {
     "name": "stderr",
     "output_type": "stream",
     "text": [
      "/Users/benzenesea/mambaforge/envs/logofunc3/lib/python3.9/site-packages/sklearn/linear_model/_sag.py:350: ConvergenceWarning: The max_iter was reached which means the coef_ did not converge\n",
      "  warnings.warn(\n"
     ]
    },
    {
     "name": "stdout",
     "output_type": "stream",
     "text": [
      "[CV] END dt__max_depth=10, et__max_depth=None, et__n_estimators=100, final_estimator__C=10.0, rf__max_depth=None, rf__n_estimators=100; total time= 4.2min\n",
      "[CV] END dt__max_depth=None, et__max_depth=None, et__n_estimators=200, final_estimator__C=100.0, rf__max_depth=None, rf__n_estimators=200; total time=37.3min\n",
      "[CV] END dt__max_depth=None, et__max_depth=None, et__n_estimators=200, final_estimator__C=100.0, rf__max_depth=None, rf__n_estimators=200; total time=36.9min\n",
      "[CV] END dt__max_depth=None, et__max_depth=None, et__n_estimators=200, final_estimator__C=100.0, rf__max_depth=None, rf__n_estimators=200; total time=36.8min\n",
      "[CV] END dt__max_depth=20, et__max_depth=10, et__n_estimators=100, final_estimator__C=0.1, rf__max_depth=20, rf__n_estimators=50; total time= 4.2min\n",
      "[CV] END dt__max_depth=20, et__max_depth=10, et__n_estimators=100, final_estimator__C=0.1, rf__max_depth=20, rf__n_estimators=50; total time= 4.2min\n",
      "[CV] END dt__max_depth=20, et__max_depth=10, et__n_estimators=100, final_estimator__C=0.1, rf__max_depth=20, rf__n_estimators=50; total time= 4.2min\n",
      "[CV] END dt__max_depth=None, et__max_depth=10, et__n_estimators=50, final_estimator__C=0.1, rf__max_depth=10, rf__n_estimators=50; total time= 6.8min\n",
      "[CV] END dt__max_depth=None, et__max_depth=10, et__n_estimators=50, final_estimator__C=0.1, rf__max_depth=10, rf__n_estimators=50; total time= 6.7min\n",
      "[CV] END dt__max_depth=None, et__max_depth=10, et__n_estimators=50, final_estimator__C=0.1, rf__max_depth=10, rf__n_estimators=50; total time= 6.7min\n",
      "[CV] END dt__max_depth=20, et__max_depth=20, et__n_estimators=50, final_estimator__C=1.0, rf__max_depth=None, rf__n_estimators=200; total time= 3.8min\n",
      "[CV] END dt__max_depth=20, et__max_depth=20, et__n_estimators=50, final_estimator__C=1.0, rf__max_depth=None, rf__n_estimators=200; total time= 3.9min\n",
      "[CV] END dt__max_depth=None, et__max_depth=10, et__n_estimators=50, final_estimator__C=100.0, rf__max_depth=10, rf__n_estimators=50; total time= 3.6min\n",
      "[CV] END dt__max_depth=20, et__max_depth=20, et__n_estimators=50, final_estimator__C=1.0, rf__max_depth=None, rf__n_estimators=200; total time= 4.2min\n",
      "[CV] END dt__max_depth=None, et__max_depth=10, et__n_estimators=50, final_estimator__C=100.0, rf__max_depth=10, rf__n_estimators=50; total time= 3.6min\n",
      "[CV] END dt__max_depth=None, et__max_depth=10, et__n_estimators=50, final_estimator__C=100.0, rf__max_depth=10, rf__n_estimators=50; total time= 3.7min\n"
     ]
    },
    {
     "name": "stderr",
     "output_type": "stream",
     "text": [
      "/Users/benzenesea/mambaforge/envs/logofunc3/lib/python3.9/site-packages/sklearn/linear_model/_sag.py:350: ConvergenceWarning: The max_iter was reached which means the coef_ did not converge\n",
      "  warnings.warn(\n"
     ]
    },
    {
     "name": "stdout",
     "output_type": "stream",
     "text": [
      "[CV] END dt__max_depth=None, et__max_depth=20, et__n_estimators=100, final_estimator__C=100.0, rf__max_depth=20, rf__n_estimators=100; total time= 2.5min\n"
     ]
    },
    {
     "name": "stderr",
     "output_type": "stream",
     "text": [
      "/Users/benzenesea/mambaforge/envs/logofunc3/lib/python3.9/site-packages/sklearn/linear_model/_sag.py:350: ConvergenceWarning: The max_iter was reached which means the coef_ did not converge\n",
      "  warnings.warn(\n"
     ]
    },
    {
     "name": "stdout",
     "output_type": "stream",
     "text": [
      "[CV] END dt__max_depth=None, et__max_depth=20, et__n_estimators=100, final_estimator__C=100.0, rf__max_depth=20, rf__n_estimators=100; total time= 2.5min\n",
      "[CV] END dt__max_depth=None, et__max_depth=10, et__n_estimators=100, final_estimator__C=100.0, rf__max_depth=10, rf__n_estimators=100; total time= 2.1min\n",
      "[CV] END dt__max_depth=None, et__max_depth=10, et__n_estimators=100, final_estimator__C=100.0, rf__max_depth=10, rf__n_estimators=100; total time= 2.3min\n",
      "[CV] END dt__max_depth=20, et__max_depth=20, et__n_estimators=50, final_estimator__C=1.0, rf__max_depth=10, rf__n_estimators=200; total time= 1.7min\n"
     ]
    },
    {
     "name": "stderr",
     "output_type": "stream",
     "text": [
      "/Users/benzenesea/mambaforge/envs/logofunc3/lib/python3.9/site-packages/sklearn/linear_model/_sag.py:350: ConvergenceWarning: The max_iter was reached which means the coef_ did not converge\n",
      "  warnings.warn(\n"
     ]
    },
    {
     "name": "stdout",
     "output_type": "stream",
     "text": [
      "[CV] END dt__max_depth=None, et__max_depth=20, et__n_estimators=100, final_estimator__C=100.0, rf__max_depth=20, rf__n_estimators=100; total time= 3.1min\n",
      "[CV] END dt__max_depth=10, et__max_depth=10, et__n_estimators=100, final_estimator__C=0.01, rf__max_depth=10, rf__n_estimators=100; total time= 1.3min\n",
      "[CV] END dt__max_depth=10, et__max_depth=10, et__n_estimators=100, final_estimator__C=0.01, rf__max_depth=10, rf__n_estimators=100; total time= 1.5min\n",
      "[CV] END dt__max_depth=None, et__max_depth=10, et__n_estimators=100, final_estimator__C=100.0, rf__max_depth=10, rf__n_estimators=100; total time= 2.9min\n",
      "[CV] END dt__max_depth=10, et__max_depth=10, et__n_estimators=100, final_estimator__C=0.01, rf__max_depth=10, rf__n_estimators=100; total time= 1.6min\n",
      "[CV] END dt__max_depth=20, et__max_depth=20, et__n_estimators=50, final_estimator__C=1.0, rf__max_depth=10, rf__n_estimators=200; total time= 2.7min\n",
      "[CV] END dt__max_depth=20, et__max_depth=20, et__n_estimators=50, final_estimator__C=1.0, rf__max_depth=10, rf__n_estimators=200; total time= 2.7min\n"
     ]
    },
    {
     "name": "stderr",
     "output_type": "stream",
     "text": [
      "/Users/benzenesea/mambaforge/envs/logofunc3/lib/python3.9/site-packages/sklearn/linear_model/_sag.py:350: ConvergenceWarning: The max_iter was reached which means the coef_ did not converge\n",
      "  warnings.warn(\n"
     ]
    },
    {
     "name": "stdout",
     "output_type": "stream",
     "text": [
      "[CV] END dt__max_depth=10, et__max_depth=20, et__n_estimators=200, final_estimator__C=100.0, rf__max_depth=20, rf__n_estimators=200; total time= 2.5min\n",
      "[CV] END dt__max_depth=None, et__max_depth=20, et__n_estimators=50, final_estimator__C=1.0, rf__max_depth=20, rf__n_estimators=50; total time= 3.2min\n",
      "[CV] END dt__max_depth=None, et__max_depth=20, et__n_estimators=50, final_estimator__C=1.0, rf__max_depth=20, rf__n_estimators=50; total time= 3.2min\n",
      "[CV] END dt__max_depth=10, et__max_depth=20, et__n_estimators=200, final_estimator__C=100.0, rf__max_depth=20, rf__n_estimators=200; total time= 2.9min\n",
      "[CV] END dt__max_depth=10, et__max_depth=20, et__n_estimators=200, final_estimator__C=100.0, rf__max_depth=20, rf__n_estimators=200; total time= 2.9min\n",
      "[CV] END dt__max_depth=20, et__max_depth=10, et__n_estimators=100, final_estimator__C=10.0, rf__max_depth=None, rf__n_estimators=200; total time= 2.6min\n",
      "[CV] END dt__max_depth=None, et__max_depth=20, et__n_estimators=50, final_estimator__C=1.0, rf__max_depth=20, rf__n_estimators=50; total time= 4.2min\n"
     ]
    },
    {
     "name": "stderr",
     "output_type": "stream",
     "text": [
      "/Users/benzenesea/mambaforge/envs/logofunc3/lib/python3.9/site-packages/sklearn/linear_model/_sag.py:350: ConvergenceWarning: The max_iter was reached which means the coef_ did not converge\n",
      "  warnings.warn(\n"
     ]
    },
    {
     "name": "stdout",
     "output_type": "stream",
     "text": [
      "[CV] END dt__max_depth=None, et__max_depth=20, et__n_estimators=50, final_estimator__C=10.0, rf__max_depth=None, rf__n_estimators=50; total time= 3.5min\n"
     ]
    },
    {
     "name": "stderr",
     "output_type": "stream",
     "text": [
      "/Users/benzenesea/mambaforge/envs/logofunc3/lib/python3.9/site-packages/sklearn/linear_model/_sag.py:350: ConvergenceWarning: The max_iter was reached which means the coef_ did not converge\n",
      "  warnings.warn(\n"
     ]
    },
    {
     "name": "stdout",
     "output_type": "stream",
     "text": [
      "[CV] END dt__max_depth=None, et__max_depth=20, et__n_estimators=50, final_estimator__C=10.0, rf__max_depth=None, rf__n_estimators=50; total time= 3.3min\n",
      "[CV] END dt__max_depth=10, et__max_depth=10, et__n_estimators=100, final_estimator__C=0.01, rf__max_depth=20, rf__n_estimators=200; total time= 2.5min\n",
      "[CV] END dt__max_depth=10, et__max_depth=20, et__n_estimators=200, final_estimator__C=1.0, rf__max_depth=10, rf__n_estimators=100; total time= 2.1min\n"
     ]
    },
    {
     "name": "stderr",
     "output_type": "stream",
     "text": [
      "/Users/benzenesea/mambaforge/envs/logofunc3/lib/python3.9/site-packages/sklearn/linear_model/_sag.py:350: ConvergenceWarning: The max_iter was reached which means the coef_ did not converge\n",
      "  warnings.warn(\n"
     ]
    },
    {
     "name": "stdout",
     "output_type": "stream",
     "text": [
      "[CV] END dt__max_depth=None, et__max_depth=20, et__n_estimators=50, final_estimator__C=10.0, rf__max_depth=None, rf__n_estimators=50; total time= 4.8min\n",
      "[CV] END dt__max_depth=10, et__max_depth=20, et__n_estimators=200, final_estimator__C=1.0, rf__max_depth=10, rf__n_estimators=100; total time= 2.2min\n",
      "[CV] END dt__max_depth=10, et__max_depth=10, et__n_estimators=100, final_estimator__C=0.01, rf__max_depth=20, rf__n_estimators=200; total time= 2.4min\n"
     ]
    },
    {
     "name": "stderr",
     "output_type": "stream",
     "text": [
      "/Users/benzenesea/mambaforge/envs/logofunc3/lib/python3.9/site-packages/sklearn/linear_model/_sag.py:350: ConvergenceWarning: The max_iter was reached which means the coef_ did not converge\n",
      "  warnings.warn(\n"
     ]
    },
    {
     "name": "stdout",
     "output_type": "stream",
     "text": [
      "[CV] END dt__max_depth=20, et__max_depth=10, et__n_estimators=100, final_estimator__C=10.0, rf__max_depth=None, rf__n_estimators=200; total time= 4.1min\n"
     ]
    },
    {
     "name": "stderr",
     "output_type": "stream",
     "text": [
      "/Users/benzenesea/mambaforge/envs/logofunc3/lib/python3.9/site-packages/sklearn/linear_model/_sag.py:350: ConvergenceWarning: The max_iter was reached which means the coef_ did not converge\n",
      "  warnings.warn(\n"
     ]
    },
    {
     "name": "stdout",
     "output_type": "stream",
     "text": [
      "[CV] END dt__max_depth=20, et__max_depth=10, et__n_estimators=100, final_estimator__C=10.0, rf__max_depth=None, rf__n_estimators=200; total time= 4.0min\n",
      "[CV] END dt__max_depth=10, et__max_depth=10, et__n_estimators=100, final_estimator__C=0.01, rf__max_depth=20, rf__n_estimators=200; total time= 2.9min\n",
      "[CV] END dt__max_depth=10, et__max_depth=20, et__n_estimators=200, final_estimator__C=1.0, rf__max_depth=10, rf__n_estimators=100; total time= 2.7min\n"
     ]
    },
    {
     "name": "stderr",
     "output_type": "stream",
     "text": [
      "/Users/benzenesea/mambaforge/envs/logofunc3/lib/python3.9/site-packages/sklearn/linear_model/_sag.py:350: ConvergenceWarning: The max_iter was reached which means the coef_ did not converge\n",
      "  warnings.warn(\n"
     ]
    },
    {
     "name": "stdout",
     "output_type": "stream",
     "text": [
      "[CV] END dt__max_depth=None, et__max_depth=None, et__n_estimators=100, final_estimator__C=100.0, rf__max_depth=None, rf__n_estimators=50; total time= 3.8min\n",
      "[CV] END dt__max_depth=None, et__max_depth=None, et__n_estimators=100, final_estimator__C=100.0, rf__max_depth=None, rf__n_estimators=50; total time= 4.1min\n",
      "[CV] END dt__max_depth=20, et__max_depth=10, et__n_estimators=50, final_estimator__C=100.0, rf__max_depth=10, rf__n_estimators=100; total time= 2.6min\n",
      "[CV] END dt__max_depth=20, et__max_depth=10, et__n_estimators=50, final_estimator__C=100.0, rf__max_depth=10, rf__n_estimators=100; total time= 2.7min\n"
     ]
    },
    {
     "name": "stderr",
     "output_type": "stream",
     "text": [
      "/Users/benzenesea/mambaforge/envs/logofunc3/lib/python3.9/site-packages/sklearn/linear_model/_sag.py:350: ConvergenceWarning: The max_iter was reached which means the coef_ did not converge\n",
      "  warnings.warn(\n"
     ]
    },
    {
     "name": "stdout",
     "output_type": "stream",
     "text": [
      "[CV] END dt__max_depth=None, et__max_depth=None, et__n_estimators=100, final_estimator__C=100.0, rf__max_depth=None, rf__n_estimators=50; total time= 4.3min\n",
      "[CV] END dt__max_depth=20, et__max_depth=10, et__n_estimators=50, final_estimator__C=100.0, rf__max_depth=10, rf__n_estimators=100; total time= 2.7min\n",
      "[CV] END dt__max_depth=None, et__max_depth=10, et__n_estimators=200, final_estimator__C=0.01, rf__max_depth=20, rf__n_estimators=200; total time= 3.7min\n",
      "[CV] END dt__max_depth=None, et__max_depth=10, et__n_estimators=200, final_estimator__C=100.0, rf__max_depth=10, rf__n_estimators=200; total time= 4.0min\n",
      "[CV] END dt__max_depth=None, et__max_depth=10, et__n_estimators=200, final_estimator__C=0.01, rf__max_depth=20, rf__n_estimators=200; total time= 4.5min\n",
      "[CV] END dt__max_depth=None, et__max_depth=10, et__n_estimators=200, final_estimator__C=0.01, rf__max_depth=20, rf__n_estimators=200; total time= 4.4min\n",
      "[CV] END dt__max_depth=None, et__max_depth=10, et__n_estimators=200, final_estimator__C=100.0, rf__max_depth=10, rf__n_estimators=200; total time= 4.1min\n",
      "[CV] END dt__max_depth=None, et__max_depth=10, et__n_estimators=200, final_estimator__C=100.0, rf__max_depth=10, rf__n_estimators=200; total time= 3.9min\n"
     ]
    },
    {
     "name": "stderr",
     "output_type": "stream",
     "text": [
      "/Users/benzenesea/mambaforge/envs/logofunc3/lib/python3.9/site-packages/joblib/externals/loky/process_executor.py:752: UserWarning: A worker stopped while some jobs were given to the executor. This can be caused by a too short worker timeout or by a memory leak.\n",
      "  warnings.warn(\n"
     ]
    },
    {
     "name": "stdout",
     "output_type": "stream",
     "text": [
      "[CV] END dt__max_depth=10, et__max_depth=10, et__n_estimators=100, final_estimator__C=10.0, rf__max_depth=None, rf__n_estimators=200; total time= 2.1min\n",
      "[CV] END dt__max_depth=10, et__max_depth=10, et__n_estimators=100, final_estimator__C=10.0, rf__max_depth=None, rf__n_estimators=200; total time= 2.3min\n"
     ]
    },
    {
     "name": "stderr",
     "output_type": "stream",
     "text": [
      "/Users/benzenesea/mambaforge/envs/logofunc3/lib/python3.9/site-packages/sklearn/linear_model/_sag.py:350: ConvergenceWarning: The max_iter was reached which means the coef_ did not converge\n",
      "  warnings.warn(\n"
     ]
    },
    {
     "name": "stdout",
     "output_type": "stream",
     "text": [
      "[CV] END dt__max_depth=None, et__max_depth=10, et__n_estimators=100, final_estimator__C=10.0, rf__max_depth=10, rf__n_estimators=50; total time= 2.7min\n"
     ]
    },
    {
     "name": "stderr",
     "output_type": "stream",
     "text": [
      "/Users/benzenesea/mambaforge/envs/logofunc3/lib/python3.9/site-packages/sklearn/linear_model/_sag.py:350: ConvergenceWarning: The max_iter was reached which means the coef_ did not converge\n",
      "  warnings.warn(\n"
     ]
    },
    {
     "name": "stdout",
     "output_type": "stream",
     "text": [
      "[CV] END dt__max_depth=10, et__max_depth=10, et__n_estimators=100, final_estimator__C=10.0, rf__max_depth=None, rf__n_estimators=200; total time= 2.3min\n"
     ]
    },
    {
     "name": "stderr",
     "output_type": "stream",
     "text": [
      "/Users/benzenesea/mambaforge/envs/logofunc3/lib/python3.9/site-packages/sklearn/linear_model/_sag.py:350: ConvergenceWarning: The max_iter was reached which means the coef_ did not converge\n",
      "  warnings.warn(\n"
     ]
    },
    {
     "name": "stdout",
     "output_type": "stream",
     "text": [
      "[CV] END dt__max_depth=20, et__max_depth=20, et__n_estimators=50, final_estimator__C=100.0, rf__max_depth=20, rf__n_estimators=50; total time= 2.2min\n"
     ]
    },
    {
     "name": "stderr",
     "output_type": "stream",
     "text": [
      "/Users/benzenesea/mambaforge/envs/logofunc3/lib/python3.9/site-packages/sklearn/linear_model/_sag.py:350: ConvergenceWarning: The max_iter was reached which means the coef_ did not converge\n",
      "  warnings.warn(\n"
     ]
    },
    {
     "name": "stdout",
     "output_type": "stream",
     "text": [
      "[CV] END dt__max_depth=None, et__max_depth=10, et__n_estimators=100, final_estimator__C=10.0, rf__max_depth=10, rf__n_estimators=50; total time= 3.2min\n"
     ]
    },
    {
     "name": "stderr",
     "output_type": "stream",
     "text": [
      "/Users/benzenesea/mambaforge/envs/logofunc3/lib/python3.9/site-packages/sklearn/linear_model/_sag.py:350: ConvergenceWarning: The max_iter was reached which means the coef_ did not converge\n",
      "  warnings.warn(\n"
     ]
    },
    {
     "name": "stdout",
     "output_type": "stream",
     "text": [
      "[CV] END dt__max_depth=None, et__max_depth=10, et__n_estimators=100, final_estimator__C=10.0, rf__max_depth=10, rf__n_estimators=50; total time= 3.1min\n"
     ]
    },
    {
     "name": "stderr",
     "output_type": "stream",
     "text": [
      "/Users/benzenesea/mambaforge/envs/logofunc3/lib/python3.9/site-packages/sklearn/linear_model/_sag.py:350: ConvergenceWarning: The max_iter was reached which means the coef_ did not converge\n",
      "  warnings.warn(\n"
     ]
    },
    {
     "name": "stdout",
     "output_type": "stream",
     "text": [
      "[CV] END dt__max_depth=20, et__max_depth=20, et__n_estimators=50, final_estimator__C=100.0, rf__max_depth=20, rf__n_estimators=50; total time= 2.2min\n"
     ]
    },
    {
     "name": "stderr",
     "output_type": "stream",
     "text": [
      "/Users/benzenesea/mambaforge/envs/logofunc3/lib/python3.9/site-packages/sklearn/linear_model/_sag.py:350: ConvergenceWarning: The max_iter was reached which means the coef_ did not converge\n",
      "  warnings.warn(\n"
     ]
    },
    {
     "name": "stdout",
     "output_type": "stream",
     "text": [
      "[CV] END dt__max_depth=20, et__max_depth=20, et__n_estimators=50, final_estimator__C=100.0, rf__max_depth=20, rf__n_estimators=50; total time= 2.4min\n"
     ]
    },
    {
     "name": "stderr",
     "output_type": "stream",
     "text": [
      "/Users/benzenesea/mambaforge/envs/logofunc3/lib/python3.9/site-packages/sklearn/linear_model/_sag.py:350: ConvergenceWarning: The max_iter was reached which means the coef_ did not converge\n",
      "  warnings.warn(\n"
     ]
    },
    {
     "name": "stdout",
     "output_type": "stream",
     "text": [
      "[CV] END dt__max_depth=10, et__max_depth=None, et__n_estimators=50, final_estimator__C=10.0, rf__max_depth=20, rf__n_estimators=50; total time= 1.7min\n",
      "[CV] END dt__max_depth=20, et__max_depth=10, et__n_estimators=50, final_estimator__C=0.1, rf__max_depth=20, rf__n_estimators=200; total time= 2.6min\n"
     ]
    },
    {
     "name": "stderr",
     "output_type": "stream",
     "text": [
      "/Users/benzenesea/mambaforge/envs/logofunc3/lib/python3.9/site-packages/sklearn/linear_model/_sag.py:350: ConvergenceWarning: The max_iter was reached which means the coef_ did not converge\n",
      "  warnings.warn(\n"
     ]
    },
    {
     "name": "stdout",
     "output_type": "stream",
     "text": [
      "[CV] END dt__max_depth=10, et__max_depth=None, et__n_estimators=50, final_estimator__C=10.0, rf__max_depth=20, rf__n_estimators=50; total time= 1.3min\n"
     ]
    },
    {
     "name": "stderr",
     "output_type": "stream",
     "text": [
      "/Users/benzenesea/mambaforge/envs/logofunc3/lib/python3.9/site-packages/sklearn/linear_model/_sag.py:350: ConvergenceWarning: The max_iter was reached which means the coef_ did not converge\n",
      "  warnings.warn(\n"
     ]
    },
    {
     "name": "stdout",
     "output_type": "stream",
     "text": [
      "[CV] END dt__max_depth=10, et__max_depth=None, et__n_estimators=50, final_estimator__C=10.0, rf__max_depth=20, rf__n_estimators=50; total time= 1.8min\n",
      "[CV] END dt__max_depth=20, et__max_depth=20, et__n_estimators=200, final_estimator__C=1.0, rf__max_depth=10, rf__n_estimators=100; total time= 2.6min\n",
      "[CV] END dt__max_depth=20, et__max_depth=10, et__n_estimators=50, final_estimator__C=0.1, rf__max_depth=20, rf__n_estimators=200; total time= 3.1min\n",
      "[CV] END dt__max_depth=20, et__max_depth=20, et__n_estimators=200, final_estimator__C=1.0, rf__max_depth=10, rf__n_estimators=100; total time= 2.7min\n",
      "[CV] END dt__max_depth=20, et__max_depth=10, et__n_estimators=50, final_estimator__C=0.1, rf__max_depth=20, rf__n_estimators=200; total time= 3.3min\n",
      "[CV] END dt__max_depth=20, et__max_depth=20, et__n_estimators=200, final_estimator__C=1.0, rf__max_depth=10, rf__n_estimators=100; total time= 2.9min\n"
     ]
    },
    {
     "name": "stderr",
     "output_type": "stream",
     "text": [
      "/Users/benzenesea/mambaforge/envs/logofunc3/lib/python3.9/site-packages/sklearn/linear_model/_sag.py:350: ConvergenceWarning: The max_iter was reached which means the coef_ did not converge\n",
      "  warnings.warn(\n"
     ]
    },
    {
     "name": "stdout",
     "output_type": "stream",
     "text": [
      "[CV] END dt__max_depth=20, et__max_depth=20, et__n_estimators=200, final_estimator__C=100.0, rf__max_depth=20, rf__n_estimators=200; total time= 3.7min\n",
      "[CV] END dt__max_depth=20, et__max_depth=20, et__n_estimators=200, final_estimator__C=100.0, rf__max_depth=20, rf__n_estimators=200; total time= 3.7min\n"
     ]
    },
    {
     "name": "stderr",
     "output_type": "stream",
     "text": [
      "/Users/benzenesea/mambaforge/envs/logofunc3/lib/python3.9/site-packages/sklearn/linear_model/_sag.py:350: ConvergenceWarning: The max_iter was reached which means the coef_ did not converge\n",
      "  warnings.warn(\n"
     ]
    },
    {
     "name": "stdout",
     "output_type": "stream",
     "text": [
      "[CV] END dt__max_depth=20, et__max_depth=20, et__n_estimators=200, final_estimator__C=100.0, rf__max_depth=20, rf__n_estimators=200; total time= 3.8min\n"
     ]
    },
    {
     "name": "stderr",
     "output_type": "stream",
     "text": [
      "/Users/benzenesea/mambaforge/envs/logofunc3/lib/python3.9/site-packages/sklearn/linear_model/_sag.py:350: ConvergenceWarning: The max_iter was reached which means the coef_ did not converge\n",
      "  warnings.warn(\n"
     ]
    },
    {
     "name": "stdout",
     "output_type": "stream",
     "text": [
      "[CV] END dt__max_depth=20, et__max_depth=None, et__n_estimators=50, final_estimator__C=10.0, rf__max_depth=20, rf__n_estimators=100; total time= 2.9min\n"
     ]
    },
    {
     "name": "stderr",
     "output_type": "stream",
     "text": [
      "/Users/benzenesea/mambaforge/envs/logofunc3/lib/python3.9/site-packages/sklearn/linear_model/_sag.py:350: ConvergenceWarning: The max_iter was reached which means the coef_ did not converge\n",
      "  warnings.warn(\n"
     ]
    },
    {
     "name": "stdout",
     "output_type": "stream",
     "text": [
      "[CV] END dt__max_depth=None, et__max_depth=20, et__n_estimators=100, final_estimator__C=10.0, rf__max_depth=20, rf__n_estimators=200; total time= 3.9min\n"
     ]
    },
    {
     "name": "stderr",
     "output_type": "stream",
     "text": [
      "/Users/benzenesea/mambaforge/envs/logofunc3/lib/python3.9/site-packages/sklearn/linear_model/_sag.py:350: ConvergenceWarning: The max_iter was reached which means the coef_ did not converge\n",
      "  warnings.warn(\n"
     ]
    },
    {
     "name": "stdout",
     "output_type": "stream",
     "text": [
      "[CV] END dt__max_depth=20, et__max_depth=None, et__n_estimators=50, final_estimator__C=10.0, rf__max_depth=20, rf__n_estimators=100; total time= 3.0min\n"
     ]
    },
    {
     "name": "stderr",
     "output_type": "stream",
     "text": [
      "/Users/benzenesea/mambaforge/envs/logofunc3/lib/python3.9/site-packages/sklearn/linear_model/_sag.py:350: ConvergenceWarning: The max_iter was reached which means the coef_ did not converge\n",
      "  warnings.warn(\n"
     ]
    },
    {
     "name": "stdout",
     "output_type": "stream",
     "text": [
      "[CV] END dt__max_depth=20, et__max_depth=None, et__n_estimators=50, final_estimator__C=10.0, rf__max_depth=20, rf__n_estimators=100; total time= 3.0min\n"
     ]
    },
    {
     "name": "stderr",
     "output_type": "stream",
     "text": [
      "/Users/benzenesea/mambaforge/envs/logofunc3/lib/python3.9/site-packages/sklearn/linear_model/_sag.py:350: ConvergenceWarning: The max_iter was reached which means the coef_ did not converge\n",
      "  warnings.warn(\n"
     ]
    },
    {
     "name": "stdout",
     "output_type": "stream",
     "text": [
      "[CV] END dt__max_depth=None, et__max_depth=20, et__n_estimators=100, final_estimator__C=10.0, rf__max_depth=20, rf__n_estimators=200; total time= 4.2min\n"
     ]
    },
    {
     "name": "stderr",
     "output_type": "stream",
     "text": [
      "/Users/benzenesea/mambaforge/envs/logofunc3/lib/python3.9/site-packages/sklearn/linear_model/_sag.py:350: ConvergenceWarning: The max_iter was reached which means the coef_ did not converge\n",
      "  warnings.warn(\n"
     ]
    },
    {
     "name": "stdout",
     "output_type": "stream",
     "text": [
      "[CV] END dt__max_depth=None, et__max_depth=None, et__n_estimators=50, final_estimator__C=100.0, rf__max_depth=20, rf__n_estimators=200; total time= 4.0min\n"
     ]
    },
    {
     "name": "stderr",
     "output_type": "stream",
     "text": [
      "/Users/benzenesea/mambaforge/envs/logofunc3/lib/python3.9/site-packages/sklearn/linear_model/_sag.py:350: ConvergenceWarning: The max_iter was reached which means the coef_ did not converge\n",
      "  warnings.warn(\n"
     ]
    },
    {
     "name": "stdout",
     "output_type": "stream",
     "text": [
      "[CV] END dt__max_depth=None, et__max_depth=20, et__n_estimators=100, final_estimator__C=10.0, rf__max_depth=20, rf__n_estimators=200; total time= 4.5min\n"
     ]
    },
    {
     "name": "stderr",
     "output_type": "stream",
     "text": [
      "/Users/benzenesea/mambaforge/envs/logofunc3/lib/python3.9/site-packages/sklearn/linear_model/_sag.py:350: ConvergenceWarning: The max_iter was reached which means the coef_ did not converge\n",
      "  warnings.warn(\n"
     ]
    },
    {
     "name": "stdout",
     "output_type": "stream",
     "text": [
      "[CV] END dt__max_depth=None, et__max_depth=None, et__n_estimators=50, final_estimator__C=100.0, rf__max_depth=20, rf__n_estimators=200; total time= 4.3min\n"
     ]
    },
    {
     "name": "stderr",
     "output_type": "stream",
     "text": [
      "/Users/benzenesea/mambaforge/envs/logofunc3/lib/python3.9/site-packages/sklearn/linear_model/_sag.py:350: ConvergenceWarning: The max_iter was reached which means the coef_ did not converge\n",
      "  warnings.warn(\n"
     ]
    },
    {
     "name": "stdout",
     "output_type": "stream",
     "text": [
      "[CV] END dt__max_depth=None, et__max_depth=None, et__n_estimators=50, final_estimator__C=100.0, rf__max_depth=20, rf__n_estimators=200; total time= 4.2min\n"
     ]
    },
    {
     "name": "stderr",
     "output_type": "stream",
     "text": [
      "/Users/benzenesea/mambaforge/envs/logofunc3/lib/python3.9/site-packages/sklearn/linear_model/_sag.py:350: ConvergenceWarning: The max_iter was reached which means the coef_ did not converge\n",
      "  warnings.warn(\n"
     ]
    },
    {
     "name": "stdout",
     "output_type": "stream",
     "text": [
      "[CV] END dt__max_depth=20, et__max_depth=10, et__n_estimators=200, final_estimator__C=10.0, rf__max_depth=20, rf__n_estimators=100; total time= 2.1min\n",
      "[CV] END dt__max_depth=10, et__max_depth=10, et__n_estimators=200, final_estimator__C=0.1, rf__max_depth=10, rf__n_estimators=100; total time= 1.4min\n"
     ]
    },
    {
     "name": "stderr",
     "output_type": "stream",
     "text": [
      "/Users/benzenesea/mambaforge/envs/logofunc3/lib/python3.9/site-packages/sklearn/linear_model/_sag.py:350: ConvergenceWarning: The max_iter was reached which means the coef_ did not converge\n",
      "  warnings.warn(\n"
     ]
    },
    {
     "name": "stdout",
     "output_type": "stream",
     "text": [
      "[CV] END dt__max_depth=20, et__max_depth=10, et__n_estimators=200, final_estimator__C=10.0, rf__max_depth=20, rf__n_estimators=100; total time= 2.4min\n"
     ]
    },
    {
     "name": "stderr",
     "output_type": "stream",
     "text": [
      "/Users/benzenesea/mambaforge/envs/logofunc3/lib/python3.9/site-packages/sklearn/linear_model/_sag.py:350: ConvergenceWarning: The max_iter was reached which means the coef_ did not converge\n",
      "  warnings.warn(\n"
     ]
    },
    {
     "name": "stdout",
     "output_type": "stream",
     "text": [
      "[CV] END dt__max_depth=20, et__max_depth=10, et__n_estimators=200, final_estimator__C=10.0, rf__max_depth=20, rf__n_estimators=100; total time= 2.3min\n",
      "[CV] END dt__max_depth=10, et__max_depth=10, et__n_estimators=200, final_estimator__C=0.1, rf__max_depth=10, rf__n_estimators=100; total time= 1.6min\n",
      "[CV] END dt__max_depth=10, et__max_depth=20, et__n_estimators=50, final_estimator__C=0.01, rf__max_depth=None, rf__n_estimators=100; total time= 1.4min\n",
      "[CV] END dt__max_depth=10, et__max_depth=10, et__n_estimators=200, final_estimator__C=0.1, rf__max_depth=10, rf__n_estimators=100; total time= 1.6min\n",
      "[CV] END dt__max_depth=10, et__max_depth=20, et__n_estimators=50, final_estimator__C=0.01, rf__max_depth=None, rf__n_estimators=100; total time= 1.3min\n",
      "[CV] END dt__max_depth=10, et__max_depth=20, et__n_estimators=50, final_estimator__C=0.01, rf__max_depth=None, rf__n_estimators=100; total time= 1.6min\n"
     ]
    },
    {
     "name": "stderr",
     "output_type": "stream",
     "text": [
      "/Users/benzenesea/mambaforge/envs/logofunc3/lib/python3.9/site-packages/sklearn/linear_model/_sag.py:350: ConvergenceWarning: The max_iter was reached which means the coef_ did not converge\n",
      "  warnings.warn(\n"
     ]
    },
    {
     "name": "stdout",
     "output_type": "stream",
     "text": [
      "[CV] END dt__max_depth=None, et__max_depth=20, et__n_estimators=100, final_estimator__C=10.0, rf__max_depth=None, rf__n_estimators=50; total time= 2.7min\n"
     ]
    },
    {
     "name": "stderr",
     "output_type": "stream",
     "text": [
      "/Users/benzenesea/mambaforge/envs/logofunc3/lib/python3.9/site-packages/sklearn/linear_model/_sag.py:350: ConvergenceWarning: The max_iter was reached which means the coef_ did not converge\n",
      "  warnings.warn(\n"
     ]
    },
    {
     "name": "stdout",
     "output_type": "stream",
     "text": [
      "[CV] END dt__max_depth=None, et__max_depth=20, et__n_estimators=100, final_estimator__C=10.0, rf__max_depth=None, rf__n_estimators=50; total time= 3.1min\n"
     ]
    },
    {
     "name": "stderr",
     "output_type": "stream",
     "text": [
      "/Users/benzenesea/mambaforge/envs/logofunc3/lib/python3.9/site-packages/sklearn/linear_model/_sag.py:350: ConvergenceWarning: The max_iter was reached which means the coef_ did not converge\n",
      "  warnings.warn(\n"
     ]
    },
    {
     "name": "stdout",
     "output_type": "stream",
     "text": [
      "[CV] END dt__max_depth=None, et__max_depth=20, et__n_estimators=100, final_estimator__C=10.0, rf__max_depth=None, rf__n_estimators=50; total time= 3.3min\n"
     ]
    },
    {
     "name": "stderr",
     "output_type": "stream",
     "text": [
      "/Users/benzenesea/mambaforge/envs/logofunc3/lib/python3.9/site-packages/sklearn/linear_model/_sag.py:350: ConvergenceWarning: The max_iter was reached which means the coef_ did not converge\n",
      "  warnings.warn(\n"
     ]
    },
    {
     "name": "stdout",
     "output_type": "stream",
     "text": [
      "[CV] END dt__max_depth=None, et__max_depth=10, et__n_estimators=100, final_estimator__C=10.0, rf__max_depth=None, rf__n_estimators=200; total time= 3.7min\n"
     ]
    },
    {
     "name": "stderr",
     "output_type": "stream",
     "text": [
      "/Users/benzenesea/mambaforge/envs/logofunc3/lib/python3.9/site-packages/sklearn/linear_model/_sag.py:350: ConvergenceWarning: The max_iter was reached which means the coef_ did not converge\n",
      "  warnings.warn(\n"
     ]
    },
    {
     "name": "stdout",
     "output_type": "stream",
     "text": [
      "[CV] END dt__max_depth=10, et__max_depth=None, et__n_estimators=100, final_estimator__C=10.0, rf__max_depth=None, rf__n_estimators=200; total time= 2.6min\n"
     ]
    },
    {
     "name": "stderr",
     "output_type": "stream",
     "text": [
      "/Users/benzenesea/mambaforge/envs/logofunc3/lib/python3.9/site-packages/sklearn/linear_model/_sag.py:350: ConvergenceWarning: The max_iter was reached which means the coef_ did not converge\n",
      "  warnings.warn(\n"
     ]
    },
    {
     "name": "stdout",
     "output_type": "stream",
     "text": [
      "[CV] END dt__max_depth=10, et__max_depth=None, et__n_estimators=100, final_estimator__C=10.0, rf__max_depth=None, rf__n_estimators=200; total time= 2.6min\n"
     ]
    },
    {
     "name": "stderr",
     "output_type": "stream",
     "text": [
      "/Users/benzenesea/mambaforge/envs/logofunc3/lib/python3.9/site-packages/sklearn/linear_model/_sag.py:350: ConvergenceWarning: The max_iter was reached which means the coef_ did not converge\n",
      "  warnings.warn(\n"
     ]
    },
    {
     "name": "stdout",
     "output_type": "stream",
     "text": [
      "[CV] END dt__max_depth=10, et__max_depth=None, et__n_estimators=100, final_estimator__C=10.0, rf__max_depth=None, rf__n_estimators=200; total time= 2.6min\n"
     ]
    },
    {
     "name": "stderr",
     "output_type": "stream",
     "text": [
      "/Users/benzenesea/mambaforge/envs/logofunc3/lib/python3.9/site-packages/sklearn/linear_model/_sag.py:350: ConvergenceWarning: The max_iter was reached which means the coef_ did not converge\n",
      "  warnings.warn(\n"
     ]
    },
    {
     "name": "stdout",
     "output_type": "stream",
     "text": [
      "[CV] END dt__max_depth=None, et__max_depth=None, et__n_estimators=100, final_estimator__C=10.0, rf__max_depth=10, rf__n_estimators=100; total time= 2.7min\n",
      "[CV] END dt__max_depth=20, et__max_depth=None, et__n_estimators=100, final_estimator__C=0.1, rf__max_depth=None, rf__n_estimators=50; total time= 2.5min\n",
      "[CV] END dt__max_depth=None, et__max_depth=None, et__n_estimators=100, final_estimator__C=10.0, rf__max_depth=10, rf__n_estimators=100; total time= 3.1min\n",
      "[CV] END dt__max_depth=20, et__max_depth=None, et__n_estimators=100, final_estimator__C=0.1, rf__max_depth=None, rf__n_estimators=50; total time= 2.4min\n",
      "[CV] END dt__max_depth=20, et__max_depth=None, et__n_estimators=100, final_estimator__C=0.1, rf__max_depth=None, rf__n_estimators=50; total time= 2.2min\n"
     ]
    },
    {
     "name": "stderr",
     "output_type": "stream",
     "text": [
      "/Users/benzenesea/mambaforge/envs/logofunc3/lib/python3.9/site-packages/sklearn/linear_model/_sag.py:350: ConvergenceWarning: The max_iter was reached which means the coef_ did not converge\n",
      "  warnings.warn(\n"
     ]
    },
    {
     "name": "stdout",
     "output_type": "stream",
     "text": [
      "[CV] END dt__max_depth=None, et__max_depth=10, et__n_estimators=100, final_estimator__C=10.0, rf__max_depth=None, rf__n_estimators=200; total time= 4.2min\n",
      "[CV] END dt__max_depth=None, et__max_depth=None, et__n_estimators=100, final_estimator__C=10.0, rf__max_depth=10, rf__n_estimators=100; total time= 3.8min\n"
     ]
    },
    {
     "name": "stderr",
     "output_type": "stream",
     "text": [
      "/Users/benzenesea/mambaforge/envs/logofunc3/lib/python3.9/site-packages/sklearn/linear_model/_sag.py:350: ConvergenceWarning: The max_iter was reached which means the coef_ did not converge\n",
      "  warnings.warn(\n"
     ]
    },
    {
     "name": "stdout",
     "output_type": "stream",
     "text": [
      "[CV] END dt__max_depth=None, et__max_depth=10, et__n_estimators=100, final_estimator__C=10.0, rf__max_depth=None, rf__n_estimators=200; total time= 4.4min\n",
      "[CV] END dt__max_depth=10, et__max_depth=None, et__n_estimators=200, final_estimator__C=100.0, rf__max_depth=None, rf__n_estimators=100; total time= 1.9min\n",
      "[CV] END dt__max_depth=10, et__max_depth=None, et__n_estimators=200, final_estimator__C=100.0, rf__max_depth=None, rf__n_estimators=100; total time= 2.1min\n",
      "[CV] END dt__max_depth=10, et__max_depth=None, et__n_estimators=200, final_estimator__C=100.0, rf__max_depth=None, rf__n_estimators=100; total time= 2.8min\n",
      "[CV] END dt__max_depth=20, et__max_depth=None, et__n_estimators=100, final_estimator__C=1.0, rf__max_depth=None, rf__n_estimators=100; total time= 2.9min\n",
      "[CV] END dt__max_depth=10, et__max_depth=10, et__n_estimators=50, final_estimator__C=0.01, rf__max_depth=None, rf__n_estimators=200; total time= 2.8min\n",
      "[CV] END dt__max_depth=10, et__max_depth=10, et__n_estimators=50, final_estimator__C=0.01, rf__max_depth=None, rf__n_estimators=200; total time= 3.3min\n",
      "[CV] END dt__max_depth=10, et__max_depth=10, et__n_estimators=50, final_estimator__C=0.01, rf__max_depth=None, rf__n_estimators=200; total time= 3.5min\n",
      "[CV] END dt__max_depth=20, et__max_depth=None, et__n_estimators=100, final_estimator__C=1.0, rf__max_depth=None, rf__n_estimators=100; total time= 4.0min\n",
      "[CV] END dt__max_depth=20, et__max_depth=None, et__n_estimators=100, final_estimator__C=1.0, rf__max_depth=None, rf__n_estimators=100; total time= 4.0min\n",
      "[CV] END dt__max_depth=10, et__max_depth=20, et__n_estimators=200, final_estimator__C=1.0, rf__max_depth=None, rf__n_estimators=200; total time= 3.3min\n",
      "[CV] END dt__max_depth=10, et__max_depth=20, et__n_estimators=200, final_estimator__C=1.0, rf__max_depth=None, rf__n_estimators=200; total time= 3.2min\n",
      "[CV] END dt__max_depth=10, et__max_depth=20, et__n_estimators=200, final_estimator__C=1.0, rf__max_depth=None, rf__n_estimators=200; total time= 2.6min\n",
      "[CV] END dt__max_depth=None, et__max_depth=None, et__n_estimators=200, final_estimator__C=0.1, rf__max_depth=20, rf__n_estimators=200; total time= 4.6min\n",
      "[CV] END dt__max_depth=10, et__max_depth=None, et__n_estimators=50, final_estimator__C=1.0, rf__max_depth=None, rf__n_estimators=100; total time= 1.4min\n"
     ]
    },
    {
     "name": "stderr",
     "output_type": "stream",
     "text": [
      "/Users/benzenesea/mambaforge/envs/logofunc3/lib/python3.9/site-packages/sklearn/linear_model/_sag.py:350: ConvergenceWarning: The max_iter was reached which means the coef_ did not converge\n",
      "  warnings.warn(\n"
     ]
    },
    {
     "name": "stdout",
     "output_type": "stream",
     "text": [
      "[CV] END dt__max_depth=20, et__max_depth=20, et__n_estimators=200, final_estimator__C=100.0, rf__max_depth=None, rf__n_estimators=50; total time= 2.8min\n"
     ]
    },
    {
     "name": "stderr",
     "output_type": "stream",
     "text": [
      "/Users/benzenesea/mambaforge/envs/logofunc3/lib/python3.9/site-packages/sklearn/linear_model/_sag.py:350: ConvergenceWarning: The max_iter was reached which means the coef_ did not converge\n",
      "  warnings.warn(\n"
     ]
    },
    {
     "name": "stdout",
     "output_type": "stream",
     "text": [
      "[CV] END dt__max_depth=20, et__max_depth=20, et__n_estimators=200, final_estimator__C=100.0, rf__max_depth=None, rf__n_estimators=50; total time= 2.4min\n",
      "[CV] END dt__max_depth=10, et__max_depth=None, et__n_estimators=50, final_estimator__C=1.0, rf__max_depth=None, rf__n_estimators=100; total time= 1.3min\n",
      "[CV] END dt__max_depth=10, et__max_depth=None, et__n_estimators=50, final_estimator__C=1.0, rf__max_depth=None, rf__n_estimators=100; total time= 1.6min\n",
      "[CV] END dt__max_depth=None, et__max_depth=None, et__n_estimators=200, final_estimator__C=0.1, rf__max_depth=20, rf__n_estimators=200; total time= 4.5min\n",
      "[CV] END dt__max_depth=None, et__max_depth=None, et__n_estimators=200, final_estimator__C=0.1, rf__max_depth=20, rf__n_estimators=200; total time= 4.7min\n"
     ]
    },
    {
     "name": "stderr",
     "output_type": "stream",
     "text": [
      "/Users/benzenesea/mambaforge/envs/logofunc3/lib/python3.9/site-packages/sklearn/linear_model/_sag.py:350: ConvergenceWarning: The max_iter was reached which means the coef_ did not converge\n",
      "  warnings.warn(\n"
     ]
    },
    {
     "name": "stdout",
     "output_type": "stream",
     "text": [
      "[CV] END dt__max_depth=20, et__max_depth=20, et__n_estimators=200, final_estimator__C=100.0, rf__max_depth=None, rf__n_estimators=50; total time= 2.5min\n"
     ]
    },
    {
     "name": "stderr",
     "output_type": "stream",
     "text": [
      "/Users/benzenesea/mambaforge/envs/logofunc3/lib/python3.9/site-packages/sklearn/linear_model/_sag.py:350: ConvergenceWarning: The max_iter was reached which means the coef_ did not converge\n",
      "  warnings.warn(\n"
     ]
    },
    {
     "name": "stdout",
     "output_type": "stream",
     "text": [
      "[CV] END dt__max_depth=None, et__max_depth=None, et__n_estimators=100, final_estimator__C=10.0, rf__max_depth=20, rf__n_estimators=50; total time= 3.4min\n"
     ]
    },
    {
     "name": "stderr",
     "output_type": "stream",
     "text": [
      "/Users/benzenesea/mambaforge/envs/logofunc3/lib/python3.9/site-packages/sklearn/linear_model/_sag.py:350: ConvergenceWarning: The max_iter was reached which means the coef_ did not converge\n",
      "  warnings.warn(\n"
     ]
    },
    {
     "name": "stdout",
     "output_type": "stream",
     "text": [
      "[CV] END dt__max_depth=None, et__max_depth=None, et__n_estimators=100, final_estimator__C=10.0, rf__max_depth=20, rf__n_estimators=50; total time= 3.5min\n"
     ]
    },
    {
     "name": "stderr",
     "output_type": "stream",
     "text": [
      "/Users/benzenesea/mambaforge/envs/logofunc3/lib/python3.9/site-packages/sklearn/linear_model/_sag.py:350: ConvergenceWarning: The max_iter was reached which means the coef_ did not converge\n",
      "  warnings.warn(\n"
     ]
    },
    {
     "name": "stdout",
     "output_type": "stream",
     "text": [
      "[CV] END dt__max_depth=None, et__max_depth=None, et__n_estimators=100, final_estimator__C=10.0, rf__max_depth=20, rf__n_estimators=50; total time= 3.4min\n",
      "[CV] END dt__max_depth=20, et__max_depth=10, et__n_estimators=200, final_estimator__C=1.0, rf__max_depth=None, rf__n_estimators=200; total time= 3.4min\n",
      "[CV] END dt__max_depth=20, et__max_depth=10, et__n_estimators=200, final_estimator__C=1.0, rf__max_depth=None, rf__n_estimators=200; total time= 3.5min\n",
      "[CV] END dt__max_depth=20, et__max_depth=10, et__n_estimators=200, final_estimator__C=1.0, rf__max_depth=None, rf__n_estimators=200; total time= 3.5min\n"
     ]
    },
    {
     "name": "stderr",
     "output_type": "stream",
     "text": [
      "/Users/benzenesea/mambaforge/envs/logofunc3/lib/python3.9/site-packages/sklearn/linear_model/_sag.py:350: ConvergenceWarning: The max_iter was reached which means the coef_ did not converge\n",
      "  warnings.warn(\n"
     ]
    },
    {
     "name": "stdout",
     "output_type": "stream",
     "text": [
      "[CV] END dt__max_depth=None, et__max_depth=10, et__n_estimators=50, final_estimator__C=10.0, rf__max_depth=20, rf__n_estimators=200; total time= 3.4min\n",
      "[CV] END dt__max_depth=None, et__max_depth=20, et__n_estimators=50, final_estimator__C=1.0, rf__max_depth=20, rf__n_estimators=200; total time= 3.9min\n",
      "[CV] END dt__max_depth=None, et__max_depth=20, et__n_estimators=50, final_estimator__C=1.0, rf__max_depth=20, rf__n_estimators=200; total time= 4.5min\n",
      "[CV] END dt__max_depth=None, et__max_depth=20, et__n_estimators=50, final_estimator__C=1.0, rf__max_depth=20, rf__n_estimators=200; total time= 4.8min\n"
     ]
    },
    {
     "name": "stderr",
     "output_type": "stream",
     "text": [
      "/Users/benzenesea/mambaforge/envs/logofunc3/lib/python3.9/site-packages/sklearn/linear_model/_sag.py:350: ConvergenceWarning: The max_iter was reached which means the coef_ did not converge\n",
      "  warnings.warn(\n"
     ]
    },
    {
     "name": "stdout",
     "output_type": "stream",
     "text": [
      "[CV] END dt__max_depth=None, et__max_depth=10, et__n_estimators=50, final_estimator__C=10.0, rf__max_depth=20, rf__n_estimators=200; total time= 4.5min\n"
     ]
    },
    {
     "name": "stderr",
     "output_type": "stream",
     "text": [
      "/Users/benzenesea/mambaforge/envs/logofunc3/lib/python3.9/site-packages/sklearn/linear_model/_sag.py:350: ConvergenceWarning: The max_iter was reached which means the coef_ did not converge\n",
      "  warnings.warn(\n"
     ]
    },
    {
     "name": "stdout",
     "output_type": "stream",
     "text": [
      "[CV] END dt__max_depth=None, et__max_depth=10, et__n_estimators=50, final_estimator__C=10.0, rf__max_depth=20, rf__n_estimators=200; total time= 4.4min\n",
      "[CV] END dt__max_depth=None, et__max_depth=None, et__n_estimators=100, final_estimator__C=0.01, rf__max_depth=10, rf__n_estimators=100; total time= 2.8min\n",
      "[CV] END dt__max_depth=10, et__max_depth=None, et__n_estimators=200, final_estimator__C=100.0, rf__max_depth=10, rf__n_estimators=100; total time= 2.4min\n",
      "[CV] END dt__max_depth=20, et__max_depth=None, et__n_estimators=200, final_estimator__C=0.1, rf__max_depth=None, rf__n_estimators=100; total time= 2.9min\n",
      "[CV] END dt__max_depth=10, et__max_depth=None, et__n_estimators=200, final_estimator__C=100.0, rf__max_depth=10, rf__n_estimators=100; total time= 1.8min\n",
      "[CV] END dt__max_depth=10, et__max_depth=None, et__n_estimators=200, final_estimator__C=100.0, rf__max_depth=10, rf__n_estimators=100; total time= 2.7min\n",
      "[CV] END dt__max_depth=20, et__max_depth=None, et__n_estimators=200, final_estimator__C=0.1, rf__max_depth=None, rf__n_estimators=100; total time= 3.2min\n",
      "[CV] END dt__max_depth=20, et__max_depth=None, et__n_estimators=200, final_estimator__C=0.1, rf__max_depth=None, rf__n_estimators=100; total time= 3.5min\n",
      "[CV] END dt__max_depth=None, et__max_depth=None, et__n_estimators=100, final_estimator__C=0.01, rf__max_depth=10, rf__n_estimators=100; total time= 4.3min\n",
      "[CV] END dt__max_depth=None, et__max_depth=None, et__n_estimators=100, final_estimator__C=0.01, rf__max_depth=10, rf__n_estimators=100; total time= 4.3min\n",
      "[CV] END dt__max_depth=10, et__max_depth=10, et__n_estimators=100, final_estimator__C=0.1, rf__max_depth=None, rf__n_estimators=200; total time= 3.0min\n",
      "[CV] END dt__max_depth=10, et__max_depth=10, et__n_estimators=100, final_estimator__C=0.1, rf__max_depth=None, rf__n_estimators=200; total time= 3.0min\n",
      "[CV] END dt__max_depth=10, et__max_depth=10, et__n_estimators=50, final_estimator__C=10.0, rf__max_depth=20, rf__n_estimators=200; total time= 2.5min\n",
      "[CV] END dt__max_depth=10, et__max_depth=10, et__n_estimators=100, final_estimator__C=0.1, rf__max_depth=None, rf__n_estimators=200; total time= 3.2min\n",
      "[CV] END dt__max_depth=10, et__max_depth=10, et__n_estimators=50, final_estimator__C=10.0, rf__max_depth=20, rf__n_estimators=200; total time= 2.5min\n",
      "[CV] END dt__max_depth=10, et__max_depth=20, et__n_estimators=100, final_estimator__C=0.1, rf__max_depth=20, rf__n_estimators=50; total time= 2.7min\n",
      "[CV] END dt__max_depth=10, et__max_depth=20, et__n_estimators=100, final_estimator__C=0.1, rf__max_depth=20, rf__n_estimators=50; total time= 2.6min\n",
      "[CV] END dt__max_depth=10, et__max_depth=10, et__n_estimators=50, final_estimator__C=10.0, rf__max_depth=20, rf__n_estimators=200; total time= 3.3min\n",
      "[CV] END dt__max_depth=10, et__max_depth=20, et__n_estimators=100, final_estimator__C=0.1, rf__max_depth=20, rf__n_estimators=50; total time= 2.7min\n",
      "[CV] END dt__max_depth=10, et__max_depth=20, et__n_estimators=50, final_estimator__C=10.0, rf__max_depth=10, rf__n_estimators=200; total time= 1.7min\n",
      "[CV] END dt__max_depth=10, et__max_depth=20, et__n_estimators=50, final_estimator__C=10.0, rf__max_depth=10, rf__n_estimators=200; total time= 1.8min\n",
      "[CV] END dt__max_depth=20, et__max_depth=None, et__n_estimators=200, final_estimator__C=1.0, rf__max_depth=20, rf__n_estimators=100; total time= 3.5min\n",
      "[CV] END dt__max_depth=10, et__max_depth=10, et__n_estimators=100, final_estimator__C=10.0, rf__max_depth=10, rf__n_estimators=50; total time= 1.2min\n",
      "[CV] END dt__max_depth=10, et__max_depth=20, et__n_estimators=50, final_estimator__C=10.0, rf__max_depth=10, rf__n_estimators=200; total time= 2.3min\n",
      "[CV] END dt__max_depth=10, et__max_depth=10, et__n_estimators=100, final_estimator__C=10.0, rf__max_depth=10, rf__n_estimators=50; total time= 1.1min\n",
      "[CV] END dt__max_depth=20, et__max_depth=None, et__n_estimators=200, final_estimator__C=1.0, rf__max_depth=20, rf__n_estimators=100; total time= 3.2min\n",
      "[CV] END dt__max_depth=20, et__max_depth=None, et__n_estimators=200, final_estimator__C=1.0, rf__max_depth=20, rf__n_estimators=100; total time= 3.3min\n",
      "[CV] END dt__max_depth=10, et__max_depth=10, et__n_estimators=100, final_estimator__C=10.0, rf__max_depth=10, rf__n_estimators=50; total time= 1.3min\n"
     ]
    },
    {
     "name": "stderr",
     "output_type": "stream",
     "text": [
      "/Users/benzenesea/mambaforge/envs/logofunc3/lib/python3.9/site-packages/sklearn/linear_model/_sag.py:350: ConvergenceWarning: The max_iter was reached which means the coef_ did not converge\n",
      "  warnings.warn(\n"
     ]
    },
    {
     "name": "stdout",
     "output_type": "stream",
     "text": [
      "[CV] END dt__max_depth=10, et__max_depth=20, et__n_estimators=100, final_estimator__C=100.0, rf__max_depth=None, rf__n_estimators=50; total time= 1.3min\n",
      "[CV] END dt__max_depth=None, et__max_depth=20, et__n_estimators=50, final_estimator__C=100.0, rf__max_depth=10, rf__n_estimators=100; total time= 3.4min\n"
     ]
    },
    {
     "name": "stderr",
     "output_type": "stream",
     "text": [
      "/Users/benzenesea/mambaforge/envs/logofunc3/lib/python3.9/site-packages/sklearn/linear_model/_sag.py:350: ConvergenceWarning: The max_iter was reached which means the coef_ did not converge\n",
      "  warnings.warn(\n"
     ]
    },
    {
     "name": "stdout",
     "output_type": "stream",
     "text": [
      "[CV] END dt__max_depth=10, et__max_depth=20, et__n_estimators=100, final_estimator__C=100.0, rf__max_depth=None, rf__n_estimators=50; total time= 1.5min\n",
      "[CV] END dt__max_depth=None, et__max_depth=20, et__n_estimators=50, final_estimator__C=100.0, rf__max_depth=10, rf__n_estimators=100; total time= 3.7min\n"
     ]
    },
    {
     "name": "stderr",
     "output_type": "stream",
     "text": [
      "/Users/benzenesea/mambaforge/envs/logofunc3/lib/python3.9/site-packages/sklearn/linear_model/_sag.py:350: ConvergenceWarning: The max_iter was reached which means the coef_ did not converge\n",
      "  warnings.warn(\n"
     ]
    },
    {
     "name": "stdout",
     "output_type": "stream",
     "text": [
      "[CV] END dt__max_depth=10, et__max_depth=20, et__n_estimators=100, final_estimator__C=100.0, rf__max_depth=None, rf__n_estimators=50; total time= 2.0min\n",
      "[CV] END dt__max_depth=None, et__max_depth=None, et__n_estimators=100, final_estimator__C=1.0, rf__max_depth=20, rf__n_estimators=100; total time= 3.1min\n",
      "[CV] END dt__max_depth=None, et__max_depth=20, et__n_estimators=50, final_estimator__C=100.0, rf__max_depth=10, rf__n_estimators=100; total time= 3.6min\n",
      "[CV] END dt__max_depth=None, et__max_depth=None, et__n_estimators=100, final_estimator__C=1.0, rf__max_depth=20, rf__n_estimators=100; total time= 3.4min\n",
      "[CV] END dt__max_depth=None, et__max_depth=None, et__n_estimators=100, final_estimator__C=1.0, rf__max_depth=20, rf__n_estimators=100; total time= 3.9min\n",
      "[CV] END dt__max_depth=None, et__max_depth=None, et__n_estimators=50, final_estimator__C=1.0, rf__max_depth=10, rf__n_estimators=200; total time= 3.6min\n",
      "[CV] END dt__max_depth=None, et__max_depth=None, et__n_estimators=50, final_estimator__C=1.0, rf__max_depth=10, rf__n_estimators=200; total time= 3.5min\n",
      "[CV] END dt__max_depth=None, et__max_depth=None, et__n_estimators=200, final_estimator__C=1.0, rf__max_depth=None, rf__n_estimators=100; total time= 2.7min\n",
      "[CV] END dt__max_depth=20, et__max_depth=10, et__n_estimators=100, final_estimator__C=0.1, rf__max_depth=10, rf__n_estimators=200; total time= 2.1min\n",
      "[CV] END dt__max_depth=None, et__max_depth=None, et__n_estimators=50, final_estimator__C=1.0, rf__max_depth=10, rf__n_estimators=200; total time= 4.0min\n",
      "[CV] END dt__max_depth=20, et__max_depth=10, et__n_estimators=100, final_estimator__C=0.1, rf__max_depth=10, rf__n_estimators=200; total time= 2.8min\n",
      "[CV] END dt__max_depth=20, et__max_depth=10, et__n_estimators=100, final_estimator__C=0.1, rf__max_depth=10, rf__n_estimators=200; total time= 2.8min\n",
      "[CV] END dt__max_depth=None, et__max_depth=None, et__n_estimators=200, final_estimator__C=1.0, rf__max_depth=None, rf__n_estimators=100; total time= 3.5min\n"
     ]
    },
    {
     "name": "stderr",
     "output_type": "stream",
     "text": [
      "/Users/benzenesea/mambaforge/envs/logofunc3/lib/python3.9/site-packages/sklearn/linear_model/_sag.py:350: ConvergenceWarning: The max_iter was reached which means the coef_ did not converge\n",
      "  warnings.warn(\n"
     ]
    },
    {
     "name": "stdout",
     "output_type": "stream",
     "text": [
      "[CV] END dt__max_depth=10, et__max_depth=None, et__n_estimators=50, final_estimator__C=10.0, rf__max_depth=20, rf__n_estimators=100; total time= 1.5min\n",
      "[CV] END dt__max_depth=None, et__max_depth=None, et__n_estimators=100, final_estimator__C=0.1, rf__max_depth=10, rf__n_estimators=100; total time= 3.0min\n",
      "[CV] END dt__max_depth=None, et__max_depth=None, et__n_estimators=200, final_estimator__C=1.0, rf__max_depth=None, rf__n_estimators=100; total time= 3.9min\n"
     ]
    },
    {
     "name": "stderr",
     "output_type": "stream",
     "text": [
      "/Users/benzenesea/mambaforge/envs/logofunc3/lib/python3.9/site-packages/sklearn/linear_model/_sag.py:350: ConvergenceWarning: The max_iter was reached which means the coef_ did not converge\n",
      "  warnings.warn(\n"
     ]
    },
    {
     "name": "stdout",
     "output_type": "stream",
     "text": [
      "[CV] END dt__max_depth=10, et__max_depth=None, et__n_estimators=50, final_estimator__C=10.0, rf__max_depth=20, rf__n_estimators=100; total time= 1.6min\n"
     ]
    },
    {
     "name": "stderr",
     "output_type": "stream",
     "text": [
      "/Users/benzenesea/mambaforge/envs/logofunc3/lib/python3.9/site-packages/sklearn/linear_model/_sag.py:350: ConvergenceWarning: The max_iter was reached which means the coef_ did not converge\n",
      "  warnings.warn(\n"
     ]
    },
    {
     "name": "stdout",
     "output_type": "stream",
     "text": [
      "[CV] END dt__max_depth=10, et__max_depth=None, et__n_estimators=50, final_estimator__C=10.0, rf__max_depth=20, rf__n_estimators=100; total time= 2.1min\n",
      "[CV] END dt__max_depth=None, et__max_depth=None, et__n_estimators=100, final_estimator__C=0.1, rf__max_depth=10, rf__n_estimators=100; total time= 2.8min\n",
      "[CV] END dt__max_depth=None, et__max_depth=None, et__n_estimators=100, final_estimator__C=0.1, rf__max_depth=10, rf__n_estimators=100; total time= 3.1min\n",
      "[CV] END dt__max_depth=10, et__max_depth=None, et__n_estimators=50, final_estimator__C=1.0, rf__max_depth=10, rf__n_estimators=100; total time= 1.4min\n",
      "[CV] END dt__max_depth=10, et__max_depth=None, et__n_estimators=50, final_estimator__C=1.0, rf__max_depth=10, rf__n_estimators=100; total time= 1.3min\n",
      "[CV] END dt__max_depth=10, et__max_depth=None, et__n_estimators=50, final_estimator__C=1.0, rf__max_depth=10, rf__n_estimators=100; total time= 1.5min\n",
      "[CV] END dt__max_depth=20, et__max_depth=None, et__n_estimators=200, final_estimator__C=1.0, rf__max_depth=10, rf__n_estimators=200; total time= 3.1min\n",
      "[CV] END dt__max_depth=20, et__max_depth=None, et__n_estimators=200, final_estimator__C=1.0, rf__max_depth=10, rf__n_estimators=200; total time= 3.5min\n"
     ]
    },
    {
     "name": "stderr",
     "output_type": "stream",
     "text": [
      "/Users/benzenesea/mambaforge/envs/logofunc3/lib/python3.9/site-packages/sklearn/linear_model/_sag.py:350: ConvergenceWarning: The max_iter was reached which means the coef_ did not converge\n",
      "  warnings.warn(\n"
     ]
    },
    {
     "name": "stdout",
     "output_type": "stream",
     "text": [
      "[CV] END dt__max_depth=20, et__max_depth=10, et__n_estimators=100, final_estimator__C=10.0, rf__max_depth=None, rf__n_estimators=100; total time= 2.2min\n",
      "[CV] END dt__max_depth=10, et__max_depth=10, et__n_estimators=200, final_estimator__C=10.0, rf__max_depth=10, rf__n_estimators=100; total time= 1.7min\n",
      "[CV] END dt__max_depth=20, et__max_depth=None, et__n_estimators=200, final_estimator__C=1.0, rf__max_depth=10, rf__n_estimators=200; total time= 3.8min\n",
      "[CV] END dt__max_depth=None, et__max_depth=20, et__n_estimators=100, final_estimator__C=0.1, rf__max_depth=10, rf__n_estimators=50; total time= 3.4min\n",
      "[CV] END dt__max_depth=10, et__max_depth=10, et__n_estimators=200, final_estimator__C=10.0, rf__max_depth=10, rf__n_estimators=100; total time= 2.0min\n",
      "[CV] END dt__max_depth=None, et__max_depth=20, et__n_estimators=100, final_estimator__C=0.1, rf__max_depth=10, rf__n_estimators=50; total time= 3.9min\n",
      "[CV] END dt__max_depth=10, et__max_depth=10, et__n_estimators=200, final_estimator__C=10.0, rf__max_depth=10, rf__n_estimators=100; total time= 2.6min\n",
      "[CV] END dt__max_depth=None, et__max_depth=20, et__n_estimators=100, final_estimator__C=0.1, rf__max_depth=10, rf__n_estimators=50; total time= 4.9min\n"
     ]
    },
    {
     "name": "stderr",
     "output_type": "stream",
     "text": [
      "/Users/benzenesea/mambaforge/envs/logofunc3/lib/python3.9/site-packages/sklearn/linear_model/_sag.py:350: ConvergenceWarning: The max_iter was reached which means the coef_ did not converge\n",
      "  warnings.warn(\n"
     ]
    },
    {
     "name": "stdout",
     "output_type": "stream",
     "text": [
      "[CV] END dt__max_depth=20, et__max_depth=10, et__n_estimators=100, final_estimator__C=10.0, rf__max_depth=None, rf__n_estimators=100; total time= 4.2min\n"
     ]
    },
    {
     "name": "stderr",
     "output_type": "stream",
     "text": [
      "/Users/benzenesea/mambaforge/envs/logofunc3/lib/python3.9/site-packages/sklearn/linear_model/_sag.py:350: ConvergenceWarning: The max_iter was reached which means the coef_ did not converge\n",
      "  warnings.warn(\n"
     ]
    },
    {
     "name": "stdout",
     "output_type": "stream",
     "text": [
      "[CV] END dt__max_depth=20, et__max_depth=10, et__n_estimators=100, final_estimator__C=10.0, rf__max_depth=None, rf__n_estimators=100; total time= 4.2min\n",
      "[CV] END dt__max_depth=20, et__max_depth=20, et__n_estimators=100, final_estimator__C=1.0, rf__max_depth=None, rf__n_estimators=200; total time= 5.6min\n",
      "[CV] END dt__max_depth=None, et__max_depth=20, et__n_estimators=100, final_estimator__C=1.0, rf__max_depth=None, rf__n_estimators=50; total time= 3.7min\n",
      "[CV] END dt__max_depth=20, et__max_depth=20, et__n_estimators=100, final_estimator__C=1.0, rf__max_depth=None, rf__n_estimators=200; total time= 5.8min\n",
      "[CV] END dt__max_depth=20, et__max_depth=20, et__n_estimators=100, final_estimator__C=1.0, rf__max_depth=None, rf__n_estimators=200; total time= 5.9min\n",
      "[CV] END dt__max_depth=None, et__max_depth=20, et__n_estimators=200, final_estimator__C=1.0, rf__max_depth=10, rf__n_estimators=100; total time= 5.5min\n",
      "[CV] END dt__max_depth=None, et__max_depth=20, et__n_estimators=200, final_estimator__C=1.0, rf__max_depth=10, rf__n_estimators=100; total time= 5.7min\n",
      "[CV] END dt__max_depth=None, et__max_depth=20, et__n_estimators=200, final_estimator__C=1.0, rf__max_depth=10, rf__n_estimators=100; total time= 6.8min\n",
      "[CV] END dt__max_depth=None, et__max_depth=None, et__n_estimators=200, final_estimator__C=0.1, rf__max_depth=None, rf__n_estimators=200; total time= 6.0min\n",
      "[CV] END dt__max_depth=10, et__max_depth=None, et__n_estimators=50, final_estimator__C=10.0, rf__max_depth=10, rf__n_estimators=50; total time= 2.0min\n"
     ]
    },
    {
     "name": "stderr",
     "output_type": "stream",
     "text": [
      "/Users/benzenesea/mambaforge/envs/logofunc3/lib/python3.9/site-packages/sklearn/linear_model/_sag.py:350: ConvergenceWarning: The max_iter was reached which means the coef_ did not converge\n",
      "  warnings.warn(\n"
     ]
    },
    {
     "name": "stdout",
     "output_type": "stream",
     "text": [
      "[CV] END dt__max_depth=10, et__max_depth=None, et__n_estimators=50, final_estimator__C=10.0, rf__max_depth=10, rf__n_estimators=50; total time= 2.0min\n",
      "[CV] END dt__max_depth=None, et__max_depth=20, et__n_estimators=100, final_estimator__C=1.0, rf__max_depth=None, rf__n_estimators=50; total time= 5.4min\n"
     ]
    },
    {
     "name": "stderr",
     "output_type": "stream",
     "text": [
      "/Users/benzenesea/mambaforge/envs/logofunc3/lib/python3.9/site-packages/sklearn/linear_model/_sag.py:350: ConvergenceWarning: The max_iter was reached which means the coef_ did not converge\n",
      "  warnings.warn(\n"
     ]
    },
    {
     "name": "stdout",
     "output_type": "stream",
     "text": [
      "[CV] END dt__max_depth=10, et__max_depth=None, et__n_estimators=50, final_estimator__C=10.0, rf__max_depth=10, rf__n_estimators=50; total time= 2.0min\n",
      "[CV] END dt__max_depth=None, et__max_depth=20, et__n_estimators=100, final_estimator__C=1.0, rf__max_depth=None, rf__n_estimators=50; total time= 5.6min\n",
      "[CV] END dt__max_depth=20, et__max_depth=None, et__n_estimators=200, final_estimator__C=0.01, rf__max_depth=10, rf__n_estimators=50; total time= 3.8min\n",
      "[CV] END dt__max_depth=None, et__max_depth=None, et__n_estimators=200, final_estimator__C=0.1, rf__max_depth=None, rf__n_estimators=200; total time= 7.4min\n",
      "[CV] END dt__max_depth=None, et__max_depth=None, et__n_estimators=200, final_estimator__C=0.1, rf__max_depth=None, rf__n_estimators=200; total time= 7.8min\n",
      "[CV] END dt__max_depth=20, et__max_depth=None, et__n_estimators=200, final_estimator__C=0.01, rf__max_depth=10, rf__n_estimators=50; total time= 3.7min\n",
      "[CV] END dt__max_depth=20, et__max_depth=None, et__n_estimators=200, final_estimator__C=0.01, rf__max_depth=10, rf__n_estimators=50; total time= 3.8min\n",
      "[CV] END dt__max_depth=10, et__max_depth=10, et__n_estimators=100, final_estimator__C=0.1, rf__max_depth=10, rf__n_estimators=200; total time= 2.8min\n",
      "[CV] END dt__max_depth=10, et__max_depth=10, et__n_estimators=100, final_estimator__C=0.1, rf__max_depth=10, rf__n_estimators=200; total time= 3.2min\n",
      "[CV] END dt__max_depth=10, et__max_depth=10, et__n_estimators=100, final_estimator__C=0.1, rf__max_depth=10, rf__n_estimators=200; total time= 3.7min\n",
      "[CV] END dt__max_depth=None, et__max_depth=None, et__n_estimators=100, final_estimator__C=0.01, rf__max_depth=20, rf__n_estimators=50; total time= 4.8min\n",
      "[CV] END dt__max_depth=None, et__max_depth=None, et__n_estimators=100, final_estimator__C=0.01, rf__max_depth=20, rf__n_estimators=50; total time= 5.0min\n",
      "[CV] END dt__max_depth=None, et__max_depth=None, et__n_estimators=100, final_estimator__C=0.01, rf__max_depth=20, rf__n_estimators=50; total time= 5.1min\n",
      "[CV] END dt__max_depth=None, et__max_depth=20, et__n_estimators=50, final_estimator__C=0.1, rf__max_depth=20, rf__n_estimators=100; total time= 4.9min\n",
      "[CV] END dt__max_depth=None, et__max_depth=20, et__n_estimators=200, final_estimator__C=0.01, rf__max_depth=10, rf__n_estimators=200; total time= 5.7min\n",
      "[CV] END dt__max_depth=None, et__max_depth=20, et__n_estimators=200, final_estimator__C=0.01, rf__max_depth=10, rf__n_estimators=200; total time= 5.5min\n",
      "[CV] END dt__max_depth=None, et__max_depth=20, et__n_estimators=50, final_estimator__C=0.1, rf__max_depth=20, rf__n_estimators=100; total time= 4.8min\n",
      "[CV] END dt__max_depth=None, et__max_depth=20, et__n_estimators=200, final_estimator__C=0.01, rf__max_depth=10, rf__n_estimators=200; total time= 5.6min\n",
      "[CV] END dt__max_depth=None, et__max_depth=20, et__n_estimators=50, final_estimator__C=0.1, rf__max_depth=20, rf__n_estimators=100; total time= 5.1min\n",
      "[CV] END dt__max_depth=None, et__max_depth=10, et__n_estimators=100, final_estimator__C=1.0, rf__max_depth=None, rf__n_estimators=50; total time= 4.6min\n",
      "[CV] END dt__max_depth=None, et__max_depth=10, et__n_estimators=100, final_estimator__C=1.0, rf__max_depth=None, rf__n_estimators=50; total time= 4.4min\n",
      "[CV] END dt__max_depth=None, et__max_depth=10, et__n_estimators=100, final_estimator__C=1.0, rf__max_depth=None, rf__n_estimators=50; total time= 4.1min\n",
      "[CV] END dt__max_depth=10, et__max_depth=10, et__n_estimators=200, final_estimator__C=100.0, rf__max_depth=None, rf__n_estimators=100; total time= 3.5min\n",
      "[CV] END dt__max_depth=10, et__max_depth=10, et__n_estimators=200, final_estimator__C=100.0, rf__max_depth=None, rf__n_estimators=100; total time= 3.6min\n",
      "[CV] END dt__max_depth=10, et__max_depth=10, et__n_estimators=200, final_estimator__C=100.0, rf__max_depth=None, rf__n_estimators=100; total time= 3.6min\n",
      "[CV] END dt__max_depth=10, et__max_depth=None, et__n_estimators=200, final_estimator__C=1.0, rf__max_depth=None, rf__n_estimators=100; total time= 4.6min\n",
      "[CV] END dt__max_depth=10, et__max_depth=None, et__n_estimators=200, final_estimator__C=1.0, rf__max_depth=None, rf__n_estimators=100; total time= 4.7min\n",
      "[CV] END dt__max_depth=10, et__max_depth=None, et__n_estimators=200, final_estimator__C=1.0, rf__max_depth=None, rf__n_estimators=100; total time= 4.6min\n",
      "[CV] END dt__max_depth=10, et__max_depth=None, et__n_estimators=100, final_estimator__C=0.1, rf__max_depth=20, rf__n_estimators=200; total time= 4.4min\n",
      "[CV] END dt__max_depth=10, et__max_depth=None, et__n_estimators=100, final_estimator__C=0.1, rf__max_depth=20, rf__n_estimators=200; total time= 4.3min\n",
      "[CV] END dt__max_depth=10, et__max_depth=None, et__n_estimators=100, final_estimator__C=100.0, rf__max_depth=20, rf__n_estimators=100; total time= 3.1min\n",
      "[CV] END dt__max_depth=10, et__max_depth=None, et__n_estimators=100, final_estimator__C=100.0, rf__max_depth=20, rf__n_estimators=100; total time= 3.1min\n"
     ]
    },
    {
     "name": "stderr",
     "output_type": "stream",
     "text": [
      "/Users/benzenesea/mambaforge/envs/logofunc3/lib/python3.9/site-packages/sklearn/linear_model/_sag.py:350: ConvergenceWarning: The max_iter was reached which means the coef_ did not converge\n",
      "  warnings.warn(\n"
     ]
    },
    {
     "name": "stdout",
     "output_type": "stream",
     "text": [
      "[CV] END dt__max_depth=10, et__max_depth=None, et__n_estimators=100, final_estimator__C=100.0, rf__max_depth=20, rf__n_estimators=100; total time= 3.1min\n",
      "[CV] END dt__max_depth=10, et__max_depth=None, et__n_estimators=100, final_estimator__C=0.1, rf__max_depth=20, rf__n_estimators=200; total time= 4.2min\n",
      "[CV] END dt__max_depth=None, et__max_depth=10, et__n_estimators=200, final_estimator__C=1.0, rf__max_depth=None, rf__n_estimators=100; total time= 6.0min\n",
      "[CV] END dt__max_depth=None, et__max_depth=10, et__n_estimators=200, final_estimator__C=1.0, rf__max_depth=None, rf__n_estimators=100; total time= 6.4min\n",
      "[CV] END dt__max_depth=None, et__max_depth=10, et__n_estimators=200, final_estimator__C=1.0, rf__max_depth=None, rf__n_estimators=100; total time= 6.7min\n",
      "[CV] END dt__max_depth=10, et__max_depth=20, et__n_estimators=200, final_estimator__C=0.01, rf__max_depth=10, rf__n_estimators=50; total time= 2.1min\n",
      "[CV] END dt__max_depth=10, et__max_depth=20, et__n_estimators=200, final_estimator__C=0.01, rf__max_depth=10, rf__n_estimators=50; total time= 1.9min\n",
      "[CV] END dt__max_depth=10, et__max_depth=20, et__n_estimators=200, final_estimator__C=0.01, rf__max_depth=10, rf__n_estimators=50; total time= 2.1min\n"
     ]
    },
    {
     "name": "stderr",
     "output_type": "stream",
     "text": [
      "/Users/benzenesea/mambaforge/envs/logofunc3/lib/python3.9/site-packages/sklearn/linear_model/_sag.py:350: ConvergenceWarning: The max_iter was reached which means the coef_ did not converge\n",
      "  warnings.warn(\n"
     ]
    },
    {
     "name": "stdout",
     "output_type": "stream",
     "text": [
      "[CV] END dt__max_depth=20, et__max_depth=20, et__n_estimators=100, final_estimator__C=100.0, rf__max_depth=20, rf__n_estimators=50; total time= 2.9min\n",
      "[CV] END dt__max_depth=None, et__max_depth=None, et__n_estimators=100, final_estimator__C=0.1, rf__max_depth=None, rf__n_estimators=50; total time= 4.0min\n"
     ]
    },
    {
     "name": "stderr",
     "output_type": "stream",
     "text": [
      "/Users/benzenesea/mambaforge/envs/logofunc3/lib/python3.9/site-packages/sklearn/linear_model/_sag.py:350: ConvergenceWarning: The max_iter was reached which means the coef_ did not converge\n",
      "  warnings.warn(\n"
     ]
    },
    {
     "name": "stdout",
     "output_type": "stream",
     "text": [
      "[CV] END dt__max_depth=20, et__max_depth=20, et__n_estimators=100, final_estimator__C=100.0, rf__max_depth=20, rf__n_estimators=50; total time= 2.7min\n"
     ]
    },
    {
     "name": "stderr",
     "output_type": "stream",
     "text": [
      "/Users/benzenesea/mambaforge/envs/logofunc3/lib/python3.9/site-packages/sklearn/linear_model/_sag.py:350: ConvergenceWarning: The max_iter was reached which means the coef_ did not converge\n",
      "  warnings.warn(\n"
     ]
    },
    {
     "name": "stdout",
     "output_type": "stream",
     "text": [
      "[CV] END dt__max_depth=20, et__max_depth=20, et__n_estimators=100, final_estimator__C=100.0, rf__max_depth=20, rf__n_estimators=50; total time= 3.1min\n",
      "[CV] END dt__max_depth=None, et__max_depth=None, et__n_estimators=100, final_estimator__C=0.1, rf__max_depth=None, rf__n_estimators=50; total time= 4.0min\n",
      "[CV] END dt__max_depth=None, et__max_depth=None, et__n_estimators=100, final_estimator__C=0.1, rf__max_depth=None, rf__n_estimators=50; total time= 4.2min\n",
      "[CV] END dt__max_depth=None, et__max_depth=20, et__n_estimators=50, final_estimator__C=100.0, rf__max_depth=10, rf__n_estimators=50; total time= 2.7min\n",
      "[CV] END dt__max_depth=None, et__max_depth=20, et__n_estimators=50, final_estimator__C=100.0, rf__max_depth=10, rf__n_estimators=50; total time= 2.6min\n",
      "[CV] END dt__max_depth=None, et__max_depth=20, et__n_estimators=50, final_estimator__C=100.0, rf__max_depth=10, rf__n_estimators=50; total time= 5.5min\n",
      "[CV] END dt__max_depth=10, et__max_depth=20, et__n_estimators=100, final_estimator__C=0.01, rf__max_depth=None, rf__n_estimators=100; total time= 4.0min\n",
      "[CV] END dt__max_depth=10, et__max_depth=20, et__n_estimators=100, final_estimator__C=0.01, rf__max_depth=None, rf__n_estimators=100; total time= 4.0min\n",
      "[CV] END dt__max_depth=10, et__max_depth=20, et__n_estimators=100, final_estimator__C=0.01, rf__max_depth=None, rf__n_estimators=100; total time= 4.0min\n",
      "[CV] END dt__max_depth=None, et__max_depth=None, et__n_estimators=100, final_estimator__C=100.0, rf__max_depth=10, rf__n_estimators=200; total time= 5.1min\n",
      "[CV] END dt__max_depth=None, et__max_depth=None, et__n_estimators=100, final_estimator__C=0.1, rf__max_depth=None, rf__n_estimators=200; total time= 6.0min\n",
      "[CV] END dt__max_depth=10, et__max_depth=20, et__n_estimators=100, final_estimator__C=0.1, rf__max_depth=20, rf__n_estimators=100; total time= 2.0min\n",
      "[CV] END dt__max_depth=None, et__max_depth=None, et__n_estimators=100, final_estimator__C=0.1, rf__max_depth=None, rf__n_estimators=200; total time= 7.0min\n",
      "[CV] END dt__max_depth=None, et__max_depth=None, et__n_estimators=100, final_estimator__C=100.0, rf__max_depth=10, rf__n_estimators=200; total time= 6.6min\n",
      "[CV] END dt__max_depth=None, et__max_depth=None, et__n_estimators=100, final_estimator__C=100.0, rf__max_depth=10, rf__n_estimators=200; total time= 6.6min\n"
     ]
    },
    {
     "name": "stderr",
     "output_type": "stream",
     "text": [
      "/Users/benzenesea/mambaforge/envs/logofunc3/lib/python3.9/site-packages/sklearn/linear_model/_sag.py:350: ConvergenceWarning: The max_iter was reached which means the coef_ did not converge\n",
      "  warnings.warn(\n"
     ]
    },
    {
     "name": "stdout",
     "output_type": "stream",
     "text": [
      "[CV] END dt__max_depth=None, et__max_depth=20, et__n_estimators=50, final_estimator__C=100.0, rf__max_depth=None, rf__n_estimators=50; total time= 5.5min\n",
      "[CV] END dt__max_depth=None, et__max_depth=None, et__n_estimators=100, final_estimator__C=0.1, rf__max_depth=None, rf__n_estimators=200; total time= 7.2min\n"
     ]
    },
    {
     "name": "stderr",
     "output_type": "stream",
     "text": [
      "/Users/benzenesea/mambaforge/envs/logofunc3/lib/python3.9/site-packages/sklearn/linear_model/_sag.py:350: ConvergenceWarning: The max_iter was reached which means the coef_ did not converge\n",
      "  warnings.warn(\n"
     ]
    },
    {
     "name": "stdout",
     "output_type": "stream",
     "text": [
      "[CV] END dt__max_depth=None, et__max_depth=20, et__n_estimators=50, final_estimator__C=100.0, rf__max_depth=None, rf__n_estimators=50; total time= 6.4min\n",
      "[CV] END dt__max_depth=10, et__max_depth=20, et__n_estimators=100, final_estimator__C=0.1, rf__max_depth=20, rf__n_estimators=100; total time= 2.8min\n",
      "[CV] END dt__max_depth=10, et__max_depth=20, et__n_estimators=100, final_estimator__C=0.1, rf__max_depth=20, rf__n_estimators=100; total time= 2.7min\n"
     ]
    },
    {
     "name": "stderr",
     "output_type": "stream",
     "text": [
      "/Users/benzenesea/mambaforge/envs/logofunc3/lib/python3.9/site-packages/sklearn/linear_model/_sag.py:350: ConvergenceWarning: The max_iter was reached which means the coef_ did not converge\n",
      "  warnings.warn(\n"
     ]
    },
    {
     "name": "stdout",
     "output_type": "stream",
     "text": [
      "[CV] END dt__max_depth=None, et__max_depth=20, et__n_estimators=50, final_estimator__C=100.0, rf__max_depth=None, rf__n_estimators=50; total time= 3.9min\n",
      "[CV] END dt__max_depth=10, et__max_depth=10, et__n_estimators=50, final_estimator__C=100.0, rf__max_depth=20, rf__n_estimators=50; total time= 2.9min\n",
      "[CV] END dt__max_depth=10, et__max_depth=10, et__n_estimators=50, final_estimator__C=100.0, rf__max_depth=20, rf__n_estimators=50; total time= 2.8min\n",
      "[CV] END dt__max_depth=20, et__max_depth=20, et__n_estimators=200, final_estimator__C=0.01, rf__max_depth=20, rf__n_estimators=100; total time= 4.8min\n",
      "[CV] END dt__max_depth=10, et__max_depth=10, et__n_estimators=50, final_estimator__C=100.0, rf__max_depth=20, rf__n_estimators=50; total time= 2.8min\n"
     ]
    },
    {
     "name": "stderr",
     "output_type": "stream",
     "text": [
      "/Users/benzenesea/mambaforge/envs/logofunc3/lib/python3.9/site-packages/sklearn/linear_model/_sag.py:350: ConvergenceWarning: The max_iter was reached which means the coef_ did not converge\n",
      "  warnings.warn(\n"
     ]
    },
    {
     "name": "stdout",
     "output_type": "stream",
     "text": [
      "[CV] END dt__max_depth=10, et__max_depth=20, et__n_estimators=50, final_estimator__C=100.0, rf__max_depth=None, rf__n_estimators=100; total time= 3.5min\n"
     ]
    },
    {
     "name": "stderr",
     "output_type": "stream",
     "text": [
      "/Users/benzenesea/mambaforge/envs/logofunc3/lib/python3.9/site-packages/sklearn/linear_model/_sag.py:350: ConvergenceWarning: The max_iter was reached which means the coef_ did not converge\n",
      "  warnings.warn(\n"
     ]
    },
    {
     "name": "stdout",
     "output_type": "stream",
     "text": [
      "[CV] END dt__max_depth=10, et__max_depth=20, et__n_estimators=50, final_estimator__C=100.0, rf__max_depth=None, rf__n_estimators=100; total time= 3.5min\n"
     ]
    },
    {
     "name": "stderr",
     "output_type": "stream",
     "text": [
      "/Users/benzenesea/mambaforge/envs/logofunc3/lib/python3.9/site-packages/sklearn/linear_model/_sag.py:350: ConvergenceWarning: The max_iter was reached which means the coef_ did not converge\n",
      "  warnings.warn(\n"
     ]
    },
    {
     "name": "stdout",
     "output_type": "stream",
     "text": [
      "[CV] END dt__max_depth=10, et__max_depth=20, et__n_estimators=50, final_estimator__C=100.0, rf__max_depth=None, rf__n_estimators=100; total time= 3.5min\n",
      "[CV] END dt__max_depth=20, et__max_depth=20, et__n_estimators=200, final_estimator__C=0.01, rf__max_depth=20, rf__n_estimators=100; total time= 4.7min\n",
      "[CV] END dt__max_depth=20, et__max_depth=20, et__n_estimators=200, final_estimator__C=0.01, rf__max_depth=20, rf__n_estimators=100; total time= 4.1min\n",
      "[CV] END dt__max_depth=20, et__max_depth=10, et__n_estimators=100, final_estimator__C=10.0, rf__max_depth=10, rf__n_estimators=200; total time= 5.8min\n",
      "[CV] END dt__max_depth=20, et__max_depth=10, et__n_estimators=100, final_estimator__C=10.0, rf__max_depth=10, rf__n_estimators=200; total time= 6.1min\n",
      "[CV] END dt__max_depth=20, et__max_depth=10, et__n_estimators=100, final_estimator__C=10.0, rf__max_depth=10, rf__n_estimators=200; total time= 5.8min\n",
      "[CV] END dt__max_depth=10, et__max_depth=None, et__n_estimators=200, final_estimator__C=100.0, rf__max_depth=20, rf__n_estimators=100; total time= 3.6min\n",
      "[CV] END dt__max_depth=10, et__max_depth=None, et__n_estimators=200, final_estimator__C=100.0, rf__max_depth=20, rf__n_estimators=100; total time= 4.1min\n",
      "[CV] END dt__max_depth=10, et__max_depth=10, et__n_estimators=50, final_estimator__C=1.0, rf__max_depth=None, rf__n_estimators=50; total time= 1.8min\n",
      "[CV] END dt__max_depth=10, et__max_depth=None, et__n_estimators=200, final_estimator__C=100.0, rf__max_depth=20, rf__n_estimators=100; total time= 4.4min\n",
      "[CV] END dt__max_depth=20, et__max_depth=10, et__n_estimators=200, final_estimator__C=0.01, rf__max_depth=None, rf__n_estimators=100; total time= 5.3min\n",
      "[CV] END dt__max_depth=20, et__max_depth=10, et__n_estimators=200, final_estimator__C=0.01, rf__max_depth=None, rf__n_estimators=100; total time= 5.2min\n",
      "[CV] END dt__max_depth=20, et__max_depth=10, et__n_estimators=200, final_estimator__C=0.01, rf__max_depth=None, rf__n_estimators=100; total time= 5.2min\n",
      "[CV] END dt__max_depth=10, et__max_depth=10, et__n_estimators=50, final_estimator__C=1.0, rf__max_depth=None, rf__n_estimators=50; total time= 2.1min\n"
     ]
    },
    {
     "name": "stderr",
     "output_type": "stream",
     "text": [
      "/Users/benzenesea/mambaforge/envs/logofunc3/lib/python3.9/site-packages/sklearn/linear_model/_sag.py:350: ConvergenceWarning: The max_iter was reached which means the coef_ did not converge\n",
      "  warnings.warn(\n"
     ]
    },
    {
     "name": "stdout",
     "output_type": "stream",
     "text": [
      "[CV] END dt__max_depth=20, et__max_depth=None, et__n_estimators=200, final_estimator__C=10.0, rf__max_depth=20, rf__n_estimators=200; total time= 6.0min\n",
      "[CV] END dt__max_depth=10, et__max_depth=10, et__n_estimators=50, final_estimator__C=1.0, rf__max_depth=None, rf__n_estimators=50; total time= 2.1min\n",
      "[CV] END dt__max_depth=20, et__max_depth=None, et__n_estimators=200, final_estimator__C=10.0, rf__max_depth=20, rf__n_estimators=200; total time= 6.2min\n",
      "[CV] END dt__max_depth=20, et__max_depth=None, et__n_estimators=200, final_estimator__C=10.0, rf__max_depth=20, rf__n_estimators=200; total time= 6.3min\n",
      "[CV] END dt__max_depth=10, et__max_depth=10, et__n_estimators=200, final_estimator__C=1.0, rf__max_depth=None, rf__n_estimators=200; total time= 3.9min\n",
      "[CV] END dt__max_depth=10, et__max_depth=10, et__n_estimators=200, final_estimator__C=1.0, rf__max_depth=None, rf__n_estimators=200; total time= 4.9min\n",
      "[CV] END dt__max_depth=10, et__max_depth=10, et__n_estimators=200, final_estimator__C=1.0, rf__max_depth=None, rf__n_estimators=200; total time= 4.6min\n",
      "[CV] END dt__max_depth=10, et__max_depth=10, et__n_estimators=200, final_estimator__C=0.01, rf__max_depth=10, rf__n_estimators=100; total time= 3.9min\n",
      "[CV] END dt__max_depth=10, et__max_depth=10, et__n_estimators=200, final_estimator__C=0.01, rf__max_depth=10, rf__n_estimators=100; total time= 3.9min\n",
      "[CV] END dt__max_depth=10, et__max_depth=10, et__n_estimators=200, final_estimator__C=0.01, rf__max_depth=10, rf__n_estimators=100; total time= 3.9min\n",
      "[CV] END dt__max_depth=10, et__max_depth=None, et__n_estimators=50, final_estimator__C=0.1, rf__max_depth=None, rf__n_estimators=100; total time= 4.1min\n",
      "[CV] END dt__max_depth=10, et__max_depth=None, et__n_estimators=50, final_estimator__C=0.1, rf__max_depth=None, rf__n_estimators=100; total time= 4.1min\n",
      "[CV] END dt__max_depth=10, et__max_depth=None, et__n_estimators=50, final_estimator__C=0.1, rf__max_depth=None, rf__n_estimators=100; total time= 4.1min\n",
      "[CV] END dt__max_depth=10, et__max_depth=None, et__n_estimators=50, final_estimator__C=0.01, rf__max_depth=10, rf__n_estimators=200; total time= 3.3min\n",
      "[CV] END dt__max_depth=10, et__max_depth=None, et__n_estimators=50, final_estimator__C=0.01, rf__max_depth=10, rf__n_estimators=200; total time= 3.7min\n"
     ]
    },
    {
     "name": "stderr",
     "output_type": "stream",
     "text": [
      "/Users/benzenesea/mambaforge/envs/logofunc3/lib/python3.9/site-packages/sklearn/linear_model/_sag.py:350: ConvergenceWarning: The max_iter was reached which means the coef_ did not converge\n",
      "  warnings.warn(\n"
     ]
    },
    {
     "name": "stdout",
     "output_type": "stream",
     "text": [
      "[CV] END dt__max_depth=None, et__max_depth=20, et__n_estimators=50, final_estimator__C=10.0, rf__max_depth=None, rf__n_estimators=100; total time= 7.8min\n",
      "[CV] END dt__max_depth=10, et__max_depth=None, et__n_estimators=50, final_estimator__C=0.01, rf__max_depth=10, rf__n_estimators=200; total time= 3.9min\n"
     ]
    },
    {
     "name": "stderr",
     "output_type": "stream",
     "text": [
      "/Users/benzenesea/mambaforge/envs/logofunc3/lib/python3.9/site-packages/sklearn/linear_model/_sag.py:350: ConvergenceWarning: The max_iter was reached which means the coef_ did not converge\n",
      "  warnings.warn(\n"
     ]
    },
    {
     "name": "stdout",
     "output_type": "stream",
     "text": [
      "[CV] END dt__max_depth=None, et__max_depth=20, et__n_estimators=50, final_estimator__C=10.0, rf__max_depth=None, rf__n_estimators=100; total time= 7.9min\n"
     ]
    },
    {
     "name": "stderr",
     "output_type": "stream",
     "text": [
      "/Users/benzenesea/mambaforge/envs/logofunc3/lib/python3.9/site-packages/sklearn/linear_model/_sag.py:350: ConvergenceWarning: The max_iter was reached which means the coef_ did not converge\n",
      "  warnings.warn(\n"
     ]
    },
    {
     "name": "stdout",
     "output_type": "stream",
     "text": [
      "[CV] END dt__max_depth=None, et__max_depth=20, et__n_estimators=50, final_estimator__C=10.0, rf__max_depth=None, rf__n_estimators=100; total time= 7.8min\n"
     ]
    },
    {
     "name": "stderr",
     "output_type": "stream",
     "text": [
      "/Users/benzenesea/mambaforge/envs/logofunc3/lib/python3.9/site-packages/sklearn/linear_model/_sag.py:350: ConvergenceWarning: The max_iter was reached which means the coef_ did not converge\n",
      "  warnings.warn(\n"
     ]
    },
    {
     "name": "stdout",
     "output_type": "stream",
     "text": [
      "[CV] END dt__max_depth=20, et__max_depth=20, et__n_estimators=200, final_estimator__C=100.0, rf__max_depth=20, rf__n_estimators=50; total time= 5.4min\n"
     ]
    },
    {
     "name": "stderr",
     "output_type": "stream",
     "text": [
      "/Users/benzenesea/mambaforge/envs/logofunc3/lib/python3.9/site-packages/sklearn/linear_model/_sag.py:350: ConvergenceWarning: The max_iter was reached which means the coef_ did not converge\n",
      "  warnings.warn(\n"
     ]
    },
    {
     "name": "stdout",
     "output_type": "stream",
     "text": [
      "[CV] END dt__max_depth=20, et__max_depth=20, et__n_estimators=200, final_estimator__C=100.0, rf__max_depth=20, rf__n_estimators=50; total time= 5.5min\n",
      "[CV] END dt__max_depth=10, et__max_depth=20, et__n_estimators=100, final_estimator__C=0.1, rf__max_depth=None, rf__n_estimators=200; total time= 5.1min\n"
     ]
    },
    {
     "name": "stderr",
     "output_type": "stream",
     "text": [
      "/Users/benzenesea/mambaforge/envs/logofunc3/lib/python3.9/site-packages/sklearn/linear_model/_sag.py:350: ConvergenceWarning: The max_iter was reached which means the coef_ did not converge\n",
      "  warnings.warn(\n"
     ]
    },
    {
     "name": "stdout",
     "output_type": "stream",
     "text": [
      "[CV] END dt__max_depth=10, et__max_depth=20, et__n_estimators=100, final_estimator__C=0.1, rf__max_depth=None, rf__n_estimators=200; total time= 5.0min\n",
      "[CV] END dt__max_depth=20, et__max_depth=20, et__n_estimators=200, final_estimator__C=100.0, rf__max_depth=20, rf__n_estimators=50; total time= 5.5min\n",
      "[CV] END dt__max_depth=10, et__max_depth=20, et__n_estimators=100, final_estimator__C=0.1, rf__max_depth=None, rf__n_estimators=200; total time= 5.1min\n",
      "[CV] END dt__max_depth=10, et__max_depth=None, et__n_estimators=50, final_estimator__C=0.01, rf__max_depth=20, rf__n_estimators=50; total time= 2.8min\n",
      "[CV] END dt__max_depth=10, et__max_depth=None, et__n_estimators=50, final_estimator__C=0.01, rf__max_depth=20, rf__n_estimators=50; total time= 2.7min\n",
      "[CV] END dt__max_depth=10, et__max_depth=10, et__n_estimators=50, final_estimator__C=1.0, rf__max_depth=20, rf__n_estimators=200; total time= 3.8min\n",
      "[CV] END dt__max_depth=10, et__max_depth=None, et__n_estimators=50, final_estimator__C=0.01, rf__max_depth=20, rf__n_estimators=50; total time= 2.8min\n",
      "[CV] END dt__max_depth=10, et__max_depth=10, et__n_estimators=50, final_estimator__C=1.0, rf__max_depth=20, rf__n_estimators=200; total time= 4.1min\n",
      "[CV] END dt__max_depth=10, et__max_depth=10, et__n_estimators=50, final_estimator__C=1.0, rf__max_depth=20, rf__n_estimators=200; total time= 4.6min\n",
      "[CV] END dt__max_depth=20, et__max_depth=20, et__n_estimators=100, final_estimator__C=100.0, rf__max_depth=10, rf__n_estimators=100; total time= 4.9min\n",
      "[CV] END dt__max_depth=20, et__max_depth=20, et__n_estimators=100, final_estimator__C=100.0, rf__max_depth=10, rf__n_estimators=100; total time= 5.0min\n",
      "[CV] END dt__max_depth=20, et__max_depth=20, et__n_estimators=100, final_estimator__C=100.0, rf__max_depth=10, rf__n_estimators=100; total time= 5.0min\n",
      "[CV] END dt__max_depth=20, et__max_depth=None, et__n_estimators=50, final_estimator__C=0.01, rf__max_depth=20, rf__n_estimators=50; total time= 4.4min\n",
      "[CV] END dt__max_depth=20, et__max_depth=None, et__n_estimators=50, final_estimator__C=0.01, rf__max_depth=20, rf__n_estimators=50; total time= 4.1min\n",
      "[CV] END dt__max_depth=20, et__max_depth=None, et__n_estimators=50, final_estimator__C=0.01, rf__max_depth=20, rf__n_estimators=50; total time= 3.8min\n",
      "[CV] END dt__max_depth=20, et__max_depth=None, et__n_estimators=200, final_estimator__C=0.1, rf__max_depth=None, rf__n_estimators=200; total time= 6.1min\n",
      "[CV] END dt__max_depth=20, et__max_depth=None, et__n_estimators=200, final_estimator__C=0.1, rf__max_depth=None, rf__n_estimators=200; total time= 6.2min\n",
      "[CV] END dt__max_depth=20, et__max_depth=None, et__n_estimators=200, final_estimator__C=0.1, rf__max_depth=None, rf__n_estimators=200; total time= 6.1min\n",
      "[CV] END dt__max_depth=10, et__max_depth=20, et__n_estimators=50, final_estimator__C=1.0, rf__max_depth=None, rf__n_estimators=50; total time= 2.0min\n",
      "[CV] END dt__max_depth=10, et__max_depth=20, et__n_estimators=50, final_estimator__C=1.0, rf__max_depth=None, rf__n_estimators=50; total time= 2.1min\n",
      "[CV] END dt__max_depth=None, et__max_depth=20, et__n_estimators=200, final_estimator__C=0.1, rf__max_depth=None, rf__n_estimators=200; total time= 6.4min\n",
      "[CV] END dt__max_depth=10, et__max_depth=20, et__n_estimators=50, final_estimator__C=1.0, rf__max_depth=None, rf__n_estimators=50; total time= 2.2min\n",
      "[CV] END dt__max_depth=None, et__max_depth=20, et__n_estimators=200, final_estimator__C=0.1, rf__max_depth=None, rf__n_estimators=200; total time= 6.8min\n",
      "[CV] END dt__max_depth=10, et__max_depth=10, et__n_estimators=100, final_estimator__C=0.1, rf__max_depth=10, rf__n_estimators=100; total time= 2.8min\n",
      "[CV] END dt__max_depth=10, et__max_depth=10, et__n_estimators=100, final_estimator__C=0.1, rf__max_depth=10, rf__n_estimators=100; total time= 3.3min\n",
      "[CV] END dt__max_depth=10, et__max_depth=10, et__n_estimators=100, final_estimator__C=0.1, rf__max_depth=10, rf__n_estimators=100; total time= 3.4min\n",
      "[CV] END dt__max_depth=None, et__max_depth=20, et__n_estimators=200, final_estimator__C=0.1, rf__max_depth=None, rf__n_estimators=200; total time= 8.7min\n"
     ]
    },
    {
     "name": "stderr",
     "output_type": "stream",
     "text": [
      "/Users/benzenesea/mambaforge/envs/logofunc3/lib/python3.9/site-packages/sklearn/linear_model/_sag.py:350: ConvergenceWarning: The max_iter was reached which means the coef_ did not converge\n",
      "  warnings.warn(\n"
     ]
    },
    {
     "name": "stdout",
     "output_type": "stream",
     "text": [
      "[CV] END dt__max_depth=10, et__max_depth=20, et__n_estimators=100, final_estimator__C=10.0, rf__max_depth=20, rf__n_estimators=200; total time= 5.6min\n"
     ]
    },
    {
     "name": "stderr",
     "output_type": "stream",
     "text": [
      "/Users/benzenesea/mambaforge/envs/logofunc3/lib/python3.9/site-packages/sklearn/linear_model/_sag.py:350: ConvergenceWarning: The max_iter was reached which means the coef_ did not converge\n",
      "  warnings.warn(\n"
     ]
    },
    {
     "name": "stdout",
     "output_type": "stream",
     "text": [
      "[CV] END dt__max_depth=10, et__max_depth=20, et__n_estimators=100, final_estimator__C=10.0, rf__max_depth=20, rf__n_estimators=200; total time= 5.5min\n"
     ]
    },
    {
     "name": "stderr",
     "output_type": "stream",
     "text": [
      "/Users/benzenesea/mambaforge/envs/logofunc3/lib/python3.9/site-packages/sklearn/linear_model/_sag.py:350: ConvergenceWarning: The max_iter was reached which means the coef_ did not converge\n",
      "  warnings.warn(\n"
     ]
    },
    {
     "name": "stdout",
     "output_type": "stream",
     "text": [
      "[CV] END dt__max_depth=10, et__max_depth=20, et__n_estimators=100, final_estimator__C=10.0, rf__max_depth=20, rf__n_estimators=200; total time= 5.5min\n",
      "[CV] END dt__max_depth=20, et__max_depth=None, et__n_estimators=200, final_estimator__C=1.0, rf__max_depth=None, rf__n_estimators=200; total time= 6.8min\n",
      "[CV] END dt__max_depth=20, et__max_depth=None, et__n_estimators=200, final_estimator__C=1.0, rf__max_depth=None, rf__n_estimators=200; total time= 6.7min\n",
      "[CV] END dt__max_depth=20, et__max_depth=None, et__n_estimators=200, final_estimator__C=1.0, rf__max_depth=None, rf__n_estimators=200; total time= 6.7min\n",
      "[CV] END dt__max_depth=None, et__max_depth=10, et__n_estimators=200, final_estimator__C=1.0, rf__max_depth=10, rf__n_estimators=100; total time= 4.1min\n"
     ]
    },
    {
     "name": "stderr",
     "output_type": "stream",
     "text": [
      "/Users/benzenesea/mambaforge/envs/logofunc3/lib/python3.9/site-packages/sklearn/linear_model/_sag.py:350: ConvergenceWarning: The max_iter was reached which means the coef_ did not converge\n",
      "  warnings.warn(\n"
     ]
    },
    {
     "name": "stdout",
     "output_type": "stream",
     "text": [
      "[CV] END dt__max_depth=None, et__max_depth=10, et__n_estimators=200, final_estimator__C=1.0, rf__max_depth=10, rf__n_estimators=100; total time= 4.2min\n",
      "[CV] END dt__max_depth=None, et__max_depth=20, et__n_estimators=100, final_estimator__C=10.0, rf__max_depth=None, rf__n_estimators=200; total time= 6.2min\n",
      "[CV] END dt__max_depth=None, et__max_depth=10, et__n_estimators=200, final_estimator__C=1.0, rf__max_depth=10, rf__n_estimators=100; total time= 4.3min\n"
     ]
    },
    {
     "name": "stderr",
     "output_type": "stream",
     "text": [
      "/Users/benzenesea/mambaforge/envs/logofunc3/lib/python3.9/site-packages/sklearn/linear_model/_sag.py:350: ConvergenceWarning: The max_iter was reached which means the coef_ did not converge\n",
      "  warnings.warn(\n"
     ]
    },
    {
     "name": "stdout",
     "output_type": "stream",
     "text": [
      "[CV] END dt__max_depth=None, et__max_depth=20, et__n_estimators=100, final_estimator__C=10.0, rf__max_depth=None, rf__n_estimators=200; total time= 6.0min\n"
     ]
    },
    {
     "name": "stderr",
     "output_type": "stream",
     "text": [
      "/Users/benzenesea/mambaforge/envs/logofunc3/lib/python3.9/site-packages/sklearn/linear_model/_sag.py:350: ConvergenceWarning: The max_iter was reached which means the coef_ did not converge\n",
      "  warnings.warn(\n"
     ]
    },
    {
     "name": "stdout",
     "output_type": "stream",
     "text": [
      "[CV] END dt__max_depth=None, et__max_depth=20, et__n_estimators=100, final_estimator__C=10.0, rf__max_depth=None, rf__n_estimators=200; total time= 5.4min\n"
     ]
    },
    {
     "name": "stderr",
     "output_type": "stream",
     "text": [
      "/Users/benzenesea/mambaforge/envs/logofunc3/lib/python3.9/site-packages/sklearn/linear_model/_sag.py:350: ConvergenceWarning: The max_iter was reached which means the coef_ did not converge\n",
      "  warnings.warn(\n"
     ]
    },
    {
     "name": "stdout",
     "output_type": "stream",
     "text": [
      "Best parameters found: {'rf__n_estimators': 50, 'rf__max_depth': 20, 'final_estimator__C': 10.0, 'et__n_estimators': 200, 'et__max_depth': None, 'dt__max_depth': None}\n",
      "Top 27 parameter sets:\n",
      "Set 1:\n",
      "  rf__n_estimators: 50\n",
      "  rf__max_depth: 10\n",
      "  final_estimator__C: 10.0\n",
      "  et__n_estimators: 50\n",
      "  et__max_depth: None\n",
      "  dt__max_depth: 10\n",
      "\n",
      "Set 2:\n",
      "  rf__n_estimators: 200\n",
      "  rf__max_depth: 10\n",
      "  final_estimator__C: 100.0\n",
      "  et__n_estimators: 100\n",
      "  et__max_depth: None\n",
      "  dt__max_depth: None\n",
      "\n",
      "Set 3:\n",
      "  rf__n_estimators: 100\n",
      "  rf__max_depth: None\n",
      "  final_estimator__C: 1.0\n",
      "  et__n_estimators: 200\n",
      "  et__max_depth: None\n",
      "  dt__max_depth: None\n",
      "\n",
      "Set 4:\n",
      "  rf__n_estimators: 200\n",
      "  rf__max_depth: None\n",
      "  final_estimator__C: 1.0\n",
      "  et__n_estimators: 100\n",
      "  et__max_depth: 20\n",
      "  dt__max_depth: 20\n",
      "\n",
      "Set 5:\n",
      "  rf__n_estimators: 50\n",
      "  rf__max_depth: None\n",
      "  final_estimator__C: 100.0\n",
      "  et__n_estimators: 100\n",
      "  et__max_depth: None\n",
      "  dt__max_depth: None\n",
      "\n",
      "Set 6:\n",
      "  rf__n_estimators: 50\n",
      "  rf__max_depth: 10\n",
      "  final_estimator__C: 10.0\n",
      "  et__n_estimators: 200\n",
      "  et__max_depth: None\n",
      "  dt__max_depth: 20\n",
      "\n",
      "Set 7:\n",
      "  rf__n_estimators: 100\n",
      "  rf__max_depth: 20\n",
      "  final_estimator__C: 100.0\n",
      "  et__n_estimators: 100\n",
      "  et__max_depth: None\n",
      "  dt__max_depth: 10\n",
      "\n",
      "Set 8:\n",
      "  rf__n_estimators: 100\n",
      "  rf__max_depth: None\n",
      "  final_estimator__C: 1.0\n",
      "  et__n_estimators: 200\n",
      "  et__max_depth: None\n",
      "  dt__max_depth: 10\n",
      "\n",
      "Set 9:\n",
      "  rf__n_estimators: 200\n",
      "  rf__max_depth: 20\n",
      "  final_estimator__C: 0.1\n",
      "  et__n_estimators: 200\n",
      "  et__max_depth: None\n",
      "  dt__max_depth: None\n",
      "\n",
      "Set 10:\n",
      "  rf__n_estimators: 200\n",
      "  rf__max_depth: 20\n",
      "  final_estimator__C: 100.0\n",
      "  et__n_estimators: 50\n",
      "  et__max_depth: None\n",
      "  dt__max_depth: None\n",
      "\n",
      "Set 11:\n",
      "  rf__n_estimators: 50\n",
      "  rf__max_depth: 20\n",
      "  final_estimator__C: 10.0\n",
      "  et__n_estimators: 50\n",
      "  et__max_depth: None\n",
      "  dt__max_depth: 10\n",
      "\n",
      "Set 12:\n",
      "  rf__n_estimators: 100\n",
      "  rf__max_depth: 20\n",
      "  final_estimator__C: 1.0\n",
      "  et__n_estimators: 100\n",
      "  et__max_depth: None\n",
      "  dt__max_depth: None\n",
      "\n",
      "Set 13:\n",
      "  rf__n_estimators: 200\n",
      "  rf__max_depth: 20\n",
      "  final_estimator__C: 100.0\n",
      "  et__n_estimators: 100\n",
      "  et__max_depth: None\n",
      "  dt__max_depth: 10\n",
      "\n",
      "Set 14:\n",
      "  rf__n_estimators: 200\n",
      "  rf__max_depth: None\n",
      "  final_estimator__C: 0.1\n",
      "  et__n_estimators: 200\n",
      "  et__max_depth: None\n",
      "  dt__max_depth: 20\n",
      "\n",
      "Set 15:\n",
      "  rf__n_estimators: 50\n",
      "  rf__max_depth: 20\n",
      "  final_estimator__C: 10.0\n",
      "  et__n_estimators: 100\n",
      "  et__max_depth: None\n",
      "  dt__max_depth: None\n",
      "\n",
      "Set 16:\n",
      "  rf__n_estimators: 100\n",
      "  rf__max_depth: None\n",
      "  final_estimator__C: 100.0\n",
      "  et__n_estimators: 200\n",
      "  et__max_depth: None\n",
      "  dt__max_depth: 10\n",
      "\n",
      "Set 17:\n",
      "  rf__n_estimators: 100\n",
      "  rf__max_depth: 20\n",
      "  final_estimator__C: 10.0\n",
      "  et__n_estimators: 50\n",
      "  et__max_depth: None\n",
      "  dt__max_depth: 20\n",
      "\n",
      "Set 18:\n",
      "  rf__n_estimators: 200\n",
      "  rf__max_depth: 10\n",
      "  final_estimator__C: 1.0\n",
      "  et__n_estimators: 200\n",
      "  et__max_depth: None\n",
      "  dt__max_depth: 20\n",
      "\n",
      "Set 19:\n",
      "  rf__n_estimators: 200\n",
      "  rf__max_depth: None\n",
      "  final_estimator__C: 100.0\n",
      "  et__n_estimators: 200\n",
      "  et__max_depth: None\n",
      "  dt__max_depth: None\n",
      "\n",
      "Set 20:\n",
      "  rf__n_estimators: 100\n",
      "  rf__max_depth: 20\n",
      "  final_estimator__C: 10.0\n",
      "  et__n_estimators: 50\n",
      "  et__max_depth: None\n",
      "  dt__max_depth: 10\n",
      "\n",
      "Set 21:\n",
      "  rf__n_estimators: 100\n",
      "  rf__max_depth: 20\n",
      "  final_estimator__C: 1.0\n",
      "  et__n_estimators: 200\n",
      "  et__max_depth: None\n",
      "  dt__max_depth: 20\n",
      "\n",
      "Set 22:\n",
      "  rf__n_estimators: 200\n",
      "  rf__max_depth: None\n",
      "  final_estimator__C: 10.0\n",
      "  et__n_estimators: 100\n",
      "  et__max_depth: None\n",
      "  dt__max_depth: 10\n",
      "\n",
      "Set 23:\n",
      "  rf__n_estimators: 100\n",
      "  rf__max_depth: 20\n",
      "  final_estimator__C: 100.0\n",
      "  et__n_estimators: 50\n",
      "  et__max_depth: None\n",
      "  dt__max_depth: None\n",
      "\n",
      "Set 24:\n",
      "  rf__n_estimators: 200\n",
      "  rf__max_depth: None\n",
      "  final_estimator__C: 1.0\n",
      "  et__n_estimators: 200\n",
      "  et__max_depth: None\n",
      "  dt__max_depth: 20\n",
      "\n",
      "Set 25:\n",
      "  rf__n_estimators: 100\n",
      "  rf__max_depth: 20\n",
      "  final_estimator__C: 100.0\n",
      "  et__n_estimators: 200\n",
      "  et__max_depth: None\n",
      "  dt__max_depth: 10\n",
      "\n",
      "Set 26:\n",
      "  rf__n_estimators: 200\n",
      "  rf__max_depth: 20\n",
      "  final_estimator__C: 10.0\n",
      "  et__n_estimators: 200\n",
      "  et__max_depth: None\n",
      "  dt__max_depth: 20\n",
      "\n",
      "Set 27:\n",
      "  rf__n_estimators: 50\n",
      "  rf__max_depth: 20\n",
      "  final_estimator__C: 10.0\n",
      "  et__n_estimators: 200\n",
      "  et__max_depth: None\n",
      "  dt__max_depth: None\n",
      "\n"
     ]
    },
    {
     "name": "stderr",
     "output_type": "stream",
     "text": [
      "/Users/benzenesea/mambaforge/envs/logofunc3/lib/python3.9/site-packages/sklearn/linear_model/_sag.py:350: ConvergenceWarning: The max_iter was reached which means the coef_ did not converge\n",
      "  warnings.warn(\n",
      "/Users/benzenesea/mambaforge/envs/logofunc3/lib/python3.9/site-packages/sklearn/linear_model/_sag.py:350: ConvergenceWarning: The max_iter was reached which means the coef_ did not converge\n",
      "  warnings.warn(\n",
      "/Users/benzenesea/mambaforge/envs/logofunc3/lib/python3.9/site-packages/sklearn/linear_model/_sag.py:350: ConvergenceWarning: The max_iter was reached which means the coef_ did not converge\n",
      "  warnings.warn(\n",
      "/Users/benzenesea/mambaforge/envs/logofunc3/lib/python3.9/site-packages/sklearn/linear_model/_sag.py:350: ConvergenceWarning: The max_iter was reached which means the coef_ did not converge\n",
      "  warnings.warn(\n",
      "/Users/benzenesea/mambaforge/envs/logofunc3/lib/python3.9/site-packages/sklearn/linear_model/_sag.py:350: ConvergenceWarning: The max_iter was reached which means the coef_ did not converge\n",
      "  warnings.warn(\n",
      "/Users/benzenesea/mambaforge/envs/logofunc3/lib/python3.9/site-packages/sklearn/linear_model/_sag.py:350: ConvergenceWarning: The max_iter was reached which means the coef_ did not converge\n",
      "  warnings.warn(\n",
      "/Users/benzenesea/mambaforge/envs/logofunc3/lib/python3.9/site-packages/sklearn/linear_model/_sag.py:350: ConvergenceWarning: The max_iter was reached which means the coef_ did not converge\n",
      "  warnings.warn(\n",
      "/Users/benzenesea/mambaforge/envs/logofunc3/lib/python3.9/site-packages/sklearn/linear_model/_sag.py:350: ConvergenceWarning: The max_iter was reached which means the coef_ did not converge\n",
      "  warnings.warn(\n",
      "/Users/benzenesea/mambaforge/envs/logofunc3/lib/python3.9/site-packages/sklearn/linear_model/_sag.py:350: ConvergenceWarning: The max_iter was reached which means the coef_ did not converge\n",
      "  warnings.warn(\n",
      "/Users/benzenesea/mambaforge/envs/logofunc3/lib/python3.9/site-packages/sklearn/linear_model/_sag.py:350: ConvergenceWarning: The max_iter was reached which means the coef_ did not converge\n",
      "  warnings.warn(\n",
      "/Users/benzenesea/mambaforge/envs/logofunc3/lib/python3.9/site-packages/sklearn/linear_model/_sag.py:350: ConvergenceWarning: The max_iter was reached which means the coef_ did not converge\n",
      "  warnings.warn(\n",
      "/Users/benzenesea/mambaforge/envs/logofunc3/lib/python3.9/site-packages/sklearn/linear_model/_sag.py:350: ConvergenceWarning: The max_iter was reached which means the coef_ did not converge\n",
      "  warnings.warn(\n",
      "/Users/benzenesea/mambaforge/envs/logofunc3/lib/python3.9/site-packages/sklearn/linear_model/_sag.py:350: ConvergenceWarning: The max_iter was reached which means the coef_ did not converge\n",
      "  warnings.warn(\n",
      "/Users/benzenesea/mambaforge/envs/logofunc3/lib/python3.9/site-packages/sklearn/linear_model/_sag.py:350: ConvergenceWarning: The max_iter was reached which means the coef_ did not converge\n",
      "  warnings.warn(\n",
      "/Users/benzenesea/mambaforge/envs/logofunc3/lib/python3.9/site-packages/sklearn/linear_model/_sag.py:350: ConvergenceWarning: The max_iter was reached which means the coef_ did not converge\n",
      "  warnings.warn(\n",
      "/Users/benzenesea/mambaforge/envs/logofunc3/lib/python3.9/site-packages/sklearn/linear_model/_sag.py:350: ConvergenceWarning: The max_iter was reached which means the coef_ did not converge\n",
      "  warnings.warn(\n",
      "/Users/benzenesea/mambaforge/envs/logofunc3/lib/python3.9/site-packages/sklearn/linear_model/_sag.py:350: ConvergenceWarning: The max_iter was reached which means the coef_ did not converge\n",
      "  warnings.warn(\n",
      "/Users/benzenesea/mambaforge/envs/logofunc3/lib/python3.9/site-packages/sklearn/linear_model/_sag.py:350: ConvergenceWarning: The max_iter was reached which means the coef_ did not converge\n",
      "  warnings.warn(\n",
      "/Users/benzenesea/mambaforge/envs/logofunc3/lib/python3.9/site-packages/joblib/externals/loky/process_executor.py:752: UserWarning: A worker stopped while some jobs were given to the executor. This can be caused by a too short worker timeout or by a memory leak.\n",
      "  warnings.warn(\n"
     ]
    },
    {
     "name": "stdout",
     "output_type": "stream",
     "text": [
      "Validation Accuracy: 0.9307892217206949\n",
      "Validation Precision: 0.9310281025206502\n",
      "Validation Recall: 0.9307892217206949\n",
      "Validation F1 Score: 0.9307182126242768\n",
      "Validation ROC AUC Score: 0.9858732102339358\n",
      "Confusion Matrix:\n",
      "[[2136    3  293]\n",
      " [   0 2440    0]\n",
      " [ 206    4 2229]]\n"
     ]
    }
   ],
   "source": [
    "# First, there is initialization of the classifiers.\n",
    "base_estimators = [\n",
    "    ('rf', RandomForestClassifier(random_state=42, n_jobs=-1)),\n",
    "    ('et', ExtraTreesClassifier(random_state=42, n_jobs=-1)),\n",
    "    ('dt', DecisionTreeClassifier(random_state=42))\n",
    "]\n",
    "\n",
    "stacking = StackingClassifier(\n",
    "    estimators=base_estimators,\n",
    "    final_estimator=LogisticRegression(random_state=42, n_jobs=-1, solver='saga'),\n",
    "    cv=5\n",
    ")\n",
    "\n",
    "# This is the search space of parameters that will be assessed.\n",
    "param_dist = {\n",
    "    'rf__n_estimators': [50, 100, 200],\n",
    "    'rf__max_depth': [None, 10, 20],\n",
    "    'et__n_estimators': [50, 100, 200],\n",
    "    'et__max_depth': [None, 10, 20],\n",
    "    'dt__max_depth': [None, 10, 20],\n",
    "    'final_estimator__C': np.logspace(-2, 2, 5)\n",
    "}\n",
    "\n",
    "# Specify 5-fold cross-validation at this step.\n",
    "kf = KFold(n_splits=5, shuffle=True, random_state=42)\n",
    "cv_results = cross_val_score(stacking, X_train, y_train, cv=kf, scoring='accuracy')\n",
    "print(f'Cross-validation accuracy: {cv_results.mean()}')\n",
    "\n",
    "# This is where RandomizedSearchCV is set to explore 10% of the available search space.\n",
    "random_search = RandomizedSearchCV(estimator=stacking, param_distributions=param_dist, n_iter=135, cv=3, n_jobs=-1, verbose=2, random_state=42)\n",
    "\n",
    "# This fits the model to the randomized search algorithm.\n",
    "random_search.fit(X_train, y_train)\n",
    "\n",
    "# This is populated with the top parameters as the search completes.\n",
    "best_params = random_search.best_params_\n",
    "print(f'Best parameters found: {best_params}')\n",
    "\n",
    "# This saves the total number of parameter sets that will be explored to a variable.\n",
    "n_params = len(random_search.cv_results_['params'])\n",
    "\n",
    "# This is where the 27 best params are pooled.\n",
    "top_n = min(27, n_params)\n",
    "top_n_indices = np.argsort(random_search.cv_results_['mean_test_score'])[-top_n:]\n",
    "top_n_params = [random_search.cv_results_['params'][i] for i in top_n_indices]\n",
    "\n",
    "# This prints the best params at the end.\n",
    "print(\"Top 27 parameter sets:\")\n",
    "for i, params in enumerate(top_n_params):\n",
    "    print(f\"Set {i+1}:\")\n",
    "    for key, value in params.items():\n",
    "        print(f\"  {key}: {value}\")\n",
    "    print()\n",
    "\n",
    "# This spits out the params to the Models directory.\n",
    "os.makedirs(model_path, exist_ok=True)\n",
    "with open(f'{model_path}/top_27_params.json', 'w') as f:\n",
    "    json.dump(top_n_params, f, indent=2)\n",
    "\n",
    "# This handles the training of the model ensemble.\n",
    "def train_model(params, X_train, y_train):\n",
    "    base_estimators = [\n",
    "        ('rf', RandomForestClassifier(n_jobs=-1, random_state=42, n_estimators=params['rf__n_estimators'], max_depth=params['rf__max_depth'])),\n",
    "        ('et', ExtraTreesClassifier(n_jobs=-1, random_state=42, n_estimators=params['et__n_estimators'], max_depth=params['et__max_depth'])),\n",
    "        ('dt', DecisionTreeClassifier(random_state=42, max_depth=params['dt__max_depth']))\n",
    "    ]\n",
    "    model = StackingClassifier(\n",
    "        estimators=base_estimators,\n",
    "        final_estimator=LogisticRegression(n_jobs=-1, solver='saga', random_state=42, C=params['final_estimator__C']),\n",
    "        cv=5,\n",
    "        n_jobs=-1\n",
    "    )\n",
    "    model.fit(X_train, y_train)\n",
    "    return model\n",
    "\n",
    "# This takes the 27 best params and trains the models.\n",
    "models = Parallel(n_jobs=-1)(delayed(train_model)(params, X_train, y_train) for params in top_n_params)\n",
    "\n",
    "# This saves the models along with params in the Models directory.\n",
    "for i, (model, params) in enumerate(zip(models, top_n_params)):\n",
    "    joblib.dump(model, f'{model_path}/stacking_model_{i}.joblib')\n",
    "    with open(f'{model_path}/stacking_params_{i}.json', 'w') as f:\n",
    "        json.dump(params, f, indent=2)\n",
    "\n",
    "def predict_model(model, data):\n",
    "    return model.predict_proba(data)\n",
    "\n",
    "all_preds = Parallel(n_jobs=-1)(delayed(predict_model)(model, X_val) for model in models)\n",
    "all_preds = np.array(all_preds)\n",
    "avg_preds = np.mean(all_preds, axis=0)\n",
    "final_predictions = np.argmax(avg_preds, axis=1)\n",
    "\n",
    "# This performs final validation of the model.\n",
    "val_accuracy = accuracy_score(y_val, final_predictions)\n",
    "val_precision = precision_score(y_val, final_predictions, average='weighted')\n",
    "val_recall = recall_score(y_val, final_predictions, average='weighted')\n",
    "val_f1 = f1_score(y_val, final_predictions, average='weighted')\n",
    "val_roc_auc = roc_auc_score(y_val, avg_preds, multi_class='ovo')\n",
    "val_conf_matrix = confusion_matrix(y_val, final_predictions)\n",
    "\n",
    "# After acquiring the metrics, they are printed here.\n",
    "print(f'Validation Accuracy: {val_accuracy}')\n",
    "print(f'Validation Precision: {val_precision}')\n",
    "print(f'Validation Recall: {val_recall}')\n",
    "print(f'Validation F1 Score: {val_f1}')\n",
    "print(f'Validation ROC AUC Score: {val_roc_auc}')\n",
    "print(f'Confusion Matrix:\\n{val_conf_matrix}')"
   ]
  },
  {
   "cell_type": "markdown",
   "metadata": {},
   "source": [
    "### Testing the model after validation"
   ]
  },
  {
   "cell_type": "code",
   "execution_count": 27,
   "metadata": {},
   "outputs": [
    {
     "name": "stdout",
     "output_type": "stream",
     "text": [
      "(25546, 500) (2831, 500)\n",
      "<class 'pandas.core.frame.DataFrame'>\n",
      "<class 'pandas.core.frame.DataFrame'>\n"
     ]
    }
   ],
   "source": [
    "# Load both test and reload training data.\n",
    "X_train = pd.read_csv('../data/X_train_500.csv', low_memory=False)\n",
    "X_test = pd.read_csv('../data/X_test_500.csv', low_memory=False)\n",
    "print(X_train.shape, X_test.shape)\n",
    "print(type(X_train))\n",
    "print(type(X_test))"
   ]
  },
  {
   "cell_type": "code",
   "execution_count": 28,
   "metadata": {},
   "outputs": [
    {
     "name": "stdout",
     "output_type": "stream",
     "text": [
      "(2831, 472)\n"
     ]
    },
    {
     "name": "stderr",
     "output_type": "stream",
     "text": [
      "/Users/benzenesea/mambaforge/envs/logofunc3/lib/python3.9/site-packages/sklearn/base.py:450: UserWarning: X does not have valid feature names, but RandomForestClassifier was fitted with feature names\n",
      "  warnings.warn(\n",
      "/Users/benzenesea/mambaforge/envs/logofunc3/lib/python3.9/site-packages/sklearn/base.py:450: UserWarning: X does not have valid feature names, but ExtraTreesClassifier was fitted with feature names\n",
      "  warnings.warn(\n",
      "/Users/benzenesea/mambaforge/envs/logofunc3/lib/python3.9/site-packages/sklearn/base.py:450: UserWarning: X does not have valid feature names, but DecisionTreeClassifier was fitted with feature names\n",
      "  warnings.warn(\n",
      "/Users/benzenesea/mambaforge/envs/logofunc3/lib/python3.9/site-packages/sklearn/base.py:450: UserWarning: X does not have valid feature names, but RandomForestClassifier was fitted with feature names\n",
      "  warnings.warn(\n",
      "/Users/benzenesea/mambaforge/envs/logofunc3/lib/python3.9/site-packages/sklearn/base.py:450: UserWarning: X does not have valid feature names, but ExtraTreesClassifier was fitted with feature names\n",
      "  warnings.warn(\n",
      "/Users/benzenesea/mambaforge/envs/logofunc3/lib/python3.9/site-packages/sklearn/base.py:450: UserWarning: X does not have valid feature names, but DecisionTreeClassifier was fitted with feature names\n",
      "  warnings.warn(\n",
      "/Users/benzenesea/mambaforge/envs/logofunc3/lib/python3.9/site-packages/sklearn/base.py:450: UserWarning: X does not have valid feature names, but RandomForestClassifier was fitted with feature names\n",
      "  warnings.warn(\n",
      "/Users/benzenesea/mambaforge/envs/logofunc3/lib/python3.9/site-packages/sklearn/base.py:450: UserWarning: X does not have valid feature names, but ExtraTreesClassifier was fitted with feature names\n",
      "  warnings.warn(\n",
      "/Users/benzenesea/mambaforge/envs/logofunc3/lib/python3.9/site-packages/sklearn/base.py:450: UserWarning: X does not have valid feature names, but DecisionTreeClassifier was fitted with feature names\n",
      "  warnings.warn(\n",
      "/Users/benzenesea/mambaforge/envs/logofunc3/lib/python3.9/site-packages/sklearn/base.py:450: UserWarning: X does not have valid feature names, but RandomForestClassifier was fitted with feature names\n",
      "  warnings.warn(\n",
      "/Users/benzenesea/mambaforge/envs/logofunc3/lib/python3.9/site-packages/sklearn/base.py:450: UserWarning: X does not have valid feature names, but ExtraTreesClassifier was fitted with feature names\n",
      "  warnings.warn(\n",
      "/Users/benzenesea/mambaforge/envs/logofunc3/lib/python3.9/site-packages/sklearn/base.py:450: UserWarning: X does not have valid feature names, but DecisionTreeClassifier was fitted with feature names\n",
      "  warnings.warn(\n",
      "/Users/benzenesea/mambaforge/envs/logofunc3/lib/python3.9/site-packages/sklearn/base.py:450: UserWarning: X does not have valid feature names, but RandomForestClassifier was fitted with feature names\n",
      "  warnings.warn(\n",
      "/Users/benzenesea/mambaforge/envs/logofunc3/lib/python3.9/site-packages/sklearn/base.py:450: UserWarning: X does not have valid feature names, but ExtraTreesClassifier was fitted with feature names\n",
      "  warnings.warn(\n",
      "/Users/benzenesea/mambaforge/envs/logofunc3/lib/python3.9/site-packages/sklearn/base.py:450: UserWarning: X does not have valid feature names, but DecisionTreeClassifier was fitted with feature names\n",
      "  warnings.warn(\n",
      "/Users/benzenesea/mambaforge/envs/logofunc3/lib/python3.9/site-packages/sklearn/base.py:450: UserWarning: X does not have valid feature names, but RandomForestClassifier was fitted with feature names\n",
      "  warnings.warn(\n",
      "/Users/benzenesea/mambaforge/envs/logofunc3/lib/python3.9/site-packages/sklearn/base.py:450: UserWarning: X does not have valid feature names, but ExtraTreesClassifier was fitted with feature names\n",
      "  warnings.warn(\n",
      "/Users/benzenesea/mambaforge/envs/logofunc3/lib/python3.9/site-packages/sklearn/base.py:450: UserWarning: X does not have valid feature names, but DecisionTreeClassifier was fitted with feature names\n",
      "  warnings.warn(\n",
      "/Users/benzenesea/mambaforge/envs/logofunc3/lib/python3.9/site-packages/sklearn/base.py:450: UserWarning: X does not have valid feature names, but RandomForestClassifier was fitted with feature names\n",
      "  warnings.warn(\n",
      "/Users/benzenesea/mambaforge/envs/logofunc3/lib/python3.9/site-packages/sklearn/base.py:450: UserWarning: X does not have valid feature names, but ExtraTreesClassifier was fitted with feature names\n",
      "  warnings.warn(\n",
      "/Users/benzenesea/mambaforge/envs/logofunc3/lib/python3.9/site-packages/sklearn/base.py:450: UserWarning: X does not have valid feature names, but DecisionTreeClassifier was fitted with feature names\n",
      "  warnings.warn(\n",
      "/Users/benzenesea/mambaforge/envs/logofunc3/lib/python3.9/site-packages/sklearn/base.py:450: UserWarning: X does not have valid feature names, but RandomForestClassifier was fitted with feature names\n",
      "  warnings.warn(\n",
      "/Users/benzenesea/mambaforge/envs/logofunc3/lib/python3.9/site-packages/sklearn/base.py:450: UserWarning: X does not have valid feature names, but ExtraTreesClassifier was fitted with feature names\n",
      "  warnings.warn(\n",
      "/Users/benzenesea/mambaforge/envs/logofunc3/lib/python3.9/site-packages/sklearn/base.py:450: UserWarning: X does not have valid feature names, but DecisionTreeClassifier was fitted with feature names\n",
      "  warnings.warn(\n",
      "/Users/benzenesea/mambaforge/envs/logofunc3/lib/python3.9/site-packages/sklearn/base.py:450: UserWarning: X does not have valid feature names, but RandomForestClassifier was fitted with feature names\n",
      "  warnings.warn(\n",
      "/Users/benzenesea/mambaforge/envs/logofunc3/lib/python3.9/site-packages/sklearn/base.py:450: UserWarning: X does not have valid feature names, but ExtraTreesClassifier was fitted with feature names\n",
      "  warnings.warn(\n",
      "/Users/benzenesea/mambaforge/envs/logofunc3/lib/python3.9/site-packages/sklearn/base.py:450: UserWarning: X does not have valid feature names, but DecisionTreeClassifier was fitted with feature names\n",
      "  warnings.warn(\n",
      "/Users/benzenesea/mambaforge/envs/logofunc3/lib/python3.9/site-packages/sklearn/base.py:450: UserWarning: X does not have valid feature names, but RandomForestClassifier was fitted with feature names\n",
      "  warnings.warn(\n",
      "/Users/benzenesea/mambaforge/envs/logofunc3/lib/python3.9/site-packages/sklearn/base.py:450: UserWarning: X does not have valid feature names, but ExtraTreesClassifier was fitted with feature names\n",
      "  warnings.warn(\n",
      "/Users/benzenesea/mambaforge/envs/logofunc3/lib/python3.9/site-packages/sklearn/base.py:450: UserWarning: X does not have valid feature names, but DecisionTreeClassifier was fitted with feature names\n",
      "  warnings.warn(\n",
      "/Users/benzenesea/mambaforge/envs/logofunc3/lib/python3.9/site-packages/sklearn/base.py:450: UserWarning: X does not have valid feature names, but RandomForestClassifier was fitted with feature names\n",
      "  warnings.warn(\n",
      "/Users/benzenesea/mambaforge/envs/logofunc3/lib/python3.9/site-packages/sklearn/base.py:450: UserWarning: X does not have valid feature names, but ExtraTreesClassifier was fitted with feature names\n",
      "  warnings.warn(\n",
      "/Users/benzenesea/mambaforge/envs/logofunc3/lib/python3.9/site-packages/sklearn/base.py:450: UserWarning: X does not have valid feature names, but DecisionTreeClassifier was fitted with feature names\n",
      "  warnings.warn(\n",
      "/Users/benzenesea/mambaforge/envs/logofunc3/lib/python3.9/site-packages/sklearn/base.py:450: UserWarning: X does not have valid feature names, but RandomForestClassifier was fitted with feature names\n",
      "  warnings.warn(\n",
      "/Users/benzenesea/mambaforge/envs/logofunc3/lib/python3.9/site-packages/sklearn/base.py:450: UserWarning: X does not have valid feature names, but ExtraTreesClassifier was fitted with feature names\n",
      "  warnings.warn(\n",
      "/Users/benzenesea/mambaforge/envs/logofunc3/lib/python3.9/site-packages/sklearn/base.py:450: UserWarning: X does not have valid feature names, but DecisionTreeClassifier was fitted with feature names\n",
      "  warnings.warn(\n",
      "/Users/benzenesea/mambaforge/envs/logofunc3/lib/python3.9/site-packages/sklearn/base.py:450: UserWarning: X does not have valid feature names, but RandomForestClassifier was fitted with feature names\n",
      "  warnings.warn(\n",
      "/Users/benzenesea/mambaforge/envs/logofunc3/lib/python3.9/site-packages/sklearn/base.py:450: UserWarning: X does not have valid feature names, but ExtraTreesClassifier was fitted with feature names\n",
      "  warnings.warn(\n",
      "/Users/benzenesea/mambaforge/envs/logofunc3/lib/python3.9/site-packages/sklearn/base.py:450: UserWarning: X does not have valid feature names, but DecisionTreeClassifier was fitted with feature names\n",
      "  warnings.warn(\n",
      "/Users/benzenesea/mambaforge/envs/logofunc3/lib/python3.9/site-packages/sklearn/base.py:450: UserWarning: X does not have valid feature names, but RandomForestClassifier was fitted with feature names\n",
      "  warnings.warn(\n",
      "/Users/benzenesea/mambaforge/envs/logofunc3/lib/python3.9/site-packages/sklearn/base.py:450: UserWarning: X does not have valid feature names, but ExtraTreesClassifier was fitted with feature names\n",
      "  warnings.warn(\n",
      "/Users/benzenesea/mambaforge/envs/logofunc3/lib/python3.9/site-packages/sklearn/base.py:450: UserWarning: X does not have valid feature names, but DecisionTreeClassifier was fitted with feature names\n",
      "  warnings.warn(\n",
      "/Users/benzenesea/mambaforge/envs/logofunc3/lib/python3.9/site-packages/sklearn/base.py:450: UserWarning: X does not have valid feature names, but RandomForestClassifier was fitted with feature names\n",
      "  warnings.warn(\n",
      "/Users/benzenesea/mambaforge/envs/logofunc3/lib/python3.9/site-packages/sklearn/base.py:450: UserWarning: X does not have valid feature names, but ExtraTreesClassifier was fitted with feature names\n",
      "  warnings.warn(\n",
      "/Users/benzenesea/mambaforge/envs/logofunc3/lib/python3.9/site-packages/sklearn/base.py:450: UserWarning: X does not have valid feature names, but DecisionTreeClassifier was fitted with feature names\n",
      "  warnings.warn(\n",
      "/Users/benzenesea/mambaforge/envs/logofunc3/lib/python3.9/site-packages/sklearn/base.py:450: UserWarning: X does not have valid feature names, but RandomForestClassifier was fitted with feature names\n",
      "  warnings.warn(\n",
      "/Users/benzenesea/mambaforge/envs/logofunc3/lib/python3.9/site-packages/sklearn/base.py:450: UserWarning: X does not have valid feature names, but ExtraTreesClassifier was fitted with feature names\n",
      "  warnings.warn(\n",
      "/Users/benzenesea/mambaforge/envs/logofunc3/lib/python3.9/site-packages/sklearn/base.py:450: UserWarning: X does not have valid feature names, but DecisionTreeClassifier was fitted with feature names\n",
      "  warnings.warn(\n",
      "/Users/benzenesea/mambaforge/envs/logofunc3/lib/python3.9/site-packages/sklearn/base.py:450: UserWarning: X does not have valid feature names, but RandomForestClassifier was fitted with feature names\n",
      "  warnings.warn(\n",
      "/Users/benzenesea/mambaforge/envs/logofunc3/lib/python3.9/site-packages/sklearn/base.py:450: UserWarning: X does not have valid feature names, but ExtraTreesClassifier was fitted with feature names\n",
      "  warnings.warn(\n",
      "/Users/benzenesea/mambaforge/envs/logofunc3/lib/python3.9/site-packages/sklearn/base.py:450: UserWarning: X does not have valid feature names, but DecisionTreeClassifier was fitted with feature names\n",
      "  warnings.warn(\n",
      "/Users/benzenesea/mambaforge/envs/logofunc3/lib/python3.9/site-packages/sklearn/base.py:450: UserWarning: X does not have valid feature names, but RandomForestClassifier was fitted with feature names\n",
      "  warnings.warn(\n",
      "/Users/benzenesea/mambaforge/envs/logofunc3/lib/python3.9/site-packages/sklearn/base.py:450: UserWarning: X does not have valid feature names, but ExtraTreesClassifier was fitted with feature names\n",
      "  warnings.warn(\n",
      "/Users/benzenesea/mambaforge/envs/logofunc3/lib/python3.9/site-packages/sklearn/base.py:450: UserWarning: X does not have valid feature names, but DecisionTreeClassifier was fitted with feature names\n",
      "  warnings.warn(\n",
      "/Users/benzenesea/mambaforge/envs/logofunc3/lib/python3.9/site-packages/sklearn/base.py:450: UserWarning: X does not have valid feature names, but RandomForestClassifier was fitted with feature names\n",
      "  warnings.warn(\n",
      "/Users/benzenesea/mambaforge/envs/logofunc3/lib/python3.9/site-packages/sklearn/base.py:450: UserWarning: X does not have valid feature names, but ExtraTreesClassifier was fitted with feature names\n",
      "  warnings.warn(\n",
      "/Users/benzenesea/mambaforge/envs/logofunc3/lib/python3.9/site-packages/sklearn/base.py:450: UserWarning: X does not have valid feature names, but DecisionTreeClassifier was fitted with feature names\n",
      "  warnings.warn(\n",
      "/Users/benzenesea/mambaforge/envs/logofunc3/lib/python3.9/site-packages/sklearn/base.py:450: UserWarning: X does not have valid feature names, but RandomForestClassifier was fitted with feature names\n",
      "  warnings.warn(\n",
      "/Users/benzenesea/mambaforge/envs/logofunc3/lib/python3.9/site-packages/sklearn/base.py:450: UserWarning: X does not have valid feature names, but ExtraTreesClassifier was fitted with feature names\n",
      "  warnings.warn(\n",
      "/Users/benzenesea/mambaforge/envs/logofunc3/lib/python3.9/site-packages/sklearn/base.py:450: UserWarning: X does not have valid feature names, but DecisionTreeClassifier was fitted with feature names\n",
      "  warnings.warn(\n",
      "/Users/benzenesea/mambaforge/envs/logofunc3/lib/python3.9/site-packages/sklearn/base.py:450: UserWarning: X does not have valid feature names, but RandomForestClassifier was fitted with feature names\n",
      "  warnings.warn(\n",
      "/Users/benzenesea/mambaforge/envs/logofunc3/lib/python3.9/site-packages/sklearn/base.py:450: UserWarning: X does not have valid feature names, but ExtraTreesClassifier was fitted with feature names\n",
      "  warnings.warn(\n",
      "/Users/benzenesea/mambaforge/envs/logofunc3/lib/python3.9/site-packages/sklearn/base.py:450: UserWarning: X does not have valid feature names, but DecisionTreeClassifier was fitted with feature names\n",
      "  warnings.warn(\n",
      "/Users/benzenesea/mambaforge/envs/logofunc3/lib/python3.9/site-packages/sklearn/base.py:450: UserWarning: X does not have valid feature names, but RandomForestClassifier was fitted with feature names\n",
      "  warnings.warn(\n",
      "/Users/benzenesea/mambaforge/envs/logofunc3/lib/python3.9/site-packages/sklearn/base.py:450: UserWarning: X does not have valid feature names, but ExtraTreesClassifier was fitted with feature names\n",
      "  warnings.warn(\n",
      "/Users/benzenesea/mambaforge/envs/logofunc3/lib/python3.9/site-packages/sklearn/base.py:450: UserWarning: X does not have valid feature names, but DecisionTreeClassifier was fitted with feature names\n",
      "  warnings.warn(\n",
      "/Users/benzenesea/mambaforge/envs/logofunc3/lib/python3.9/site-packages/sklearn/base.py:450: UserWarning: X does not have valid feature names, but RandomForestClassifier was fitted with feature names\n",
      "  warnings.warn(\n",
      "/Users/benzenesea/mambaforge/envs/logofunc3/lib/python3.9/site-packages/sklearn/base.py:450: UserWarning: X does not have valid feature names, but ExtraTreesClassifier was fitted with feature names\n",
      "  warnings.warn(\n",
      "/Users/benzenesea/mambaforge/envs/logofunc3/lib/python3.9/site-packages/sklearn/base.py:450: UserWarning: X does not have valid feature names, but DecisionTreeClassifier was fitted with feature names\n",
      "  warnings.warn(\n",
      "/Users/benzenesea/mambaforge/envs/logofunc3/lib/python3.9/site-packages/sklearn/base.py:450: UserWarning: X does not have valid feature names, but RandomForestClassifier was fitted with feature names\n",
      "  warnings.warn(\n",
      "/Users/benzenesea/mambaforge/envs/logofunc3/lib/python3.9/site-packages/sklearn/base.py:450: UserWarning: X does not have valid feature names, but ExtraTreesClassifier was fitted with feature names\n",
      "  warnings.warn(\n",
      "/Users/benzenesea/mambaforge/envs/logofunc3/lib/python3.9/site-packages/sklearn/base.py:450: UserWarning: X does not have valid feature names, but DecisionTreeClassifier was fitted with feature names\n",
      "  warnings.warn(\n",
      "/Users/benzenesea/mambaforge/envs/logofunc3/lib/python3.9/site-packages/sklearn/base.py:450: UserWarning: X does not have valid feature names, but RandomForestClassifier was fitted with feature names\n",
      "  warnings.warn(\n",
      "/Users/benzenesea/mambaforge/envs/logofunc3/lib/python3.9/site-packages/sklearn/base.py:450: UserWarning: X does not have valid feature names, but ExtraTreesClassifier was fitted with feature names\n",
      "  warnings.warn(\n",
      "/Users/benzenesea/mambaforge/envs/logofunc3/lib/python3.9/site-packages/sklearn/base.py:450: UserWarning: X does not have valid feature names, but DecisionTreeClassifier was fitted with feature names\n",
      "  warnings.warn(\n",
      "/Users/benzenesea/mambaforge/envs/logofunc3/lib/python3.9/site-packages/sklearn/base.py:450: UserWarning: X does not have valid feature names, but RandomForestClassifier was fitted with feature names\n",
      "  warnings.warn(\n",
      "/Users/benzenesea/mambaforge/envs/logofunc3/lib/python3.9/site-packages/sklearn/base.py:450: UserWarning: X does not have valid feature names, but ExtraTreesClassifier was fitted with feature names\n",
      "  warnings.warn(\n",
      "/Users/benzenesea/mambaforge/envs/logofunc3/lib/python3.9/site-packages/sklearn/base.py:450: UserWarning: X does not have valid feature names, but DecisionTreeClassifier was fitted with feature names\n",
      "  warnings.warn(\n",
      "/Users/benzenesea/mambaforge/envs/logofunc3/lib/python3.9/site-packages/sklearn/base.py:450: UserWarning: X does not have valid feature names, but RandomForestClassifier was fitted with feature names\n",
      "  warnings.warn(\n",
      "/Users/benzenesea/mambaforge/envs/logofunc3/lib/python3.9/site-packages/sklearn/base.py:450: UserWarning: X does not have valid feature names, but ExtraTreesClassifier was fitted with feature names\n",
      "  warnings.warn(\n",
      "/Users/benzenesea/mambaforge/envs/logofunc3/lib/python3.9/site-packages/sklearn/base.py:450: UserWarning: X does not have valid feature names, but DecisionTreeClassifier was fitted with feature names\n",
      "  warnings.warn(\n"
     ]
    },
    {
     "name": "stdout",
     "output_type": "stream",
     "text": [
      "Test Accuracy: 0.8406923348640056\n",
      "Test Precision: 0.7972373736003234\n",
      "Test Recall: 0.8406923348640056\n",
      "Test F1 Score: 0.8177830266157924\n",
      "Test ROC AUC Score: 0.9065459345650192\n",
      "Confusion Matrix:\n",
      "[[1171    0  168]\n",
      " [  36    0  116]\n",
      " [ 131    0 1209]]\n"
     ]
    },
    {
     "name": "stderr",
     "output_type": "stream",
     "text": [
      "/Users/benzenesea/mambaforge/envs/logofunc3/lib/python3.9/site-packages/sklearn/metrics/_classification.py:1334: UndefinedMetricWarning: Precision is ill-defined and being set to 0.0 in labels with no predicted samples. Use `zero_division` parameter to control this behavior.\n",
      "  _warn_prf(average, modifier, msg_start, len(result))\n"
     ]
    }
   ],
   "source": [
    "num_models = 27\n",
    "\n",
    "# This is the soft-voting function used to aggregate the predictions.\n",
    "def soft_vote(preds):\n",
    "    summed_preds = [[np.sum(preds[:, j][:, i]) for i in range(3)] for j in range(len(preds[0]))]\n",
    "    return [softmax(np.log(sp)) for sp in summed_preds]\n",
    "\n",
    "# Again, this checks for columns that only contain NaN values.\n",
    "def drop_allnan(data):\n",
    "    for col in data.columns:\n",
    "        if data[col].isna().sum() == len(data):\n",
    "            data = data.drop(columns=col)\n",
    "    return data\n",
    "\n",
    "# Input the training data and do initial pre-processing.\n",
    "X_train = drop_allnan(X_train)\n",
    "columns = X_train.columns.tolist()\n",
    "\n",
    "# Invoke the pre-processing function.\n",
    "preprocessor = joblib.load(f'{model_path}/preprocessor.joblib')\n",
    "\n",
    "# Iterate over the models in the ensemble.\n",
    "models = []\n",
    "num_models = 27  \n",
    "for i in range(num_models):\n",
    "    models.append(joblib.load(f'{model_path}/stacking_model_{i}.joblib'))\n",
    "\n",
    "# Feed the data into the pre-processor functions.\n",
    "y_test = pd.read_csv('../data/y_test_id.csv', low_memory=False) \n",
    "impact_vals = {'LOW': 0, 'MODIFIER': 1, 'MODERATE': 1.5, 'HIGH': 2}\n",
    "encoded_impacts = [impact_vals[imp] for imp in X_test['IMPACT']]\n",
    "X_test = X_test.drop(columns=['IMPACT'])\n",
    "X_test['IMPACT'] = encoded_impacts\n",
    "X_test = X_test[columns]\n",
    "ids = X_test['ID'].tolist()\n",
    "X_test = X_test.drop(columns='ID')\n",
    "\n",
    "# Make sure the data types are the same. because NumPy arrays are not tolerated in places where DataFrames are expected.\n",
    "for col in X_test.columns:\n",
    "    X_test[col] = X_test[col].astype(X_train[col].dtype)\n",
    "X_test = utils.transform(X_test, preprocessor)\n",
    "\n",
    "# Pool the predictions into a list.\n",
    "all_preds = []\n",
    "for i in range(num_models):\n",
    "    preds = models[i].predict_proba(X_test)  \n",
    "    all_preds.append(preds)\n",
    "\n",
    "# Apply the soft-voting function.\n",
    "y_pred_proba = soft_vote(np.array(all_preds))\n",
    "y_pred = [np.argmax(p) for p in y_pred_proba]\n",
    "\n",
    "# Map the labels to numbers.\n",
    "label_mapping = {'Neutral': 0, 'GOF': 1, 'LOF': 2}\n",
    "y_test_numeric = [label_mapping[label] for label in y_test['label']]\n",
    "\n",
    "# Perform the evaluation using Scikit-learn's metrics.\n",
    "accuracy = accuracy_score(y_test_numeric, y_pred)\n",
    "precision = precision_score(y_test_numeric, y_pred, average='weighted')\n",
    "recall = recall_score(y_test_numeric, y_pred, average='weighted')\n",
    "f1 = f1_score(y_test_numeric, y_pred, average='weighted')\n",
    "roc_auc = roc_auc_score(y_test_numeric, y_pred_proba, multi_class='ovo')\n",
    "conf_matrix = confusion_matrix(y_test_numeric, y_pred)\n",
    "\n",
    "# Print the recorded metrics.\n",
    "print(f'Test Accuracy: {accuracy}')\n",
    "print(f'Test Precision: {precision}')\n",
    "print(f'Test Recall: {recall}')\n",
    "print(f'Test F1 Score: {f1}')\n",
    "print(f'Test ROC AUC Score: {roc_auc}')\n",
    "print(f'Confusion Matrix:\\n{conf_matrix}')\n",
    "\n",
    "out = []\n",
    "for i in range(len(y_pred)):\n",
    "    out.append([ids[i], ['Neutral', 'GOF', 'LOF'][y_pred[i]], *y_pred_proba[i]])\n",
    "out = pd.DataFrame(out, columns=['ID', 'prediction', 'LoGoFunc_Neutral', 'LoGoFunc_GOF', 'LoGoFunc_LOF'])\n",
    "out.to_csv(output_path, index=None)"
   ]
  },
  {
   "cell_type": "markdown",
   "metadata": {},
   "source": [
    "### Evalutation against y_test"
   ]
  },
  {
   "cell_type": "code",
   "execution_count": 29,
   "metadata": {},
   "outputs": [
    {
     "name": "stdout",
     "output_type": "stream",
     "text": [
      "   accuracy  precision    recall  f1_score  \\\n",
      "0  0.840692   0.797237  0.840692  0.817783   \n",
      "\n",
      "                                 confusion_matrix  \n",
      "0  [[1171, 0, 168], [36, 0, 116], [131, 0, 1209]]  \n"
     ]
    },
    {
     "name": "stderr",
     "output_type": "stream",
     "text": [
      "/Users/benzenesea/mambaforge/envs/logofunc3/lib/python3.9/site-packages/sklearn/metrics/_classification.py:1334: UndefinedMetricWarning: Precision is ill-defined and being set to 0.0 in labels with no predicted samples. Use `zero_division` parameter to control this behavior.\n",
      "  _warn_prf(average, modifier, msg_start, len(result))\n"
     ]
    }
   ],
   "source": [
    "# This is just to manually verify the test output.\n",
    "predictions_file = output_path\n",
    "\n",
    "# Load y_test.\n",
    "y_test_path = '../data/y_test_id.csv'\n",
    "y_test = pd.read_csv(y_test_path)\n",
    "y_true = y_test['label']\n",
    "\n",
    "# Encode labels to numbers.\n",
    "label_mapping = {'Neutral': 0, 'GOF': 1, 'LOF': 2}\n",
    "y_true_numeric = [label_mapping[label] for label in y_true]\n",
    "\n",
    "# Load predictions.\n",
    "predictions = pd.read_csv(predictions_file)\n",
    "\n",
    "# Ensure DataFrames have same number of rows.\n",
    "assert len(predictions) == len(y_test)\n",
    "y_pred = predictions['prediction']\n",
    "y_pred_numeric = [label_mapping[label] for label in y_pred]\n",
    "\n",
    "# Perform the evaluation using Scikit-learn's metrics.\n",
    "accuracy = accuracy_score(y_true_numeric, y_pred_numeric)\n",
    "precision = precision_score(y_true_numeric, y_pred_numeric, average='weighted')\n",
    "recall = recall_score(y_true_numeric, y_pred_numeric, average='weighted')\n",
    "f1 = f1_score(y_true_numeric, y_pred_numeric, average='weighted')\n",
    "conf_matrix = confusion_matrix(y_true_numeric, y_pred_numeric)\n",
    "\n",
    "results = [{\n",
    "    'accuracy': accuracy,\n",
    "    'precision': precision,\n",
    "    'recall': recall,\n",
    "    'f1_score': f1,\n",
    "    'confusion_matrix': conf_matrix.tolist()  \n",
    "}]\n",
    "\n",
    "results_df = pd.DataFrame(results)\n",
    "results_df.to_csv(metrics_file, index=False)\n",
    "print(results_df)"
   ]
  },
  {
   "cell_type": "markdown",
   "metadata": {},
   "source": [
    "### Compute Macro-REC"
   ]
  },
  {
   "cell_type": "code",
   "execution_count": 3,
   "metadata": {},
   "outputs": [
    {
     "name": "stdout",
     "output_type": "stream",
     "text": [
      "Saved to ../metrics/stacking-trees-evaluation.csv\n"
     ]
    }
   ],
   "source": [
    "input_file = metrics_file\n",
    "output_file = f'../metrics/{model_type}-evaluation.csv'\n",
    "\n",
    "def macro(confusion_matrix):\n",
    "    cm = np.array(confusion_matrix)\n",
    "    recalls = np.diag(cm) / np.sum(cm, axis=1)\n",
    "    return np.mean(recalls)\n",
    "\n",
    "def micro(confusion_matrix):\n",
    "    cm = np.array(confusion_matrix)\n",
    "    true_positives = np.diag(cm)\n",
    "    total_true_positives = np.sum(true_positives)\n",
    "    total_actual_positives = np.sum(cm)\n",
    "    return total_true_positives / total_actual_positives\n",
    "\n",
    "with open(input_file, 'r') as csvfile:\n",
    "    reader = csv.DictReader(csvfile)\n",
    "    rows = list(reader)\n",
    "\n",
    "for row in rows:\n",
    "    confusion_matrix = ast.literal_eval(row['confusion_matrix'])\n",
    "    macro = macro(confusion_matrix)\n",
    "    micro_recall = micro(confusion_matrix)\n",
    "    row['micro_recall'] = f'{micro_recall:.4f}'\n",
    "    row['macro'] = f'{macro:.4f}'\n",
    "\n",
    "    # Remove the original 'weighted' REC column.\n",
    "    if 'recall' in row:\n",
    "        del row['recall']\n",
    "\n",
    "with open(output_file, 'w', newline='') as csvfile:\n",
    "    fieldnames = ['accuracy', 'precision', 'f1_score', 'micro_recall', 'macro', 'confusion_matrix']\n",
    "    writer = csv.DictWriter(csvfile, fieldnames=fieldnames)\n",
    "    writer.writeheader()\n",
    "    for row in rows:\n",
    "        writer.writerow(row)\n",
    "\n",
    "print(f\"Saved to {output_file}\")"
   ]
  }
 ],
 "metadata": {
  "kernelspec": {
   "display_name": "logofunc2",
   "language": "python",
   "name": "python3"
  },
  "language_info": {
   "codemirror_mode": {
    "name": "ipython",
    "version": 3
   },
   "file_extension": ".py",
   "mimetype": "text/x-python",
   "name": "python",
   "nbconvert_exporter": "python",
   "pygments_lexer": "ipython3",
   "version": "3.9.19"
  }
 },
 "nbformat": 4,
 "nbformat_minor": 2
}
